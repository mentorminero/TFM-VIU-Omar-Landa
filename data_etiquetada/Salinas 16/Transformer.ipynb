{
  "cells": [
    {
      "cell_type": "markdown",
      "metadata": {
        "id": "mEhKpIX_5R1L"
      },
      "source": [
        "### 1. Preparación del dataset"
      ]
    },
    {
      "cell_type": "markdown",
      "metadata": {
        "id": "_wLxvJ-t5R1P"
      },
      "source": [
        "#### 1.1. Lectura del conjunto de datos"
      ]
    },
    {
      "cell_type": "code",
      "execution_count": 1,
      "metadata": {
        "id": "iMF11JwQ5R1P"
      },
      "outputs": [],
      "source": [
        "from scipy.io import loadmat\n",
        "data=loadmat(\"Salinas_corrected_image.mat\")['salinas_corrected']\n",
        "labels=loadmat(\"Salinas_ground_truth.mat\")['salinas_gt']\n",
        "H,W,C=data.shape"
      ]
    },
    {
      "cell_type": "markdown",
      "metadata": {
        "id": "dHBKDQW15R1Q"
      },
      "source": [
        "#### 1.2. Reducción de la dimensionalidad"
      ]
    },
    {
      "cell_type": "code",
      "execution_count": 2,
      "metadata": {
        "id": "R8S5fnFy5R1R"
      },
      "outputs": [],
      "source": [
        "from sklearn.decomposition import PCA\n",
        "n_components=22 # Nuestro análisis abarca 20 bandas\n",
        "data=data.reshape(H*W,C)\n",
        "pca=PCA(n_components=n_components,whiten=True)\n",
        "data=pca.fit_transform(data)"
      ]
    },
    {
      "cell_type": "markdown",
      "metadata": {
        "id": "5FIwV9yC5R1S"
      },
      "source": [
        "#### 1.3. Normalización de los datos"
      ]
    },
    {
      "cell_type": "code",
      "execution_count": 3,
      "metadata": {
        "id": "7hYF0Dp05R1S"
      },
      "outputs": [],
      "source": [
        "from sklearn.preprocessing import MinMaxScaler, StandardScaler\n",
        "standar_scaler=StandardScaler()\n",
        "data=standar_scaler.fit_transform(data)\n",
        "data=data.reshape(H,W,n_components);"
      ]
    },
    {
      "cell_type": "markdown",
      "metadata": {
        "id": "KjiRINWq5R1T"
      },
      "source": [
        "#### 1.4. Aproximación parche a pixel"
      ]
    },
    {
      "cell_type": "code",
      "execution_count": 4,
      "metadata": {
        "id": "jSW-YDIE7BFm"
      },
      "outputs": [],
      "source": [
        "import numpy as np\n",
        "\n",
        "def padWithZeros(X, margin=2):\n",
        "    newX=np.zeros((X.shape[0]+2*margin,X.shape[1]+2*margin, X.shape[2]))\n",
        "    x_offset=margin\n",
        "    y_offset=margin \n",
        "    newX[x_offset:X.shape[0]+x_offset, y_offset:X.shape[1]+y_offset,:]=X\n",
        "    return newX\n",
        "\n",
        "def createImageCubes(X,y,windowSize=9, removeZeroLabels=True): #Regresar a 5\n",
        "    margin=int((windowSize-1)/2)\n",
        "    zeroPaddedX=padWithZeros(X,margin=margin)\n",
        "    patchesData=np.zeros((X.shape[0]*X.shape[1],windowSize,windowSize,X.shape[2]))\n",
        "    patchesLabels=np.zeros((X.shape[0]*X.shape[1]))\n",
        "    patchIndex=0\n",
        "    for r in range(margin,zeroPaddedX.shape[0]-margin):\n",
        "        for c in range(margin,zeroPaddedX.shape[1]-margin):\n",
        "            patch=zeroPaddedX[r-margin:r+margin+1,c-margin:c+margin+1]\n",
        "            patchesData[patchIndex,:,:,:]=patch \n",
        "            patchesLabels[patchIndex]=y[r-margin,c-margin]\n",
        "            patchIndex=patchIndex+1\n",
        "    if removeZeroLabels:\n",
        "        patchesData=patchesData[patchesLabels>0,:,:,:]\n",
        "        patchesLabels=patchesLabels[patchesLabels>0]\n",
        "        patchesLabels -=1\n",
        "    from keras.utils import np_utils\n",
        "    patchesLabels=np_utils.to_categorical(patchesLabels)\n",
        "    return patchesData,patchesLabels "
      ]
    },
    {
      "cell_type": "markdown",
      "metadata": {
        "id": "A3MGlZyuYeNd"
      },
      "source": [
        "#### 1.5. Acondicionar el conjunto de datos"
      ]
    },
    {
      "cell_type": "code",
      "execution_count": 5,
      "metadata": {
        "id": "Jy70nu4u5R1T"
      },
      "outputs": [],
      "source": [
        "x_train,y_train=createImageCubes(data,labels,removeZeroLabels=True)"
      ]
    },
    {
      "cell_type": "code",
      "execution_count": 6,
      "metadata": {
        "id": "dSY5Jis85R1U"
      },
      "outputs": [],
      "source": [
        "n_clases=y_train.shape[1]"
      ]
    },
    {
      "cell_type": "code",
      "execution_count": 7,
      "metadata": {},
      "outputs": [],
      "source": [
        "x_train=x_train.reshape(-1,81,n_components)"
      ]
    },
    {
      "cell_type": "markdown",
      "metadata": {
        "id": "QD7kXWODYZYH"
      },
      "source": [
        "#### 1.6. Partir Dataset"
      ]
    },
    {
      "cell_type": "code",
      "execution_count": 8,
      "metadata": {
        "id": "id7WkYYp5R1U"
      },
      "outputs": [],
      "source": [
        "# TEST 40%, TRAIN 48%, VALIDATION 12%\n",
        "from sklearn.model_selection import train_test_split\n",
        "x_train,x_test,y_train,y_test=train_test_split(x_train,y_train,test_size=0.4,shuffle=True,random_state=0,stratify=y_train) #0.4 100% 0.9--0.79\n",
        "x_train,x_val,y_train,y_val=train_test_split(x_train,y_train,test_size=0.2,shuffle=True,random_state=0,stratify=y_train)"
      ]
    },
    {
      "cell_type": "markdown",
      "metadata": {
        "id": "BpfU-UCd5R1U"
      },
      "source": [
        "### 2. Red Neuronal Convolucional"
      ]
    },
    {
      "cell_type": "code",
      "execution_count": 9,
      "metadata": {
        "id": "eTrVFER95R1V"
      },
      "outputs": [],
      "source": [
        "import tensorflow as tf \n",
        "from tensorflow.keras.layers import *\n",
        "from tensorflow.keras.models import Model \n",
        "from tensorflow.keras.callbacks import EarlyStopping"
      ]
    },
    {
      "cell_type": "code",
      "execution_count": 10,
      "metadata": {},
      "outputs": [],
      "source": [
        "class ClassToken(Layer):\n",
        "    def __init__(self):\n",
        "        super().__init__()\n",
        "\n",
        "    def build(self, input_shape):\n",
        "        w_init = tf.random_normal_initializer()\n",
        "        self.w = tf.Variable(\n",
        "            initial_value = w_init(shape=(1,1,input_shape[-1]), dtype=tf.float32),\n",
        "            trainable = True \n",
        "        )\n",
        "\n",
        "    def call(self, inputs):\n",
        "        batch_size = tf.shape(inputs)[0]\n",
        "        hidden_dim = self.w.shape[-1]\n",
        "\n",
        "        cls=tf.broadcast_to(self.w, [batch_size,1,hidden_dim])\n",
        "        cls=tf.cast(cls, dtype=inputs.dtype)\n",
        "        return cls"
      ]
    },
    {
      "cell_type": "code",
      "execution_count": 11,
      "metadata": {
        "id": "eBwG7dGmrhP1"
      },
      "outputs": [],
      "source": [
        "\"\"\" Inputs \"\"\" \n",
        "shape_input=(81,n_components)\n",
        "inputs=Input(shape_input)\n",
        "\n",
        "\"\"\" Patch + Position Embeddings \"\"\" \n",
        "\n",
        "patch_embed = Dense(n_components)(inputs)\n",
        "positions=tf.range(start=0, limit=81, delta=1)\n",
        "pos_embed=Embedding(input_dim=n_components,output_dim=n_components)(positions) #Podré dejarlo en 400?\n",
        "embed=patch_embed+pos_embed\n",
        "\n",
        "\"\"\" Adding Class Token \"\"\" \n",
        "\n",
        "token=ClassToken()(embed)\n",
        "x=Concatenate(axis=1)([token,embed])\n",
        "\n",
        "\"\"\" Transformer \"\"\"\n",
        "\n",
        "# Transformer Block 1\n",
        "\n",
        "skip_1=x\n",
        "x=LayerNormalization()(x)\n",
        "x=MultiHeadAttention(num_heads=3,key_dim=n_components)(x,x) # Regresar a 256 Clases<=Cabezas #key_dim=420 #Con 3 cabeza esta bueno 95.5\n",
        "x=Add()([x,skip_1])\n",
        "\n",
        "\n",
        "x=LayerNormalization()(x)\n",
        "#x=BatchNormalization()(x) # Lo cambie por batch\n",
        "x=Dense(128,activation=\"gelu\")(x) # gelu neurons to 210\n",
        "x=Dropout(0.5)(x) # estaba en 0.2\n",
        "x=Dense(64,activation=\"relu\")(x) #regresar a 210 # quitar el gelu\n",
        "x=Dropout(0.5)(x) # estaba en 00.2\n",
        "\n",
        "\n",
        "\"\"\" Clasificacion \"\"\" \n",
        "\n",
        "x=Flatten()(x)\n",
        "#X=Dropout(0.5)(x)\n",
        "x=Dense(243,activation=\"relu\")(x) #acticar si baja\n",
        "x=Dropout(0.5)(x)\n",
        "x=Dense(n_clases,activation=\"relu\")(x)\n",
        "#X=Dropout(0.5)(x)\n",
        "\n",
        "x=Dense(n_clases,activation=\"softmax\")(x)\n",
        "model=Model(inputs,x)\n",
        "model.compile(optimizer=\"adam\", loss=\"categorical_crossentropy\", metrics=[\"accuracy\"])"
      ]
    },
    {
      "cell_type": "code",
      "execution_count": 12,
      "metadata": {
        "id": "YeqaoidY5R1W"
      },
      "outputs": [],
      "source": [
        "callback=EarlyStopping(monitor=\"val_accuracy\", patience=10, restore_best_weights=True)"
      ]
    },
    {
      "cell_type": "markdown",
      "metadata": {
        "id": "pN8SBdnr5R1W"
      },
      "source": [
        "#### 2.1. Entrenamiento"
      ]
    },
    {
      "cell_type": "code",
      "execution_count": 13,
      "metadata": {
        "colab": {
          "base_uri": "https://localhost:8080/"
        },
        "id": "aEFPXM2_5R1W",
        "outputId": "253994c7-a9dc-45a6-ef7a-84beadfdaf30"
      },
      "outputs": [
        {
          "name": "stdout",
          "output_type": "stream",
          "text": [
            "Epoch 1/100\n",
            "203/203 [==============================] - 19s 83ms/step - loss: 0.4843 - accuracy: 0.8283 - val_loss: 0.0827 - val_accuracy: 0.9695\n",
            "Epoch 2/100\n",
            "203/203 [==============================] - 14s 71ms/step - loss: 0.0402 - accuracy: 0.9861 - val_loss: 0.0085 - val_accuracy: 0.9971\n",
            "Epoch 3/100\n",
            "203/203 [==============================] - 14s 68ms/step - loss: 0.0194 - accuracy: 0.9931 - val_loss: 0.0025 - val_accuracy: 0.9994\n",
            "Epoch 4/100\n",
            "203/203 [==============================] - 14s 67ms/step - loss: 0.0105 - accuracy: 0.9965 - val_loss: 0.0023 - val_accuracy: 0.9994\n",
            "Epoch 5/100\n",
            "203/203 [==============================] - 14s 68ms/step - loss: 0.0098 - accuracy: 0.9967 - val_loss: 0.0032 - val_accuracy: 0.9989\n",
            "Epoch 6/100\n",
            "203/203 [==============================] - 14s 68ms/step - loss: 0.0073 - accuracy: 0.9976 - val_loss: 0.0017 - val_accuracy: 0.9995\n",
            "Epoch 7/100\n",
            "203/203 [==============================] - 14s 67ms/step - loss: 0.0089 - accuracy: 0.9976 - val_loss: 0.0017 - val_accuracy: 0.9994\n",
            "Epoch 8/100\n",
            "203/203 [==============================] - 14s 67ms/step - loss: 0.0073 - accuracy: 0.9978 - val_loss: 9.9988e-04 - val_accuracy: 0.9995\n",
            "Epoch 9/100\n",
            "203/203 [==============================] - 14s 67ms/step - loss: 0.0062 - accuracy: 0.9980 - val_loss: 9.3106e-04 - val_accuracy: 0.9998\n",
            "Epoch 10/100\n",
            "203/203 [==============================] - 14s 67ms/step - loss: 0.0020 - accuracy: 0.9993 - val_loss: 0.0020 - val_accuracy: 0.9992\n",
            "Epoch 11/100\n",
            "203/203 [==============================] - 14s 68ms/step - loss: 0.0037 - accuracy: 0.9987 - val_loss: 0.0010 - val_accuracy: 0.9997\n",
            "Epoch 12/100\n",
            "203/203 [==============================] - 14s 67ms/step - loss: 0.0068 - accuracy: 0.9984 - val_loss: 3.0271e-04 - val_accuracy: 0.9998\n",
            "Epoch 13/100\n",
            "203/203 [==============================] - 14s 67ms/step - loss: 0.0151 - accuracy: 0.9967 - val_loss: 0.0018 - val_accuracy: 0.9991\n",
            "Epoch 14/100\n",
            "203/203 [==============================] - 14s 67ms/step - loss: 0.0031 - accuracy: 0.9992 - val_loss: 1.9477e-04 - val_accuracy: 1.0000\n",
            "Epoch 15/100\n",
            "203/203 [==============================] - 14s 67ms/step - loss: 0.0108 - accuracy: 0.9975 - val_loss: 3.3003e-04 - val_accuracy: 1.0000\n",
            "Epoch 16/100\n",
            "203/203 [==============================] - 14s 67ms/step - loss: 0.0015 - accuracy: 0.9995 - val_loss: 3.1631e-04 - val_accuracy: 0.9998\n",
            "Epoch 17/100\n",
            "203/203 [==============================] - 14s 67ms/step - loss: 9.8902e-04 - accuracy: 0.9996 - val_loss: 0.0020 - val_accuracy: 0.9989\n",
            "Epoch 18/100\n",
            "203/203 [==============================] - 14s 67ms/step - loss: 0.0015 - accuracy: 0.9995 - val_loss: 0.0079 - val_accuracy: 0.9982\n",
            "Epoch 19/100\n",
            "203/203 [==============================] - 14s 67ms/step - loss: 0.0074 - accuracy: 0.9980 - val_loss: 1.7064e-04 - val_accuracy: 1.0000\n",
            "Epoch 20/100\n",
            "203/203 [==============================] - 14s 67ms/step - loss: 0.0018 - accuracy: 0.9995 - val_loss: 4.1179e-04 - val_accuracy: 0.9998\n",
            "Epoch 21/100\n",
            "203/203 [==============================] - 14s 67ms/step - loss: 0.0015 - accuracy: 0.9995 - val_loss: 2.2581e-04 - val_accuracy: 0.9998\n",
            "Epoch 22/100\n",
            "203/203 [==============================] - 14s 67ms/step - loss: 0.0047 - accuracy: 0.9987 - val_loss: 1.0952e-04 - val_accuracy: 1.0000\n",
            "Epoch 23/100\n",
            "203/203 [==============================] - 14s 67ms/step - loss: 0.0158 - accuracy: 0.9971 - val_loss: 5.9245e-04 - val_accuracy: 0.9997\n",
            "Epoch 24/100\n",
            "203/203 [==============================] - 14s 67ms/step - loss: 0.0027 - accuracy: 0.9992 - val_loss: 8.8911e-05 - val_accuracy: 1.0000\n"
          ]
        }
      ],
      "source": [
        "history=model.fit(x_train,y_train,epochs=100,batch_size=128,validation_data=(x_val,y_val),callbacks=[callback])"
      ]
    },
    {
      "cell_type": "code",
      "execution_count": 14,
      "metadata": {},
      "outputs": [],
      "source": [
        "dic_curves_IP={}\n",
        "dic_curves_IP[\"val_accuracy\"]=history.history[\"val_accuracy\"]\n",
        "dic_curves_IP[\"accuracy\"]=history.history[\"accuracy\"]\n",
        "dic_curves_IP[\"loss\"]=history.history[\"loss\"]\n",
        "dic_curves_IP[\"val_loss\"]=history.history[\"val_loss\"]\n",
        "\n",
        "import pickle \n",
        "\n",
        "with open(\"accu_loss_transformer.pkl\",\"wb\") as f:\n",
        "    pickle.dump(dic_curves_IP,f)"
      ]
    },
    {
      "cell_type": "markdown",
      "metadata": {
        "id": "PDLQ_6k85R1X"
      },
      "source": [
        "#### 3. Evaluación"
      ]
    },
    {
      "cell_type": "markdown",
      "metadata": {
        "id": "uZxwwFm7YrRY"
      },
      "source": [
        "#### 3.1. Evaluacion Test"
      ]
    },
    {
      "cell_type": "code",
      "execution_count": 15,
      "metadata": {
        "colab": {
          "base_uri": "https://localhost:8080/"
        },
        "id": "wvpN6KXp5R1X",
        "outputId": "dc8fec53-72b2-4816-d25e-e5de43dd7abd"
      },
      "outputs": [
        {
          "name": "stdout",
          "output_type": "stream",
          "text": [
            "677/677 [==============================] - 8s 12ms/step - loss: 0.0018 - accuracy: 0.9994\n"
          ]
        }
      ],
      "source": [
        "evaluacion_test=model.evaluate(x_test,y_test)"
      ]
    },
    {
      "cell_type": "markdown",
      "metadata": {
        "id": "bPkuxHOoYusx"
      },
      "source": [
        "#### 3.2. Classification Report"
      ]
    },
    {
      "cell_type": "code",
      "execution_count": 16,
      "metadata": {
        "colab": {
          "base_uri": "https://localhost:8080/"
        },
        "id": "v94acefT5R1X",
        "outputId": "11378a53-243f-4caa-df85-59afe56a27fe"
      },
      "outputs": [
        {
          "name": "stdout",
          "output_type": "stream",
          "text": [
            "677/677 [==============================] - 6s 9ms/step\n",
            "                           precision    recall  f1-score   support\n",
            "\n",
            "    Brocoli_green_weeds_1       1.00      1.00      1.00       804\n",
            "    Brocoli_green_weeds_2       1.00      1.00      1.00      1490\n",
            "                   Fallow       1.00      1.00      1.00       790\n",
            "        Fallow_rough_plow       1.00      0.99      0.99       558\n",
            "            Fallow_smooth       0.99      1.00      1.00      1071\n",
            "                  Stubble       1.00      1.00      1.00      1584\n",
            "                   Celery       1.00      1.00      1.00      1432\n",
            "         Grapes_untrained       1.00      1.00      1.00      4509\n",
            "     Soil_vinyard_develop       1.00      1.00      1.00      2481\n",
            "Corn_senesced_green_weeds       1.00      1.00      1.00      1311\n",
            "      Lettuce_romaine_4wk       1.00      1.00      1.00       427\n",
            "      Lettuce_romaine_5wk       1.00      1.00      1.00       771\n",
            "      Lettuce_romaine_6wk       1.00      1.00      1.00       366\n",
            "      Lettuce_romaine_7wk       1.00      1.00      1.00       428\n",
            "        Vinyard_untrained       1.00      1.00      1.00      2907\n",
            " Vinyard_vertical_trellis       1.00      1.00      1.00       723\n",
            "\n",
            "                 accuracy                           1.00     21652\n",
            "                macro avg       1.00      1.00      1.00     21652\n",
            "             weighted avg       1.00      1.00      1.00     21652\n",
            "\n"
          ]
        }
      ],
      "source": [
        "y_pred=model.predict(x_test)\n",
        "y_pred=np.argmax(y_pred,axis=1)\n",
        "from sklearn.metrics import classification_report\n",
        "clases_dataset_SA=[\"Brocoli_green_weeds_1\",\"Brocoli_green_weeds_2\",\"Fallow\",\"Fallow_rough_plow\",\"Fallow_smooth\",\"Stubble\",\"Celery\",\"Grapes_untrained\",\"Soil_vinyard_develop\",\"Corn_senesced_green_weeds\",\"Lettuce_romaine_4wk\",\"Lettuce_romaine_5wk\",\"Lettuce_romaine_6wk\",\"Lettuce_romaine_7wk\",\"Vinyard_untrained\",\"Vinyard_vertical_trellis\"]\n",
        "target_names=clases_dataset_SA\n",
        "classification=classification_report(np.argmax(y_test,axis=1),y_pred,target_names=target_names)\n",
        "print(classification)"
      ]
    },
    {
      "cell_type": "markdown",
      "metadata": {
        "id": "bpyxAcTAY_mO"
      },
      "source": [
        "#### 3.3. Cohen Kappa"
      ]
    },
    {
      "cell_type": "code",
      "execution_count": 17,
      "metadata": {
        "colab": {
          "base_uri": "https://localhost:8080/"
        },
        "id": "7Y2yvdGsZUr0",
        "outputId": "464f9d23-eb15-413b-8926-c094e3330e7d"
      },
      "outputs": [],
      "source": [
        "from sklearn.metrics import cohen_kappa_score\n",
        "a=y_pred\n",
        "b=np.argmax(y_test,axis=1)\n",
        "cks=cohen_kappa_score(a,b)\n",
        "cks\n",
        "\n",
        "np.save(\"cohen_kappa_score_transformer\",cks)"
      ]
    },
    {
      "cell_type": "code",
      "execution_count": 18,
      "metadata": {},
      "outputs": [
        {
          "data": {
            "text/plain": [
              "array(0.99938289)"
            ]
          },
          "execution_count": 18,
          "metadata": {},
          "output_type": "execute_result"
        }
      ],
      "source": [
        "import numpy as np\n",
        "np.load(\"cohen_kappa_score_transformer.npy\")"
      ]
    },
    {
      "cell_type": "code",
      "execution_count": 19,
      "metadata": {},
      "outputs": [],
      "source": [
        "import pandas as pd \n",
        "\n",
        "pd_reporte_clasificacion=pd.DataFrame(classification_report(np.argmax(y_test,axis=1),y_pred,target_names=target_names,output_dict=True)).transpose()\n",
        "pd_reporte_clasificacion.to_csv(\"reporte_clasificacion_transformer.csv\")"
      ]
    },
    {
      "cell_type": "code",
      "execution_count": 20,
      "metadata": {
        "colab": {
          "base_uri": "https://localhost:8080/"
        },
        "id": "skSUfSLs5R1X",
        "outputId": "99d4891a-e5d5-4d6e-9569-dad4c7666f21"
      },
      "outputs": [
        {
          "name": "stdout",
          "output_type": "stream",
          "text": [
            "868/868 [==============================] - 20s 22ms/step\n"
          ]
        }
      ],
      "source": [
        "y_pred,_=createImageCubes(data,labels,removeZeroLabels=False)\n",
        "y_pred=y_pred.reshape(-1,81,n_components)\n",
        "y_pred=model.predict(y_pred,batch_size=128)\n",
        "y_pred=np.argmax(y_pred,axis=1)\n",
        "y_pred=y_pred.reshape(H,W)"
      ]
    },
    {
      "cell_type": "code",
      "execution_count": 21,
      "metadata": {},
      "outputs": [],
      "source": [
        "pred_gt=y_pred+np.ones_like(y_pred)"
      ]
    },
    {
      "cell_type": "code",
      "execution_count": 22,
      "metadata": {},
      "outputs": [],
      "source": [
        "mask=np.array([labels])>0 # Generamos máscaras.\n",
        "mask=mask.astype(\"uint8\")\n",
        "y_pred=mask*pred_gt\n",
        "y_pred=y_pred.reshape(data.shape[0],data.shape[1])"
      ]
    },
    {
      "cell_type": "code",
      "execution_count": 23,
      "metadata": {
        "colab": {
          "base_uri": "https://localhost:8080/",
          "height": 248
        },
        "id": "nkgp4lKB5R1Y",
        "outputId": "aa48a459-ca93-4d9c-c378-0f58cbee8960"
      },
      "outputs": [
        {
          "data": {
            "image/png": "[encoded data removed]",
            "text/plain": [
              "<Figure size 432x288 with 1 Axes>"
            ]
          },
          "metadata": {
            "needs_background": "light"
          },
          "output_type": "display_data"
        }
      ],
      "source": [
        "import matplotlib.pyplot as plt \n",
        "plt.imshow(y_pred)\n",
        "plt.axis(\"off\");"
      ]
    },
    {
      "cell_type": "code",
      "execution_count": 24,
      "metadata": {},
      "outputs": [],
      "source": [
        "np.save(\"y_pred_transformer\",y_pred)"
      ]
    },
    {
      "cell_type": "code",
      "execution_count": 25,
      "metadata": {
        "colab": {
          "base_uri": "https://localhost:8080/",
          "height": 286
        },
        "id": "5foEvQ32VnlY",
        "outputId": "54d60d5c-2ea2-43e7-8322-784d12ff38a8"
      },
      "outputs": [
        {
          "data": {
            "text/plain": [
              "(-0.5, 216.5, 511.5, -0.5)"
            ]
          },
          "execution_count": 25,
          "metadata": {},
          "output_type": "execute_result"
        },
        {
          "data": {
            "image/png": "[encoded data removed]",
            "text/plain": [
              "<Figure size 432x288 with 1 Axes>"
            ]
          },
          "metadata": {
            "needs_background": "light"
          },
          "output_type": "display_data"
        }
      ],
      "source": [
        "plt.imshow(labels)\n",
        "plt.axis(\"off\")"
      ]
    },
    {
      "cell_type": "code",
      "execution_count": 26,
      "metadata": {},
      "outputs": [
        {
          "data": {
            "text/plain": [
              "0.9998232304728994"
            ]
          },
          "execution_count": 26,
          "metadata": {},
          "output_type": "execute_result"
        }
      ],
      "source": [
        "from sklearn.metrics import accuracy_score\n",
        "a=y_pred.reshape(H*W)\n",
        "b=labels.reshape(H*W)\n",
        "cohen_kappa_score(a,b)"
      ]
    },
    {
      "cell_type": "code",
      "execution_count": 27,
      "metadata": {},
      "outputs": [
        {
          "data": {
            "text/plain": [
              "0.9998739919354839"
            ]
          },
          "execution_count": 27,
          "metadata": {},
          "output_type": "execute_result"
        }
      ],
      "source": [
        "accuracy_score(a,b)"
      ]
    },
    {
      "cell_type": "code",
      "execution_count": 28,
      "metadata": {
        "colab": {
          "base_uri": "https://localhost:8080/"
        },
        "id": "Y7eo3zRRKzMl",
        "outputId": "50536104-8ddb-4405-fef1-b487fd0de2a0"
      },
      "outputs": [
        {
          "name": "stdout",
          "output_type": "stream",
          "text": [
            "Mean IoU 0.9993643\n"
          ]
        }
      ],
      "source": [
        "from keras.metrics import MeanIoU \n",
        "n_classes=17\n",
        "IOU_mean=MeanIoU(num_classes=n_classes)\n",
        "IOU_mean.update_state(y_pred,labels)\n",
        "print(\"Mean IoU\",IOU_mean.result().numpy())\n",
        "np.save(\"IoU_transformer\",IOU_mean.result().numpy())"
      ]
    },
    {
      "cell_type": "code",
      "execution_count": 29,
      "metadata": {
        "colab": {
          "base_uri": "https://localhost:8080/"
        },
        "id": "Z0fwX8s-5R1Y",
        "outputId": "0a560e09-f225-4dfb-b2eb-682d35c04385"
      },
      "outputs": [
        {
          "name": "stdout",
          "output_type": "stream",
          "text": [
            "Unlabeled : 1.0\n",
            "Brocoli_green_weeds_1 : 1.0\n",
            "Brocoli_green_weeds_2 : 1.0\n",
            "Fallow : 1.0\n",
            "Fallow_rough_plow : 0.99426115\n",
            "Fallow_smooth : 0.9966505\n",
            "Stubble : 0.9997474\n",
            "Celery : 1.0\n",
            "Grapes_untrained : 0.9995565\n",
            "Soil_vinyard_develop : 1.0\n",
            "Corn_senesced_green_weeds : 0.99939024\n",
            "Lettuce_romaine_4wk : 1.0\n",
            "Lettuce_romaine_5wk : 1.0\n",
            "Lettuce_romaine_6wk : 1.0\n",
            "Lettuce_romaine_7wk : 1.0\n",
            "Vinyard_untrained : 0.9995873\n",
            "Vinyard_vertical_trellis : 1.0\n"
          ]
        }
      ],
      "source": [
        "# IoU por clase.\n",
        "from keras.metrics import IoU\n",
        "clases=[\"Unlabeled\",\"Brocoli_green_weeds_1\",\"Brocoli_green_weeds_2\",\"Fallow\",\"Fallow_rough_plow\",\"Fallow_smooth\",\"Stubble\",\"Celery\",\"Grapes_untrained\",\"Soil_vinyard_develop\",\"Corn_senesced_green_weeds\",\"Lettuce_romaine_4wk\",\"Lettuce_romaine_5wk\",\"Lettuce_romaine_6wk\",\"Lettuce_romaine_7wk\",\"Vinyard_untrained\",\"Vinyard_vertical_trellis\"]\n",
        "IoU_class_report=[]\n",
        "for i in range(17):\n",
        "    IoU_class=IoU(num_classes=17,target_class_ids=[i])\n",
        "    IoU_class.update_state(y_pred,labels)\n",
        "    IoU_class_report.append(IoU_class.result().numpy())\n",
        "    print(clases[i],\":\", IoU_class.result().numpy())"
      ]
    },
    {
      "cell_type": "code",
      "execution_count": 30,
      "metadata": {},
      "outputs": [],
      "source": [
        "np.save(\"reporte_IoU_transformer\",IoU_class_report)"
      ]
    },
    {
      "cell_type": "code",
      "execution_count": 31,
      "metadata": {
        "id": "0o9DYE8s5R1Y"
      },
      "outputs": [
        {
          "name": "stdout",
          "output_type": "stream",
          "text": [
            "1.0\n",
            "1.0\n",
            "1.0\n",
            "1.0\n",
            "0.99426115\n",
            "0.9966505\n",
            "0.9997474\n",
            "1.0\n",
            "0.9995565\n",
            "1.0\n",
            "0.99939024\n",
            "1.0\n",
            "1.0\n",
            "1.0\n",
            "1.0\n",
            "0.9995873\n",
            "1.0\n"
          ]
        }
      ],
      "source": [
        "from keras.metrics import IoU\n",
        "clases=[\"Unlabeled\",\"Brocoli_green_weeds_1\",\"Brocoli_green_weeds_2\",\"Fallow\",\"Fallow_rough_plow\",\"Fallow_smooth\",\"Stubble\",\"Celery\",\"Grapes_untrained\",\"Soil_vinyard_develop\",\"Corn_senesced_green_weeds\",\"Lettuce_romaine_4wk\",\"Lettuce_romaine_5wk\",\"Lettuce_romaine_6wk\",\"Lettuce_romaine_7wk\",\"Vinyard_untrained\",\"Vinyard_vertical_trellis\"]\n",
        "IoU_class_report=[]\n",
        "for i in range(n_clases+1):\n",
        "    IoU_class=IoU(num_classes=n_clases+1,target_class_ids=[i])\n",
        "    IoU_class.update_state(y_pred,labels)\n",
        "    IoU_class_report.append(IoU_class.result().numpy())\n",
        "    print(IoU_class.result().numpy())"
      ]
    }
  ],
  "metadata": {
    "accelerator": "GPU",
    "colab": {
      "provenance": []
    },
    "gpuClass": "standard",
    "kernelspec": {
      "display_name": "Python 3",
      "language": "python",
      "name": "python3"
    },
    "language_info": {
      "codemirror_mode": {
        "name": "ipython",
        "version": 3
      },
      "file_extension": ".py",
      "mimetype": "text/x-python",
      "name": "python",
      "nbconvert_exporter": "python",
      "pygments_lexer": "ipython3",
      "version": "3.7.2"
    },
    "orig_nbformat": 4,
    "vscode": {
      "interpreter": {
        "hash": "98d5674963b65db345bb78e3c5a3b7a8950200b887d8b92f8da01b49df867ecf"
      }
    }
  },
  "nbformat": 4,
  "nbformat_minor": 0
}
