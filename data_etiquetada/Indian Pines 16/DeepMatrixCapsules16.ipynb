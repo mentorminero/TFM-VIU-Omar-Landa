{
  "nbformat": 4,
  "nbformat_minor": 0,
  "metadata": {
    "colab": {
      "provenance": []
    },
    "kernelspec": {
      "name": "python3",
      "display_name": "Python 3"
    },
    "language_info": {
      "name": "python"
    },
    "accelerator": "GPU",
    "gpuClass": "standard"
  },
  "cells": [
    {
      "cell_type": "markdown",
      "source": [
        "Copyright (c) 2023 Rohit P N and Anirudh Ravikumar. Released under the MIT License"
      ],
      "metadata": {
        "id": "cPxFB4ZucCZu"
      }
    },
    {
      "cell_type": "code",
      "source": [
        "pip install spectral"
      ],
      "metadata": {
        "colab": {
          "base_uri": "https://localhost:8080/"
        },
        "id": "haHMOB5aZPJf",
        "outputId": "3b0f4c76-9867-4945-ca7c-12f0c772cc40"
      },
      "execution_count": null,
      "outputs": [
        {
          "output_type": "stream",
          "name": "stdout",
          "text": [
            "Looking in indexes: https://pypi.org/simple, https://us-python.pkg.dev/colab-wheels/public/simple/\n",
            "Requirement already satisfied: spectral in /usr/local/lib/python3.8/dist-packages (0.23.1)\n",
            "Requirement already satisfied: numpy in /usr/local/lib/python3.8/dist-packages (from spectral) (1.21.6)\n"
          ]
        }
      ]
    },
    {
      "cell_type": "code",
      "source": [
        "from google.colab import drive\n",
        "drive.mount('/content/drive')"
      ],
      "metadata": {
        "colab": {
          "base_uri": "https://localhost:8080/"
        },
        "id": "q8F1OyF7ivMQ",
        "outputId": "dbcd3cc1-1d2f-4f49-bdeb-70a5924657c5"
      },
      "execution_count": null,
      "outputs": [
        {
          "output_type": "stream",
          "name": "stdout",
          "text": [
            "Drive already mounted at /content/drive; to attempt to forcibly remount, call drive.mount(\"/content/drive\", force_remount=True).\n"
          ]
        }
      ]
    },
    {
      "cell_type": "code",
      "source": [
        "from datetime import datetime\n",
        "import math\n",
        "from operator import truediv\n",
        "import os\n",
        "import pickle\n",
        "import random\n",
        "import time\n",
        "\n",
        "import matplotlib.pyplot as plt\n",
        "import numpy as np\n",
        "\n",
        "import scipy.io as sio\n",
        "\n",
        "from sklearn.decomposition import PCA\n",
        "from sklearn.model_selection import train_test_split\n",
        "from sklearn.metrics import confusion_matrix, accuracy_score\n",
        "from sklearn.metrics import classification_report, cohen_kappa_score\n",
        "\n",
        "import spectral\n",
        "\n",
        "import torch\n",
        "import torch.nn as nn\n",
        "import torch.nn.functional as F\n",
        "import torch.optim as optim\n",
        "from torchvision import datasets, transforms\n",
        "from torch.nn.modules.loss import _Loss\n",
        "\n",
        "import warnings\n",
        "warnings.filterwarnings('ignore')"
      ],
      "metadata": {
        "id": "MZS8557IhxOM"
      },
      "execution_count": null,
      "outputs": []
    },
    {
      "cell_type": "code",
      "source": [
        "seed = 3\n",
        "\n",
        "# Making the model deterministic\n",
        "\n",
        "def set_seed(seed):\n",
        "    torch.manual_seed(seed)\n",
        "    torch.cuda.manual_seed_all(seed)\n",
        "    torch.backends.cudnn.deterministic = True\n",
        "    torch.backends.cudnn.benchmark = False\n",
        "    np.random.seed(seed)\n",
        "    random.seed(seed)\n",
        "    os.environ['PYTHONHASHSEED'] = str(seed)\n",
        "\n",
        "set_seed(seed)\n",
        "\n",
        "torch.cuda.empty_cache()\n",
        "\n",
        "device = torch.device(\"cuda:0\" if torch.cuda.is_available() else \"cpu\")\n",
        "print(device)"
      ],
      "metadata": {
        "colab": {
          "base_uri": "https://localhost:8080/"
        },
        "id": "facEfq7Zhz3M",
        "outputId": "043a5c4e-c654-4937-8506-89ac42d44933"
      },
      "execution_count": null,
      "outputs": [
        {
          "output_type": "stream",
          "name": "stdout",
          "text": [
            "cuda:0\n"
          ]
        }
      ]
    },
    {
      "cell_type": "code",
      "source": [
        "test_ratio = 0.8\n",
        "val_and_test_ratio = 0.5\n",
        "windowSize = 25\n",
        "batch_size = 64\n",
        "no_of_PCA_components = 30"
      ],
      "metadata": {
        "id": "MkgKesBgh0iP"
      },
      "execution_count": null,
      "outputs": []
    },
    {
      "cell_type": "code",
      "source": [
        "# model architecture\n",
        "A, B, C, D = 64, 32, 16, 16\n",
        "\n",
        "# EM Iterations\n",
        "em_iters = 2\n",
        "\n",
        "# PCA Componenets\n",
        "pca_components = 30\n",
        "\n",
        "# Epochs\n",
        "epochs = 50\n",
        "\n",
        "# Learning rate\n",
        "lr = 3e-3\n",
        "\n",
        "# Weight Decay\n",
        "wd = 2e-7\n",
        "\n",
        "# Test Intervals\n",
        "test_intervals = 1\n",
        "\n",
        "# Log Interval\n",
        "log_interval = 10\n",
        "\n",
        "# No. of classes\n",
        "num_class = 16"
      ],
      "metadata": {
        "id": "tbT3z01Zh4Wb"
      },
      "execution_count": null,
      "outputs": []
    },
    {
      "cell_type": "code",
      "source": [
        "def loadData():\n",
        "    images = sio.loadmat(\"Indian_pines_corrected_image.mat\")['indian_pines_corrected']\n",
        "    labels = sio.loadmat(\"Indian_pines_ground_truth.mat\")['indian_pines_gt']\n",
        "    return images, labels"
      ],
      "metadata": {
        "id": "0Kx58Qv0h45f"
      },
      "execution_count": null,
      "outputs": []
    },
    {
      "cell_type": "code",
      "source": [
        "def applyPCA(X, n_components=no_of_PCA_components, seed=seed):\n",
        "    newX = np.reshape(X, (-1, X.shape[2]))\n",
        "    pca = PCA(n_components=n_components, whiten=True, random_state=seed)\n",
        "    newX = pca.fit_transform(newX)\n",
        "    newX = np.reshape(newX, (X.shape[0], X.shape[1], n_components))\n",
        "    return newX"
      ],
      "metadata": {
        "id": "0_WzAg25h6zc"
      },
      "execution_count": null,
      "outputs": []
    },
    {
      "cell_type": "code",
      "source": [
        "def padWithZeros(X, margin=2):\n",
        "    newX = np.zeros((X.shape[0] + 2*margin, X.shape[1] + 2*margin, X.shape[2]))\n",
        "    x_offset = margin\n",
        "    y_offset = margin\n",
        "    newX [x_offset : X.shape[0] + x_offset, y_offset : X.shape[1] + y_offset, :] = X\n",
        "    return newX"
      ],
      "metadata": {
        "id": "oflpRDrTh8vD"
      },
      "execution_count": null,
      "outputs": []
    },
    {
      "cell_type": "code",
      "source": [
        "def createImageCubes(X, y, windowSize=windowSize, removeZeroLabels=True):\n",
        "    margin = int((windowSize-1)/2)\n",
        "    zeroPaddedX = padWithZeros(X, margin=margin)\n",
        "    \n",
        "    patchesData = np.zeros((X.shape[0]*X.shape[1], windowSize, windowSize, X.shape[2]))\n",
        "    patchesLabels = np.zeros((X.shape[0] * X.shape[1]))\n",
        "    patchIndex = 0\n",
        "    \n",
        "    for r in range(margin, zeroPaddedX.shape[0] - margin):\n",
        "        for c in range(margin, zeroPaddedX.shape[1] - margin):\n",
        "            patch = zeroPaddedX[r - margin: r + margin + 1, c - margin:c + margin + 1]\n",
        "            patchesData[patchIndex, :, :, :] = patch\n",
        "            patchesLabels[patchIndex] = y[r-margin, c-margin]\n",
        "            patchIndex += 1\n",
        "\n",
        "    if removeZeroLabels:\n",
        "        patchesData = patchesData[patchesLabels > 0, :, :, :]\n",
        "        patchesLabels = patchesLabels[patchesLabels > 0]\n",
        "        patchesLabels -= 1\n",
        "    \n",
        "    return patchesData, patchesLabels"
      ],
      "metadata": {
        "id": "AzWllbYNh-r3"
      },
      "execution_count": null,
      "outputs": []
    },
    {
      "cell_type": "code",
      "source": [
        "def dataSplit(X, y, val_and_test_ratio=val_and_test_ratio, test_ratio=test_ratio, random_state=seed):\n",
        "    X_train, X_val_and_test, y_train, y_val_and_test = train_test_split(X, y, test_size=val_and_test_ratio, random_state=random_state, stratify=y)\n",
        "    X_val, X_test, y_val, y_test = train_test_split(X_val_and_test, y_val_and_test, test_size=test_ratio, random_state=random_state, stratify=y_val_and_test)\n",
        "    return X_train, y_train, X_val, y_val, X_test, y_test"
      ],
      "metadata": {
        "id": "JygAKinBiAy7"
      },
      "execution_count": null,
      "outputs": []
    },
    {
      "cell_type": "code",
      "source": [
        "def convertToDataloader(X_train, y_train, X_val, y_val, X_test, y_test, batch_size=batch_size, K=no_of_PCA_components):\n",
        "\n",
        "    X_train = torch.Tensor(X_train)\n",
        "    y_train = torch.Tensor(y_train)\n",
        "    X_val = torch.Tensor(X_val)\n",
        "    y_val = torch.Tensor(y_val)\n",
        "    X_test = torch.Tensor(X_test)\n",
        "    y_test = torch.Tensor(y_test)\n",
        "\n",
        "    train_dataset = torch.utils.data.TensorDataset(X_train, y_train)\n",
        "    val_dataset = torch.utils.data.TensorDataset(X_val, y_val)\n",
        "    test_dataset = torch.utils.data.TensorDataset(X_test, y_test)\n",
        "\n",
        "    train_dataloader = torch.utils.data.DataLoader(train_dataset, batch_size=batch_size, shuffle=True)\n",
        "    val_dataloader = torch.utils.data.DataLoader(val_dataset, batch_size=batch_size)\n",
        "    test_dataloader = torch.utils.data.DataLoader(test_dataset, batch_size=batch_size)\n",
        "\n",
        "    return train_dataloader, val_dataloader, test_dataloader"
      ],
      "metadata": {
        "id": "j7FnZJusiCcT"
      },
      "execution_count": null,
      "outputs": []
    },
    {
      "cell_type": "code",
      "source": [
        "X, y = loadData()\n",
        "X.shape, y.shape"
      ],
      "metadata": {
        "colab": {
          "base_uri": "https://localhost:8080/"
        },
        "id": "5-0EDiksiEmX",
        "outputId": "22722111-8f1c-44d8-8adb-e0872846a088"
      },
      "execution_count": null,
      "outputs": [
        {
          "output_type": "execute_result",
          "data": {
            "text/plain": [
              "((145, 145, 200), (145, 145))"
            ]
          },
          "metadata": {},
          "execution_count": 13
        }
      ]
    },
    {
      "cell_type": "code",
      "source": [
        "X = applyPCA(X)\n",
        "X.shape"
      ],
      "metadata": {
        "colab": {
          "base_uri": "https://localhost:8080/"
        },
        "id": "AR51rovSiGTP",
        "outputId": "84f2072f-2062-4571-ad80-6594c864ad80"
      },
      "execution_count": null,
      "outputs": [
        {
          "output_type": "execute_result",
          "data": {
            "text/plain": [
              "(145, 145, 30)"
            ]
          },
          "metadata": {},
          "execution_count": 14
        }
      ]
    },
    {
      "cell_type": "code",
      "source": [
        "X, y = createImageCubes(X, y,removeZeroLabels=True)\n",
        "X.shape, y.shape"
      ],
      "metadata": {
        "colab": {
          "base_uri": "https://localhost:8080/"
        },
        "id": "IqU0J2qKiJCJ",
        "outputId": "7ea356a2-7d44-46d0-8de9-bb72aecc77e4"
      },
      "execution_count": null,
      "outputs": [
        {
          "output_type": "execute_result",
          "data": {
            "text/plain": [
              "((10249, 25, 25, 30), (10249,))"
            ]
          },
          "metadata": {},
          "execution_count": 15
        }
      ]
    },
    {
      "cell_type": "code",
      "source": [
        "X = X.transpose(0, 3, 1, 2)\n",
        "X.shape, y.shape"
      ],
      "metadata": {
        "colab": {
          "base_uri": "https://localhost:8080/"
        },
        "id": "NvHIUZS_iJb7",
        "outputId": "f05dddec-4859-4937-edfe-393098548976"
      },
      "execution_count": null,
      "outputs": [
        {
          "output_type": "execute_result",
          "data": {
            "text/plain": [
              "((10249, 30, 25, 25), (10249,))"
            ]
          },
          "metadata": {},
          "execution_count": 16
        }
      ]
    },
    {
      "cell_type": "code",
      "source": [
        "X_train, y_train, X_val, y_val, X_test, y_test = dataSplit(X, y)\n",
        "print(\"X Train: \", X_train.shape)\n",
        "print(\"Y Train: \", y_train.shape)\n",
        "print(\"X Val: \", X_val.shape)\n",
        "print(\"Y Val: \", y_val.shape)\n",
        "print(\"X Test: \", X_test.shape)\n",
        "print(\"Y Test: \", y_test.shape)"
      ],
      "metadata": {
        "colab": {
          "base_uri": "https://localhost:8080/"
        },
        "id": "SydUHHoFiLDs",
        "outputId": "7b542500-12bf-41c1-bf5b-1c46ee767dcd"
      },
      "execution_count": null,
      "outputs": [
        {
          "output_type": "stream",
          "name": "stdout",
          "text": [
            "X Train:  (5124, 30, 25, 25)\n",
            "Y Train:  (5124,)\n",
            "X Val:  (1025, 30, 25, 25)\n",
            "Y Val:  (1025,)\n",
            "X Test:  (4100, 30, 25, 25)\n",
            "Y Test:  (4100,)\n"
          ]
        }
      ]
    },
    {
      "cell_type": "code",
      "source": [
        "train_loader, val_loader, test_loader = convertToDataloader(X_train, y_train, X_val, y_val, X_test, y_test)"
      ],
      "metadata": {
        "id": "wsf58gP8iQQ1"
      },
      "execution_count": null,
      "outputs": []
    },
    {
      "cell_type": "code",
      "source": [
        "\n",
        "dataloaders = {'train': train_loader, 'valid': val_loader,'test': test_loader}"
      ],
      "metadata": {
        "id": "70hOPwGjiTNs"
      },
      "execution_count": null,
      "outputs": []
    },
    {
      "cell_type": "code",
      "source": [
        "class PrimaryCaps(nn.Module):\n",
        "    \n",
        "    def __init__(self, A=32, B=32, K=1, P=4, stride=1):\n",
        "        super(PrimaryCaps, self).__init__()\n",
        "        self.pose = nn.Conv2d(in_channels=A, out_channels=B*P*P,\n",
        "                            kernel_size=K, stride=stride, bias=True)\n",
        "        self.a = nn.Conv2d(in_channels=A, out_channels=B,\n",
        "                            kernel_size=K, stride=stride, bias=True)\n",
        "        self.sigmoid = nn.Sigmoid()\n",
        "\n",
        "    def forward(self, x):\n",
        "        p = self.pose(x)\n",
        "        a = self.a(x)\n",
        "        a = self.sigmoid(a)\n",
        "        out = torch.cat([p, a], dim=1)\n",
        "        out = out.permute(0, 2, 3, 1)\n",
        "        return out"
      ],
      "metadata": {
        "id": "gfauV40HiVGp"
      },
      "execution_count": null,
      "outputs": []
    },
    {
      "cell_type": "code",
      "source": [
        "class ConvCaps(nn.Module):\n",
        "\n",
        "    def __init__(self, B=32, C=32, K=3, P=4, stride=2, iters=3,\n",
        "                 coor_add=False, w_shared=False):\n",
        "        super(ConvCaps, self).__init__()\n",
        "        self.B = B\n",
        "        self.C = C\n",
        "        self.K = K\n",
        "        self.P = P\n",
        "        self.psize = P*P\n",
        "        self.stride = stride\n",
        "        self.iters = iters\n",
        "        self.coor_add = coor_add\n",
        "        self.w_shared = w_shared\n",
        "        self.eps = 1e-8\n",
        "        self._lambda = 1e-03\n",
        "        self.ln_2pi = torch.cuda.FloatTensor(1).fill_(math.log(2*math.pi))\n",
        "\n",
        "        self.beta_u = nn.Parameter(torch.zeros(C))\n",
        "        self.beta_a = nn.Parameter(torch.zeros(C))\n",
        "\n",
        "        self.weights = nn.Parameter(torch.randn(1, K*K*B, C, P, P))\n",
        "        self.sigmoid = nn.Sigmoid()\n",
        "        self.softmax = nn.Softmax(dim=2)\n",
        "\n",
        "    def m_step(self, a_in, r, v, eps, b, B, C, psize):\n",
        "\n",
        "        r = r * a_in\n",
        "        r = r / (r.sum(dim=2, keepdim=True) + eps)\n",
        "        r_sum = r.sum(dim=1, keepdim=True)\n",
        "        coeff = r / (r_sum + eps)\n",
        "        coeff = coeff.view(b, B, C, 1)\n",
        "\n",
        "        mu = torch.sum(coeff * v, dim=1, keepdim=True)\n",
        "        sigma_sq = torch.sum(coeff * (v - mu)**2, dim=1, keepdim=True) + eps\n",
        "\n",
        "        r_sum = r_sum.view(b, C, 1)\n",
        "        sigma_sq = sigma_sq.view(b, C, psize)\n",
        "        cost_h = (self.beta_u.view(C, 1) + torch.log(sigma_sq.sqrt())) * r_sum\n",
        "\n",
        "        a_out = self.sigmoid(self._lambda*(self.beta_a - cost_h.sum(dim=2)))\n",
        "        sigma_sq = sigma_sq.view(b, 1, C, psize)\n",
        "\n",
        "        return a_out, mu, sigma_sq\n",
        "\n",
        "    def e_step(self, mu, sigma_sq, a_out, v, eps, b, C):\n",
        "\n",
        "        ln_p_j_h = -1. * (v - mu)**2 / (2 * sigma_sq) \\\n",
        "                    - torch.log(sigma_sq.sqrt()) \\\n",
        "                    - 0.5*self.ln_2pi\n",
        "\n",
        "        ln_ap = ln_p_j_h.sum(dim=3) + torch.log(a_out.view(b, 1, C))\n",
        "        r = self.softmax(ln_ap)\n",
        "        return r\n",
        "\n",
        "    def caps_em_routing(self, v, a_in, C, eps):\n",
        "\n",
        "        b, B, c, psize = v.shape\n",
        "        assert c == C\n",
        "        assert (b, B, 1) == a_in.shape\n",
        "\n",
        "        r = torch.cuda.FloatTensor(b, B, C).fill_(1./C)\n",
        "        for iter_ in range(self.iters):\n",
        "            a_out, mu, sigma_sq = self.m_step(a_in, r, v, eps, b, B, C, psize)\n",
        "            if iter_ < self.iters - 1:\n",
        "                r = self.e_step(mu, sigma_sq, a_out, v, eps, b, C)\n",
        "\n",
        "        return mu, a_out\n",
        "\n",
        "    def add_pathes(self, x, B, K, psize, stride):\n",
        "\n",
        "        b, h, w, c = x.shape\n",
        "        assert h == w\n",
        "        assert c == B*(psize+1)\n",
        "        oh = ow = int(((h - K )/stride)+ 1)\n",
        "        idxs = [[(h_idx + k_idx) \\\n",
        "                for k_idx in range(0, K)] \\\n",
        "                for h_idx in range(0, h - K + 1, stride)]\n",
        "        x = x[:, idxs, :, :]\n",
        "        x = x[:, :, :, idxs, :]\n",
        "        x = x.permute(0, 1, 3, 2, 4, 5).contiguous()\n",
        "        return x, oh, ow\n",
        "\n",
        "    def transform_view(self, x, w, C, P, w_shared=False):\n",
        "\n",
        "        b, B, psize = x.shape\n",
        "        assert psize == P*P\n",
        "\n",
        "        x = x.view(b, B, 1, P, P)\n",
        "        if w_shared:\n",
        "            hw = int(B / w.size(1))\n",
        "            w = w.repeat(1, hw, 1, 1, 1)\n",
        "\n",
        "        w = w.repeat(b, 1, 1, 1, 1)\n",
        "        x = x.repeat(1, 1, C, 1, 1)\n",
        "        v = torch.matmul(x, w)\n",
        "        v = v.view(b, B, C, P*P)\n",
        "        return v\n",
        "\n",
        "    def add_coord(self, v, b, h, w, B, C, psize):\n",
        "        \n",
        "        assert h == w\n",
        "        v = v.view(b, h, w, B, C, psize)\n",
        "        coor = torch.arange(h, dtype=torch.float32) / h\n",
        "        coor_h = torch.cuda.FloatTensor(1, h, 1, 1, 1, self.psize).fill_(0.)\n",
        "        coor_w = torch.cuda.FloatTensor(1, 1, w, 1, 1, self.psize).fill_(0.)\n",
        "        coor_h[0, :, 0, 0, 0, 0] = coor\n",
        "        coor_w[0, 0, :, 0, 0, 1] = coor\n",
        "        v = v + coor_h + coor_w\n",
        "        v = v.view(b, h*w*B, C, psize)\n",
        "        return v\n",
        "\n",
        "    def forward(self, x):\n",
        "        b, h, w, c = x.shape\n",
        "        if not self.w_shared:\n",
        "            x, oh, ow = self.add_pathes(x, self.B, self.K, self.psize, self.stride)\n",
        "\n",
        "            p_in = x[:, :, :, :, :, :self.B*self.psize].contiguous()\n",
        "            a_in = x[:, :, :, :, :, self.B*self.psize:].contiguous()\n",
        "            p_in = p_in.view(b*oh*ow, self.K*self.K*self.B, self.psize)\n",
        "            a_in = a_in.view(b*oh*ow, self.K*self.K*self.B, 1)\n",
        "            v = self.transform_view(p_in, self.weights, self.C, self.P)\n",
        "\n",
        "            p_out, a_out = self.caps_em_routing(v, a_in, self.C, self.eps)\n",
        "            p_out = p_out.view(b, oh, ow, self.C*self.psize)\n",
        "            a_out = a_out.view(b, oh, ow, self.C)\n",
        "            out = torch.cat([p_out, a_out], dim=3)\n",
        "        else:\n",
        "            assert c == self.B*(self.psize+1)\n",
        "            assert 1 == self.K\n",
        "            assert 1 == self.stride\n",
        "            p_in = x[:, :, :, :self.B*self.psize].contiguous()\n",
        "            p_in = p_in.view(b, h*w*self.B, self.psize)\n",
        "            a_in = x[:, :, :, self.B*self.psize:].contiguous()\n",
        "            a_in = a_in.view(b, h*w*self.B, 1)\n",
        "\n",
        "            v = self.transform_view(p_in, self.weights, self.C, self.P, self.w_shared)\n",
        "\n",
        "            if self.coor_add:\n",
        "                v = self.add_coord(v, b, h, w, self.B, self.C, self.psize)\n",
        "\n",
        "            _, out = self.caps_em_routing(v, a_in, self.C, self.eps)\n",
        "\n",
        "        return out"
      ],
      "metadata": {
        "id": "JYLPm23TiV38"
      },
      "execution_count": null,
      "outputs": []
    },
    {
      "cell_type": "code",
      "source": [
        "class CapsNet(nn.Module):\n",
        "\n",
        "    def __init__(self, A=32, B=32, C=32, D=32, E=10, K=3, P=4, iters=3):\n",
        "        super(CapsNet, self).__init__()\n",
        "        self.conv1 = nn.Conv2d(in_channels=pca_components, out_channels=A,\n",
        "                               kernel_size=5, stride=2, padding=2)\n",
        "        self.bn1 = nn.BatchNorm2d(num_features=A, eps=0.001,\n",
        "                                 momentum=0.1, affine=True)\n",
        "        self.relu1 = nn.ReLU(inplace=False)\n",
        "        self.primary_caps = PrimaryCaps(A, B, 1, P, stride=1)\n",
        "        self.conv_caps1 = ConvCaps(B, C, K, P, stride=2, iters=iters)\n",
        "        self.conv_caps2 = ConvCaps(C, D, K, P, stride=1, iters=iters)\n",
        "        self.class_caps = ConvCaps(D, E, 1, P, stride=1, iters=iters,\n",
        "                                        coor_add=True, w_shared=True)\n",
        "\n",
        "    def forward(self, x):\n",
        "        x = self.conv1(x)\n",
        "        x = self.bn1(x)\n",
        "        x = self.relu1(x)\n",
        "        x = self.primary_caps(x)\n",
        "        x = self.conv_caps1(x)\n",
        "        x = self.conv_caps2(x)\n",
        "        x = self.class_caps(x)\n",
        "        return x"
      ],
      "metadata": {
        "id": "cve41kMEiaPL"
      },
      "execution_count": null,
      "outputs": []
    },
    {
      "cell_type": "code",
      "source": [
        "class SpreadLoss(_Loss):\n",
        "\n",
        "    def __init__(self, m_min=0.2, m_max=0.9, num_class=17):\n",
        "        super(SpreadLoss, self).__init__()\n",
        "        self.m_min = m_min\n",
        "        self.m_max = m_max\n",
        "        self.num_class = num_class\n",
        "\n",
        "    def forward(self, x, target, r):\n",
        "        b, E = x.shape\n",
        "        assert E == self.num_class\n",
        "        margin = self.m_min + (self.m_max - self.m_min)*r\n",
        "\n",
        "        at = torch.cuda.FloatTensor(b).fill_(0)\n",
        "        for i, a in enumerate(target):\n",
        "            lb = int(a.item())\n",
        "            at[i] = x[i][lb]\n",
        "        at = at.view(b, 1).repeat(1, E)\n",
        "\n",
        "        zeros = x.new_zeros(x.shape)\n",
        "        loss = torch.max(margin - (at - x), zeros)\n",
        "        loss = loss**2\n",
        "        loss = loss.sum() / b - margin**2\n",
        "\n",
        "        return loss"
      ],
      "metadata": {
        "id": "KlQhDstOicl4"
      },
      "execution_count": null,
      "outputs": []
    },
    {
      "cell_type": "code",
      "source": [
        "train_loader = dataloaders['train']\n",
        "valid_loader = dataloaders['valid']\n",
        "test_loader = dataloaders['test']"
      ],
      "metadata": {
        "id": "PLJuZ4ugie7T"
      },
      "execution_count": null,
      "outputs": []
    },
    {
      "cell_type": "code",
      "source": [
        "def accuracy(output, target):\n",
        "    y_pred = output.argmax(dim=1).float()\n",
        "    res = accuracy_score(target.to('cpu'), y_pred.to('cpu')) * 100\n",
        "    return res"
      ],
      "metadata": {
        "id": "shx3PW_Jigbg"
      },
      "execution_count": null,
      "outputs": []
    },
    {
      "cell_type": "code",
      "source": [
        "def exp_lr_decay(optimizer, global_step, init_lr = 3e-3, decay_steps = 20000,\n",
        "                                        decay_rate = 0.96, lr_clip = 3e-3 ,staircase=False):\n",
        "        \n",
        "    if staircase:\n",
        "        lr = (init_lr * decay_rate**(global_step // decay_steps)) \n",
        "    else:\n",
        "        lr = (init_lr * decay_rate**(global_step / decay_steps)) \n",
        "    \n",
        "    for param_group in optimizer.param_groups:\n",
        "        param_group['lr'] = lr"
      ],
      "metadata": {
        "id": "B8puS555ih-Y"
      },
      "execution_count": null,
      "outputs": []
    },
    {
      "cell_type": "code",
      "source": [
        "\n",
        "class AverageMeter(object):\n",
        "\n",
        "    def __init__(self):\n",
        "        self.reset()\n",
        "\n",
        "    def reset(self):\n",
        "        self.val = 0\n",
        "        self.avg = 0\n",
        "        self.sum = 0\n",
        "        self.count = 0\n",
        "\n",
        "    def update(self, val, n=1):\n",
        "        self.val = val\n",
        "        self.sum += val * n\n",
        "        self.count += n\n",
        "        self.avg = self.sum / self.count"
      ],
      "metadata": {
        "id": "LQnlGdSWijtA"
      },
      "execution_count": null,
      "outputs": []
    },
    {
      "cell_type": "code",
      "source": [
        "def train(train_loader, model, criterion, optimizer, epoch, device):\n",
        "    batch_time = AverageMeter()\n",
        "    data_time = AverageMeter()\n",
        "\n",
        "    model.train()\n",
        "    train_len = len(train_loader)\n",
        "    epoch_acc = 0\n",
        "    end = time.time()\n",
        "\n",
        "    for batch_idx, (data, target) in enumerate(train_loader):\n",
        "        data_time.update(time.time() - end)\n",
        "\n",
        "        data, target = data.to(device), target.to(device)\n",
        "        optimizer.zero_grad()\n",
        "        output = model(data)\n",
        "        r = (1.*batch_idx + (epoch-1)*train_len) / (epochs*train_len)\n",
        "        loss = criterion(output, target, r)\n",
        "        acc = accuracy(output, target)\n",
        "        \n",
        "        global_step = (batch_idx+1) + (epoch - 1) * len(train_loader) \n",
        "        exp_lr_decay(optimizer=optimizer, global_step=global_step)\n",
        "        \n",
        "        loss.backward()\n",
        "        optimizer.step()\n",
        "\n",
        "        batch_time.update(time.time() - end)\n",
        "        end = time.time()\n",
        "\n",
        "        epoch_acc += acc\n",
        "        if batch_idx % log_interval == 0:\n",
        "            print('Train Epoch: {}\\t[{}/{} ({:.0f}%)]\\t'\n",
        "                  'Loss: {:.6f}\\tAccuracy: {:.6f}\\t'\n",
        "                  'Time {batch_time.val:.3f} ({batch_time.avg:.3f})\\t'\n",
        "                  'Data {data_time.val:.3f} ({data_time.avg:.3f})'.format(\n",
        "                  epoch, batch_idx * len(data), len(train_loader.dataset),\n",
        "                  100. * batch_idx / len(train_loader),\n",
        "                  loss.item(), acc,\n",
        "                  batch_time=batch_time, data_time=data_time))\n",
        "            \n",
        "    return epoch_acc"
      ],
      "metadata": {
        "id": "mgXGcQHfilqs"
      },
      "execution_count": null,
      "outputs": []
    },
    {
      "cell_type": "code",
      "source": [
        "def test(test_loader, model, criterion, device, test=False):\n",
        "    model.eval()\n",
        "    test_loss = 0\n",
        "    acc = 0\n",
        "    test_len = len(test_loader)\n",
        "    with torch.no_grad():\n",
        "        for data, target in test_loader:\n",
        "            data, target = data.to(device), target.to(device)\n",
        "            output = model(data)\n",
        "            test_loss += criterion(output, target, r=1).item()\n",
        "            acc += accuracy(output, target)\n",
        "\n",
        "    test_loss /= test_len\n",
        "    acc /= test_len\n",
        "    if test:\n",
        "        print('\\nTest set: Average loss: {:.6f}, Accuracy: {:.6f} \\n'.format(\n",
        "        test_loss, acc))\n",
        "    else:\n",
        "        print('\\nVal set: Average loss: {:.6f}, Accuracy: {:.6f} \\n'.format(\n",
        "            test_loss, acc))\n",
        "\n",
        "    return test_loss, acc"
      ],
      "metadata": {
        "id": "lzcB8USTioeM"
      },
      "execution_count": null,
      "outputs": []
    },
    {
      "cell_type": "code",
      "source": [
        "model = CapsNet(A=A, B=B, C=C, D=D, E=num_class,\n",
        "                    iters=em_iters).to(device)"
      ],
      "metadata": {
        "id": "u4smLp0KiqYN"
      },
      "execution_count": null,
      "outputs": []
    },
    {
      "cell_type": "code",
      "source": [
        "def model_summary(model):\n",
        "    total_param = 0\n",
        "    for name, param in model.named_parameters():\n",
        "        if param.requires_grad:\n",
        "            num_param = np.prod(param.size())\n",
        "            if param.dim() > 1:\n",
        "                print(name, ':', 'x'.join(str(x) for x in list(param.size())), '=', num_param)\n",
        "            else:\n",
        "                print(name, ':', num_param)\n",
        "            total_param += num_param\n",
        "    print(\"\\n Total Trainable Parameters: \", total_param)\n",
        "\n",
        "model_summary(model)"
      ],
      "metadata": {
        "colab": {
          "base_uri": "https://localhost:8080/"
        },
        "id": "FiqBLvQMir8N",
        "outputId": "ef9df307-2d1f-4f7b-cd63-96daee8fedc4"
      },
      "execution_count": null,
      "outputs": [
        {
          "output_type": "stream",
          "name": "stdout",
          "text": [
            "conv1.weight : 64x30x5x5 = 48000\n",
            "conv1.bias : 64\n",
            "bn1.weight : 64\n",
            "bn1.bias : 64\n",
            "primary_caps.pose.weight : 512x64x1x1 = 32768\n",
            "primary_caps.pose.bias : 512\n",
            "primary_caps.a.weight : 32x64x1x1 = 2048\n",
            "primary_caps.a.bias : 32\n",
            "conv_caps1.beta_u : 16\n",
            "conv_caps1.beta_a : 16\n",
            "conv_caps1.weights : 1x288x16x4x4 = 73728\n",
            "conv_caps2.beta_u : 16\n",
            "conv_caps2.beta_a : 16\n",
            "conv_caps2.weights : 1x144x16x4x4 = 36864\n",
            "class_caps.beta_u : 16\n",
            "class_caps.beta_a : 16\n",
            "class_caps.weights : 1x16x16x4x4 = 4096\n",
            "\n",
            " Total Trainable Parameters:  198336\n"
          ]
        }
      ]
    },
    {
      "cell_type": "code",
      "source": [
        "criterion = SpreadLoss(num_class=num_class, m_min=0.2, m_max=0.5)\n",
        "optimizer = optim.Adam(model.parameters(), lr = lr, weight_decay=wd)"
      ],
      "metadata": {
        "id": "iM0MJc_Yiuld"
      },
      "execution_count": null,
      "outputs": []
    },
    {
      "cell_type": "code",
      "source": [
        "# Trainging Loop\n",
        "\n",
        "training_start_time = time.time()\n",
        "\n",
        "best_acc = test(valid_loader, model, criterion, device)[1]\n",
        "\n",
        "for epoch in range(1, epochs + 1):\n",
        "    acc = train(train_loader, model, criterion, optimizer, epoch, device)\n",
        "    acc /= len(train_loader)\n",
        "\n",
        "    current_acc = test(valid_loader, model, criterion, device)[1]\n",
        "    \n",
        "    if current_acc > best_acc:\n",
        "        best_acc = current_acc\n",
        "        print(\"-------------------- HIGHEST ACCURACY ---------------------------\")\n",
        "        torch.save(model.state_dict(), './model.pth')\n",
        "\n",
        "training_stop_time = time.time()\n",
        "\n",
        "best_acc = max(best_acc, test(valid_loader, model, criterion, device)[0])\n",
        "print('\\n\\nBest validation accuracy: {:.6f}'.format(best_acc))\n",
        "\n",
        "print('\\n Total time taken in seconds: ', training_stop_time - training_start_time)"
      ],
      "metadata": {
        "colab": {
          "base_uri": "https://localhost:8080/"
        },
        "id": "J75ABaGKiwKE",
        "outputId": "48a0b324-0e97-4834-81f2-56ae0ac91892"
      },
      "execution_count": null,
      "outputs": [
        {
          "output_type": "stream",
          "name": "stdout",
          "text": [
            "\n",
            "Val set: Average loss: 4.828254, Accuracy: 0.919118 \n",
            "\n",
            "Train Epoch: 1\t[0/5124 (0%)]\tLoss: 1.088566\tAccuracy: 3.125000\tTime 1.962 (1.962)\tData 0.003 (0.003)\n",
            "Train Epoch: 1\t[640/5124 (12%)]\tLoss: 0.363457\tAccuracy: 29.687500\tTime 1.153 (1.130)\tData 0.002 (0.003)\n",
            "Train Epoch: 1\t[1280/5124 (25%)]\tLoss: 0.162711\tAccuracy: 73.437500\tTime 1.143 (1.135)\tData 0.002 (0.044)\n",
            "Train Epoch: 1\t[1920/5124 (37%)]\tLoss: 0.065834\tAccuracy: 78.125000\tTime 1.151 (1.140)\tData 0.002 (0.059)\n",
            "Train Epoch: 1\t[2560/5124 (49%)]\tLoss: 0.066751\tAccuracy: 87.500000\tTime 1.163 (1.145)\tData 0.002 (0.067)\n",
            "Train Epoch: 1\t[3200/5124 (62%)]\tLoss: 0.067009\tAccuracy: 79.687500\tTime 1.172 (1.150)\tData 0.002 (0.071)\n",
            "Train Epoch: 1\t[3840/5124 (74%)]\tLoss: 0.024145\tAccuracy: 93.750000\tTime 1.185 (1.155)\tData 0.002 (0.075)\n",
            "Train Epoch: 1\t[4480/5124 (86%)]\tLoss: 0.021771\tAccuracy: 93.750000\tTime 1.169 (1.158)\tData 0.003 (0.077)\n",
            "Train Epoch: 1\t[320/5124 (99%)]\tLoss: 0.049470\tAccuracy: 100.000000\tTime 0.928 (1.157)\tData 0.001 (0.079)\n",
            "\n",
            "Val set: Average loss: 0.825298, Accuracy: 95.036765 \n",
            "\n",
            "-------------------- HIGHEST ACCURACY ---------------------------\n",
            "Train Epoch: 2\t[0/5124 (0%)]\tLoss: 0.014130\tAccuracy: 96.875000\tTime 0.271 (0.271)\tData 0.002 (0.002)\n",
            "Train Epoch: 2\t[640/5124 (12%)]\tLoss: 0.016572\tAccuracy: 95.312500\tTime 1.150 (1.082)\tData 0.003 (0.084)\n",
            "Train Epoch: 2\t[1280/5124 (25%)]\tLoss: 0.015296\tAccuracy: 92.187500\tTime 1.164 (1.121)\tData 0.003 (0.087)\n",
            "Train Epoch: 2\t[1920/5124 (37%)]\tLoss: 0.009483\tAccuracy: 98.437500\tTime 1.171 (1.134)\tData 0.002 (0.089)\n",
            "Train Epoch: 2\t[2560/5124 (49%)]\tLoss: 0.010752\tAccuracy: 93.750000\tTime 1.168 (1.142)\tData 0.002 (0.089)\n",
            "Train Epoch: 2\t[3200/5124 (62%)]\tLoss: 0.006546\tAccuracy: 98.437500\tTime 1.165 (1.147)\tData 0.002 (0.090)\n",
            "Train Epoch: 2\t[3840/5124 (74%)]\tLoss: 0.009496\tAccuracy: 100.000000\tTime 1.169 (1.151)\tData 0.002 (0.090)\n",
            "Train Epoch: 2\t[4480/5124 (86%)]\tLoss: 0.010008\tAccuracy: 98.437500\tTime 1.167 (1.153)\tData 0.002 (0.090)\n",
            "Train Epoch: 2\t[320/5124 (99%)]\tLoss: 0.006596\tAccuracy: 100.000000\tTime 0.925 (1.152)\tData 0.001 (0.091)\n",
            "\n",
            "Val set: Average loss: 0.628577, Accuracy: 96.783088 \n",
            "\n",
            "-------------------- HIGHEST ACCURACY ---------------------------\n",
            "Train Epoch: 3\t[0/5124 (0%)]\tLoss: 0.006663\tAccuracy: 98.437500\tTime 0.270 (0.270)\tData 0.002 (0.002)\n",
            "Train Epoch: 3\t[640/5124 (12%)]\tLoss: 0.007621\tAccuracy: 98.437500\tTime 1.165 (1.084)\tData 0.002 (0.084)\n",
            "Train Epoch: 3\t[1280/5124 (25%)]\tLoss: 0.008465\tAccuracy: 98.437500\tTime 1.165 (1.122)\tData 0.002 (0.087)\n",
            "Train Epoch: 3\t[1920/5124 (37%)]\tLoss: 0.002966\tAccuracy: 100.000000\tTime 1.164 (1.136)\tData 0.002 (0.089)\n",
            "Train Epoch: 3\t[2560/5124 (49%)]\tLoss: 0.005687\tAccuracy: 98.437500\tTime 1.161 (1.143)\tData 0.003 (0.089)\n",
            "Train Epoch: 3\t[3200/5124 (62%)]\tLoss: 0.011155\tAccuracy: 93.750000\tTime 1.164 (1.148)\tData 0.003 (0.090)\n",
            "Train Epoch: 3\t[3840/5124 (74%)]\tLoss: 0.005539\tAccuracy: 98.437500\tTime 1.159 (1.151)\tData 0.003 (0.090)\n",
            "Train Epoch: 3\t[4480/5124 (86%)]\tLoss: 0.003622\tAccuracy: 100.000000\tTime 1.166 (1.153)\tData 0.002 (0.090)\n",
            "Train Epoch: 3\t[320/5124 (99%)]\tLoss: 0.006536\tAccuracy: 100.000000\tTime 0.923 (1.152)\tData 0.001 (0.091)\n",
            "\n",
            "Val set: Average loss: 0.581939, Accuracy: 96.966912 \n",
            "\n",
            "-------------------- HIGHEST ACCURACY ---------------------------\n",
            "Train Epoch: 4\t[0/5124 (0%)]\tLoss: 0.002794\tAccuracy: 98.437500\tTime 0.282 (0.282)\tData 0.003 (0.003)\n",
            "Train Epoch: 4\t[640/5124 (12%)]\tLoss: 0.003938\tAccuracy: 98.437500\tTime 1.165 (1.086)\tData 0.002 (0.083)\n",
            "Train Epoch: 4\t[1280/5124 (25%)]\tLoss: 0.003692\tAccuracy: 100.000000\tTime 1.168 (1.124)\tData 0.002 (0.087)\n",
            "Train Epoch: 4\t[1920/5124 (37%)]\tLoss: 0.003499\tAccuracy: 98.437500\tTime 1.166 (1.138)\tData 0.002 (0.089)\n",
            "Train Epoch: 4\t[2560/5124 (49%)]\tLoss: 0.005321\tAccuracy: 100.000000\tTime 1.165 (1.145)\tData 0.002 (0.089)\n",
            "Train Epoch: 4\t[3200/5124 (62%)]\tLoss: 0.004802\tAccuracy: 100.000000\tTime 1.164 (1.149)\tData 0.002 (0.090)\n",
            "Train Epoch: 4\t[3840/5124 (74%)]\tLoss: 0.003018\tAccuracy: 100.000000\tTime 1.161 (1.152)\tData 0.003 (0.090)\n",
            "Train Epoch: 4\t[4480/5124 (86%)]\tLoss: 0.005550\tAccuracy: 98.437500\tTime 1.166 (1.154)\tData 0.003 (0.090)\n",
            "Train Epoch: 4\t[320/5124 (99%)]\tLoss: 0.006223\tAccuracy: 100.000000\tTime 0.929 (1.152)\tData 0.001 (0.090)\n",
            "\n",
            "Val set: Average loss: 0.558333, Accuracy: 98.161765 \n",
            "\n",
            "-------------------- HIGHEST ACCURACY ---------------------------\n",
            "Train Epoch: 5\t[0/5124 (0%)]\tLoss: 0.002829\tAccuracy: 100.000000\tTime 0.273 (0.273)\tData 0.003 (0.003)\n",
            "Train Epoch: 5\t[640/5124 (12%)]\tLoss: 0.003270\tAccuracy: 100.000000\tTime 1.166 (1.084)\tData 0.004 (0.084)\n",
            "Train Epoch: 5\t[1280/5124 (25%)]\tLoss: 0.003087\tAccuracy: 100.000000\tTime 1.166 (1.122)\tData 0.003 (0.087)\n",
            "Train Epoch: 5\t[1920/5124 (37%)]\tLoss: 0.004857\tAccuracy: 100.000000\tTime 1.160 (1.135)\tData 0.002 (0.088)\n",
            "Train Epoch: 5\t[2560/5124 (49%)]\tLoss: 0.003556\tAccuracy: 100.000000\tTime 1.164 (1.142)\tData 0.002 (0.089)\n",
            "Train Epoch: 5\t[3200/5124 (62%)]\tLoss: 0.001247\tAccuracy: 100.000000\tTime 1.167 (1.147)\tData 0.002 (0.090)\n",
            "Train Epoch: 5\t[3840/5124 (74%)]\tLoss: 0.003875\tAccuracy: 100.000000\tTime 1.166 (1.150)\tData 0.002 (0.090)\n",
            "Train Epoch: 5\t[4480/5124 (86%)]\tLoss: 0.004150\tAccuracy: 100.000000\tTime 1.164 (1.153)\tData 0.002 (0.090)\n",
            "Train Epoch: 5\t[320/5124 (99%)]\tLoss: 0.002584\tAccuracy: 100.000000\tTime 0.922 (1.152)\tData 0.001 (0.090)\n",
            "\n",
            "Val set: Average loss: 0.520489, Accuracy: 98.437500 \n",
            "\n",
            "-------------------- HIGHEST ACCURACY ---------------------------\n",
            "Train Epoch: 6\t[0/5124 (0%)]\tLoss: 0.002549\tAccuracy: 100.000000\tTime 0.272 (0.272)\tData 0.003 (0.003)\n",
            "Train Epoch: 6\t[640/5124 (12%)]\tLoss: 0.002705\tAccuracy: 100.000000\tTime 1.163 (1.083)\tData 0.002 (0.084)\n",
            "Train Epoch: 6\t[1280/5124 (25%)]\tLoss: 0.003180\tAccuracy: 100.000000\tTime 1.161 (1.121)\tData 0.002 (0.087)\n",
            "Train Epoch: 6\t[1920/5124 (37%)]\tLoss: 0.002585\tAccuracy: 100.000000\tTime 1.165 (1.135)\tData 0.003 (0.089)\n",
            "Train Epoch: 6\t[2560/5124 (49%)]\tLoss: 0.001944\tAccuracy: 100.000000\tTime 1.166 (1.142)\tData 0.003 (0.089)\n",
            "Train Epoch: 6\t[3200/5124 (62%)]\tLoss: 0.002115\tAccuracy: 100.000000\tTime 1.164 (1.146)\tData 0.002 (0.090)\n",
            "Train Epoch: 6\t[3840/5124 (74%)]\tLoss: 0.002617\tAccuracy: 100.000000\tTime 1.164 (1.149)\tData 0.002 (0.090)\n",
            "Train Epoch: 6\t[4480/5124 (86%)]\tLoss: 0.003466\tAccuracy: 100.000000\tTime 1.163 (1.152)\tData 0.002 (0.090)\n",
            "Train Epoch: 6\t[320/5124 (99%)]\tLoss: 0.003678\tAccuracy: 100.000000\tTime 0.923 (1.150)\tData 0.001 (0.090)\n",
            "\n",
            "Val set: Average loss: 0.491398, Accuracy: 98.621324 \n",
            "\n",
            "-------------------- HIGHEST ACCURACY ---------------------------\n",
            "Train Epoch: 7\t[0/5124 (0%)]\tLoss: 0.001407\tAccuracy: 100.000000\tTime 0.272 (0.272)\tData 0.003 (0.003)\n",
            "Train Epoch: 7\t[640/5124 (12%)]\tLoss: 0.001992\tAccuracy: 100.000000\tTime 1.162 (1.084)\tData 0.002 (0.083)\n",
            "Train Epoch: 7\t[1280/5124 (25%)]\tLoss: 0.002094\tAccuracy: 100.000000\tTime 1.160 (1.122)\tData 0.002 (0.087)\n",
            "Train Epoch: 7\t[1920/5124 (37%)]\tLoss: 0.001758\tAccuracy: 100.000000\tTime 1.168 (1.136)\tData 0.002 (0.089)\n",
            "Train Epoch: 7\t[2560/5124 (49%)]\tLoss: 0.002627\tAccuracy: 100.000000\tTime 1.164 (1.143)\tData 0.002 (0.089)\n",
            "Train Epoch: 7\t[3200/5124 (62%)]\tLoss: 0.001209\tAccuracy: 100.000000\tTime 1.161 (1.148)\tData 0.003 (0.090)\n",
            "Train Epoch: 7\t[3840/5124 (74%)]\tLoss: 0.002369\tAccuracy: 100.000000\tTime 1.172 (1.151)\tData 0.003 (0.090)\n",
            "Train Epoch: 7\t[4480/5124 (86%)]\tLoss: 0.001834\tAccuracy: 100.000000\tTime 1.172 (1.153)\tData 0.002 (0.090)\n",
            "Train Epoch: 7\t[320/5124 (99%)]\tLoss: 0.029255\tAccuracy: 100.000000\tTime 0.923 (1.151)\tData 0.001 (0.090)\n",
            "\n",
            "Val set: Average loss: 0.476528, Accuracy: 98.713235 \n",
            "\n",
            "-------------------- HIGHEST ACCURACY ---------------------------\n",
            "Train Epoch: 8\t[0/5124 (0%)]\tLoss: 0.001561\tAccuracy: 100.000000\tTime 0.270 (0.270)\tData 0.003 (0.003)\n",
            "Train Epoch: 8\t[640/5124 (12%)]\tLoss: 0.010435\tAccuracy: 98.437500\tTime 1.170 (1.084)\tData 0.003 (0.084)\n",
            "Train Epoch: 8\t[1280/5124 (25%)]\tLoss: 0.011437\tAccuracy: 96.875000\tTime 1.173 (1.123)\tData 0.003 (0.087)\n",
            "Train Epoch: 8\t[1920/5124 (37%)]\tLoss: 0.006140\tAccuracy: 98.437500\tTime 1.164 (1.136)\tData 0.002 (0.088)\n",
            "Train Epoch: 8\t[2560/5124 (49%)]\tLoss: 0.003562\tAccuracy: 100.000000\tTime 1.163 (1.143)\tData 0.002 (0.089)\n",
            "Train Epoch: 8\t[3200/5124 (62%)]\tLoss: 0.003404\tAccuracy: 100.000000\tTime 1.166 (1.147)\tData 0.002 (0.090)\n",
            "Train Epoch: 8\t[3840/5124 (74%)]\tLoss: 0.004168\tAccuracy: 98.437500\tTime 1.164 (1.150)\tData 0.002 (0.090)\n",
            "Train Epoch: 8\t[4480/5124 (86%)]\tLoss: 0.003971\tAccuracy: 98.437500\tTime 1.161 (1.152)\tData 0.002 (0.090)\n",
            "Train Epoch: 8\t[320/5124 (99%)]\tLoss: 0.001461\tAccuracy: 100.000000\tTime 0.925 (1.151)\tData 0.001 (0.090)\n",
            "\n",
            "Val set: Average loss: 0.387148, Accuracy: 98.069853 \n",
            "\n",
            "Train Epoch: 9\t[0/5124 (0%)]\tLoss: 0.001299\tAccuracy: 100.000000\tTime 0.272 (0.272)\tData 0.003 (0.003)\n",
            "Train Epoch: 9\t[640/5124 (12%)]\tLoss: 0.002546\tAccuracy: 98.437500\tTime 1.164 (1.083)\tData 0.003 (0.084)\n",
            "Train Epoch: 9\t[1280/5124 (25%)]\tLoss: 0.003607\tAccuracy: 100.000000\tTime 1.171 (1.122)\tData 0.003 (0.087)\n",
            "Train Epoch: 9\t[1920/5124 (37%)]\tLoss: 0.005238\tAccuracy: 100.000000\tTime 1.168 (1.136)\tData 0.003 (0.088)\n",
            "Train Epoch: 9\t[2560/5124 (49%)]\tLoss: 0.002592\tAccuracy: 100.000000\tTime 1.180 (1.144)\tData 0.002 (0.089)\n",
            "Train Epoch: 9\t[3200/5124 (62%)]\tLoss: 0.003426\tAccuracy: 100.000000\tTime 1.165 (1.148)\tData 0.002 (0.089)\n",
            "Train Epoch: 9\t[3840/5124 (74%)]\tLoss: 0.001526\tAccuracy: 100.000000\tTime 1.159 (1.151)\tData 0.002 (0.090)\n",
            "Train Epoch: 9\t[4480/5124 (86%)]\tLoss: 0.002828\tAccuracy: 98.437500\tTime 1.161 (1.153)\tData 0.002 (0.090)\n",
            "Train Epoch: 9\t[320/5124 (99%)]\tLoss: 0.043850\tAccuracy: 100.000000\tTime 0.925 (1.151)\tData 0.001 (0.090)\n",
            "\n",
            "Val set: Average loss: 0.372749, Accuracy: 98.345588 \n",
            "\n",
            "Train Epoch: 10\t[0/5124 (0%)]\tLoss: 0.002165\tAccuracy: 100.000000\tTime 0.272 (0.272)\tData 0.003 (0.003)\n",
            "Train Epoch: 10\t[640/5124 (12%)]\tLoss: 0.019234\tAccuracy: 93.750000\tTime 1.163 (1.085)\tData 0.002 (0.083)\n",
            "Train Epoch: 10\t[1280/5124 (25%)]\tLoss: 0.012327\tAccuracy: 98.437500\tTime 1.164 (1.124)\tData 0.002 (0.087)\n",
            "Train Epoch: 10\t[1920/5124 (37%)]\tLoss: 0.009586\tAccuracy: 95.312500\tTime 1.161 (1.138)\tData 0.002 (0.089)\n",
            "Train Epoch: 10\t[2560/5124 (49%)]\tLoss: 0.003066\tAccuracy: 100.000000\tTime 1.154 (1.144)\tData 0.003 (0.089)\n",
            "Train Epoch: 10\t[3200/5124 (62%)]\tLoss: 0.007165\tAccuracy: 98.437500\tTime 1.166 (1.148)\tData 0.003 (0.090)\n",
            "Train Epoch: 10\t[3840/5124 (74%)]\tLoss: 0.004616\tAccuracy: 100.000000\tTime 1.175 (1.151)\tData 0.002 (0.090)\n",
            "Train Epoch: 10\t[4480/5124 (86%)]\tLoss: 0.004088\tAccuracy: 100.000000\tTime 1.167 (1.153)\tData 0.002 (0.090)\n",
            "Train Epoch: 10\t[320/5124 (99%)]\tLoss: 0.006404\tAccuracy: 100.000000\tTime 0.919 (1.152)\tData 0.001 (0.090)\n",
            "\n",
            "Val set: Average loss: 0.294109, Accuracy: 98.713235 \n",
            "\n",
            "Train Epoch: 11\t[0/5124 (0%)]\tLoss: 0.002288\tAccuracy: 98.437500\tTime 0.280 (0.280)\tData 0.003 (0.003)\n",
            "Train Epoch: 11\t[640/5124 (12%)]\tLoss: 0.003205\tAccuracy: 100.000000\tTime 1.161 (1.081)\tData 0.002 (0.083)\n",
            "Train Epoch: 11\t[1280/5124 (25%)]\tLoss: 0.002335\tAccuracy: 100.000000\tTime 1.160 (1.120)\tData 0.002 (0.087)\n",
            "Train Epoch: 11\t[1920/5124 (37%)]\tLoss: 0.002788\tAccuracy: 100.000000\tTime 1.164 (1.134)\tData 0.002 (0.088)\n",
            "Train Epoch: 11\t[2560/5124 (49%)]\tLoss: 0.001863\tAccuracy: 100.000000\tTime 1.165 (1.141)\tData 0.002 (0.089)\n",
            "Train Epoch: 11\t[3200/5124 (62%)]\tLoss: 0.001378\tAccuracy: 100.000000\tTime 1.166 (1.146)\tData 0.002 (0.090)\n",
            "Train Epoch: 11\t[3840/5124 (74%)]\tLoss: 0.003687\tAccuracy: 100.000000\tTime 1.169 (1.149)\tData 0.002 (0.090)\n",
            "Train Epoch: 11\t[4480/5124 (86%)]\tLoss: 0.002786\tAccuracy: 98.437500\tTime 1.163 (1.151)\tData 0.003 (0.090)\n",
            "Train Epoch: 11\t[320/5124 (99%)]\tLoss: 0.001769\tAccuracy: 100.000000\tTime 0.919 (1.150)\tData 0.001 (0.090)\n",
            "\n",
            "Val set: Average loss: 0.255173, Accuracy: 98.713235 \n",
            "\n",
            "Train Epoch: 12\t[0/5124 (0%)]\tLoss: 0.002810\tAccuracy: 100.000000\tTime 0.275 (0.275)\tData 0.002 (0.002)\n",
            "Train Epoch: 12\t[640/5124 (12%)]\tLoss: 0.001214\tAccuracy: 100.000000\tTime 1.166 (1.082)\tData 0.003 (0.083)\n",
            "Train Epoch: 12\t[1280/5124 (25%)]\tLoss: 0.002132\tAccuracy: 100.000000\tTime 1.168 (1.120)\tData 0.002 (0.087)\n",
            "Train Epoch: 12\t[1920/5124 (37%)]\tLoss: 0.000637\tAccuracy: 100.000000\tTime 1.159 (1.134)\tData 0.002 (0.088)\n",
            "Train Epoch: 12\t[2560/5124 (49%)]\tLoss: 0.002920\tAccuracy: 98.437500\tTime 1.162 (1.141)\tData 0.002 (0.089)\n",
            "Train Epoch: 12\t[3200/5124 (62%)]\tLoss: 0.001417\tAccuracy: 100.000000\tTime 1.160 (1.145)\tData 0.002 (0.089)\n",
            "Train Epoch: 12\t[3840/5124 (74%)]\tLoss: 0.001890\tAccuracy: 98.437500\tTime 1.159 (1.148)\tData 0.002 (0.090)\n",
            "Train Epoch: 12\t[4480/5124 (86%)]\tLoss: 0.001386\tAccuracy: 100.000000\tTime 1.160 (1.149)\tData 0.002 (0.090)\n",
            "Train Epoch: 12\t[320/5124 (99%)]\tLoss: 0.008382\tAccuracy: 100.000000\tTime 0.917 (1.148)\tData 0.001 (0.090)\n",
            "\n",
            "Val set: Average loss: 0.252226, Accuracy: 99.356618 \n",
            "\n",
            "-------------------- HIGHEST ACCURACY ---------------------------\n",
            "Train Epoch: 13\t[0/5124 (0%)]\tLoss: 0.000469\tAccuracy: 100.000000\tTime 0.270 (0.270)\tData 0.003 (0.003)\n",
            "Train Epoch: 13\t[640/5124 (12%)]\tLoss: 0.002481\tAccuracy: 100.000000\tTime 1.163 (1.085)\tData 0.002 (0.084)\n",
            "Train Epoch: 13\t[1280/5124 (25%)]\tLoss: 0.001310\tAccuracy: 100.000000\tTime 1.164 (1.123)\tData 0.002 (0.087)\n",
            "Train Epoch: 13\t[1920/5124 (37%)]\tLoss: 0.002696\tAccuracy: 98.437500\tTime 1.158 (1.136)\tData 0.003 (0.089)\n",
            "Train Epoch: 13\t[2560/5124 (49%)]\tLoss: 0.002058\tAccuracy: 100.000000\tTime 1.165 (1.142)\tData 0.003 (0.089)\n",
            "Train Epoch: 13\t[3200/5124 (62%)]\tLoss: 0.000820\tAccuracy: 100.000000\tTime 1.171 (1.146)\tData 0.002 (0.090)\n",
            "Train Epoch: 13\t[3840/5124 (74%)]\tLoss: 0.000831\tAccuracy: 100.000000\tTime 1.159 (1.149)\tData 0.002 (0.090)\n",
            "Train Epoch: 13\t[4480/5124 (86%)]\tLoss: 0.000855\tAccuracy: 100.000000\tTime 1.161 (1.151)\tData 0.002 (0.090)\n",
            "Train Epoch: 13\t[320/5124 (99%)]\tLoss: 0.007884\tAccuracy: 100.000000\tTime 0.919 (1.149)\tData 0.001 (0.090)\n",
            "\n",
            "Val set: Average loss: 0.215230, Accuracy: 99.264706 \n",
            "\n",
            "Train Epoch: 14\t[0/5124 (0%)]\tLoss: 0.000600\tAccuracy: 100.000000\tTime 0.275 (0.275)\tData 0.002 (0.002)\n",
            "Train Epoch: 14\t[640/5124 (12%)]\tLoss: 0.003522\tAccuracy: 100.000000\tTime 1.162 (1.083)\tData 0.002 (0.083)\n",
            "Train Epoch: 14\t[1280/5124 (25%)]\tLoss: 0.003685\tAccuracy: 100.000000\tTime 1.160 (1.121)\tData 0.002 (0.087)\n",
            "Train Epoch: 14\t[1920/5124 (37%)]\tLoss: 0.002026\tAccuracy: 100.000000\tTime 1.162 (1.135)\tData 0.002 (0.089)\n",
            "Train Epoch: 14\t[2560/5124 (49%)]\tLoss: 0.001631\tAccuracy: 100.000000\tTime 1.165 (1.142)\tData 0.002 (0.089)\n",
            "Train Epoch: 14\t[3200/5124 (62%)]\tLoss: 0.000653\tAccuracy: 100.000000\tTime 1.178 (1.147)\tData 0.003 (0.090)\n",
            "Train Epoch: 14\t[3840/5124 (74%)]\tLoss: 0.001649\tAccuracy: 100.000000\tTime 1.168 (1.150)\tData 0.002 (0.090)\n",
            "Train Epoch: 14\t[4480/5124 (86%)]\tLoss: 0.001064\tAccuracy: 100.000000\tTime 1.163 (1.152)\tData 0.002 (0.090)\n",
            "Train Epoch: 14\t[320/5124 (99%)]\tLoss: 0.000433\tAccuracy: 100.000000\tTime 0.923 (1.150)\tData 0.001 (0.090)\n",
            "\n",
            "Val set: Average loss: 0.200026, Accuracy: 99.448529 \n",
            "\n",
            "-------------------- HIGHEST ACCURACY ---------------------------\n",
            "Train Epoch: 15\t[0/5124 (0%)]\tLoss: 0.000445\tAccuracy: 100.000000\tTime 0.282 (0.282)\tData 0.003 (0.003)\n",
            "Train Epoch: 15\t[640/5124 (12%)]\tLoss: 0.000615\tAccuracy: 100.000000\tTime 1.164 (1.083)\tData 0.002 (0.083)\n",
            "Train Epoch: 15\t[1280/5124 (25%)]\tLoss: 0.001056\tAccuracy: 100.000000\tTime 1.165 (1.122)\tData 0.002 (0.087)\n",
            "Train Epoch: 15\t[1920/5124 (37%)]\tLoss: 0.000523\tAccuracy: 100.000000\tTime 1.162 (1.135)\tData 0.002 (0.088)\n",
            "Train Epoch: 15\t[2560/5124 (49%)]\tLoss: 0.000427\tAccuracy: 100.000000\tTime 1.162 (1.142)\tData 0.002 (0.089)\n",
            "Train Epoch: 15\t[3200/5124 (62%)]\tLoss: 0.001559\tAccuracy: 100.000000\tTime 1.160 (1.146)\tData 0.002 (0.090)\n",
            "Train Epoch: 15\t[3840/5124 (74%)]\tLoss: 0.000150\tAccuracy: 100.000000\tTime 1.162 (1.149)\tData 0.002 (0.090)\n",
            "Train Epoch: 15\t[4480/5124 (86%)]\tLoss: 0.000611\tAccuracy: 100.000000\tTime 1.164 (1.151)\tData 0.003 (0.090)\n",
            "Train Epoch: 15\t[320/5124 (99%)]\tLoss: 0.000000\tAccuracy: 100.000000\tTime 0.919 (1.150)\tData 0.001 (0.090)\n",
            "\n",
            "Val set: Average loss: 0.195274, Accuracy: 99.448529 \n",
            "\n",
            "Train Epoch: 16\t[0/5124 (0%)]\tLoss: 0.000543\tAccuracy: 100.000000\tTime 0.273 (0.273)\tData 0.003 (0.003)\n",
            "Train Epoch: 16\t[640/5124 (12%)]\tLoss: 0.000169\tAccuracy: 100.000000\tTime 1.154 (1.082)\tData 0.003 (0.083)\n",
            "Train Epoch: 16\t[1280/5124 (25%)]\tLoss: 0.000811\tAccuracy: 100.000000\tTime 1.166 (1.121)\tData 0.003 (0.087)\n",
            "Train Epoch: 16\t[1920/5124 (37%)]\tLoss: 0.000327\tAccuracy: 100.000000\tTime 1.172 (1.135)\tData 0.002 (0.088)\n",
            "Train Epoch: 16\t[2560/5124 (49%)]\tLoss: 0.000204\tAccuracy: 100.000000\tTime 1.162 (1.141)\tData 0.002 (0.089)\n",
            "Train Epoch: 16\t[3200/5124 (62%)]\tLoss: 0.000542\tAccuracy: 100.000000\tTime 1.163 (1.146)\tData 0.002 (0.089)\n",
            "Train Epoch: 16\t[3840/5124 (74%)]\tLoss: 0.000364\tAccuracy: 100.000000\tTime 1.164 (1.148)\tData 0.002 (0.090)\n",
            "Train Epoch: 16\t[4480/5124 (86%)]\tLoss: 0.000171\tAccuracy: 100.000000\tTime 1.162 (1.150)\tData 0.002 (0.090)\n",
            "Train Epoch: 16\t[320/5124 (99%)]\tLoss: 0.005530\tAccuracy: 100.000000\tTime 0.919 (1.149)\tData 0.001 (0.090)\n",
            "\n",
            "Val set: Average loss: 0.186965, Accuracy: 99.724265 \n",
            "\n",
            "-------------------- HIGHEST ACCURACY ---------------------------\n",
            "Train Epoch: 17\t[0/5124 (0%)]\tLoss: 0.001200\tAccuracy: 100.000000\tTime 0.273 (0.273)\tData 0.003 (0.003)\n",
            "Train Epoch: 17\t[640/5124 (12%)]\tLoss: 0.000427\tAccuracy: 100.000000\tTime 1.163 (1.083)\tData 0.002 (0.083)\n",
            "Train Epoch: 17\t[1280/5124 (25%)]\tLoss: 0.000683\tAccuracy: 100.000000\tTime 1.162 (1.122)\tData 0.002 (0.087)\n",
            "Train Epoch: 17\t[1920/5124 (37%)]\tLoss: 0.003748\tAccuracy: 98.437500\tTime 1.156 (1.136)\tData 0.003 (0.089)\n",
            "Train Epoch: 17\t[2560/5124 (49%)]\tLoss: 0.001927\tAccuracy: 100.000000\tTime 1.167 (1.143)\tData 0.003 (0.089)\n",
            "Train Epoch: 17\t[3200/5124 (62%)]\tLoss: 0.002830\tAccuracy: 100.000000\tTime 1.174 (1.147)\tData 0.002 (0.089)\n",
            "Train Epoch: 17\t[3840/5124 (74%)]\tLoss: 0.000504\tAccuracy: 100.000000\tTime 1.161 (1.150)\tData 0.002 (0.090)\n",
            "Train Epoch: 17\t[4480/5124 (86%)]\tLoss: 0.002069\tAccuracy: 100.000000\tTime 1.164 (1.152)\tData 0.002 (0.090)\n",
            "Train Epoch: 17\t[320/5124 (99%)]\tLoss: 0.006308\tAccuracy: 100.000000\tTime 0.919 (1.150)\tData 0.001 (0.090)\n",
            "\n",
            "Val set: Average loss: 0.181242, Accuracy: 99.724265 \n",
            "\n",
            "Train Epoch: 18\t[0/5124 (0%)]\tLoss: 0.000723\tAccuracy: 100.000000\tTime 0.279 (0.279)\tData 0.003 (0.003)\n",
            "Train Epoch: 18\t[640/5124 (12%)]\tLoss: 0.002051\tAccuracy: 100.000000\tTime 1.162 (1.084)\tData 0.002 (0.083)\n",
            "Train Epoch: 18\t[1280/5124 (25%)]\tLoss: 0.002380\tAccuracy: 100.000000\tTime 1.165 (1.123)\tData 0.002 (0.087)\n",
            "Train Epoch: 18\t[1920/5124 (37%)]\tLoss: 0.001116\tAccuracy: 100.000000\tTime 1.164 (1.136)\tData 0.002 (0.089)\n",
            "Train Epoch: 18\t[2560/5124 (49%)]\tLoss: 0.002247\tAccuracy: 100.000000\tTime 1.163 (1.143)\tData 0.002 (0.089)\n",
            "Train Epoch: 18\t[3200/5124 (62%)]\tLoss: 0.001432\tAccuracy: 100.000000\tTime 1.155 (1.147)\tData 0.003 (0.090)\n",
            "Train Epoch: 18\t[3840/5124 (74%)]\tLoss: 0.002507\tAccuracy: 100.000000\tTime 1.164 (1.150)\tData 0.003 (0.090)\n",
            "Train Epoch: 18\t[4480/5124 (86%)]\tLoss: 0.003148\tAccuracy: 100.000000\tTime 1.170 (1.151)\tData 0.002 (0.090)\n",
            "Train Epoch: 18\t[320/5124 (99%)]\tLoss: 0.004415\tAccuracy: 100.000000\tTime 0.917 (1.150)\tData 0.001 (0.090)\n",
            "\n",
            "Val set: Average loss: 0.159270, Accuracy: 99.448529 \n",
            "\n",
            "Train Epoch: 19\t[0/5124 (0%)]\tLoss: 0.000892\tAccuracy: 100.000000\tTime 0.274 (0.274)\tData 0.003 (0.003)\n",
            "Train Epoch: 19\t[640/5124 (12%)]\tLoss: 0.000500\tAccuracy: 100.000000\tTime 1.165 (1.082)\tData 0.003 (0.083)\n",
            "Train Epoch: 19\t[1280/5124 (25%)]\tLoss: 0.002054\tAccuracy: 100.000000\tTime 1.174 (1.120)\tData 0.002 (0.087)\n",
            "Train Epoch: 19\t[1920/5124 (37%)]\tLoss: 0.001573\tAccuracy: 100.000000\tTime 1.164 (1.134)\tData 0.002 (0.088)\n",
            "Train Epoch: 19\t[2560/5124 (49%)]\tLoss: 0.001410\tAccuracy: 100.000000\tTime 1.169 (1.141)\tData 0.002 (0.089)\n",
            "Train Epoch: 19\t[3200/5124 (62%)]\tLoss: 0.002308\tAccuracy: 100.000000\tTime 1.162 (1.145)\tData 0.002 (0.089)\n",
            "Train Epoch: 19\t[3840/5124 (74%)]\tLoss: 0.001512\tAccuracy: 100.000000\tTime 1.161 (1.148)\tData 0.002 (0.090)\n",
            "Train Epoch: 19\t[4480/5124 (86%)]\tLoss: 0.000405\tAccuracy: 100.000000\tTime 1.166 (1.150)\tData 0.002 (0.090)\n",
            "Train Epoch: 19\t[320/5124 (99%)]\tLoss: 0.026914\tAccuracy: 100.000000\tTime 0.921 (1.149)\tData 0.001 (0.090)\n",
            "\n",
            "Val set: Average loss: 0.165680, Accuracy: 99.264706 \n",
            "\n",
            "Train Epoch: 20\t[0/5124 (0%)]\tLoss: 0.000491\tAccuracy: 100.000000\tTime 0.288 (0.288)\tData 0.003 (0.003)\n",
            "Train Epoch: 20\t[640/5124 (12%)]\tLoss: 0.041397\tAccuracy: 96.875000\tTime 1.166 (1.086)\tData 0.002 (0.083)\n",
            "Train Epoch: 20\t[1280/5124 (25%)]\tLoss: 0.018576\tAccuracy: 98.437500\tTime 1.158 (1.125)\tData 0.003 (0.087)\n",
            "Train Epoch: 20\t[1920/5124 (37%)]\tLoss: 0.042768\tAccuracy: 92.187500\tTime 1.165 (1.138)\tData 0.003 (0.088)\n",
            "Train Epoch: 20\t[2560/5124 (49%)]\tLoss: 0.010849\tAccuracy: 100.000000\tTime 1.171 (1.144)\tData 0.002 (0.089)\n",
            "Train Epoch: 20\t[3200/5124 (62%)]\tLoss: 0.020184\tAccuracy: 95.312500\tTime 1.162 (1.148)\tData 0.002 (0.090)\n",
            "Train Epoch: 20\t[3840/5124 (74%)]\tLoss: 0.012998\tAccuracy: 100.000000\tTime 1.160 (1.151)\tData 0.002 (0.090)\n",
            "Train Epoch: 20\t[4480/5124 (86%)]\tLoss: 0.008494\tAccuracy: 100.000000\tTime 1.162 (1.153)\tData 0.003 (0.090)\n",
            "Train Epoch: 20\t[320/5124 (99%)]\tLoss: 0.000000\tAccuracy: 100.000000\tTime 0.920 (1.151)\tData 0.001 (0.090)\n",
            "\n",
            "Val set: Average loss: 0.148636, Accuracy: 98.345588 \n",
            "\n",
            "Train Epoch: 21\t[0/5124 (0%)]\tLoss: 0.011434\tAccuracy: 96.875000\tTime 0.273 (0.273)\tData 0.003 (0.003)\n",
            "Train Epoch: 21\t[640/5124 (12%)]\tLoss: 0.005768\tAccuracy: 98.437500\tTime 1.163 (1.082)\tData 0.002 (0.084)\n",
            "Train Epoch: 21\t[1280/5124 (25%)]\tLoss: 0.001084\tAccuracy: 100.000000\tTime 1.161 (1.121)\tData 0.002 (0.087)\n",
            "Train Epoch: 21\t[1920/5124 (37%)]\tLoss: 0.005974\tAccuracy: 100.000000\tTime 1.163 (1.135)\tData 0.002 (0.089)\n",
            "Train Epoch: 21\t[2560/5124 (49%)]\tLoss: 0.002898\tAccuracy: 100.000000\tTime 1.158 (1.142)\tData 0.003 (0.089)\n",
            "Train Epoch: 21\t[3200/5124 (62%)]\tLoss: 0.001494\tAccuracy: 100.000000\tTime 1.164 (1.146)\tData 0.003 (0.090)\n",
            "Train Epoch: 21\t[3840/5124 (74%)]\tLoss: 0.006078\tAccuracy: 98.437500\tTime 1.169 (1.149)\tData 0.002 (0.090)\n",
            "Train Epoch: 21\t[4480/5124 (86%)]\tLoss: 0.000818\tAccuracy: 100.000000\tTime 1.163 (1.151)\tData 0.002 (0.090)\n",
            "Train Epoch: 21\t[320/5124 (99%)]\tLoss: 0.000629\tAccuracy: 100.000000\tTime 0.920 (1.149)\tData 0.001 (0.090)\n",
            "\n",
            "Val set: Average loss: 0.081722, Accuracy: 99.264706 \n",
            "\n",
            "Train Epoch: 22\t[0/5124 (0%)]\tLoss: 0.001237\tAccuracy: 100.000000\tTime 0.284 (0.284)\tData 0.003 (0.003)\n",
            "Train Epoch: 22\t[640/5124 (12%)]\tLoss: 0.000408\tAccuracy: 100.000000\tTime 1.162 (1.083)\tData 0.002 (0.083)\n",
            "Train Epoch: 22\t[1280/5124 (25%)]\tLoss: 0.001187\tAccuracy: 100.000000\tTime 1.165 (1.121)\tData 0.002 (0.087)\n",
            "Train Epoch: 22\t[1920/5124 (37%)]\tLoss: 0.000084\tAccuracy: 100.000000\tTime 1.162 (1.135)\tData 0.002 (0.088)\n",
            "Train Epoch: 22\t[2560/5124 (49%)]\tLoss: 0.000440\tAccuracy: 100.000000\tTime 1.163 (1.142)\tData 0.002 (0.089)\n",
            "Train Epoch: 22\t[3200/5124 (62%)]\tLoss: 0.001268\tAccuracy: 100.000000\tTime 1.165 (1.146)\tData 0.002 (0.089)\n",
            "Train Epoch: 22\t[3840/5124 (74%)]\tLoss: 0.000407\tAccuracy: 100.000000\tTime 1.155 (1.149)\tData 0.003 (0.090)\n",
            "Train Epoch: 22\t[4480/5124 (86%)]\tLoss: 0.000453\tAccuracy: 100.000000\tTime 1.161 (1.151)\tData 0.003 (0.090)\n",
            "Train Epoch: 22\t[320/5124 (99%)]\tLoss: 0.000455\tAccuracy: 100.000000\tTime 0.922 (1.150)\tData 0.001 (0.090)\n",
            "\n",
            "Val set: Average loss: 0.065006, Accuracy: 99.724265 \n",
            "\n",
            "Train Epoch: 23\t[0/5124 (0%)]\tLoss: 0.000391\tAccuracy: 100.000000\tTime 0.274 (0.274)\tData 0.003 (0.003)\n",
            "Train Epoch: 23\t[640/5124 (12%)]\tLoss: 0.000342\tAccuracy: 100.000000\tTime 1.169 (1.083)\tData 0.003 (0.083)\n",
            "Train Epoch: 23\t[1280/5124 (25%)]\tLoss: 0.000514\tAccuracy: 100.000000\tTime 1.167 (1.120)\tData 0.003 (0.087)\n",
            "Train Epoch: 23\t[1920/5124 (37%)]\tLoss: 0.000428\tAccuracy: 100.000000\tTime 1.161 (1.133)\tData 0.002 (0.088)\n",
            "Train Epoch: 23\t[2560/5124 (49%)]\tLoss: 0.002059\tAccuracy: 98.437500\tTime 1.164 (1.141)\tData 0.002 (0.089)\n",
            "Train Epoch: 23\t[3200/5124 (62%)]\tLoss: 0.000671\tAccuracy: 100.000000\tTime 1.161 (1.145)\tData 0.002 (0.089)\n",
            "Train Epoch: 23\t[3840/5124 (74%)]\tLoss: 0.000265\tAccuracy: 100.000000\tTime 1.160 (1.148)\tData 0.002 (0.090)\n",
            "Train Epoch: 23\t[4480/5124 (86%)]\tLoss: 0.001600\tAccuracy: 100.000000\tTime 1.160 (1.150)\tData 0.002 (0.090)\n",
            "Train Epoch: 23\t[320/5124 (99%)]\tLoss: 0.002187\tAccuracy: 100.000000\tTime 0.912 (1.148)\tData 0.001 (0.090)\n",
            "\n",
            "Val set: Average loss: 0.061964, Accuracy: 99.632353 \n",
            "\n",
            "Train Epoch: 24\t[0/5124 (0%)]\tLoss: 0.000590\tAccuracy: 100.000000\tTime 0.274 (0.274)\tData 0.002 (0.002)\n",
            "Train Epoch: 24\t[640/5124 (12%)]\tLoss: 0.000092\tAccuracy: 100.000000\tTime 1.161 (1.081)\tData 0.002 (0.083)\n",
            "Train Epoch: 24\t[1280/5124 (25%)]\tLoss: 0.000161\tAccuracy: 100.000000\tTime 1.162 (1.120)\tData 0.002 (0.087)\n",
            "Train Epoch: 24\t[1920/5124 (37%)]\tLoss: 0.000391\tAccuracy: 100.000000\tTime 1.154 (1.133)\tData 0.003 (0.088)\n",
            "Train Epoch: 24\t[2560/5124 (49%)]\tLoss: 0.000483\tAccuracy: 100.000000\tTime 1.163 (1.140)\tData 0.003 (0.089)\n",
            "Train Epoch: 24\t[3200/5124 (62%)]\tLoss: 0.000294\tAccuracy: 100.000000\tTime 1.159 (1.144)\tData 0.002 (0.089)\n",
            "Train Epoch: 24\t[3840/5124 (74%)]\tLoss: 0.000564\tAccuracy: 100.000000\tTime 1.159 (1.147)\tData 0.002 (0.090)\n",
            "Train Epoch: 24\t[4480/5124 (86%)]\tLoss: 0.002328\tAccuracy: 100.000000\tTime 1.161 (1.149)\tData 0.002 (0.090)\n",
            "Train Epoch: 24\t[320/5124 (99%)]\tLoss: -0.000000\tAccuracy: 100.000000\tTime 0.918 (1.148)\tData 0.001 (0.090)\n",
            "\n",
            "Val set: Average loss: 0.058628, Accuracy: 99.632353 \n",
            "\n",
            "Train Epoch: 25\t[0/5124 (0%)]\tLoss: 0.001058\tAccuracy: 100.000000\tTime 0.274 (0.274)\tData 0.003 (0.003)\n",
            "Train Epoch: 25\t[640/5124 (12%)]\tLoss: 0.002271\tAccuracy: 100.000000\tTime 1.159 (1.081)\tData 0.002 (0.083)\n",
            "Train Epoch: 25\t[1280/5124 (25%)]\tLoss: 0.000084\tAccuracy: 100.000000\tTime 1.158 (1.119)\tData 0.002 (0.087)\n",
            "Train Epoch: 25\t[1920/5124 (37%)]\tLoss: 0.000370\tAccuracy: 100.000000\tTime 1.152 (1.133)\tData 0.003 (0.088)\n",
            "Train Epoch: 25\t[2560/5124 (49%)]\tLoss: 0.000752\tAccuracy: 100.000000\tTime 1.168 (1.140)\tData 0.002 (0.089)\n",
            "Train Epoch: 25\t[3200/5124 (62%)]\tLoss: 0.000251\tAccuracy: 100.000000\tTime 1.155 (1.144)\tData 0.003 (0.089)\n",
            "Train Epoch: 25\t[3840/5124 (74%)]\tLoss: 0.000512\tAccuracy: 100.000000\tTime 1.165 (1.147)\tData 0.003 (0.090)\n",
            "Train Epoch: 25\t[4480/5124 (86%)]\tLoss: 0.000528\tAccuracy: 100.000000\tTime 1.158 (1.149)\tData 0.002 (0.090)\n",
            "Train Epoch: 25\t[320/5124 (99%)]\tLoss: 0.004244\tAccuracy: 100.000000\tTime 0.919 (1.148)\tData 0.001 (0.090)\n",
            "\n",
            "Val set: Average loss: 0.050689, Accuracy: 99.816176 \n",
            "\n",
            "-------------------- HIGHEST ACCURACY ---------------------------\n",
            "Train Epoch: 26\t[0/5124 (0%)]\tLoss: 0.000068\tAccuracy: 100.000000\tTime 0.283 (0.283)\tData 0.003 (0.003)\n",
            "Train Epoch: 26\t[640/5124 (12%)]\tLoss: 0.000007\tAccuracy: 100.000000\tTime 1.169 (1.081)\tData 0.002 (0.083)\n",
            "Train Epoch: 26\t[1280/5124 (25%)]\tLoss: 0.000017\tAccuracy: 100.000000\tTime 1.160 (1.119)\tData 0.002 (0.086)\n",
            "Train Epoch: 26\t[1920/5124 (37%)]\tLoss: 0.000450\tAccuracy: 100.000000\tTime 1.160 (1.133)\tData 0.002 (0.088)\n",
            "Train Epoch: 26\t[2560/5124 (49%)]\tLoss: 0.000745\tAccuracy: 100.000000\tTime 1.162 (1.140)\tData 0.002 (0.089)\n",
            "Train Epoch: 26\t[3200/5124 (62%)]\tLoss: 0.000309\tAccuracy: 100.000000\tTime 1.159 (1.144)\tData 0.002 (0.089)\n",
            "Train Epoch: 26\t[3840/5124 (74%)]\tLoss: 0.000440\tAccuracy: 100.000000\tTime 1.161 (1.147)\tData 0.002 (0.090)\n",
            "Train Epoch: 26\t[4480/5124 (86%)]\tLoss: 0.000106\tAccuracy: 100.000000\tTime 1.147 (1.149)\tData 0.003 (0.090)\n",
            "Train Epoch: 26\t[320/5124 (99%)]\tLoss: 0.001550\tAccuracy: 100.000000\tTime 0.920 (1.148)\tData 0.001 (0.090)\n",
            "\n",
            "Val set: Average loss: 0.051387, Accuracy: 99.816176 \n",
            "\n",
            "Train Epoch: 27\t[0/5124 (0%)]\tLoss: 0.000047\tAccuracy: 100.000000\tTime 0.272 (0.272)\tData 0.003 (0.003)\n",
            "Train Epoch: 27\t[640/5124 (12%)]\tLoss: 0.000718\tAccuracy: 100.000000\tTime 1.159 (1.080)\tData 0.002 (0.083)\n",
            "Train Epoch: 27\t[1280/5124 (25%)]\tLoss: 0.001708\tAccuracy: 100.000000\tTime 1.166 (1.119)\tData 0.003 (0.087)\n",
            "Train Epoch: 27\t[1920/5124 (37%)]\tLoss: 0.003197\tAccuracy: 98.437500\tTime 1.165 (1.133)\tData 0.003 (0.088)\n",
            "Train Epoch: 27\t[2560/5124 (49%)]\tLoss: 0.000381\tAccuracy: 100.000000\tTime 1.158 (1.139)\tData 0.002 (0.089)\n",
            "Train Epoch: 27\t[3200/5124 (62%)]\tLoss: 0.000159\tAccuracy: 100.000000\tTime 1.161 (1.144)\tData 0.002 (0.089)\n",
            "Train Epoch: 27\t[3840/5124 (74%)]\tLoss: 0.004308\tAccuracy: 100.000000\tTime 1.159 (1.147)\tData 0.002 (0.089)\n",
            "Train Epoch: 27\t[4480/5124 (86%)]\tLoss: 0.000552\tAccuracy: 100.000000\tTime 1.159 (1.149)\tData 0.002 (0.090)\n",
            "Train Epoch: 27\t[320/5124 (99%)]\tLoss: 0.000000\tAccuracy: 100.000000\tTime 0.917 (1.147)\tData 0.001 (0.090)\n",
            "\n",
            "Val set: Average loss: 0.065252, Accuracy: 99.540441 \n",
            "\n",
            "Train Epoch: 28\t[0/5124 (0%)]\tLoss: 0.000026\tAccuracy: 100.000000\tTime 0.288 (0.288)\tData 0.003 (0.003)\n",
            "Train Epoch: 28\t[640/5124 (12%)]\tLoss: 0.000127\tAccuracy: 100.000000\tTime 1.162 (1.082)\tData 0.002 (0.083)\n",
            "Train Epoch: 28\t[1280/5124 (25%)]\tLoss: 0.000132\tAccuracy: 100.000000\tTime 1.162 (1.120)\tData 0.002 (0.087)\n",
            "Train Epoch: 28\t[1920/5124 (37%)]\tLoss: 0.000809\tAccuracy: 100.000000\tTime 1.161 (1.134)\tData 0.002 (0.088)\n",
            "Train Epoch: 28\t[2560/5124 (49%)]\tLoss: 0.001135\tAccuracy: 100.000000\tTime 1.157 (1.141)\tData 0.004 (0.089)\n",
            "Train Epoch: 28\t[3200/5124 (62%)]\tLoss: 0.001128\tAccuracy: 100.000000\tTime 1.173 (1.145)\tData 0.003 (0.089)\n",
            "Train Epoch: 28\t[3840/5124 (74%)]\tLoss: 0.002789\tAccuracy: 100.000000\tTime 1.170 (1.148)\tData 0.002 (0.090)\n",
            "Train Epoch: 28\t[4480/5124 (86%)]\tLoss: 0.006252\tAccuracy: 100.000000\tTime 1.161 (1.150)\tData 0.002 (0.090)\n",
            "Train Epoch: 28\t[320/5124 (99%)]\tLoss: 0.004273\tAccuracy: 100.000000\tTime 0.922 (1.149)\tData 0.001 (0.090)\n",
            "\n",
            "Val set: Average loss: 0.066351, Accuracy: 98.988971 \n",
            "\n",
            "Train Epoch: 29\t[0/5124 (0%)]\tLoss: 0.001788\tAccuracy: 100.000000\tTime 0.285 (0.285)\tData 0.003 (0.003)\n",
            "Train Epoch: 29\t[640/5124 (12%)]\tLoss: 0.002523\tAccuracy: 100.000000\tTime 1.162 (1.084)\tData 0.002 (0.083)\n",
            "Train Epoch: 29\t[1280/5124 (25%)]\tLoss: 0.011585\tAccuracy: 96.875000\tTime 1.166 (1.122)\tData 0.002 (0.087)\n",
            "Train Epoch: 29\t[1920/5124 (37%)]\tLoss: 0.004391\tAccuracy: 100.000000\tTime 1.162 (1.136)\tData 0.002 (0.088)\n",
            "Train Epoch: 29\t[2560/5124 (49%)]\tLoss: 0.000599\tAccuracy: 100.000000\tTime 1.163 (1.143)\tData 0.002 (0.089)\n",
            "Train Epoch: 29\t[3200/5124 (62%)]\tLoss: 0.001681\tAccuracy: 100.000000\tTime 1.164 (1.147)\tData 0.002 (0.090)\n",
            "Train Epoch: 29\t[3840/5124 (74%)]\tLoss: 0.001465\tAccuracy: 100.000000\tTime 1.164 (1.150)\tData 0.002 (0.090)\n",
            "Train Epoch: 29\t[4480/5124 (86%)]\tLoss: 0.002693\tAccuracy: 100.000000\tTime 1.172 (1.152)\tData 0.003 (0.090)\n",
            "Train Epoch: 29\t[320/5124 (99%)]\tLoss: 0.010564\tAccuracy: 100.000000\tTime 0.920 (1.151)\tData 0.001 (0.090)\n",
            "\n",
            "Val set: Average loss: 0.065673, Accuracy: 99.356618 \n",
            "\n",
            "Train Epoch: 30\t[0/5124 (0%)]\tLoss: 0.009578\tAccuracy: 100.000000\tTime 0.275 (0.275)\tData 0.003 (0.003)\n",
            "Train Epoch: 30\t[640/5124 (12%)]\tLoss: 0.025437\tAccuracy: 96.875000\tTime 1.159 (1.084)\tData 0.003 (0.084)\n",
            "Train Epoch: 30\t[1280/5124 (25%)]\tLoss: 0.009890\tAccuracy: 100.000000\tTime 1.168 (1.123)\tData 0.003 (0.087)\n",
            "Train Epoch: 30\t[1920/5124 (37%)]\tLoss: 0.004660\tAccuracy: 100.000000\tTime 1.173 (1.137)\tData 0.002 (0.088)\n",
            "Train Epoch: 30\t[2560/5124 (49%)]\tLoss: 0.015626\tAccuracy: 98.437500\tTime 1.162 (1.143)\tData 0.002 (0.089)\n",
            "Train Epoch: 30\t[3200/5124 (62%)]\tLoss: 0.008875\tAccuracy: 98.437500\tTime 1.170 (1.148)\tData 0.003 (0.090)\n",
            "Train Epoch: 30\t[3840/5124 (74%)]\tLoss: 0.004732\tAccuracy: 100.000000\tTime 1.159 (1.150)\tData 0.002 (0.090)\n",
            "Train Epoch: 30\t[4480/5124 (86%)]\tLoss: 0.014635\tAccuracy: 98.437500\tTime 1.171 (1.152)\tData 0.002 (0.090)\n",
            "Train Epoch: 30\t[320/5124 (99%)]\tLoss: 0.000126\tAccuracy: 100.000000\tTime 0.922 (1.151)\tData 0.001 (0.090)\n",
            "\n",
            "Val set: Average loss: 0.077182, Accuracy: 98.988971 \n",
            "\n",
            "Train Epoch: 31\t[0/5124 (0%)]\tLoss: 0.008996\tAccuracy: 98.437500\tTime 0.274 (0.274)\tData 0.003 (0.003)\n",
            "Train Epoch: 31\t[640/5124 (12%)]\tLoss: 0.006268\tAccuracy: 100.000000\tTime 1.165 (1.085)\tData 0.002 (0.084)\n",
            "Train Epoch: 31\t[1280/5124 (25%)]\tLoss: 0.005924\tAccuracy: 100.000000\tTime 1.161 (1.123)\tData 0.002 (0.087)\n",
            "Train Epoch: 31\t[1920/5124 (37%)]\tLoss: 0.003517\tAccuracy: 100.000000\tTime 1.162 (1.136)\tData 0.002 (0.089)\n",
            "Train Epoch: 31\t[2560/5124 (49%)]\tLoss: 0.005572\tAccuracy: 100.000000\tTime 1.167 (1.143)\tData 0.003 (0.089)\n",
            "Train Epoch: 31\t[3200/5124 (62%)]\tLoss: 0.002017\tAccuracy: 100.000000\tTime 1.168 (1.147)\tData 0.004 (0.090)\n",
            "Train Epoch: 31\t[3840/5124 (74%)]\tLoss: 0.007834\tAccuracy: 98.437500\tTime 1.160 (1.149)\tData 0.002 (0.090)\n",
            "Train Epoch: 31\t[4480/5124 (86%)]\tLoss: 0.006695\tAccuracy: 100.000000\tTime 1.162 (1.151)\tData 0.002 (0.090)\n",
            "Train Epoch: 31\t[320/5124 (99%)]\tLoss: 0.010740\tAccuracy: 100.000000\tTime 0.921 (1.150)\tData 0.001 (0.090)\n",
            "\n",
            "Val set: Average loss: 0.276410, Accuracy: 91.544118 \n",
            "\n",
            "Train Epoch: 32\t[0/5124 (0%)]\tLoss: 0.001983\tAccuracy: 100.000000\tTime 0.284 (0.284)\tData 0.003 (0.003)\n",
            "Train Epoch: 32\t[640/5124 (12%)]\tLoss: 0.011016\tAccuracy: 98.437500\tTime 1.160 (1.082)\tData 0.002 (0.083)\n",
            "Train Epoch: 32\t[1280/5124 (25%)]\tLoss: 0.002348\tAccuracy: 100.000000\tTime 1.160 (1.121)\tData 0.002 (0.087)\n",
            "Train Epoch: 32\t[1920/5124 (37%)]\tLoss: 0.002478\tAccuracy: 100.000000\tTime 1.161 (1.135)\tData 0.002 (0.088)\n",
            "Train Epoch: 32\t[2560/5124 (49%)]\tLoss: 0.006599\tAccuracy: 100.000000\tTime 1.162 (1.142)\tData 0.002 (0.089)\n",
            "Train Epoch: 32\t[3200/5124 (62%)]\tLoss: 0.011007\tAccuracy: 98.437500\tTime 1.162 (1.146)\tData 0.002 (0.089)\n",
            "Train Epoch: 32\t[3840/5124 (74%)]\tLoss: 0.001649\tAccuracy: 100.000000\tTime 1.155 (1.149)\tData 0.003 (0.090)\n",
            "Train Epoch: 32\t[4480/5124 (86%)]\tLoss: 0.000673\tAccuracy: 100.000000\tTime 1.149 (1.151)\tData 0.003 (0.090)\n",
            "Train Epoch: 32\t[320/5124 (99%)]\tLoss: 0.000287\tAccuracy: 100.000000\tTime 0.924 (1.149)\tData 0.001 (0.090)\n",
            "\n",
            "Val set: Average loss: 0.034109, Accuracy: 99.632353 \n",
            "\n",
            "Train Epoch: 33\t[0/5124 (0%)]\tLoss: 0.001197\tAccuracy: 100.000000\tTime 0.274 (0.274)\tData 0.003 (0.003)\n",
            "Train Epoch: 33\t[640/5124 (12%)]\tLoss: 0.002008\tAccuracy: 100.000000\tTime 1.164 (1.082)\tData 0.003 (0.083)\n",
            "Train Epoch: 33\t[1280/5124 (25%)]\tLoss: 0.001466\tAccuracy: 100.000000\tTime 1.167 (1.121)\tData 0.003 (0.087)\n",
            "Train Epoch: 33\t[1920/5124 (37%)]\tLoss: 0.001381\tAccuracy: 100.000000\tTime 1.164 (1.134)\tData 0.002 (0.088)\n",
            "Train Epoch: 33\t[2560/5124 (49%)]\tLoss: 0.000128\tAccuracy: 100.000000\tTime 1.160 (1.141)\tData 0.002 (0.089)\n",
            "Train Epoch: 33\t[3200/5124 (62%)]\tLoss: 0.000039\tAccuracy: 100.000000\tTime 1.164 (1.146)\tData 0.002 (0.089)\n",
            "Train Epoch: 33\t[3840/5124 (74%)]\tLoss: 0.000119\tAccuracy: 100.000000\tTime 1.162 (1.149)\tData 0.002 (0.090)\n",
            "Train Epoch: 33\t[4480/5124 (86%)]\tLoss: 0.000514\tAccuracy: 100.000000\tTime 1.162 (1.151)\tData 0.002 (0.090)\n",
            "Train Epoch: 33\t[320/5124 (99%)]\tLoss: 0.027888\tAccuracy: 100.000000\tTime 0.920 (1.149)\tData 0.001 (0.090)\n",
            "\n",
            "Val set: Average loss: 0.028401, Accuracy: 99.540441 \n",
            "\n",
            "Train Epoch: 34\t[0/5124 (0%)]\tLoss: 0.008510\tAccuracy: 98.437500\tTime 0.274 (0.274)\tData 0.003 (0.003)\n",
            "Train Epoch: 34\t[640/5124 (12%)]\tLoss: 0.017596\tAccuracy: 98.437500\tTime 1.162 (1.082)\tData 0.002 (0.083)\n",
            "Train Epoch: 34\t[1280/5124 (25%)]\tLoss: 0.004560\tAccuracy: 100.000000\tTime 1.160 (1.120)\tData 0.002 (0.087)\n",
            "Train Epoch: 34\t[1920/5124 (37%)]\tLoss: 0.002973\tAccuracy: 100.000000\tTime 1.158 (1.134)\tData 0.003 (0.089)\n",
            "Train Epoch: 34\t[2560/5124 (49%)]\tLoss: 0.000762\tAccuracy: 100.000000\tTime 1.166 (1.141)\tData 0.003 (0.089)\n",
            "Train Epoch: 34\t[3200/5124 (62%)]\tLoss: 0.001544\tAccuracy: 100.000000\tTime 1.175 (1.146)\tData 0.002 (0.089)\n",
            "Train Epoch: 34\t[3840/5124 (74%)]\tLoss: 0.001596\tAccuracy: 100.000000\tTime 1.162 (1.149)\tData 0.002 (0.090)\n",
            "Train Epoch: 34\t[4480/5124 (86%)]\tLoss: 0.000271\tAccuracy: 100.000000\tTime 1.161 (1.151)\tData 0.002 (0.090)\n",
            "Train Epoch: 34\t[320/5124 (99%)]\tLoss: 0.021748\tAccuracy: 100.000000\tTime 0.918 (1.149)\tData 0.001 (0.090)\n",
            "\n",
            "Val set: Average loss: 0.031844, Accuracy: 99.632353 \n",
            "\n",
            "Train Epoch: 35\t[0/5124 (0%)]\tLoss: 0.000852\tAccuracy: 100.000000\tTime 0.275 (0.275)\tData 0.003 (0.003)\n",
            "Train Epoch: 35\t[640/5124 (12%)]\tLoss: 0.008126\tAccuracy: 98.437500\tTime 1.161 (1.083)\tData 0.002 (0.083)\n",
            "Train Epoch: 35\t[1280/5124 (25%)]\tLoss: 0.056234\tAccuracy: 96.875000\tTime 1.166 (1.122)\tData 0.002 (0.087)\n",
            "Train Epoch: 35\t[1920/5124 (37%)]\tLoss: 0.020995\tAccuracy: 100.000000\tTime 1.163 (1.136)\tData 0.002 (0.088)\n",
            "Train Epoch: 35\t[2560/5124 (49%)]\tLoss: 0.023236\tAccuracy: 96.875000\tTime 1.161 (1.143)\tData 0.002 (0.089)\n",
            "Train Epoch: 35\t[3200/5124 (62%)]\tLoss: 0.004231\tAccuracy: 100.000000\tTime 1.176 (1.148)\tData 0.003 (0.090)\n",
            "Train Epoch: 35\t[3840/5124 (74%)]\tLoss: 0.001856\tAccuracy: 100.000000\tTime 1.162 (1.150)\tData 0.004 (0.090)\n",
            "Train Epoch: 35\t[4480/5124 (86%)]\tLoss: 0.004477\tAccuracy: 100.000000\tTime 1.164 (1.152)\tData 0.002 (0.090)\n",
            "Train Epoch: 35\t[320/5124 (99%)]\tLoss: 0.005495\tAccuracy: 100.000000\tTime 0.920 (1.151)\tData 0.001 (0.090)\n",
            "\n",
            "Val set: Average loss: 0.032303, Accuracy: 99.356618 \n",
            "\n",
            "Train Epoch: 36\t[0/5124 (0%)]\tLoss: 0.001604\tAccuracy: 100.000000\tTime 0.275 (0.275)\tData 0.003 (0.003)\n",
            "Train Epoch: 36\t[640/5124 (12%)]\tLoss: 0.006542\tAccuracy: 100.000000\tTime 1.165 (1.083)\tData 0.002 (0.084)\n",
            "Train Epoch: 36\t[1280/5124 (25%)]\tLoss: 0.005344\tAccuracy: 98.437500\tTime 1.160 (1.122)\tData 0.002 (0.087)\n",
            "Train Epoch: 36\t[1920/5124 (37%)]\tLoss: 0.002884\tAccuracy: 100.000000\tTime 1.164 (1.136)\tData 0.003 (0.089)\n",
            "Train Epoch: 36\t[2560/5124 (49%)]\tLoss: 0.000756\tAccuracy: 100.000000\tTime 1.162 (1.142)\tData 0.002 (0.089)\n",
            "Train Epoch: 36\t[3200/5124 (62%)]\tLoss: 0.001422\tAccuracy: 100.000000\tTime 1.154 (1.147)\tData 0.003 (0.090)\n",
            "Train Epoch: 36\t[3840/5124 (74%)]\tLoss: 0.000520\tAccuracy: 100.000000\tTime 1.165 (1.149)\tData 0.003 (0.090)\n",
            "Train Epoch: 36\t[4480/5124 (86%)]\tLoss: 0.001704\tAccuracy: 100.000000\tTime 1.161 (1.151)\tData 0.002 (0.090)\n",
            "Train Epoch: 36\t[320/5124 (99%)]\tLoss: 0.000000\tAccuracy: 100.000000\tTime 0.919 (1.150)\tData 0.001 (0.090)\n",
            "\n",
            "Val set: Average loss: 0.030730, Accuracy: 99.356618 \n",
            "\n",
            "Train Epoch: 37\t[0/5124 (0%)]\tLoss: 0.000303\tAccuracy: 100.000000\tTime 0.286 (0.286)\tData 0.003 (0.003)\n",
            "Train Epoch: 37\t[640/5124 (12%)]\tLoss: 0.001105\tAccuracy: 100.000000\tTime 1.173 (1.083)\tData 0.002 (0.083)\n",
            "Train Epoch: 37\t[1280/5124 (25%)]\tLoss: 0.000664\tAccuracy: 100.000000\tTime 1.163 (1.121)\tData 0.002 (0.087)\n",
            "Train Epoch: 37\t[1920/5124 (37%)]\tLoss: 0.000600\tAccuracy: 100.000000\tTime 1.162 (1.135)\tData 0.002 (0.088)\n",
            "Train Epoch: 37\t[2560/5124 (49%)]\tLoss: 0.000325\tAccuracy: 100.000000\tTime 1.163 (1.142)\tData 0.002 (0.089)\n",
            "Train Epoch: 37\t[3200/5124 (62%)]\tLoss: 0.000557\tAccuracy: 100.000000\tTime 1.162 (1.146)\tData 0.002 (0.089)\n",
            "Train Epoch: 37\t[3840/5124 (74%)]\tLoss: 0.000104\tAccuracy: 100.000000\tTime 1.156 (1.149)\tData 0.003 (0.090)\n",
            "Train Epoch: 37\t[4480/5124 (86%)]\tLoss: 0.000752\tAccuracy: 100.000000\tTime 1.166 (1.151)\tData 0.003 (0.090)\n",
            "Train Epoch: 37\t[320/5124 (99%)]\tLoss: 0.000000\tAccuracy: 100.000000\tTime 0.933 (1.150)\tData 0.001 (0.090)\n",
            "\n",
            "Val set: Average loss: 0.022313, Accuracy: 99.540441 \n",
            "\n",
            "Train Epoch: 38\t[0/5124 (0%)]\tLoss: 0.000088\tAccuracy: 100.000000\tTime 0.272 (0.272)\tData 0.002 (0.002)\n",
            "Train Epoch: 38\t[640/5124 (12%)]\tLoss: 0.000951\tAccuracy: 100.000000\tTime 1.167 (1.083)\tData 0.003 (0.083)\n",
            "Train Epoch: 38\t[1280/5124 (25%)]\tLoss: 0.000187\tAccuracy: 100.000000\tTime 1.171 (1.121)\tData 0.002 (0.087)\n",
            "Train Epoch: 38\t[1920/5124 (37%)]\tLoss: 0.000854\tAccuracy: 100.000000\tTime 1.160 (1.135)\tData 0.002 (0.088)\n",
            "Train Epoch: 38\t[2560/5124 (49%)]\tLoss: 0.000134\tAccuracy: 100.000000\tTime 1.173 (1.142)\tData 0.002 (0.089)\n",
            "Train Epoch: 38\t[3200/5124 (62%)]\tLoss: 0.000151\tAccuracy: 100.000000\tTime 1.163 (1.146)\tData 0.002 (0.089)\n",
            "Train Epoch: 38\t[3840/5124 (74%)]\tLoss: 0.000450\tAccuracy: 100.000000\tTime 1.161 (1.149)\tData 0.002 (0.090)\n",
            "Train Epoch: 38\t[4480/5124 (86%)]\tLoss: 0.000230\tAccuracy: 100.000000\tTime 1.161 (1.151)\tData 0.002 (0.090)\n",
            "Train Epoch: 38\t[320/5124 (99%)]\tLoss: 0.002119\tAccuracy: 100.000000\tTime 0.916 (1.150)\tData 0.001 (0.090)\n",
            "\n",
            "Val set: Average loss: 0.017418, Accuracy: 99.632353 \n",
            "\n",
            "Train Epoch: 39\t[0/5124 (0%)]\tLoss: 0.000137\tAccuracy: 100.000000\tTime 0.274 (0.274)\tData 0.003 (0.003)\n",
            "Train Epoch: 39\t[640/5124 (12%)]\tLoss: 0.000125\tAccuracy: 100.000000\tTime 1.160 (1.083)\tData 0.002 (0.083)\n",
            "Train Epoch: 39\t[1280/5124 (25%)]\tLoss: 0.000087\tAccuracy: 100.000000\tTime 1.153 (1.121)\tData 0.002 (0.087)\n",
            "Train Epoch: 39\t[1920/5124 (37%)]\tLoss: 0.000478\tAccuracy: 100.000000\tTime 1.166 (1.135)\tData 0.003 (0.088)\n",
            "Train Epoch: 39\t[2560/5124 (49%)]\tLoss: 0.000890\tAccuracy: 100.000000\tTime 1.164 (1.141)\tData 0.003 (0.089)\n",
            "Train Epoch: 39\t[3200/5124 (62%)]\tLoss: 0.000103\tAccuracy: 100.000000\tTime 1.160 (1.146)\tData 0.002 (0.089)\n",
            "Train Epoch: 39\t[3840/5124 (74%)]\tLoss: 0.000086\tAccuracy: 100.000000\tTime 1.160 (1.148)\tData 0.002 (0.090)\n",
            "Train Epoch: 39\t[4480/5124 (86%)]\tLoss: 0.000313\tAccuracy: 100.000000\tTime 1.168 (1.150)\tData 0.002 (0.090)\n",
            "Train Epoch: 39\t[320/5124 (99%)]\tLoss: 0.026994\tAccuracy: 100.000000\tTime 0.920 (1.149)\tData 0.001 (0.090)\n",
            "\n",
            "Val set: Average loss: 0.017494, Accuracy: 99.724265 \n",
            "\n",
            "Train Epoch: 40\t[0/5124 (0%)]\tLoss: 0.000168\tAccuracy: 100.000000\tTime 0.271 (0.271)\tData 0.002 (0.002)\n",
            "Train Epoch: 40\t[640/5124 (12%)]\tLoss: 0.004507\tAccuracy: 100.000000\tTime 1.162 (1.083)\tData 0.002 (0.083)\n",
            "Train Epoch: 40\t[1280/5124 (25%)]\tLoss: 0.004062\tAccuracy: 100.000000\tTime 1.161 (1.122)\tData 0.002 (0.087)\n",
            "Train Epoch: 40\t[1920/5124 (37%)]\tLoss: 0.001816\tAccuracy: 100.000000\tTime 1.164 (1.136)\tData 0.002 (0.089)\n",
            "Train Epoch: 40\t[2560/5124 (49%)]\tLoss: 0.001347\tAccuracy: 100.000000\tTime 1.161 (1.143)\tData 0.002 (0.089)\n",
            "Train Epoch: 40\t[3200/5124 (62%)]\tLoss: 0.002422\tAccuracy: 100.000000\tTime 1.157 (1.147)\tData 0.007 (0.090)\n",
            "Train Epoch: 40\t[3840/5124 (74%)]\tLoss: 0.000875\tAccuracy: 100.000000\tTime 1.166 (1.150)\tData 0.003 (0.090)\n",
            "Train Epoch: 40\t[4480/5124 (86%)]\tLoss: 0.001323\tAccuracy: 100.000000\tTime 1.161 (1.152)\tData 0.002 (0.090)\n",
            "Train Epoch: 40\t[320/5124 (99%)]\tLoss: 0.021924\tAccuracy: 100.000000\tTime 0.921 (1.150)\tData 0.001 (0.090)\n",
            "\n",
            "Val set: Average loss: 0.029974, Accuracy: 99.448529 \n",
            "\n",
            "Train Epoch: 41\t[0/5124 (0%)]\tLoss: 0.002930\tAccuracy: 100.000000\tTime 0.283 (0.283)\tData 0.003 (0.003)\n",
            "Train Epoch: 41\t[640/5124 (12%)]\tLoss: 0.002056\tAccuracy: 100.000000\tTime 1.162 (1.083)\tData 0.002 (0.083)\n",
            "Train Epoch: 41\t[1280/5124 (25%)]\tLoss: 0.002110\tAccuracy: 100.000000\tTime 1.164 (1.122)\tData 0.002 (0.087)\n",
            "Train Epoch: 41\t[1920/5124 (37%)]\tLoss: 0.003234\tAccuracy: 100.000000\tTime 1.162 (1.136)\tData 0.002 (0.088)\n",
            "Train Epoch: 41\t[2560/5124 (49%)]\tLoss: 0.020346\tAccuracy: 96.875000\tTime 1.168 (1.143)\tData 0.002 (0.089)\n",
            "Train Epoch: 41\t[3200/5124 (62%)]\tLoss: 0.001837\tAccuracy: 100.000000\tTime 1.164 (1.147)\tData 0.002 (0.090)\n",
            "Train Epoch: 41\t[3840/5124 (74%)]\tLoss: 0.002634\tAccuracy: 100.000000\tTime 1.163 (1.150)\tData 0.002 (0.090)\n",
            "Train Epoch: 41\t[4480/5124 (86%)]\tLoss: 0.003146\tAccuracy: 100.000000\tTime 1.176 (1.152)\tData 0.003 (0.090)\n",
            "Train Epoch: 41\t[320/5124 (99%)]\tLoss: 0.001479\tAccuracy: 100.000000\tTime 0.920 (1.151)\tData 0.001 (0.090)\n",
            "\n",
            "Val set: Average loss: 0.029130, Accuracy: 99.356618 \n",
            "\n",
            "Train Epoch: 42\t[0/5124 (0%)]\tLoss: 0.000858\tAccuracy: 100.000000\tTime 0.273 (0.273)\tData 0.003 (0.003)\n",
            "Train Epoch: 42\t[640/5124 (12%)]\tLoss: 0.000844\tAccuracy: 100.000000\tTime 1.160 (1.084)\tData 0.003 (0.084)\n",
            "Train Epoch: 42\t[1280/5124 (25%)]\tLoss: 0.008044\tAccuracy: 98.437500\tTime 1.167 (1.123)\tData 0.003 (0.087)\n",
            "Train Epoch: 42\t[1920/5124 (37%)]\tLoss: 0.008424\tAccuracy: 100.000000\tTime 1.176 (1.137)\tData 0.002 (0.088)\n",
            "Train Epoch: 42\t[2560/5124 (49%)]\tLoss: 0.001246\tAccuracy: 100.000000\tTime 1.169 (1.144)\tData 0.002 (0.089)\n",
            "Train Epoch: 42\t[3200/5124 (62%)]\tLoss: 0.001417\tAccuracy: 100.000000\tTime 1.163 (1.148)\tData 0.002 (0.090)\n",
            "Train Epoch: 42\t[3840/5124 (74%)]\tLoss: 0.002446\tAccuracy: 100.000000\tTime 1.165 (1.151)\tData 0.002 (0.090)\n",
            "Train Epoch: 42\t[4480/5124 (86%)]\tLoss: 0.003378\tAccuracy: 100.000000\tTime 1.170 (1.153)\tData 0.002 (0.090)\n",
            "Train Epoch: 42\t[320/5124 (99%)]\tLoss: 0.000003\tAccuracy: 100.000000\tTime 0.921 (1.151)\tData 0.001 (0.090)\n",
            "\n",
            "Val set: Average loss: 0.019956, Accuracy: 99.816176 \n",
            "\n",
            "Train Epoch: 43\t[0/5124 (0%)]\tLoss: 0.000471\tAccuracy: 100.000000\tTime 0.272 (0.272)\tData 0.003 (0.003)\n",
            "Train Epoch: 43\t[640/5124 (12%)]\tLoss: 0.010317\tAccuracy: 98.437500\tTime 1.162 (1.084)\tData 0.002 (0.084)\n",
            "Train Epoch: 43\t[1280/5124 (25%)]\tLoss: 0.000333\tAccuracy: 100.000000\tTime 1.170 (1.124)\tData 0.002 (0.087)\n",
            "Train Epoch: 43\t[1920/5124 (37%)]\tLoss: 0.001077\tAccuracy: 100.000000\tTime 1.162 (1.138)\tData 0.003 (0.089)\n",
            "Train Epoch: 43\t[2560/5124 (49%)]\tLoss: 0.000581\tAccuracy: 100.000000\tTime 1.167 (1.145)\tData 0.003 (0.089)\n",
            "Train Epoch: 43\t[3200/5124 (62%)]\tLoss: 0.007450\tAccuracy: 98.437500\tTime 1.184 (1.149)\tData 0.002 (0.090)\n",
            "Train Epoch: 43\t[3840/5124 (74%)]\tLoss: 0.001584\tAccuracy: 100.000000\tTime 1.167 (1.152)\tData 0.002 (0.090)\n",
            "Train Epoch: 43\t[4480/5124 (86%)]\tLoss: 0.000191\tAccuracy: 100.000000\tTime 1.163 (1.154)\tData 0.002 (0.090)\n",
            "Train Epoch: 43\t[320/5124 (99%)]\tLoss: 0.001547\tAccuracy: 100.000000\tTime 0.923 (1.152)\tData 0.001 (0.090)\n",
            "\n",
            "Val set: Average loss: 0.014363, Accuracy: 99.908088 \n",
            "\n",
            "-------------------- HIGHEST ACCURACY ---------------------------\n",
            "Train Epoch: 44\t[0/5124 (0%)]\tLoss: 0.000319\tAccuracy: 100.000000\tTime 0.273 (0.273)\tData 0.003 (0.003)\n",
            "Train Epoch: 44\t[640/5124 (12%)]\tLoss: 0.000857\tAccuracy: 100.000000\tTime 1.163 (1.086)\tData 0.002 (0.084)\n",
            "Train Epoch: 44\t[1280/5124 (25%)]\tLoss: 0.000388\tAccuracy: 100.000000\tTime 1.163 (1.124)\tData 0.002 (0.087)\n",
            "Train Epoch: 44\t[1920/5124 (37%)]\tLoss: 0.000453\tAccuracy: 100.000000\tTime 1.164 (1.138)\tData 0.002 (0.089)\n",
            "Train Epoch: 44\t[2560/5124 (49%)]\tLoss: 0.000593\tAccuracy: 100.000000\tTime 1.166 (1.145)\tData 0.002 (0.090)\n",
            "Train Epoch: 44\t[3200/5124 (62%)]\tLoss: 0.000446\tAccuracy: 100.000000\tTime 1.162 (1.149)\tData 0.003 (0.090)\n",
            "Train Epoch: 44\t[3840/5124 (74%)]\tLoss: 0.000732\tAccuracy: 100.000000\tTime 1.170 (1.152)\tData 0.003 (0.090)\n",
            "Train Epoch: 44\t[4480/5124 (86%)]\tLoss: 0.000948\tAccuracy: 100.000000\tTime 1.177 (1.154)\tData 0.002 (0.090)\n",
            "Train Epoch: 44\t[320/5124 (99%)]\tLoss: 0.019746\tAccuracy: 100.000000\tTime 0.927 (1.152)\tData 0.001 (0.090)\n",
            "\n",
            "Val set: Average loss: 0.013290, Accuracy: 99.816176 \n",
            "\n",
            "Train Epoch: 45\t[0/5124 (0%)]\tLoss: 0.000995\tAccuracy: 100.000000\tTime 0.283 (0.283)\tData 0.004 (0.004)\n",
            "Train Epoch: 45\t[640/5124 (12%)]\tLoss: 0.020079\tAccuracy: 100.000000\tTime 1.173 (1.087)\tData 0.003 (0.083)\n",
            "Train Epoch: 45\t[1280/5124 (25%)]\tLoss: 0.001031\tAccuracy: 100.000000\tTime 1.164 (1.124)\tData 0.002 (0.087)\n",
            "Train Epoch: 45\t[1920/5124 (37%)]\tLoss: 0.001668\tAccuracy: 100.000000\tTime 1.167 (1.139)\tData 0.002 (0.089)\n",
            "Train Epoch: 45\t[2560/5124 (49%)]\tLoss: 0.004295\tAccuracy: 100.000000\tTime 1.170 (1.146)\tData 0.002 (0.089)\n",
            "Train Epoch: 45\t[3200/5124 (62%)]\tLoss: 0.004291\tAccuracy: 100.000000\tTime 1.171 (1.151)\tData 0.002 (0.090)\n",
            "Train Epoch: 45\t[3840/5124 (74%)]\tLoss: 0.001859\tAccuracy: 100.000000\tTime 1.169 (1.154)\tData 0.002 (0.090)\n",
            "Train Epoch: 45\t[4480/5124 (86%)]\tLoss: 0.014390\tAccuracy: 98.437500\tTime 1.170 (1.157)\tData 0.002 (0.090)\n",
            "Train Epoch: 45\t[320/5124 (99%)]\tLoss: 0.109573\tAccuracy: 100.000000\tTime 0.928 (1.155)\tData 0.001 (0.091)\n",
            "\n",
            "Val set: Average loss: 0.032686, Accuracy: 99.540441 \n",
            "\n",
            "Train Epoch: 46\t[0/5124 (0%)]\tLoss: 0.009329\tAccuracy: 100.000000\tTime 0.274 (0.274)\tData 0.003 (0.003)\n",
            "Train Epoch: 46\t[640/5124 (12%)]\tLoss: 0.099622\tAccuracy: 93.750000\tTime 1.172 (1.089)\tData 0.002 (0.084)\n",
            "Train Epoch: 46\t[1280/5124 (25%)]\tLoss: 0.016471\tAccuracy: 100.000000\tTime 1.164 (1.128)\tData 0.003 (0.088)\n",
            "Train Epoch: 46\t[1920/5124 (37%)]\tLoss: 0.055118\tAccuracy: 98.437500\tTime 1.169 (1.142)\tData 0.003 (0.089)\n",
            "Train Epoch: 46\t[2560/5124 (49%)]\tLoss: 0.035842\tAccuracy: 100.000000\tTime 1.183 (1.149)\tData 0.002 (0.090)\n",
            "Train Epoch: 46\t[3200/5124 (62%)]\tLoss: 0.054594\tAccuracy: 98.437500\tTime 1.166 (1.153)\tData 0.002 (0.090)\n",
            "Train Epoch: 46\t[3840/5124 (74%)]\tLoss: 0.021678\tAccuracy: 100.000000\tTime 1.170 (1.156)\tData 0.002 (0.090)\n",
            "Train Epoch: 46\t[4480/5124 (86%)]\tLoss: 0.041164\tAccuracy: 98.437500\tTime 1.169 (1.158)\tData 0.002 (0.090)\n",
            "Train Epoch: 46\t[320/5124 (99%)]\tLoss: 0.082339\tAccuracy: 100.000000\tTime 0.925 (1.156)\tData 0.001 (0.091)\n",
            "\n",
            "Val set: Average loss: 0.039405, Accuracy: 98.713235 \n",
            "\n",
            "Train Epoch: 47\t[0/5124 (0%)]\tLoss: 0.018897\tAccuracy: 100.000000\tTime 0.273 (0.273)\tData 0.002 (0.002)\n",
            "Train Epoch: 47\t[640/5124 (12%)]\tLoss: 0.049473\tAccuracy: 98.437500\tTime 1.165 (1.088)\tData 0.002 (0.084)\n",
            "Train Epoch: 47\t[1280/5124 (25%)]\tLoss: 0.015939\tAccuracy: 98.437500\tTime 1.167 (1.128)\tData 0.002 (0.088)\n",
            "Train Epoch: 47\t[1920/5124 (37%)]\tLoss: 0.009583\tAccuracy: 100.000000\tTime 1.170 (1.142)\tData 0.002 (0.089)\n",
            "Train Epoch: 47\t[2560/5124 (49%)]\tLoss: 0.007196\tAccuracy: 100.000000\tTime 1.163 (1.149)\tData 0.003 (0.090)\n",
            "Train Epoch: 47\t[3200/5124 (62%)]\tLoss: 0.007528\tAccuracy: 100.000000\tTime 1.175 (1.154)\tData 0.003 (0.090)\n",
            "Train Epoch: 47\t[3840/5124 (74%)]\tLoss: 0.006944\tAccuracy: 100.000000\tTime 1.186 (1.157)\tData 0.002 (0.091)\n",
            "Train Epoch: 47\t[4480/5124 (86%)]\tLoss: 0.004091\tAccuracy: 100.000000\tTime 1.167 (1.158)\tData 0.002 (0.091)\n",
            "Train Epoch: 47\t[320/5124 (99%)]\tLoss: 0.467074\tAccuracy: 75.000000\tTime 0.925 (1.157)\tData 0.001 (0.091)\n",
            "\n",
            "Val set: Average loss: 0.019767, Accuracy: 99.448529 \n",
            "\n",
            "Train Epoch: 48\t[0/5124 (0%)]\tLoss: 0.005004\tAccuracy: 100.000000\tTime 0.285 (0.285)\tData 0.003 (0.003)\n",
            "Train Epoch: 48\t[640/5124 (12%)]\tLoss: 0.046866\tAccuracy: 100.000000\tTime 1.179 (1.092)\tData 0.002 (0.084)\n",
            "Train Epoch: 48\t[1280/5124 (25%)]\tLoss: 0.046254\tAccuracy: 98.437500\tTime 1.172 (1.130)\tData 0.002 (0.087)\n",
            "Train Epoch: 48\t[1920/5124 (37%)]\tLoss: 0.008424\tAccuracy: 100.000000\tTime 1.170 (1.143)\tData 0.002 (0.089)\n",
            "Train Epoch: 48\t[2560/5124 (49%)]\tLoss: 0.032823\tAccuracy: 95.312500\tTime 1.173 (1.150)\tData 0.002 (0.090)\n",
            "Train Epoch: 48\t[3200/5124 (62%)]\tLoss: 0.019419\tAccuracy: 100.000000\tTime 1.169 (1.154)\tData 0.002 (0.090)\n",
            "Train Epoch: 48\t[3840/5124 (74%)]\tLoss: 0.012369\tAccuracy: 100.000000\tTime 1.165 (1.157)\tData 0.002 (0.090)\n",
            "Train Epoch: 48\t[4480/5124 (86%)]\tLoss: 0.006994\tAccuracy: 100.000000\tTime 1.164 (1.159)\tData 0.003 (0.091)\n",
            "Train Epoch: 48\t[320/5124 (99%)]\tLoss: 0.007699\tAccuracy: 100.000000\tTime 0.927 (1.157)\tData 0.001 (0.091)\n",
            "\n",
            "Val set: Average loss: 0.017616, Accuracy: 99.540441 \n",
            "\n",
            "Train Epoch: 49\t[0/5124 (0%)]\tLoss: 0.008061\tAccuracy: 100.000000\tTime 0.276 (0.276)\tData 0.003 (0.003)\n",
            "Train Epoch: 49\t[640/5124 (12%)]\tLoss: 0.005540\tAccuracy: 100.000000\tTime 1.162 (1.089)\tData 0.003 (0.084)\n",
            "Train Epoch: 49\t[1280/5124 (25%)]\tLoss: 0.026773\tAccuracy: 98.437500\tTime 1.177 (1.128)\tData 0.003 (0.088)\n",
            "Train Epoch: 49\t[1920/5124 (37%)]\tLoss: 0.005455\tAccuracy: 100.000000\tTime 1.175 (1.141)\tData 0.002 (0.089)\n",
            "Train Epoch: 49\t[2560/5124 (49%)]\tLoss: 0.006865\tAccuracy: 100.000000\tTime 1.169 (1.148)\tData 0.002 (0.089)\n",
            "Train Epoch: 49\t[3200/5124 (62%)]\tLoss: 0.004968\tAccuracy: 100.000000\tTime 1.170 (1.153)\tData 0.002 (0.090)\n",
            "Train Epoch: 49\t[3840/5124 (74%)]\tLoss: 0.017306\tAccuracy: 98.437500\tTime 1.170 (1.156)\tData 0.002 (0.090)\n",
            "Train Epoch: 49\t[4480/5124 (86%)]\tLoss: 0.003611\tAccuracy: 100.000000\tTime 1.169 (1.158)\tData 0.002 (0.090)\n",
            "Train Epoch: 49\t[320/5124 (99%)]\tLoss: 0.002960\tAccuracy: 100.000000\tTime 0.931 (1.157)\tData 0.001 (0.091)\n",
            "\n",
            "Val set: Average loss: 0.017989, Accuracy: 99.448529 \n",
            "\n",
            "Train Epoch: 50\t[0/5124 (0%)]\tLoss: 0.008745\tAccuracy: 100.000000\tTime 0.272 (0.272)\tData 0.003 (0.003)\n",
            "Train Epoch: 50\t[640/5124 (12%)]\tLoss: 0.003962\tAccuracy: 100.000000\tTime 1.177 (1.091)\tData 0.002 (0.084)\n",
            "Train Epoch: 50\t[1280/5124 (25%)]\tLoss: 0.003322\tAccuracy: 100.000000\tTime 1.169 (1.128)\tData 0.002 (0.088)\n",
            "Train Epoch: 50\t[1920/5124 (37%)]\tLoss: 0.005539\tAccuracy: 100.000000\tTime 1.169 (1.142)\tData 0.002 (0.089)\n",
            "Train Epoch: 50\t[2560/5124 (49%)]\tLoss: 0.005873\tAccuracy: 100.000000\tTime 1.165 (1.149)\tData 0.003 (0.090)\n",
            "Train Epoch: 50\t[3200/5124 (62%)]\tLoss: 0.010580\tAccuracy: 100.000000\tTime 1.171 (1.154)\tData 0.003 (0.090)\n",
            "Train Epoch: 50\t[3840/5124 (74%)]\tLoss: 0.004737\tAccuracy: 100.000000\tTime 1.183 (1.157)\tData 0.002 (0.090)\n",
            "Train Epoch: 50\t[4480/5124 (86%)]\tLoss: 0.004941\tAccuracy: 100.000000\tTime 1.172 (1.159)\tData 0.002 (0.091)\n",
            "Train Epoch: 50\t[320/5124 (99%)]\tLoss: 0.003312\tAccuracy: 100.000000\tTime 0.927 (1.157)\tData 0.001 (0.091)\n",
            "\n",
            "Val set: Average loss: 0.008532, Accuracy: 99.724265 \n",
            "\n",
            "\n",
            "Val set: Average loss: 0.008532, Accuracy: 99.724265 \n",
            "\n",
            "\n",
            "\n",
            "Best validation accuracy: 99.908088\n",
            "\n",
            " Total time taken in seconds:  4879.639009714127\n"
          ]
        }
      ]
    },
    {
      "cell_type": "code",
      "source": [
        "model = CapsNet(A=A, B=B, C=C, D=D, E=num_class, iters=em_iters).to(device)\n",
        "model.load_state_dict(torch.load('./model.pth'))\n",
        "test(test_loader, model, criterion, device, test=True);"
      ],
      "metadata": {
        "colab": {
          "base_uri": "https://localhost:8080/"
        },
        "id": "pXBjXKTMiylU",
        "outputId": "2510ca40-8fdb-4469-ab06-09ff539d799b"
      },
      "execution_count": null,
      "outputs": [
        {
          "output_type": "stream",
          "name": "stdout",
          "text": [
            "\n",
            "Test set: Average loss: 0.014919, Accuracy: 99.831731 \n",
            "\n"
          ]
        }
      ]
    },
    {
      "cell_type": "code",
      "source": [
        "\n",
        "def AA_andEachClassAccuracy(confusion_matrix):\n",
        "    counter = confusion_matrix.shape[0]\n",
        "    list_diag = np.diag(confusion_matrix)\n",
        "    list_raw_sum = np.sum(confusion_matrix, axis=1)\n",
        "    each_acc = np.nan_to_num(truediv(list_diag, list_raw_sum))\n",
        "    average_acc = np.mean(each_acc)\n",
        "    return each_acc, average_acc"
      ],
      "metadata": {
        "id": "MOjVK5K1i2cY"
      },
      "execution_count": null,
      "outputs": []
    },
    {
      "cell_type": "code",
      "source": [
        "def report(model=model, test_loader=test_loader, criterion=criterion, device=device):\n",
        "\n",
        "    # Getting prediction vectors from test loader\n",
        "    y_pred = []\n",
        "    y_test = []\n",
        "    model.eval()\n",
        "    test_loss = 0\n",
        "    acc = 0\n",
        "    test_len = len(test_loader)\n",
        "    with torch.no_grad():\n",
        "        for data, target in test_loader:\n",
        "            output = model(data.to(device))\n",
        "            y_pred.extend(output.argmax(dim=1).float().tolist())\n",
        "            y_test.extend(target.tolist())\n",
        "\n",
        "    target_labels = [ '1', '2', '3', '4', '5', '6', '7', \n",
        "            '8', '9', '10', '11', '12', '13', '14', '15','16']\n",
        "\n",
        "    classificationReport = classification_report(y_test, y_pred, target_names=target_labels)\n",
        "    confusionMatrix = confusion_matrix(y_test, y_pred)\n",
        "    oa = accuracy_score(y_test, y_pred)\n",
        "    each_acc, aa = AA_andEachClassAccuracy(confusionMatrix)\n",
        "    kappa = cohen_kappa_score(y_test, y_pred)\n",
        "    test_loss, acc = test(test_loader, model, criterion, device, test=True)\n",
        "\n",
        "    print(\"------------------------ CONFUSION MATRIX -------------------------\")\n",
        "    print(confusionMatrix)\n",
        "\n",
        "    print(\"\\n\\n---------------------- CLASSIFICATION REPORT ----------------------\")\n",
        "    print(classificationReport)\n",
        "\n",
        "    print('\\n\\n------------------------ OVERALL ACCURACY -------------------------')\n",
        "    print(oa)\n",
        "\n",
        "    print('\\n\\n------------------------ AVERAGE ACCURACY -------------------------')\n",
        "    print(aa)\n",
        "\n",
        "    print('\\n\\n--------------------------- KAPPA SCORE ---------------------------')\n",
        "    print(kappa)\n",
        "\n",
        "    print('\\n\\n-------------------------- TEST ACCURACY --------------------------')\n",
        "    print('\\nTest set: Average loss: {:.6f}, Accuracy: {:.6f} \\n'.format(\n",
        "        test_loss, acc))\n",
        "\n",
        "report()"
      ],
      "metadata": {
        "id": "ud0wi_61i4WF",
        "colab": {
          "base_uri": "https://localhost:8080/"
        },
        "outputId": "10e90257-6419-4376-d6be-b3ffb3814ebc"
      },
      "execution_count": null,
      "outputs": [
        {
          "output_type": "stream",
          "name": "stdout",
          "text": [
            "\n",
            "Test set: Average loss: 0.014919, Accuracy: 99.831731 \n",
            "\n",
            "------------------------ CONFUSION MATRIX -------------------------\n",
            "[[ 18   0   0   0   0   0   0   0   0   0   0   0   0   0   0   0]\n",
            " [  0 569   2   0   0   0   0   0   0   0   0   0   0   0   0   0]\n",
            " [  0   0 332   0   0   0   0   0   0   0   0   0   0   0   0   0]\n",
            " [  0   0   0  94   0   0   0   0   0   0   0   0   0   0   0   0]\n",
            " [  0   0   0   0 194   0   0   0   0   0   0   0   0   0   0   0]\n",
            " [  0   0   0   0   0 292   0   0   0   0   0   0   0   0   0   0]\n",
            " [  0   0   0   0   1   0  10   0   0   0   0   0   0   0   0   0]\n",
            " [  0   0   0   0   0   0   0 191   0   0   0   0   0   0   0   0]\n",
            " [  0   0   0   0   0   0   0   0   8   0   0   0   0   0   0   0]\n",
            " [  0   0   0   0   0   0   0   0   0 389   0   0   0   0   0   0]\n",
            " [  0   1   0   0   0   0   0   0   0   0 982   0   0   0   0   0]\n",
            " [  0   0   0   0   0   0   0   0   0   0   0 237   0   0   0   1]\n",
            " [  0   0   0   0   0   0   0   0   0   0   0   0  82   0   0   0]\n",
            " [  0   0   0   0   0   0   0   0   0   0   0   0   0 506   0   0]\n",
            " [  0   0   0   0   0   0   0   0   0   0   0   0   0   0 154   0]\n",
            " [  0   0   0   0   0   0   0   0   0   0   0   2   0   0   0  35]]\n",
            "\n",
            "\n",
            "---------------------- CLASSIFICATION REPORT ----------------------\n",
            "              precision    recall  f1-score   support\n",
            "\n",
            "           1       1.00      1.00      1.00        18\n",
            "           2       1.00      1.00      1.00       571\n",
            "           3       0.99      1.00      1.00       332\n",
            "           4       1.00      1.00      1.00        94\n",
            "           5       0.99      1.00      1.00       194\n",
            "           6       1.00      1.00      1.00       292\n",
            "           7       1.00      0.91      0.95        11\n",
            "           8       1.00      1.00      1.00       191\n",
            "           9       1.00      1.00      1.00         8\n",
            "          10       1.00      1.00      1.00       389\n",
            "          11       1.00      1.00      1.00       983\n",
            "          12       0.99      1.00      0.99       238\n",
            "          13       1.00      1.00      1.00        82\n",
            "          14       1.00      1.00      1.00       506\n",
            "          15       1.00      1.00      1.00       154\n",
            "          16       0.97      0.95      0.96        37\n",
            "\n",
            "    accuracy                           1.00      4100\n",
            "   macro avg       1.00      0.99      0.99      4100\n",
            "weighted avg       1.00      1.00      1.00      4100\n",
            "\n",
            "\n",
            "\n",
            "------------------------ OVERALL ACCURACY -------------------------\n",
            "0.9982926829268293\n",
            "\n",
            "\n",
            "------------------------ AVERAGE ACCURACY -------------------------\n",
            "0.9903947033372746\n",
            "\n",
            "\n",
            "--------------------------- KAPPA SCORE ---------------------------\n",
            "0.9980533683645636\n",
            "\n",
            "\n",
            "-------------------------- TEST ACCURACY --------------------------\n",
            "\n",
            "Test set: Average loss: 0.014919, Accuracy: 99.831731 \n",
            "\n"
          ]
        }
      ]
    },
    {
      "cell_type": "code",
      "source": [
        "X,y = loadData()\n",
        "X = applyPCA(X)\n",
        "X = padWithZeros(X, windowSize//2)"
      ],
      "metadata": {
        "id": "ACE4KuJii9TR"
      },
      "execution_count": null,
      "outputs": []
    },
    {
      "cell_type": "code",
      "source": [
        "def Patch(data,height_index,width_index):\n",
        "    height_slice = slice(height_index, height_index + windowSize)\n",
        "    width_slice = slice(width_index, width_index + windowSize)\n",
        "    patch = data[height_slice, width_slice, :]\n",
        "    return patch"
      ],
      "metadata": {
        "id": "-3a7aibGi90I"
      },
      "execution_count": null,
      "outputs": []
    },
    {
      "cell_type": "code",
      "source": [
        "height,width = y.shape[0],y.shape[1]\n",
        "outputs = np.zeros((height,width))\n",
        "model.eval()\n",
        "with torch.no_grad():\n",
        "  for i in range(height):\n",
        "      for j in range(width):\n",
        "          target = int(y[i,j])\n",
        "          if target == 0 :\n",
        "              continue\n",
        "          else :\n",
        "            image_patch=Patch(X,i,j)\n",
        "            X_test_image = image_patch.transpose(2,0,1)\n",
        "            X_test_image = X_test_image.reshape(1,X_test_image.shape[0],X_test_image.shape[1], X_test_image.shape[2])\n",
        "            X_test_image = torch.Tensor(X_test_image).to(device)\n",
        "            pred = model(X_test_image)\n",
        "            pred = pred.cpu().numpy()\n",
        "            pred = np.argmax(pred, axis=-1)\n",
        "            outputs[i][j] = pred[0]+1"
      ],
      "metadata": {
        "id": "VtiaTXE1gHYc"
      },
      "execution_count": null,
      "outputs": []
    },
    {
      "cell_type": "code",
      "source": [
        "# height,width = y.shape[0],y.shape[1]\n",
        "# outputs = np.zeros((height,width))\n",
        "# model.eval()\n",
        "# with torch.no_grad():\n",
        "#   for i in range(height):\n",
        "#       for j in range(width):\n",
        "#           target = int(y[i,j])\n",
        "#           #if target == 0 :\n",
        "#           #    continue\n",
        "#           #else :\n",
        "#           image_patch=Patch(X,i,j)\n",
        "#           X_test_image = image_patch.transpose(2,0,1)\n",
        "#           X_test_image = X_test_image.reshape(1,X_test_image.shape[0],X_test_image.shape[1], X_test_image.shape[2])\n",
        "#           X_test_image = torch.Tensor(X_test_image).to(device)\n",
        "#           pred = model(X_test_image)\n",
        "#           pred = pred.cpu().numpy()\n",
        "#           pred = np.argmax(pred, axis=-1)\n",
        "#           outputs[i][j] = pred[0]"
      ],
      "metadata": {
        "id": "sISoRhoqjBH0"
      },
      "execution_count": null,
      "outputs": []
    },
    {
      "cell_type": "code",
      "source": [
        "ground_truth = spectral.imshow(classes = y,figsize =(7,7))"
      ],
      "metadata": {
        "id": "xiInlTHCjBxA",
        "colab": {
          "base_uri": "https://localhost:8080/",
          "height": 431
        },
        "outputId": "4affb9b1-3356-4d54-b721-7f0d47c14c8f"
      },
      "execution_count": null,
      "outputs": [
        {
          "output_type": "display_data",
          "data": {
            "text/plain": [
              "<Figure size 504x504 with 1 Axes>"
            ],
            "image/png": "[encoded data removed]"
          },
          "metadata": {
            "needs_background": "light"
          }
        }
      ]
    },
    {
      "cell_type": "code",
      "source": [
        "predict_image = spectral.imshow(classes = outputs.astype(int),figsize =(7,7))"
      ],
      "metadata": {
        "id": "VnJyyXjZjFo0",
        "colab": {
          "base_uri": "https://localhost:8080/",
          "height": 431
        },
        "outputId": "d694e548-cc13-433e-c59e-85284faab84f"
      },
      "execution_count": null,
      "outputs": [
        {
          "output_type": "display_data",
          "data": {
            "text/plain": [
              "<Figure size 504x504 with 1 Axes>"
            ],
            "image/png": "[encoded data removed]"
          },
          "metadata": {
            "needs_background": "light"
          }
        }
      ]
    },
    {
      "cell_type": "code",
      "source": [
        "import matplotlib.pyplot as plt "
      ],
      "metadata": {
        "id": "D4LdjA_s93ID"
      },
      "execution_count": null,
      "outputs": []
    },
    {
      "cell_type": "code",
      "source": [
        "abc=ground_truth\n",
        "eee=predict_image"
      ],
      "metadata": {
        "id": "c1FoiGl-96cM"
      },
      "execution_count": null,
      "outputs": []
    },
    {
      "cell_type": "code",
      "source": [
        "tr=outputs"
      ],
      "metadata": {
        "id": "eNVVAI-N9_-Z"
      },
      "execution_count": null,
      "outputs": []
    },
    {
      "cell_type": "code",
      "source": [
        "gt_labels=sio.loadmat(\"Indian_pines_ground_truth.mat\")['indian_pines_gt']"
      ],
      "metadata": {
        "id": "fFg6dEucabKx"
      },
      "execution_count": null,
      "outputs": []
    },
    {
      "cell_type": "code",
      "source": [
        "plt.figure(figsize=(7,7))\n",
        "plt.imshow(tr)\n",
        "plt.axis(\"off\");"
      ],
      "metadata": {
        "colab": {
          "base_uri": "https://localhost:8080/",
          "height": 411
        },
        "id": "U-ugTl8OLREN",
        "outputId": "793957d6-0780-4c60-e419-3be014d0cfe4"
      },
      "execution_count": null,
      "outputs": [
        {
          "output_type": "display_data",
          "data": {
            "text/plain": [
              "<Figure size 504x504 with 1 Axes>"
            ],
            "image/png": "[encoded data removed]"
          },
          "metadata": {
            "needs_background": "light"
          }
        }
      ]
    },
    {
      "cell_type": "code",
      "source": [
        "plt.imshow(tr)\n",
        "plt.imshow(gt_labels)"
      ],
      "metadata": {
        "id": "QgZdW4OissVY",
        "colab": {
          "base_uri": "https://localhost:8080/",
          "height": 286
        },
        "outputId": "2c6cd6dc-d4b3-4e8d-aaf2-78fc6faafeb0"
      },
      "execution_count": null,
      "outputs": [
        {
          "output_type": "execute_result",
          "data": {
            "text/plain": [
              "<matplotlib.image.AxesImage at 0x7f9b5820da00>"
            ]
          },
          "metadata": {},
          "execution_count": 49
        },
        {
          "output_type": "display_data",
          "data": {
            "text/plain": [
              "<Figure size 432x288 with 1 Axes>"
            ],
            "image/png": "[encoded data removed]"
          },
          "metadata": {
            "needs_background": "light"
          }
        }
      ]
    },
    {
      "cell_type": "code",
      "source": [
        "from keras.metrics import MeanIoU \n",
        "IOU_mean=MeanIoU(num_classes=17)\n",
        "IOU_mean.update_state(tr,gt_labels)\n",
        "print(IOU_mean.result().numpy())"
      ],
      "metadata": {
        "id": "twIUDzM1s020",
        "colab": {
          "base_uri": "https://localhost:8080/"
        },
        "outputId": "afd581a2-fccf-4995-c83f-718aeb7a7092"
      },
      "execution_count": null,
      "outputs": [
        {
          "output_type": "stream",
          "name": "stdout",
          "text": [
            "0.993271\n"
          ]
        }
      ]
    },
    {
      "cell_type": "code",
      "source": [
        "# wtf=# Mean IoU\n",
        "# from keras.metrics import MeanIoU \n",
        "# IOU_mean=MeanIoU(num_classes=n_clases)\n",
        "# IOU_mean.update_state(y_pred,labels)\n",
        "# print(\"Mean IoU\",IOU_mean.result().numpy())"
      ],
      "metadata": {
        "id": "4zPUK5Cs_J4P"
      },
      "execution_count": null,
      "outputs": []
    },
    {
      "cell_type": "code",
      "source": [
        "from keras.metrics import IoU\n",
        "clases=[\"UNLABELED\",\"ALFALFA\",\"CORN-NOTILL\",\"CORN_MINTILL\",\"CORN\",\"GRASS-PASTURE\",\"GRASS_TREES\",\"GRASS_PASTURE_MOWED\",\"HAY_WINDROWED\",\"OATS\",\"SOYBEAN_NOTILL\",\"SOYBEAN-MINTILL\",\"SOYBEAN_CLEAN\",\"WHEAT\",\"WOODS\",\"BUILDING_GRASS_TREES_DRIVES\",\"STONE_STEEL_TOWERS\"]\n",
        "IoU_class_report=[]\n",
        "for i in range(17):\n",
        "    IoU_class=IoU(num_classes=17,target_class_ids=[i])\n",
        "    IoU_class.update_state(tr,gt_labels)\n",
        "    IoU_class_report.append(IoU_class.result().numpy())\n",
        "    print(clases[i],\":\", IoU_class.result().numpy())"
      ],
      "metadata": {
        "id": "OWvFP-KCttME"
      },
      "execution_count": null,
      "outputs": []
    }
  ]
}
