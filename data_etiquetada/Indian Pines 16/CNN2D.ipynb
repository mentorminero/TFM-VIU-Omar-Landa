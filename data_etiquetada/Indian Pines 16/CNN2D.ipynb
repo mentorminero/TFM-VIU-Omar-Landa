{
  "cells": [
    {
      "cell_type": "markdown",
      "metadata": {
        "id": "mEhKpIX_5R1L"
      },
      "source": [
        "### 1. Preparación del dataset"
      ]
    },
    {
      "cell_type": "markdown",
      "metadata": {
        "id": "_wLxvJ-t5R1P"
      },
      "source": [
        "#### 1.1. Lectura del conjunto de datos"
      ]
    },
    {
      "cell_type": "code",
      "execution_count": 1,
      "metadata": {
        "id": "iMF11JwQ5R1P"
      },
      "outputs": [],
      "source": [
        "from scipy.io import loadmat\n",
        "data=loadmat(\"Indian_pines_corrected_image.mat\")['indian_pines_corrected']\n",
        "labels=loadmat(\"Indian_pines_ground_truth.mat\")['indian_pines_gt']\n",
        "H,W,C=data.shape"
      ]
    },
    {
      "cell_type": "markdown",
      "metadata": {
        "id": "dHBKDQW15R1Q"
      },
      "source": [
        "#### 1.2. Reducción de la dimensionalidad"
      ]
    },
    {
      "cell_type": "code",
      "execution_count": 2,
      "metadata": {
        "id": "R8S5fnFy5R1R"
      },
      "outputs": [],
      "source": [
        "from sklearn.decomposition import PCA\n",
        "n_components=22 \n",
        "data=data.reshape(H*W,C)\n",
        "pca=PCA(n_components=n_components,whiten=True)\n",
        "data=pca.fit_transform(data)"
      ]
    },
    {
      "cell_type": "markdown",
      "metadata": {
        "id": "5FIwV9yC5R1S"
      },
      "source": [
        "#### 1.3. Normalización de los datos"
      ]
    },
    {
      "cell_type": "code",
      "execution_count": 3,
      "metadata": {
        "id": "7hYF0Dp05R1S"
      },
      "outputs": [],
      "source": [
        "from sklearn.preprocessing import StandardScaler\n",
        "standar_scaler=StandardScaler()\n",
        "data=standar_scaler.fit_transform(data)\n",
        "data=data.reshape(H,W,n_components);"
      ]
    },
    {
      "cell_type": "markdown",
      "metadata": {
        "id": "KjiRINWq5R1T"
      },
      "source": [
        "#### 1.4. Aproximación parche a pixel"
      ]
    },
    {
      "cell_type": "code",
      "execution_count": 4,
      "metadata": {
        "id": "jSW-YDIE7BFm"
      },
      "outputs": [],
      "source": [
        "import numpy as np\n",
        "\n",
        "def padWithZeros(X, margin=2):\n",
        "    newX=np.zeros((X.shape[0]+2*margin,X.shape[1]+2*margin, X.shape[2]))\n",
        "    x_offset=margin\n",
        "    y_offset=margin \n",
        "    newX[x_offset:X.shape[0]+x_offset, y_offset:X.shape[1]+y_offset,:]=X\n",
        "    return newX\n",
        "\n",
        "def createImageCubes(X,y,windowSize=9, removeZeroLabels=True): \n",
        "    margin=int((windowSize-1)/2)\n",
        "    zeroPaddedX=padWithZeros(X,margin=margin)\n",
        "    patchesData=np.zeros((X.shape[0]*X.shape[1],windowSize,windowSize,X.shape[2]))\n",
        "    patchesLabels=np.zeros((X.shape[0]*X.shape[1]))\n",
        "    patchIndex=0\n",
        "    for r in range(margin,zeroPaddedX.shape[0]-margin):\n",
        "        for c in range(margin,zeroPaddedX.shape[1]-margin):\n",
        "            patch=zeroPaddedX[r-margin:r+margin+1,c-margin:c+margin+1]\n",
        "            patchesData[patchIndex,:,:,:]=patch \n",
        "            patchesLabels[patchIndex]=y[r-margin,c-margin]\n",
        "            patchIndex=patchIndex+1\n",
        "    if removeZeroLabels:\n",
        "        patchesData=patchesData[patchesLabels>0,:,:,:]\n",
        "        patchesLabels=patchesLabels[patchesLabels>0]\n",
        "        patchesLabels -=1\n",
        "    from keras.utils import np_utils\n",
        "    patchesLabels=np_utils.to_categorical(patchesLabels)\n",
        "    return patchesData,patchesLabels "
      ]
    },
    {
      "cell_type": "markdown",
      "metadata": {
        "id": "A3MGlZyuYeNd"
      },
      "source": [
        "#### 1.5. Acondicionar el conjunto de datos"
      ]
    },
    {
      "cell_type": "code",
      "execution_count": 5,
      "metadata": {
        "id": "Jy70nu4u5R1T"
      },
      "outputs": [],
      "source": [
        "x_train,y_train=createImageCubes(data,labels,removeZeroLabels=True)"
      ]
    },
    {
      "cell_type": "code",
      "execution_count": 6,
      "metadata": {
        "id": "dSY5Jis85R1U"
      },
      "outputs": [],
      "source": [
        "n_clases=y_train.shape[1]"
      ]
    },
    {
      "cell_type": "markdown",
      "metadata": {
        "id": "QD7kXWODYZYH"
      },
      "source": [
        "#### 1.6. Partir Dataset"
      ]
    },
    {
      "cell_type": "code",
      "execution_count": 7,
      "metadata": {
        "id": "id7WkYYp5R1U"
      },
      "outputs": [],
      "source": [
        "# TEST 40%, TRAIN 48%, VALIDATION 12%\n",
        "from sklearn.model_selection import train_test_split\n",
        "x_train,x_test,y_train,y_test=train_test_split(x_train,y_train,test_size=0.4,shuffle=True,random_state=0,stratify=y_train)\n",
        "x_train,x_val,y_train,y_val=train_test_split(x_train,y_train,test_size=0.2,shuffle=True,random_state=0,stratify=y_train)"
      ]
    },
    {
      "cell_type": "markdown",
      "metadata": {
        "id": "BpfU-UCd5R1U"
      },
      "source": [
        "### 2. Red Neuronal Convolucional"
      ]
    },
    {
      "cell_type": "code",
      "execution_count": 8,
      "metadata": {
        "id": "eTrVFER95R1V"
      },
      "outputs": [],
      "source": [
        "from tensorflow.keras.layers import Input,Conv2D,Dropout,BatchNormalization,Flatten,Dense,LayerNormalization\n",
        "from tensorflow.keras.models import Model \n",
        "from tensorflow.keras.callbacks import EarlyStopping"
      ]
    },
    {
      "cell_type": "code",
      "execution_count": 9,
      "metadata": {
        "id": "eBwG7dGmrhP1"
      },
      "outputs": [],
      "source": [
        "shapes=(9,9,n_components)\n",
        "inputs=Input(shapes)\n",
        "x=Conv2D(64,(3,3),activation=\"relu\",padding=\"same\")(inputs) \n",
        "x=Dropout(0.2)(x)\n",
        "x=BatchNormalization()(x)\n",
        "x=Conv2D(32,(3,3),activation=\"relu\")(x)\n",
        "x=Dropout(0.2)(x)\n",
        "x=BatchNormalization()(x)\n",
        "x=Conv2D(32,(3,3),activation=\"relu\")(x)\n",
        "x=Dropout(0.2)(x)\n",
        "x=BatchNormalization()(x)\n",
        "x=Flatten()(x)\n",
        "x=Dense(n_clases,activation=\"relu\")(x) \n",
        "x=Dropout(0.2)(x)\n",
        "x=Dense(n_clases,activation=\"softmax\")(x)\n",
        "\n",
        "model=Model(inputs=inputs,outputs=x)\n",
        "model.compile(optimizer=\"adam\", loss=\"categorical_crossentropy\", metrics=[\"accuracy\"])"
      ]
    },
    {
      "cell_type": "code",
      "execution_count": 10,
      "metadata": {
        "id": "YeqaoidY5R1W"
      },
      "outputs": [],
      "source": [
        "callback=EarlyStopping(monitor=\"val_accuracy\", patience=10, restore_best_weights=True)"
      ]
    },
    {
      "cell_type": "markdown",
      "metadata": {
        "id": "pN8SBdnr5R1W"
      },
      "source": [
        "#### 2.1. Entrenamiento"
      ]
    },
    {
      "cell_type": "code",
      "execution_count": 11,
      "metadata": {
        "colab": {
          "base_uri": "https://localhost:8080/"
        },
        "id": "aEFPXM2_5R1W",
        "outputId": "253994c7-a9dc-45a6-ef7a-84beadfdaf30"
      },
      "outputs": [
        {
          "name": "stdout",
          "output_type": "stream",
          "text": [
            "Epoch 1/100\n",
            "39/39 [==============================] - 5s 43ms/step - loss: 2.2802 - accuracy: 0.3062 - val_loss: 1.6241 - val_accuracy: 0.6138\n",
            "Epoch 2/100\n",
            "39/39 [==============================] - 1s 16ms/step - loss: 1.1836 - accuracy: 0.6371 - val_loss: 0.8996 - val_accuracy: 0.7732\n",
            "Epoch 3/100\n",
            "39/39 [==============================] - 1s 16ms/step - loss: 0.7625 - accuracy: 0.7455 - val_loss: 0.5525 - val_accuracy: 0.8610\n",
            "Epoch 4/100\n",
            "39/39 [==============================] - 1s 16ms/step - loss: 0.5333 - accuracy: 0.8183 - val_loss: 0.3748 - val_accuracy: 0.8789\n",
            "Epoch 5/100\n",
            "39/39 [==============================] - 1s 16ms/step - loss: 0.3724 - accuracy: 0.8764 - val_loss: 0.1725 - val_accuracy: 0.9675\n",
            "Epoch 6/100\n",
            "39/39 [==============================] - 1s 16ms/step - loss: 0.2680 - accuracy: 0.9140 - val_loss: 0.1155 - val_accuracy: 0.9699\n",
            "Epoch 7/100\n",
            "39/39 [==============================] - 1s 16ms/step - loss: 0.2232 - accuracy: 0.9286 - val_loss: 0.0660 - val_accuracy: 0.9862\n",
            "Epoch 8/100\n",
            "39/39 [==============================] - 1s 15ms/step - loss: 0.1756 - accuracy: 0.9439 - val_loss: 0.0557 - val_accuracy: 0.9837\n",
            "Epoch 9/100\n",
            "39/39 [==============================] - 1s 15ms/step - loss: 0.1475 - accuracy: 0.9532 - val_loss: 0.0287 - val_accuracy: 0.9927\n",
            "Epoch 10/100\n",
            "39/39 [==============================] - 1s 14ms/step - loss: 0.1437 - accuracy: 0.9543 - val_loss: 0.0297 - val_accuracy: 0.9902\n",
            "Epoch 11/100\n",
            "39/39 [==============================] - 1s 13ms/step - loss: 0.1185 - accuracy: 0.9618 - val_loss: 0.0342 - val_accuracy: 0.9911\n",
            "Epoch 12/100\n",
            "39/39 [==============================] - 1s 14ms/step - loss: 0.1135 - accuracy: 0.9606 - val_loss: 0.0216 - val_accuracy: 0.9959\n",
            "Epoch 13/100\n",
            "39/39 [==============================] - 1s 14ms/step - loss: 0.1102 - accuracy: 0.9640 - val_loss: 0.0151 - val_accuracy: 0.9935\n",
            "Epoch 14/100\n",
            "39/39 [==============================] - 1s 14ms/step - loss: 0.0978 - accuracy: 0.9658 - val_loss: 0.0148 - val_accuracy: 0.9935\n",
            "Epoch 15/100\n",
            "39/39 [==============================] - 1s 13ms/step - loss: 0.0911 - accuracy: 0.9705 - val_loss: 0.0234 - val_accuracy: 0.9927\n",
            "Epoch 16/100\n",
            "39/39 [==============================] - 1s 14ms/step - loss: 0.0949 - accuracy: 0.9709 - val_loss: 0.0293 - val_accuracy: 0.9911\n",
            "Epoch 17/100\n",
            "39/39 [==============================] - 1s 14ms/step - loss: 0.0790 - accuracy: 0.9756 - val_loss: 0.0089 - val_accuracy: 0.9959\n",
            "Epoch 18/100\n",
            "39/39 [==============================] - 1s 14ms/step - loss: 0.0781 - accuracy: 0.9760 - val_loss: 0.0130 - val_accuracy: 0.9943\n",
            "Epoch 19/100\n",
            "39/39 [==============================] - 1s 15ms/step - loss: 0.0706 - accuracy: 0.9791 - val_loss: 0.0100 - val_accuracy: 0.9967\n",
            "Epoch 20/100\n",
            "39/39 [==============================] - 1s 14ms/step - loss: 0.0588 - accuracy: 0.9809 - val_loss: 0.0067 - val_accuracy: 0.9992\n",
            "Epoch 21/100\n",
            "39/39 [==============================] - 1s 15ms/step - loss: 0.0646 - accuracy: 0.9799 - val_loss: 0.0094 - val_accuracy: 0.9967\n",
            "Epoch 22/100\n",
            "39/39 [==============================] - 1s 16ms/step - loss: 0.0540 - accuracy: 0.9813 - val_loss: 0.0133 - val_accuracy: 0.9967\n",
            "Epoch 23/100\n",
            "39/39 [==============================] - 1s 15ms/step - loss: 0.0571 - accuracy: 0.9795 - val_loss: 0.0098 - val_accuracy: 0.9967\n",
            "Epoch 24/100\n",
            "39/39 [==============================] - 1s 13ms/step - loss: 0.0506 - accuracy: 0.9837 - val_loss: 0.0067 - val_accuracy: 0.9976\n",
            "Epoch 25/100\n",
            "39/39 [==============================] - 1s 14ms/step - loss: 0.0561 - accuracy: 0.9819 - val_loss: 0.0068 - val_accuracy: 0.9992\n",
            "Epoch 26/100\n",
            "39/39 [==============================] - 1s 13ms/step - loss: 0.0518 - accuracy: 0.9845 - val_loss: 0.0022 - val_accuracy: 0.9992\n",
            "Epoch 27/100\n",
            "39/39 [==============================] - 1s 13ms/step - loss: 0.0490 - accuracy: 0.9839 - val_loss: 0.0056 - val_accuracy: 0.9984\n",
            "Epoch 28/100\n",
            "39/39 [==============================] - 1s 14ms/step - loss: 0.0910 - accuracy: 0.9758 - val_loss: 0.0038 - val_accuracy: 1.0000\n",
            "Epoch 29/100\n",
            "39/39 [==============================] - 1s 13ms/step - loss: 0.0541 - accuracy: 0.9831 - val_loss: 0.0098 - val_accuracy: 0.9967\n",
            "Epoch 30/100\n",
            "39/39 [==============================] - 1s 13ms/step - loss: 0.0545 - accuracy: 0.9821 - val_loss: 0.0284 - val_accuracy: 0.9943\n",
            "Epoch 31/100\n",
            "39/39 [==============================] - 1s 13ms/step - loss: 0.0486 - accuracy: 0.9829 - val_loss: 0.0016 - val_accuracy: 1.0000\n",
            "Epoch 32/100\n",
            "39/39 [==============================] - 1s 13ms/step - loss: 0.0578 - accuracy: 0.9815 - val_loss: 0.0060 - val_accuracy: 0.9984\n",
            "Epoch 33/100\n",
            "39/39 [==============================] - 1s 13ms/step - loss: 0.0452 - accuracy: 0.9850 - val_loss: 0.0253 - val_accuracy: 0.9935\n",
            "Epoch 34/100\n",
            "39/39 [==============================] - 1s 13ms/step - loss: 0.0527 - accuracy: 0.9811 - val_loss: 0.0023 - val_accuracy: 0.9992\n",
            "Epoch 35/100\n",
            "39/39 [==============================] - 1s 13ms/step - loss: 0.0332 - accuracy: 0.9909 - val_loss: 0.0031 - val_accuracy: 0.9984\n",
            "Epoch 36/100\n",
            "39/39 [==============================] - 1s 15ms/step - loss: 0.0406 - accuracy: 0.9870 - val_loss: 0.0030 - val_accuracy: 0.9992\n",
            "Epoch 37/100\n",
            "39/39 [==============================] - 1s 14ms/step - loss: 0.0450 - accuracy: 0.9848 - val_loss: 0.0076 - val_accuracy: 0.9976\n",
            "Epoch 38/100\n",
            "39/39 [==============================] - 1s 14ms/step - loss: 0.0482 - accuracy: 0.9841 - val_loss: 0.0172 - val_accuracy: 0.9943\n"
          ]
        }
      ],
      "source": [
        "history=model.fit(x_train,y_train,epochs=100,batch_size=128,validation_data=(x_val,y_val),callbacks=[callback])"
      ]
    },
    {
      "cell_type": "code",
      "execution_count": 12,
      "metadata": {},
      "outputs": [],
      "source": [
        "dic_curves_IP={}\n",
        "dic_curves_IP[\"val_accuracy\"]=history.history[\"val_accuracy\"]\n",
        "dic_curves_IP[\"accuracy\"]=history.history[\"accuracy\"]\n",
        "dic_curves_IP[\"loss\"]=history.history[\"loss\"]\n",
        "dic_curves_IP[\"val_loss\"]=history.history[\"val_loss\"]\n",
        "\n",
        "import pickle \n",
        "\n",
        "with open(\"accu_loss_CNN2D.pkl\",\"wb\") as f:\n",
        "    pickle.dump(dic_curves_IP,f)"
      ]
    },
    {
      "cell_type": "markdown",
      "metadata": {
        "id": "PDLQ_6k85R1X"
      },
      "source": [
        "#### 3. Evaluación"
      ]
    },
    {
      "cell_type": "markdown",
      "metadata": {
        "id": "uZxwwFm7YrRY"
      },
      "source": [
        "#### 3.1. Evaluacion Test"
      ]
    },
    {
      "cell_type": "code",
      "execution_count": 13,
      "metadata": {
        "colab": {
          "base_uri": "https://localhost:8080/"
        },
        "id": "wvpN6KXp5R1X",
        "outputId": "dc8fec53-72b2-4816-d25e-e5de43dd7abd"
      },
      "outputs": [
        {
          "name": "stdout",
          "output_type": "stream",
          "text": [
            "129/129 [==============================] - 1s 7ms/step - loss: 0.0183 - accuracy: 0.9956\n"
          ]
        }
      ],
      "source": [
        "evaluacion_test=model.evaluate(x_test,y_test)"
      ]
    },
    {
      "cell_type": "markdown",
      "metadata": {
        "id": "bPkuxHOoYusx"
      },
      "source": [
        "#### 3.2. Classification Report"
      ]
    },
    {
      "cell_type": "code",
      "execution_count": 14,
      "metadata": {
        "colab": {
          "base_uri": "https://localhost:8080/"
        },
        "id": "v94acefT5R1X",
        "outputId": "11378a53-243f-4caa-df85-59afe56a27fe"
      },
      "outputs": [
        {
          "name": "stdout",
          "output_type": "stream",
          "text": [
            "129/129 [==============================] - 1s 4ms/step\n",
            "                             precision    recall  f1-score   support\n",
            "\n",
            "                    ALFALFA       1.00      1.00      1.00        19\n",
            "                CORN-NOTILL       1.00      0.98      0.99       571\n",
            "               CORN_MINTILL       1.00      1.00      1.00       332\n",
            "                       CORN       1.00      1.00      1.00        95\n",
            "              GRASS-PASTURE       1.00      1.00      1.00       193\n",
            "                GRASS_TREES       1.00      1.00      1.00       292\n",
            "        GRASS_PASTURE_MOWED       1.00      1.00      1.00        11\n",
            "              HAY_WINDROWED       1.00      1.00      1.00       191\n",
            "                       OATS       1.00      1.00      1.00         8\n",
            "             SOYBEAN_NOTILL       1.00      0.99      1.00       389\n",
            "            SOYBEAN-MINTILL       0.99      1.00      0.99       982\n",
            "              SOYBEAN_CLEAN       1.00      0.99      1.00       237\n",
            "                      WHEAT       1.00      1.00      1.00        82\n",
            "                      WOODS       1.00      1.00      1.00       506\n",
            "BUILDING_GRASS_TREES_DRIVES       0.99      0.99      0.99       155\n",
            "         STONE_STEEL_TOWERS       0.97      1.00      0.99        37\n",
            "\n",
            "                   accuracy                           1.00      4100\n",
            "                  macro avg       1.00      1.00      1.00      4100\n",
            "               weighted avg       1.00      1.00      1.00      4100\n",
            "\n"
          ]
        }
      ],
      "source": [
        "y_pred=model.predict(x_test)\n",
        "y_pred=np.argmax(y_pred,axis=1)\n",
        "from sklearn.metrics import classification_report\n",
        "clases_dataset_IP=[\"ALFALFA\",\"CORN-NOTILL\",\"CORN_MINTILL\",\"CORN\",\"GRASS-PASTURE\",\"GRASS_TREES\",\"GRASS_PASTURE_MOWED\",\"HAY_WINDROWED\",\"OATS\",\"SOYBEAN_NOTILL\",\"SOYBEAN-MINTILL\",\"SOYBEAN_CLEAN\",\"WHEAT\",\"WOODS\",\"BUILDING_GRASS_TREES_DRIVES\",\"STONE_STEEL_TOWERS\"]\n",
        "target_names=clases_dataset_IP\n",
        "classification=classification_report(np.argmax(y_test,axis=1),y_pred,target_names=target_names)\n",
        "print(classification)"
      ]
    },
    {
      "cell_type": "markdown",
      "metadata": {
        "id": "bpyxAcTAY_mO"
      },
      "source": [
        "#### 3.3. Cohen Kappa"
      ]
    },
    {
      "cell_type": "code",
      "execution_count": 15,
      "metadata": {
        "colab": {
          "base_uri": "https://localhost:8080/"
        },
        "id": "7Y2yvdGsZUr0",
        "outputId": "464f9d23-eb15-413b-8926-c094e3330e7d"
      },
      "outputs": [],
      "source": [
        "from sklearn.metrics import cohen_kappa_score\n",
        "a=y_pred\n",
        "b=np.argmax(y_test,axis=1)\n",
        "cks=cohen_kappa_score(a,b)\n",
        "cks\n",
        "\n",
        "np.save(\"cohen_kappa_score_cnn2d\",cks)"
      ]
    },
    {
      "cell_type": "code",
      "execution_count": 16,
      "metadata": {},
      "outputs": [
        {
          "data": {
            "text/plain": [
              "array(0.99499372)"
            ]
          },
          "execution_count": 16,
          "metadata": {},
          "output_type": "execute_result"
        }
      ],
      "source": [
        "import numpy as np \n",
        "np.load(\"cohen_kappa_score_cnn2d.npy\")"
      ]
    },
    {
      "cell_type": "code",
      "execution_count": 17,
      "metadata": {},
      "outputs": [],
      "source": [
        "import pandas as pd \n",
        "\n",
        "pd_reporte_clasificacion=pd.DataFrame(classification_report(np.argmax(y_test,axis=1),y_pred,target_names=target_names,output_dict=True)).transpose()\n",
        "pd_reporte_clasificacion.to_csv(\"reporte_clasificacion_cnn2d.csv\")"
      ]
    },
    {
      "cell_type": "code",
      "execution_count": 18,
      "metadata": {
        "colab": {
          "base_uri": "https://localhost:8080/"
        },
        "id": "skSUfSLs5R1X",
        "outputId": "99d4891a-e5d5-4d6e-9569-dad4c7666f21"
      },
      "outputs": [
        {
          "name": "stdout",
          "output_type": "stream",
          "text": [
            "165/165 [==============================] - 1s 5ms/step\n"
          ]
        }
      ],
      "source": [
        "y_pred,_=createImageCubes(data,labels,removeZeroLabels=False)\n",
        "y_pred=model.predict(y_pred,batch_size=128)\n",
        "y_pred=np.argmax(y_pred,axis=1)\n",
        "y_pred=y_pred.reshape(H,W)"
      ]
    },
    {
      "cell_type": "code",
      "execution_count": 19,
      "metadata": {},
      "outputs": [],
      "source": [
        "pred_gt=y_pred+np.ones_like(y_pred)"
      ]
    },
    {
      "cell_type": "code",
      "execution_count": 20,
      "metadata": {},
      "outputs": [],
      "source": [
        "mask=np.array([labels])>0 # Generamos máscaras.\n",
        "mask=mask.astype(\"uint8\")\n",
        "y_pred=mask*pred_gt\n",
        "y_pred=y_pred.reshape(data.shape[0],data.shape[1])"
      ]
    },
    {
      "cell_type": "code",
      "execution_count": 21,
      "metadata": {
        "colab": {
          "base_uri": "https://localhost:8080/",
          "height": 248
        },
        "id": "nkgp4lKB5R1Y",
        "outputId": "aa48a459-ca93-4d9c-c378-0f58cbee8960"
      },
      "outputs": [
        {
          "data": {
            "image/png": "[encoded data removed]",
            "text/plain": [
              "<Figure size 432x288 with 1 Axes>"
            ]
          },
          "metadata": {
            "needs_background": "light"
          },
          "output_type": "display_data"
        }
      ],
      "source": [
        "import matplotlib.pyplot as plt \n",
        "plt.imshow(y_pred)\n",
        "plt.axis(\"off\");"
      ]
    },
    {
      "cell_type": "code",
      "execution_count": 22,
      "metadata": {},
      "outputs": [],
      "source": [
        "np.save(\"y_pred_cnn2d\",y_pred)"
      ]
    },
    {
      "cell_type": "code",
      "execution_count": 23,
      "metadata": {
        "colab": {
          "base_uri": "https://localhost:8080/",
          "height": 286
        },
        "id": "5foEvQ32VnlY",
        "outputId": "54d60d5c-2ea2-43e7-8322-784d12ff38a8"
      },
      "outputs": [
        {
          "data": {
            "text/plain": [
              "(-0.5, 144.5, 144.5, -0.5)"
            ]
          },
          "execution_count": 23,
          "metadata": {},
          "output_type": "execute_result"
        },
        {
          "data": {
            "image/png": "[encoded data removed]",
            "text/plain": [
              "<Figure size 432x288 with 1 Axes>"
            ]
          },
          "metadata": {
            "needs_background": "light"
          },
          "output_type": "display_data"
        }
      ],
      "source": [
        "plt.imshow(labels)\n",
        "plt.axis(\"off\")"
      ]
    },
    {
      "cell_type": "code",
      "execution_count": 24,
      "metadata": {},
      "outputs": [
        {
          "data": {
            "text/plain": [
              "0.9985222645028973"
            ]
          },
          "execution_count": 24,
          "metadata": {},
          "output_type": "execute_result"
        }
      ],
      "source": [
        "from sklearn.metrics import accuracy_score\n",
        "a=y_pred.reshape(H*W)\n",
        "b=labels.reshape(H*W)\n",
        "cohen_kappa_score(a,b)"
      ]
    },
    {
      "cell_type": "code",
      "execution_count": 25,
      "metadata": {},
      "outputs": [
        {
          "data": {
            "text/plain": [
              "0.9989536266349583"
            ]
          },
          "execution_count": 25,
          "metadata": {},
          "output_type": "execute_result"
        }
      ],
      "source": [
        "accuracy_score(a,b)"
      ]
    },
    {
      "cell_type": "code",
      "execution_count": 26,
      "metadata": {
        "colab": {
          "base_uri": "https://localhost:8080/"
        },
        "id": "Y7eo3zRRKzMl",
        "outputId": "50536104-8ddb-4405-fef1-b487fd0de2a0"
      },
      "outputs": [
        {
          "name": "stdout",
          "output_type": "stream",
          "text": [
            "Mean IoU 0.9969134\n"
          ]
        }
      ],
      "source": [
        "from keras.metrics import MeanIoU \n",
        "n_classes=17\n",
        "IOU_mean=MeanIoU(num_classes=n_classes)\n",
        "IOU_mean.update_state(y_pred,labels)\n",
        "print(\"Mean IoU\",IOU_mean.result().numpy())\n",
        "np.save(\"IoU_cnn2d\",IOU_mean.result().numpy()) # antes 0.9962 IoU"
      ]
    },
    {
      "cell_type": "code",
      "execution_count": 27,
      "metadata": {
        "colab": {
          "base_uri": "https://localhost:8080/"
        },
        "id": "Z0fwX8s-5R1Y",
        "outputId": "0a560e09-f225-4dfb-b2eb-682d35c04385"
      },
      "outputs": [
        {
          "name": "stdout",
          "output_type": "stream",
          "text": [
            "unlabeled : 1.0\n",
            "ALFALFA : 1.0\n",
            "CORN-NOTILL : 0.9909027\n",
            "CORN_MINTILL : 0.99879664\n",
            "CORN : 1.0\n",
            "GRASS-PASTURE : 1.0\n",
            "GRASS_TREES : 1.0\n",
            "GRASS_PASTURE_MOWED : 1.0\n",
            "HAY_WINDROWED : 1.0\n",
            "OATS : 1.0\n",
            "SOYBEAN_NOTILL : 0.99486125\n",
            "SOYBEAN-MINTILL : 0.9947304\n",
            "SOYBEAN_CLEAN : 0.99662733\n",
            "WHEAT : 1.0\n",
            "WOODS : 0.9976322\n",
            "BUILDING_GRASS_TREES_DRIVES : 0.9846154\n",
            "STONE_STEEL_TOWERS : 0.9893617\n"
          ]
        }
      ],
      "source": [
        "# IoU por clase.\n",
        "from keras.metrics import IoU\n",
        "clases=[\"unlabeled\",\"ALFALFA\",\"CORN-NOTILL\",\"CORN_MINTILL\",\"CORN\",\"GRASS-PASTURE\",\"GRASS_TREES\",\"GRASS_PASTURE_MOWED\",\"HAY_WINDROWED\",\"OATS\",\"SOYBEAN_NOTILL\",\"SOYBEAN-MINTILL\",\"SOYBEAN_CLEAN\",\"WHEAT\",\"WOODS\",\"BUILDING_GRASS_TREES_DRIVES\",\"STONE_STEEL_TOWERS\"]\n",
        "IoU_class_report=[]\n",
        "for i in range(17):\n",
        "    IoU_class=IoU(num_classes=17,target_class_ids=[i])\n",
        "    IoU_class.update_state(y_pred,labels)\n",
        "    IoU_class_report.append(IoU_class.result().numpy())\n",
        "    print(clases[i],\":\", IoU_class.result().numpy())"
      ]
    },
    {
      "cell_type": "code",
      "execution_count": 28,
      "metadata": {},
      "outputs": [],
      "source": [
        "np.save(\"reporte_IoU_cnn2d\",IoU_class_report)"
      ]
    },
    {
      "cell_type": "code",
      "execution_count": 29,
      "metadata": {
        "id": "0o9DYE8s5R1Y"
      },
      "outputs": [
        {
          "name": "stdout",
          "output_type": "stream",
          "text": [
            "1.0\n",
            "1.0\n",
            "0.9909027\n",
            "0.99879664\n",
            "1.0\n",
            "1.0\n",
            "1.0\n",
            "1.0\n",
            "1.0\n",
            "1.0\n",
            "0.99486125\n",
            "0.9947304\n",
            "0.99662733\n",
            "1.0\n",
            "0.9976322\n",
            "0.9846154\n",
            "0.9893617\n"
          ]
        }
      ],
      "source": [
        "from keras.metrics import IoU\n",
        "clases=[\"UNLABELED\",\"ALFALFA\",\"CORN-NOTILL\",\"CORN_MINTILL\",\"CORN\",\"GRASS-PASTURE\",\"GRASS_TREES\",\"GRASS_PASTURE_MOWED\",\"HAY_WINDROWED\",\"OATS\",\"SOYBEAN_NOTILL\",\"SOYBEAN-MINTILL\",\"SOYBEAN_CLEAN\",\"WHEAT\",\"WOODS\",\"BUILDING_GRASS_TREES_DRIVES\",\"STONE_STEEL_TOWERS\"]\n",
        "IoU_class_report=[]\n",
        "for i in range(n_clases+1):\n",
        "    IoU_class=IoU(num_classes=n_clases+1,target_class_ids=[i])\n",
        "    IoU_class.update_state(y_pred,labels)\n",
        "    IoU_class_report.append(IoU_class.result().numpy())\n",
        "    print(IoU_class.result().numpy())"
      ]
    }
  ],
  "metadata": {
    "accelerator": "GPU",
    "colab": {
      "provenance": []
    },
    "gpuClass": "standard",
    "kernelspec": {
      "display_name": "Python 3",
      "language": "python",
      "name": "python3"
    },
    "language_info": {
      "codemirror_mode": {
        "name": "ipython",
        "version": 3
      },
      "file_extension": ".py",
      "mimetype": "text/x-python",
      "name": "python",
      "nbconvert_exporter": "python",
      "pygments_lexer": "ipython3",
      "version": "3.7.2"
    },
    "orig_nbformat": 4,
    "vscode": {
      "interpreter": {
        "hash": "98d5674963b65db345bb78e3c5a3b7a8950200b887d8b92f8da01b49df867ecf"
      }
    }
  },
  "nbformat": 4,
  "nbformat_minor": 0
}
