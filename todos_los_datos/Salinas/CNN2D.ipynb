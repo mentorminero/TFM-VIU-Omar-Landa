{
  "cells": [
    {
      "cell_type": "markdown",
      "metadata": {
        "id": "mEhKpIX_5R1L"
      },
      "source": [
        "### 1. Preparación del dataset"
      ]
    },
    {
      "cell_type": "markdown",
      "metadata": {
        "id": "_wLxvJ-t5R1P"
      },
      "source": [
        "#### 1.1. Lectura del conjunto de datos"
      ]
    },
    {
      "cell_type": "code",
      "execution_count": 1,
      "metadata": {
        "id": "iMF11JwQ5R1P"
      },
      "outputs": [],
      "source": [
        "from scipy.io import loadmat\n",
        "data=loadmat(\"Salinas_corrected_image.mat\")['salinas_corrected']\n",
        "labels=loadmat(\"Salinas_ground_truth.mat\")['salinas_gt']\n",
        "H,W,C=data.shape"
      ]
    },
    {
      "cell_type": "markdown",
      "metadata": {
        "id": "dHBKDQW15R1Q"
      },
      "source": [
        "#### 1.2. Reducción de la dimensionalidad"
      ]
    },
    {
      "cell_type": "code",
      "execution_count": 2,
      "metadata": {
        "id": "R8S5fnFy5R1R"
      },
      "outputs": [],
      "source": [
        "from sklearn.decomposition import PCA\n",
        "n_components=22 # Nuestro análisis abarca 20 bandas\n",
        "data=data.reshape(H*W,C)\n",
        "pca=PCA(n_components=n_components,whiten=True)\n",
        "data=pca.fit_transform(data)"
      ]
    },
    {
      "cell_type": "markdown",
      "metadata": {
        "id": "5FIwV9yC5R1S"
      },
      "source": [
        "#### 1.3. Normalización de los datos"
      ]
    },
    {
      "cell_type": "code",
      "execution_count": 3,
      "metadata": {
        "id": "7hYF0Dp05R1S"
      },
      "outputs": [],
      "source": [
        "from sklearn.preprocessing import MinMaxScaler, StandardScaler\n",
        "standar_scaler=StandardScaler()\n",
        "data=standar_scaler.fit_transform(data)\n",
        "data=data.reshape(H,W,n_components);"
      ]
    },
    {
      "cell_type": "markdown",
      "metadata": {
        "id": "KjiRINWq5R1T"
      },
      "source": [
        "#### 1.4. Aproximación parche a pixel"
      ]
    },
    {
      "cell_type": "code",
      "execution_count": 4,
      "metadata": {
        "id": "jSW-YDIE7BFm"
      },
      "outputs": [],
      "source": [
        "import numpy as np\n",
        "\n",
        "def padWithZeros(X, margin=2):\n",
        "    newX=np.zeros((X.shape[0]+2*margin,X.shape[1]+2*margin, X.shape[2]))\n",
        "    x_offset=margin\n",
        "    y_offset=margin \n",
        "    newX[x_offset:X.shape[0]+x_offset, y_offset:X.shape[1]+y_offset,:]=X\n",
        "    return newX\n",
        "\n",
        "def createImageCubes(X,y,windowSize=9, removeZeroLabels=True): #Regresar a 5\n",
        "    margin=int((windowSize-1)/2)\n",
        "    zeroPaddedX=padWithZeros(X,margin=margin)\n",
        "    patchesData=np.zeros((X.shape[0]*X.shape[1],windowSize,windowSize,X.shape[2]))\n",
        "    patchesLabels=np.zeros((X.shape[0]*X.shape[1]))\n",
        "    patchIndex=0\n",
        "    for r in range(margin,zeroPaddedX.shape[0]-margin):\n",
        "        for c in range(margin,zeroPaddedX.shape[1]-margin):\n",
        "            patch=zeroPaddedX[r-margin:r+margin+1,c-margin:c+margin+1]\n",
        "            patchesData[patchIndex,:,:,:]=patch \n",
        "            patchesLabels[patchIndex]=y[r-margin,c-margin]\n",
        "            patchIndex=patchIndex+1\n",
        "    if removeZeroLabels:\n",
        "        patchesData=patchesData[patchesLabels>0,:,:,:]\n",
        "        patchesLabels=patchesLabels[patchesLabels>0]\n",
        "        patchesLabels -=1\n",
        "    from keras.utils import np_utils\n",
        "    patchesLabels=np_utils.to_categorical(patchesLabels)\n",
        "    return patchesData,patchesLabels "
      ]
    },
    {
      "cell_type": "markdown",
      "metadata": {
        "id": "A3MGlZyuYeNd"
      },
      "source": [
        "#### 1.5. Acondicionar el conjunto de datos"
      ]
    },
    {
      "cell_type": "code",
      "execution_count": 5,
      "metadata": {
        "id": "Jy70nu4u5R1T"
      },
      "outputs": [],
      "source": [
        "x_train,y_train=createImageCubes(data,labels,removeZeroLabels=False)"
      ]
    },
    {
      "cell_type": "code",
      "execution_count": 6,
      "metadata": {
        "id": "dSY5Jis85R1U"
      },
      "outputs": [],
      "source": [
        "n_clases=y_train.shape[1]"
      ]
    },
    {
      "cell_type": "markdown",
      "metadata": {
        "id": "QD7kXWODYZYH"
      },
      "source": [
        "#### 1.6. Partir Dataset"
      ]
    },
    {
      "cell_type": "code",
      "execution_count": 7,
      "metadata": {
        "id": "id7WkYYp5R1U"
      },
      "outputs": [],
      "source": [
        "# TEST 40%, TRAIN 48%, VALIDATION 12%\n",
        "from sklearn.model_selection import train_test_split\n",
        "x_train,x_test,y_train,y_test=train_test_split(x_train,y_train,test_size=0.4,shuffle=True,random_state=0,stratify=y_train) #0.4 100% 0.9--0.79\n",
        "x_train,x_val,y_train,y_val=train_test_split(x_train,y_train,test_size=0.2,shuffle=True,random_state=0,stratify=y_train)"
      ]
    },
    {
      "cell_type": "markdown",
      "metadata": {
        "id": "BpfU-UCd5R1U"
      },
      "source": [
        "### 2. Red Neuronal Convolucional"
      ]
    },
    {
      "cell_type": "code",
      "execution_count": 8,
      "metadata": {
        "id": "eTrVFER95R1V"
      },
      "outputs": [],
      "source": [
        "from tensorflow.keras.layers import Input,Conv2D,Dropout,BatchNormalization,Flatten,Dense,LayerNormalization\n",
        "from tensorflow.keras.models import Model \n",
        "from tensorflow.keras.callbacks import EarlyStopping"
      ]
    },
    {
      "cell_type": "code",
      "execution_count": 9,
      "metadata": {
        "id": "eBwG7dGmrhP1"
      },
      "outputs": [],
      "source": [
        "shapes=(9,9,n_components)\n",
        "inputs=Input(shapes)\n",
        "x=Conv2D(64,(3,3),activation=\"relu\",padding=\"same\")(inputs) \n",
        "x=Dropout(0.2)(x)\n",
        "x=BatchNormalization()(x)\n",
        "x=Conv2D(32,(3,3),activation=\"relu\")(x)\n",
        "x=Dropout(0.2)(x)\n",
        "x=BatchNormalization()(x)\n",
        "x=Conv2D(32,(3,3),activation=\"relu\")(x)\n",
        "x=Dropout(0.2)(x)\n",
        "x=BatchNormalization()(x)\n",
        "x=Flatten()(x)\n",
        "x=Dense(n_clases,activation=\"relu\")(x)\n",
        "x=Dropout(0.2)(x)\n",
        "x=Dense(n_clases,activation=\"softmax\")(x)\n",
        "\n",
        "model=Model(inputs=inputs,outputs=x)\n",
        "model.compile(optimizer=\"adam\", loss=\"categorical_crossentropy\", metrics=[\"accuracy\"])"
      ]
    },
    {
      "cell_type": "code",
      "execution_count": 10,
      "metadata": {
        "id": "YeqaoidY5R1W"
      },
      "outputs": [],
      "source": [
        "callback=EarlyStopping(monitor=\"val_accuracy\", patience=10, restore_best_weights=True)"
      ]
    },
    {
      "cell_type": "markdown",
      "metadata": {
        "id": "pN8SBdnr5R1W"
      },
      "source": [
        "#### 2.1. Entrenamiento"
      ]
    },
    {
      "cell_type": "code",
      "execution_count": 11,
      "metadata": {
        "colab": {
          "base_uri": "https://localhost:8080/"
        },
        "id": "aEFPXM2_5R1W",
        "outputId": "253994c7-a9dc-45a6-ef7a-84beadfdaf30"
      },
      "outputs": [
        {
          "name": "stdout",
          "output_type": "stream",
          "text": [
            "Epoch 1/100\n",
            "417/417 [==============================] - 11s 18ms/step - loss: 0.5685 - accuracy: 0.8162 - val_loss: 0.1374 - val_accuracy: 0.9545\n",
            "Epoch 2/100\n",
            "417/417 [==============================] - 6s 14ms/step - loss: 0.1853 - accuracy: 0.9387 - val_loss: 0.0970 - val_accuracy: 0.9667\n",
            "Epoch 3/100\n",
            "417/417 [==============================] - 6s 14ms/step - loss: 0.1393 - accuracy: 0.9527 - val_loss: 0.0700 - val_accuracy: 0.9731\n",
            "Epoch 4/100\n",
            "417/417 [==============================] - 6s 14ms/step - loss: 0.1155 - accuracy: 0.9599 - val_loss: 0.0650 - val_accuracy: 0.9749\n",
            "Epoch 5/100\n",
            "417/417 [==============================] - 6s 14ms/step - loss: 0.1013 - accuracy: 0.9655 - val_loss: 0.0693 - val_accuracy: 0.9749\n",
            "Epoch 6/100\n",
            "417/417 [==============================] - 6s 14ms/step - loss: 0.0929 - accuracy: 0.9675 - val_loss: 0.0503 - val_accuracy: 0.9797\n",
            "Epoch 7/100\n",
            "417/417 [==============================] - 6s 14ms/step - loss: 0.0845 - accuracy: 0.9702 - val_loss: 0.0533 - val_accuracy: 0.9785\n",
            "Epoch 8/100\n",
            "417/417 [==============================] - 6s 14ms/step - loss: 0.0835 - accuracy: 0.9711 - val_loss: 0.0601 - val_accuracy: 0.9775\n",
            "Epoch 9/100\n",
            "417/417 [==============================] - 6s 14ms/step - loss: 0.0785 - accuracy: 0.9721 - val_loss: 0.0535 - val_accuracy: 0.9805\n",
            "Epoch 10/100\n",
            "417/417 [==============================] - 6s 14ms/step - loss: 0.0722 - accuracy: 0.9749 - val_loss: 0.0607 - val_accuracy: 0.9776\n",
            "Epoch 11/100\n",
            "417/417 [==============================] - 6s 14ms/step - loss: 0.0750 - accuracy: 0.9738 - val_loss: 0.0518 - val_accuracy: 0.9802\n",
            "Epoch 12/100\n",
            "417/417 [==============================] - 6s 14ms/step - loss: 0.0682 - accuracy: 0.9762 - val_loss: 0.0481 - val_accuracy: 0.9809\n",
            "Epoch 13/100\n",
            "417/417 [==============================] - 6s 14ms/step - loss: 0.0688 - accuracy: 0.9752 - val_loss: 0.0435 - val_accuracy: 0.9833\n",
            "Epoch 14/100\n",
            "417/417 [==============================] - 6s 14ms/step - loss: 0.0651 - accuracy: 0.9773 - val_loss: 0.0472 - val_accuracy: 0.9821\n",
            "Epoch 15/100\n",
            "417/417 [==============================] - 6s 14ms/step - loss: 0.0606 - accuracy: 0.9782 - val_loss: 0.0457 - val_accuracy: 0.9821\n",
            "Epoch 16/100\n",
            "417/417 [==============================] - 6s 14ms/step - loss: 0.0603 - accuracy: 0.9785 - val_loss: 0.0478 - val_accuracy: 0.9813\n",
            "Epoch 17/100\n",
            "417/417 [==============================] - 6s 14ms/step - loss: 0.0577 - accuracy: 0.9794 - val_loss: 0.0417 - val_accuracy: 0.9824\n",
            "Epoch 18/100\n",
            "417/417 [==============================] - 6s 14ms/step - loss: 0.0555 - accuracy: 0.9810 - val_loss: 0.0503 - val_accuracy: 0.9830\n",
            "Epoch 19/100\n",
            "417/417 [==============================] - 6s 14ms/step - loss: 0.0569 - accuracy: 0.9797 - val_loss: 0.0428 - val_accuracy: 0.9844\n",
            "Epoch 20/100\n",
            "417/417 [==============================] - 6s 14ms/step - loss: 0.0573 - accuracy: 0.9794 - val_loss: 0.0454 - val_accuracy: 0.9836\n",
            "Epoch 21/100\n",
            "417/417 [==============================] - 6s 14ms/step - loss: 0.0569 - accuracy: 0.9800 - val_loss: 0.0486 - val_accuracy: 0.9805\n",
            "Epoch 22/100\n",
            "417/417 [==============================] - 6s 14ms/step - loss: 0.0517 - accuracy: 0.9815 - val_loss: 0.0425 - val_accuracy: 0.9824\n",
            "Epoch 23/100\n",
            "417/417 [==============================] - 6s 14ms/step - loss: 0.0530 - accuracy: 0.9807 - val_loss: 0.0402 - val_accuracy: 0.9841\n",
            "Epoch 24/100\n",
            "417/417 [==============================] - 6s 14ms/step - loss: 0.0512 - accuracy: 0.9816 - val_loss: 0.0412 - val_accuracy: 0.9856\n",
            "Epoch 25/100\n",
            "417/417 [==============================] - 6s 14ms/step - loss: 0.0497 - accuracy: 0.9831 - val_loss: 0.0422 - val_accuracy: 0.9851\n",
            "Epoch 26/100\n",
            "417/417 [==============================] - 6s 14ms/step - loss: 0.0478 - accuracy: 0.9835 - val_loss: 0.0417 - val_accuracy: 0.9832\n",
            "Epoch 27/100\n",
            "417/417 [==============================] - 6s 14ms/step - loss: 0.0516 - accuracy: 0.9819 - val_loss: 0.0367 - val_accuracy: 0.9863\n",
            "Epoch 28/100\n",
            "417/417 [==============================] - 6s 14ms/step - loss: 0.0484 - accuracy: 0.9825 - val_loss: 0.0438 - val_accuracy: 0.9831\n",
            "Epoch 29/100\n",
            "417/417 [==============================] - 6s 14ms/step - loss: 0.0484 - accuracy: 0.9827 - val_loss: 0.0390 - val_accuracy: 0.9864\n",
            "Epoch 30/100\n",
            "417/417 [==============================] - 6s 14ms/step - loss: 0.0464 - accuracy: 0.9830 - val_loss: 0.0353 - val_accuracy: 0.9869\n",
            "Epoch 31/100\n",
            "417/417 [==============================] - 6s 14ms/step - loss: 0.0467 - accuracy: 0.9830 - val_loss: 0.0405 - val_accuracy: 0.9848\n",
            "Epoch 32/100\n",
            "417/417 [==============================] - 6s 14ms/step - loss: 0.0444 - accuracy: 0.9837 - val_loss: 0.0413 - val_accuracy: 0.9848\n",
            "Epoch 33/100\n",
            "417/417 [==============================] - 6s 14ms/step - loss: 0.0433 - accuracy: 0.9848 - val_loss: 0.0383 - val_accuracy: 0.9845\n",
            "Epoch 34/100\n",
            "417/417 [==============================] - 6s 14ms/step - loss: 0.0425 - accuracy: 0.9847 - val_loss: 0.0375 - val_accuracy: 0.9849\n",
            "Epoch 35/100\n",
            "417/417 [==============================] - 6s 14ms/step - loss: 0.0430 - accuracy: 0.9847 - val_loss: 0.0379 - val_accuracy: 0.9851\n",
            "Epoch 36/100\n",
            "417/417 [==============================] - 6s 14ms/step - loss: 0.0426 - accuracy: 0.9854 - val_loss: 0.0431 - val_accuracy: 0.9837\n",
            "Epoch 37/100\n",
            "417/417 [==============================] - 6s 14ms/step - loss: 0.0428 - accuracy: 0.9849 - val_loss: 0.0393 - val_accuracy: 0.9856\n",
            "Epoch 38/100\n",
            "417/417 [==============================] - 6s 14ms/step - loss: 0.0423 - accuracy: 0.9857 - val_loss: 0.0409 - val_accuracy: 0.9848\n",
            "Epoch 39/100\n",
            "417/417 [==============================] - 6s 14ms/step - loss: 0.0399 - accuracy: 0.9859 - val_loss: 0.0380 - val_accuracy: 0.9860\n",
            "Epoch 40/100\n",
            "417/417 [==============================] - 6s 14ms/step - loss: 0.0416 - accuracy: 0.9851 - val_loss: 0.0388 - val_accuracy: 0.9860\n"
          ]
        }
      ],
      "source": [
        "history=model.fit(x_train,y_train,epochs=100,batch_size=128,validation_data=(x_val,y_val),callbacks=[callback])"
      ]
    },
    {
      "cell_type": "code",
      "execution_count": 12,
      "metadata": {},
      "outputs": [],
      "source": [
        "dic_curves_IP={}\n",
        "dic_curves_IP[\"val_accuracy\"]=history.history[\"val_accuracy\"]\n",
        "dic_curves_IP[\"accuracy\"]=history.history[\"accuracy\"]\n",
        "dic_curves_IP[\"loss\"]=history.history[\"loss\"]\n",
        "dic_curves_IP[\"val_loss\"]=history.history[\"val_loss\"]\n",
        "\n",
        "import pickle \n",
        "\n",
        "with open(\"accu_loss_CNN2D.pkl\",\"wb\") as f:\n",
        "    pickle.dump(dic_curves_IP,f)"
      ]
    },
    {
      "cell_type": "markdown",
      "metadata": {
        "id": "PDLQ_6k85R1X"
      },
      "source": [
        "#### 3. Evaluación"
      ]
    },
    {
      "cell_type": "markdown",
      "metadata": {
        "id": "uZxwwFm7YrRY"
      },
      "source": [
        "#### 3.1. Evaluacion Test"
      ]
    },
    {
      "cell_type": "code",
      "execution_count": 13,
      "metadata": {
        "colab": {
          "base_uri": "https://localhost:8080/"
        },
        "id": "wvpN6KXp5R1X",
        "outputId": "dc8fec53-72b2-4816-d25e-e5de43dd7abd"
      },
      "outputs": [
        {
          "name": "stdout",
          "output_type": "stream",
          "text": [
            "1389/1389 [==============================] - 8s 5ms/step - loss: 0.0343 - accuracy: 0.9859\n"
          ]
        }
      ],
      "source": [
        "evaluacion_test=model.evaluate(x_test,y_test)"
      ]
    },
    {
      "cell_type": "markdown",
      "metadata": {
        "id": "bPkuxHOoYusx"
      },
      "source": [
        "#### 3.2. Classification Report"
      ]
    },
    {
      "cell_type": "code",
      "execution_count": 14,
      "metadata": {
        "colab": {
          "base_uri": "https://localhost:8080/"
        },
        "id": "v94acefT5R1X",
        "outputId": "11378a53-243f-4caa-df85-59afe56a27fe"
      },
      "outputs": [
        {
          "name": "stdout",
          "output_type": "stream",
          "text": [
            "1389/1389 [==============================] - 4s 3ms/step\n",
            "                           precision    recall  f1-score   support\n",
            "\n",
            "                Unlabeled       0.99      0.98      0.99     22790\n",
            "    Brocoli_green_weeds_1       0.99      0.99      0.99       804\n",
            "    Brocoli_green_weeds_2       0.98      1.00      0.99      1490\n",
            "                   Fallow       0.97      0.99      0.98       790\n",
            "        Fallow_rough_plow       0.90      0.98      0.93       558\n",
            "            Fallow_smooth       0.94      0.99      0.96      1071\n",
            "                  Stubble       0.97      1.00      0.98      1584\n",
            "                   Celery       0.99      0.99      0.99      1432\n",
            "         Grapes_untrained       0.99      1.00      0.99      4509\n",
            "     Soil_vinyard_develop       0.98      1.00      0.99      2481\n",
            "Corn_senesced_green_weeds       0.98      1.00      0.99      1311\n",
            "      Lettuce_romaine_4wk       0.94      0.98      0.96       427\n",
            "      Lettuce_romaine_5wk       0.97      1.00      0.99       771\n",
            "      Lettuce_romaine_6wk       0.95      0.98      0.97       366\n",
            "      Lettuce_romaine_7wk       0.94      0.99      0.97       428\n",
            "        Vinyard_untrained       0.99      1.00      0.99      2907\n",
            " Vinyard_vertical_trellis       1.00      0.98      0.99       723\n",
            "\n",
            "                 accuracy                           0.99     44442\n",
            "                macro avg       0.97      0.99      0.98     44442\n",
            "             weighted avg       0.99      0.99      0.99     44442\n",
            "\n"
          ]
        }
      ],
      "source": [
        "y_pred=model.predict(x_test)\n",
        "y_pred=np.argmax(y_pred,axis=1)\n",
        "from sklearn.metrics import classification_report\n",
        "clases_dataset_SA=[\"Unlabeled\",\"Brocoli_green_weeds_1\",\"Brocoli_green_weeds_2\",\"Fallow\",\"Fallow_rough_plow\",\"Fallow_smooth\",\"Stubble\",\"Celery\",\"Grapes_untrained\",\"Soil_vinyard_develop\",\"Corn_senesced_green_weeds\",\"Lettuce_romaine_4wk\",\"Lettuce_romaine_5wk\",\"Lettuce_romaine_6wk\",\"Lettuce_romaine_7wk\",\"Vinyard_untrained\",\"Vinyard_vertical_trellis\"]\n",
        "target_names=clases_dataset_SA\n",
        "classification=classification_report(np.argmax(y_test,axis=1),y_pred,target_names=target_names)\n",
        "print(classification)"
      ]
    },
    {
      "cell_type": "markdown",
      "metadata": {
        "id": "bpyxAcTAY_mO"
      },
      "source": [
        "#### 3.3. Cohen Kappa"
      ]
    },
    {
      "cell_type": "code",
      "execution_count": 15,
      "metadata": {
        "colab": {
          "base_uri": "https://localhost:8080/"
        },
        "id": "7Y2yvdGsZUr0",
        "outputId": "464f9d23-eb15-413b-8926-c094e3330e7d"
      },
      "outputs": [],
      "source": [
        "from sklearn.metrics import cohen_kappa_score\n",
        "a=y_pred\n",
        "b=np.argmax(y_test,axis=1)\n",
        "cks=cohen_kappa_score(a,b)\n",
        "cks\n",
        "\n",
        "np.save(\"cohen_kappa_score_cnn2d\",cks)"
      ]
    },
    {
      "cell_type": "code",
      "execution_count": 16,
      "metadata": {},
      "outputs": [
        {
          "data": {
            "text/plain": [
              "array(0.98028593)"
            ]
          },
          "execution_count": 16,
          "metadata": {},
          "output_type": "execute_result"
        }
      ],
      "source": [
        "import numpy as np \n",
        "np.load(\"cohen_kappa_score_cnn2d.npy\")"
      ]
    },
    {
      "cell_type": "code",
      "execution_count": 17,
      "metadata": {},
      "outputs": [],
      "source": [
        "import pandas as pd \n",
        "\n",
        "pd_reporte_clasificacion=pd.DataFrame(classification_report(np.argmax(y_test,axis=1),y_pred,target_names=target_names,output_dict=True)).transpose()\n",
        "pd_reporte_clasificacion.to_csv(\"reporte_clasificacion_cnn2d.csv\")"
      ]
    },
    {
      "cell_type": "code",
      "execution_count": 18,
      "metadata": {
        "colab": {
          "base_uri": "https://localhost:8080/"
        },
        "id": "skSUfSLs5R1X",
        "outputId": "99d4891a-e5d5-4d6e-9569-dad4c7666f21"
      },
      "outputs": [
        {
          "name": "stdout",
          "output_type": "stream",
          "text": [
            "868/868 [==============================] - 3s 4ms/step\n"
          ]
        }
      ],
      "source": [
        "y_pred,_=createImageCubes(data,labels,removeZeroLabels=False)\n",
        "y_pred=model.predict(y_pred,batch_size=128)\n",
        "y_pred=np.argmax(y_pred,axis=1)\n",
        "y_pred=y_pred.reshape(H,W)"
      ]
    },
    {
      "cell_type": "code",
      "execution_count": 19,
      "metadata": {
        "colab": {
          "base_uri": "https://localhost:8080/",
          "height": 248
        },
        "id": "nkgp4lKB5R1Y",
        "outputId": "aa48a459-ca93-4d9c-c378-0f58cbee8960"
      },
      "outputs": [
        {
          "data": {
            "image/png": "[encoded data removed]",
            "text/plain": [
              "<Figure size 432x288 with 1 Axes>"
            ]
          },
          "metadata": {
            "needs_background": "light"
          },
          "output_type": "display_data"
        }
      ],
      "source": [
        "import matplotlib.pyplot as plt \n",
        "plt.imshow(y_pred)\n",
        "plt.axis(\"off\");"
      ]
    },
    {
      "cell_type": "code",
      "execution_count": 20,
      "metadata": {},
      "outputs": [],
      "source": [
        "np.save(\"y_pred_cnn2d\",y_pred)"
      ]
    },
    {
      "cell_type": "code",
      "execution_count": 21,
      "metadata": {
        "colab": {
          "base_uri": "https://localhost:8080/",
          "height": 286
        },
        "id": "5foEvQ32VnlY",
        "outputId": "54d60d5c-2ea2-43e7-8322-784d12ff38a8"
      },
      "outputs": [
        {
          "data": {
            "text/plain": [
              "(-0.5, 216.5, 511.5, -0.5)"
            ]
          },
          "execution_count": 21,
          "metadata": {},
          "output_type": "execute_result"
        },
        {
          "data": {
            "image/png": "[encoded data removed]",
            "text/plain": [
              "<Figure size 432x288 with 1 Axes>"
            ]
          },
          "metadata": {
            "needs_background": "light"
          },
          "output_type": "display_data"
        }
      ],
      "source": [
        "plt.imshow(labels)\n",
        "plt.axis(\"off\")"
      ]
    },
    {
      "cell_type": "code",
      "execution_count": 22,
      "metadata": {},
      "outputs": [
        {
          "data": {
            "text/plain": [
              "0.9842672923687382"
            ]
          },
          "execution_count": 22,
          "metadata": {},
          "output_type": "execute_result"
        }
      ],
      "source": [
        "from sklearn.metrics import accuracy_score\n",
        "a=y_pred.reshape(H*W)\n",
        "b=labels.reshape(H*W)\n",
        "cohen_kappa_score(a,b)"
      ]
    },
    {
      "cell_type": "code",
      "execution_count": 23,
      "metadata": {},
      "outputs": [
        {
          "data": {
            "text/plain": [
              "0.9887312788018433"
            ]
          },
          "execution_count": 23,
          "metadata": {},
          "output_type": "execute_result"
        }
      ],
      "source": [
        "accuracy_score(a,b)"
      ]
    },
    {
      "cell_type": "code",
      "execution_count": 24,
      "metadata": {
        "colab": {
          "base_uri": "https://localhost:8080/"
        },
        "id": "Y7eo3zRRKzMl",
        "outputId": "50536104-8ddb-4405-fef1-b487fd0de2a0"
      },
      "outputs": [
        {
          "name": "stdout",
          "output_type": "stream",
          "text": [
            "Mean IoU 0.9666448\n"
          ]
        }
      ],
      "source": [
        "from keras.metrics import MeanIoU \n",
        "n_classes=17\n",
        "IOU_mean=MeanIoU(num_classes=n_classes)\n",
        "IOU_mean.update_state(y_pred,labels)\n",
        "print(\"Mean IoU\",IOU_mean.result().numpy())\n",
        "np.save(\"IoU_cnn2d\",IOU_mean.result().numpy())"
      ]
    },
    {
      "cell_type": "code",
      "execution_count": 25,
      "metadata": {
        "colab": {
          "base_uri": "https://localhost:8080/"
        },
        "id": "Z0fwX8s-5R1Y",
        "outputId": "0a560e09-f225-4dfb-b2eb-682d35c04385"
      },
      "outputs": [
        {
          "name": "stdout",
          "output_type": "stream",
          "text": [
            "Unlabeled : 0.9781841\n",
            "Brocoli_green_weeds_1 : 0.98225725\n",
            "Brocoli_green_weeds_2 : 0.9846642\n",
            "Fallow : 0.9703117\n",
            "Fallow_rough_plow : 0.9052008\n",
            "Fallow_smooth : 0.9413013\n",
            "Stubble : 0.9716609\n",
            "Celery : 0.98090756\n",
            "Grapes_untrained : 0.9920565\n",
            "Soil_vinyard_develop : 0.98489904\n",
            "Corn_senesced_green_weeds : 0.9763968\n",
            "Lettuce_romaine_4wk : 0.93386245\n",
            "Lettuce_romaine_5wk : 0.96779066\n",
            "Lettuce_romaine_6wk : 0.9388601\n",
            "Lettuce_romaine_7wk : 0.9482605\n",
            "Vinyard_untrained : 0.9917932\n",
            "Vinyard_vertical_trellis : 0.98455596\n"
          ]
        }
      ],
      "source": [
        "# IoU por clase.\n",
        "from keras.metrics import IoU\n",
        "clases=[\"Unlabeled\",\"Brocoli_green_weeds_1\",\"Brocoli_green_weeds_2\",\"Fallow\",\"Fallow_rough_plow\",\"Fallow_smooth\",\"Stubble\",\"Celery\",\"Grapes_untrained\",\"Soil_vinyard_develop\",\"Corn_senesced_green_weeds\",\"Lettuce_romaine_4wk\",\"Lettuce_romaine_5wk\",\"Lettuce_romaine_6wk\",\"Lettuce_romaine_7wk\",\"Vinyard_untrained\",\"Vinyard_vertical_trellis\"]\n",
        "IoU_class_report=[]\n",
        "for i in range(17):\n",
        "    IoU_class=IoU(num_classes=17,target_class_ids=[i])\n",
        "    IoU_class.update_state(y_pred,labels)\n",
        "    IoU_class_report.append(IoU_class.result().numpy())\n",
        "    print(clases[i],\":\", IoU_class.result().numpy())"
      ]
    },
    {
      "cell_type": "code",
      "execution_count": 26,
      "metadata": {},
      "outputs": [],
      "source": [
        "np.save(\"reporte_IoU_cnn2d\",IoU_class_report)"
      ]
    },
    {
      "cell_type": "code",
      "execution_count": 27,
      "metadata": {
        "id": "0o9DYE8s5R1Y"
      },
      "outputs": [
        {
          "name": "stdout",
          "output_type": "stream",
          "text": [
            "0.9781841\n",
            "0.98225725\n",
            "0.9846642\n",
            "0.9703117\n",
            "0.9052008\n",
            "0.9413013\n",
            "0.9716609\n",
            "0.98090756\n",
            "0.9920565\n",
            "0.98489904\n",
            "0.9763968\n",
            "0.93386245\n",
            "0.96779066\n",
            "0.9388601\n",
            "0.9482605\n",
            "0.9917932\n",
            "0.98455596\n"
          ]
        }
      ],
      "source": [
        "from keras.metrics import IoU\n",
        "clases=[\"Unlabeled\",\"Brocoli_green_weeds_1\",\"Brocoli_green_weeds_2\",\"Fallow\",\"Fallow_rough_plow\",\"Fallow_smooth\",\"Stubble\",\"Celery\",\"Grapes_untrained\",\"Soil_vinyard_develop\",\"Corn_senesced_green_weeds\",\"Lettuce_romaine_4wk\",\"Lettuce_romaine_5wk\",\"Lettuce_romaine_6wk\",\"Lettuce_romaine_7wk\",\"Vinyard_untrained\",\"Vinyard_vertical_trellis\"]\n",
        "IoU_class_report=[]\n",
        "for i in range(n_clases):\n",
        "    IoU_class=IoU(num_classes=n_clases,target_class_ids=[i])\n",
        "    IoU_class.update_state(y_pred,labels)\n",
        "    IoU_class_report.append(IoU_class.result().numpy())\n",
        "    print(IoU_class.result().numpy())"
      ]
    }
  ],
  "metadata": {
    "accelerator": "GPU",
    "colab": {
      "provenance": []
    },
    "gpuClass": "standard",
    "kernelspec": {
      "display_name": "Python 3",
      "language": "python",
      "name": "python3"
    },
    "language_info": {
      "codemirror_mode": {
        "name": "ipython",
        "version": 3
      },
      "file_extension": ".py",
      "mimetype": "text/x-python",
      "name": "python",
      "nbconvert_exporter": "python",
      "pygments_lexer": "ipython3",
      "version": "3.7.2"
    },
    "orig_nbformat": 4,
    "vscode": {
      "interpreter": {
        "hash": "98d5674963b65db345bb78e3c5a3b7a8950200b887d8b92f8da01b49df867ecf"
      }
    }
  },
  "nbformat": 4,
  "nbformat_minor": 0
}
