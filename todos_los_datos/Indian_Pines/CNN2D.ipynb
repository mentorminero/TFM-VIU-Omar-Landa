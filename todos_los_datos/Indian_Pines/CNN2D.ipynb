{
  "cells": [
    {
      "cell_type": "markdown",
      "metadata": {
        "id": "mEhKpIX_5R1L"
      },
      "source": [
        "### 1. Preparación del dataset"
      ]
    },
    {
      "cell_type": "markdown",
      "metadata": {
        "id": "_wLxvJ-t5R1P"
      },
      "source": [
        "#### 1.1. Lectura del conjunto de datos"
      ]
    },
    {
      "cell_type": "code",
      "execution_count": 1,
      "metadata": {
        "id": "iMF11JwQ5R1P"
      },
      "outputs": [],
      "source": [
        "from scipy.io import loadmat\n",
        "data=loadmat(\"Indian_pines_corrected_image.mat\")['indian_pines_corrected']\n",
        "labels=loadmat(\"Indian_pines_ground_truth.mat\")['indian_pines_gt']\n",
        "H,W,C=data.shape"
      ]
    },
    {
      "cell_type": "markdown",
      "metadata": {
        "id": "dHBKDQW15R1Q"
      },
      "source": [
        "#### 1.2. Reducción de la dimensionalidad"
      ]
    },
    {
      "cell_type": "code",
      "execution_count": 2,
      "metadata": {
        "id": "R8S5fnFy5R1R"
      },
      "outputs": [],
      "source": [
        "from sklearn.decomposition import PCA\n",
        "n_components=22 # Nuestro análisis abarca 20 bandas\n",
        "data=data.reshape(H*W,C)\n",
        "pca=PCA(n_components=n_components,whiten=True)\n",
        "data=pca.fit_transform(data)"
      ]
    },
    {
      "cell_type": "markdown",
      "metadata": {
        "id": "5FIwV9yC5R1S"
      },
      "source": [
        "#### 1.3. Normalización de los datos"
      ]
    },
    {
      "cell_type": "code",
      "execution_count": 3,
      "metadata": {
        "id": "7hYF0Dp05R1S"
      },
      "outputs": [],
      "source": [
        "from sklearn.preprocessing import MinMaxScaler, StandardScaler\n",
        "standar_scaler=StandardScaler()\n",
        "data=standar_scaler.fit_transform(data)\n",
        "data=data.reshape(H,W,n_components);"
      ]
    },
    {
      "cell_type": "markdown",
      "metadata": {
        "id": "KjiRINWq5R1T"
      },
      "source": [
        "#### 1.4. Aproximación parche a pixel"
      ]
    },
    {
      "cell_type": "code",
      "execution_count": 4,
      "metadata": {
        "id": "jSW-YDIE7BFm"
      },
      "outputs": [],
      "source": [
        "import numpy as np\n",
        "\n",
        "def padWithZeros(X, margin=2):\n",
        "    newX=np.zeros((X.shape[0]+2*margin,X.shape[1]+2*margin, X.shape[2]))\n",
        "    x_offset=margin\n",
        "    y_offset=margin \n",
        "    newX[x_offset:X.shape[0]+x_offset, y_offset:X.shape[1]+y_offset,:]=X\n",
        "    return newX\n",
        "\n",
        "def createImageCubes(X,y,windowSize=9, removeZeroLabels=True): \n",
        "    margin=int((windowSize-1)/2)\n",
        "    zeroPaddedX=padWithZeros(X,margin=margin)\n",
        "    patchesData=np.zeros((X.shape[0]*X.shape[1],windowSize,windowSize,X.shape[2]))\n",
        "    patchesLabels=np.zeros((X.shape[0]*X.shape[1]))\n",
        "    patchIndex=0\n",
        "    for r in range(margin,zeroPaddedX.shape[0]-margin):\n",
        "        for c in range(margin,zeroPaddedX.shape[1]-margin):\n",
        "            patch=zeroPaddedX[r-margin:r+margin+1,c-margin:c+margin+1]\n",
        "            patchesData[patchIndex,:,:,:]=patch \n",
        "            patchesLabels[patchIndex]=y[r-margin,c-margin]\n",
        "            patchIndex=patchIndex+1\n",
        "    if removeZeroLabels:\n",
        "        patchesData=patchesData[patchesLabels>0,:,:,:]\n",
        "        patchesLabels=patchesLabels[patchesLabels>0]\n",
        "        patchesLabels -=1\n",
        "    from keras.utils import np_utils\n",
        "    patchesLabels=np_utils.to_categorical(patchesLabels)\n",
        "    return patchesData,patchesLabels "
      ]
    },
    {
      "cell_type": "markdown",
      "metadata": {
        "id": "A3MGlZyuYeNd"
      },
      "source": [
        "#### 1.5. Acondicionar el conjunto de datos"
      ]
    },
    {
      "cell_type": "code",
      "execution_count": 5,
      "metadata": {
        "id": "Jy70nu4u5R1T"
      },
      "outputs": [],
      "source": [
        "x_train,y_train=createImageCubes(data,labels,removeZeroLabels=False)"
      ]
    },
    {
      "cell_type": "code",
      "execution_count": 6,
      "metadata": {
        "id": "dSY5Jis85R1U"
      },
      "outputs": [],
      "source": [
        "n_clases=y_train.shape[1]"
      ]
    },
    {
      "cell_type": "markdown",
      "metadata": {
        "id": "QD7kXWODYZYH"
      },
      "source": [
        "#### 1.6. Partir Dataset"
      ]
    },
    {
      "cell_type": "code",
      "execution_count": 7,
      "metadata": {
        "id": "id7WkYYp5R1U"
      },
      "outputs": [],
      "source": [
        "# TEST 40%, TRAIN 48%, VALIDATION 12%\n",
        "from sklearn.model_selection import train_test_split\n",
        "x_train,x_test,y_train,y_test=train_test_split(x_train,y_train,test_size=0.4,shuffle=True,random_state=0,stratify=y_train) \n",
        "x_train,x_val,y_train,y_val=train_test_split(x_train,y_train,test_size=0.2,shuffle=True,random_state=0,stratify=y_train)"
      ]
    },
    {
      "cell_type": "markdown",
      "metadata": {
        "id": "BpfU-UCd5R1U"
      },
      "source": [
        "### 2. Red Neuronal Convolucional"
      ]
    },
    {
      "cell_type": "code",
      "execution_count": 8,
      "metadata": {
        "id": "eTrVFER95R1V"
      },
      "outputs": [],
      "source": [
        "from tensorflow.keras.layers import Input,Conv2D,Dropout,BatchNormalization,Flatten,Dense,LayerNormalization\n",
        "from tensorflow.keras.models import Model \n",
        "from tensorflow.keras.callbacks import EarlyStopping"
      ]
    },
    {
      "cell_type": "code",
      "execution_count": 9,
      "metadata": {
        "id": "eBwG7dGmrhP1"
      },
      "outputs": [],
      "source": [
        "shapes=(9,9,n_components)\n",
        "inputs=Input(shapes)\n",
        "x=Conv2D(64,(3,3),activation=\"relu\",padding=\"same\")(inputs)\n",
        "x=Dropout(0.2)(x)\n",
        "x=BatchNormalization()(x)\n",
        "x=Conv2D(32,(3,3),activation=\"relu\")(x)\n",
        "x=Dropout(0.2)(x)\n",
        "x=BatchNormalization()(x)\n",
        "x=Conv2D(32,(3,3),activation=\"relu\")(x)\n",
        "x=Dropout(0.2)(x)\n",
        "x=BatchNormalization()(x)\n",
        "x=Flatten()(x)\n",
        "x=Dense(n_clases,activation=\"relu\")(x) \n",
        "x=Dropout(0.2)(x)\n",
        "x=Dense(n_clases,activation=\"softmax\")(x)\n",
        "\n",
        "model=Model(inputs=inputs,outputs=x)\n",
        "model.compile(optimizer=\"adam\", loss=\"categorical_crossentropy\", metrics=[\"accuracy\"])"
      ]
    },
    {
      "cell_type": "code",
      "execution_count": 10,
      "metadata": {
        "id": "YeqaoidY5R1W"
      },
      "outputs": [],
      "source": [
        "callback=EarlyStopping(monitor=\"val_accuracy\", patience=10, restore_best_weights=True)"
      ]
    },
    {
      "cell_type": "markdown",
      "metadata": {
        "id": "pN8SBdnr5R1W"
      },
      "source": [
        "#### 2.1. Entrenamiento"
      ]
    },
    {
      "cell_type": "code",
      "execution_count": 11,
      "metadata": {
        "colab": {
          "base_uri": "https://localhost:8080/"
        },
        "id": "aEFPXM2_5R1W",
        "outputId": "253994c7-a9dc-45a6-ef7a-84beadfdaf30"
      },
      "outputs": [
        {
          "name": "stdout",
          "output_type": "stream",
          "text": [
            "Epoch 1/100\n",
            "79/79 [==============================] - 6s 30ms/step - loss: 2.0181 - accuracy: 0.4138 - val_loss: 1.3811 - val_accuracy: 0.6056\n",
            "Epoch 2/100\n",
            "79/79 [==============================] - 1s 16ms/step - loss: 1.0355 - accuracy: 0.6992 - val_loss: 0.7520 - val_accuracy: 0.7590\n",
            "Epoch 3/100\n",
            "79/79 [==============================] - 1s 16ms/step - loss: 0.7604 - accuracy: 0.7649 - val_loss: 0.5378 - val_accuracy: 0.8220\n",
            "Epoch 4/100\n",
            "79/79 [==============================] - 1s 16ms/step - loss: 0.6115 - accuracy: 0.8080 - val_loss: 0.3995 - val_accuracy: 0.8573\n",
            "Epoch 5/100\n",
            "79/79 [==============================] - 1s 14ms/step - loss: 0.4907 - accuracy: 0.8383 - val_loss: 0.3242 - val_accuracy: 0.8874\n",
            "Epoch 6/100\n",
            "79/79 [==============================] - 1s 14ms/step - loss: 0.4250 - accuracy: 0.8618 - val_loss: 0.2820 - val_accuracy: 0.9017\n",
            "Epoch 7/100\n",
            "79/79 [==============================] - 1s 14ms/step - loss: 0.3540 - accuracy: 0.8857 - val_loss: 0.2632 - val_accuracy: 0.9156\n",
            "Epoch 8/100\n",
            "79/79 [==============================] - 1s 14ms/step - loss: 0.3200 - accuracy: 0.8930 - val_loss: 0.1944 - val_accuracy: 0.9322\n",
            "Epoch 9/100\n",
            "79/79 [==============================] - 1s 14ms/step - loss: 0.2763 - accuracy: 0.9053 - val_loss: 0.1796 - val_accuracy: 0.9421\n",
            "Epoch 10/100\n",
            "79/79 [==============================] - 1s 14ms/step - loss: 0.2481 - accuracy: 0.9172 - val_loss: 0.1484 - val_accuracy: 0.9505\n",
            "Epoch 11/100\n",
            "79/79 [==============================] - 1s 13ms/step - loss: 0.2238 - accuracy: 0.9251 - val_loss: 0.1579 - val_accuracy: 0.9489\n",
            "Epoch 12/100\n",
            "79/79 [==============================] - 1s 14ms/step - loss: 0.2146 - accuracy: 0.9284 - val_loss: 0.1565 - val_accuracy: 0.9520\n",
            "Epoch 13/100\n",
            "79/79 [==============================] - 1s 14ms/step - loss: 0.1874 - accuracy: 0.9366 - val_loss: 0.1448 - val_accuracy: 0.9544\n",
            "Epoch 14/100\n",
            "79/79 [==============================] - 1s 14ms/step - loss: 0.1736 - accuracy: 0.9421 - val_loss: 0.1119 - val_accuracy: 0.9675\n",
            "Epoch 15/100\n",
            "79/79 [==============================] - 1s 14ms/step - loss: 0.1698 - accuracy: 0.9435 - val_loss: 0.1397 - val_accuracy: 0.9572\n",
            "Epoch 16/100\n",
            "79/79 [==============================] - 1s 13ms/step - loss: 0.1519 - accuracy: 0.9481 - val_loss: 0.1096 - val_accuracy: 0.9631\n",
            "Epoch 17/100\n",
            "79/79 [==============================] - 1s 14ms/step - loss: 0.1547 - accuracy: 0.9485 - val_loss: 0.1363 - val_accuracy: 0.9596\n",
            "Epoch 18/100\n",
            "79/79 [==============================] - 1s 13ms/step - loss: 0.1419 - accuracy: 0.9536 - val_loss: 0.1129 - val_accuracy: 0.9623\n",
            "Epoch 19/100\n",
            "79/79 [==============================] - 1s 13ms/step - loss: 0.1478 - accuracy: 0.9492 - val_loss: 0.1073 - val_accuracy: 0.9635\n",
            "Epoch 20/100\n",
            "79/79 [==============================] - 1s 14ms/step - loss: 0.1360 - accuracy: 0.9539 - val_loss: 0.1031 - val_accuracy: 0.9635\n",
            "Epoch 21/100\n",
            "79/79 [==============================] - 1s 14ms/step - loss: 0.1162 - accuracy: 0.9602 - val_loss: 0.1252 - val_accuracy: 0.9627\n",
            "Epoch 22/100\n",
            "79/79 [==============================] - 1s 14ms/step - loss: 0.1178 - accuracy: 0.9602 - val_loss: 0.1021 - val_accuracy: 0.9647\n",
            "Epoch 23/100\n",
            "79/79 [==============================] - 1s 14ms/step - loss: 0.1172 - accuracy: 0.9616 - val_loss: 0.0901 - val_accuracy: 0.9727\n",
            "Epoch 24/100\n",
            "79/79 [==============================] - 1s 14ms/step - loss: 0.1000 - accuracy: 0.9663 - val_loss: 0.0872 - val_accuracy: 0.9742\n",
            "Epoch 25/100\n",
            "79/79 [==============================] - 1s 14ms/step - loss: 0.1064 - accuracy: 0.9628 - val_loss: 0.0915 - val_accuracy: 0.9734\n",
            "Epoch 26/100\n",
            "79/79 [==============================] - 1s 14ms/step - loss: 0.1026 - accuracy: 0.9659 - val_loss: 0.0925 - val_accuracy: 0.9683\n",
            "Epoch 27/100\n",
            "79/79 [==============================] - 1s 14ms/step - loss: 0.1010 - accuracy: 0.9639 - val_loss: 0.0883 - val_accuracy: 0.9734\n",
            "Epoch 28/100\n",
            "79/79 [==============================] - 1s 14ms/step - loss: 0.0965 - accuracy: 0.9667 - val_loss: 0.0857 - val_accuracy: 0.9750\n",
            "Epoch 29/100\n",
            "79/79 [==============================] - 1s 13ms/step - loss: 0.0831 - accuracy: 0.9723 - val_loss: 0.0930 - val_accuracy: 0.9723\n",
            "Epoch 30/100\n",
            "79/79 [==============================] - 1s 14ms/step - loss: 0.0848 - accuracy: 0.9723 - val_loss: 0.1001 - val_accuracy: 0.9687\n",
            "Epoch 31/100\n",
            "79/79 [==============================] - 1s 14ms/step - loss: 0.0864 - accuracy: 0.9698 - val_loss: 0.0929 - val_accuracy: 0.9730\n",
            "Epoch 32/100\n",
            "79/79 [==============================] - 1s 14ms/step - loss: 0.0759 - accuracy: 0.9739 - val_loss: 0.0847 - val_accuracy: 0.9727\n",
            "Epoch 33/100\n",
            "79/79 [==============================] - 1s 14ms/step - loss: 0.0848 - accuracy: 0.9712 - val_loss: 0.0873 - val_accuracy: 0.9746\n",
            "Epoch 34/100\n",
            "79/79 [==============================] - 1s 13ms/step - loss: 0.0963 - accuracy: 0.9696 - val_loss: 0.1153 - val_accuracy: 0.9647\n",
            "Epoch 35/100\n",
            "79/79 [==============================] - 1s 13ms/step - loss: 0.1002 - accuracy: 0.9669 - val_loss: 0.0933 - val_accuracy: 0.9727\n",
            "Epoch 36/100\n",
            "79/79 [==============================] - 1s 14ms/step - loss: 0.0856 - accuracy: 0.9705 - val_loss: 0.0919 - val_accuracy: 0.9758\n",
            "Epoch 37/100\n",
            "79/79 [==============================] - 1s 14ms/step - loss: 0.0763 - accuracy: 0.9742 - val_loss: 0.0892 - val_accuracy: 0.9750\n",
            "Epoch 38/100\n",
            "79/79 [==============================] - 1s 14ms/step - loss: 0.0695 - accuracy: 0.9758 - val_loss: 0.0818 - val_accuracy: 0.9774\n",
            "Epoch 39/100\n",
            "79/79 [==============================] - 1s 14ms/step - loss: 0.0681 - accuracy: 0.9779 - val_loss: 0.0731 - val_accuracy: 0.9750\n",
            "Epoch 40/100\n",
            "79/79 [==============================] - 1s 14ms/step - loss: 0.0743 - accuracy: 0.9745 - val_loss: 0.0723 - val_accuracy: 0.9794\n",
            "Epoch 41/100\n",
            "79/79 [==============================] - 1s 14ms/step - loss: 0.0830 - accuracy: 0.9727 - val_loss: 0.0927 - val_accuracy: 0.9711\n",
            "Epoch 42/100\n",
            "79/79 [==============================] - 1s 14ms/step - loss: 0.0654 - accuracy: 0.9780 - val_loss: 0.0990 - val_accuracy: 0.9723\n",
            "Epoch 43/100\n",
            "79/79 [==============================] - 1s 14ms/step - loss: 0.0666 - accuracy: 0.9762 - val_loss: 0.0861 - val_accuracy: 0.9754\n",
            "Epoch 44/100\n",
            "79/79 [==============================] - 1s 14ms/step - loss: 0.0603 - accuracy: 0.9788 - val_loss: 0.0866 - val_accuracy: 0.9758\n",
            "Epoch 45/100\n",
            "79/79 [==============================] - 1s 14ms/step - loss: 0.0567 - accuracy: 0.9823 - val_loss: 0.0994 - val_accuracy: 0.9723\n",
            "Epoch 46/100\n",
            "79/79 [==============================] - 1s 14ms/step - loss: 0.0743 - accuracy: 0.9754 - val_loss: 0.0892 - val_accuracy: 0.9719\n",
            "Epoch 47/100\n",
            "79/79 [==============================] - 1s 14ms/step - loss: 0.0726 - accuracy: 0.9754 - val_loss: 0.0739 - val_accuracy: 0.9786\n",
            "Epoch 48/100\n",
            "79/79 [==============================] - 1s 14ms/step - loss: 0.0578 - accuracy: 0.9816 - val_loss: 0.1016 - val_accuracy: 0.9723\n",
            "Epoch 49/100\n",
            "79/79 [==============================] - 1s 14ms/step - loss: 0.0619 - accuracy: 0.9811 - val_loss: 0.0918 - val_accuracy: 0.9734\n",
            "Epoch 50/100\n",
            "79/79 [==============================] - 1s 14ms/step - loss: 0.0631 - accuracy: 0.9791 - val_loss: 0.0957 - val_accuracy: 0.9746\n"
          ]
        }
      ],
      "source": [
        "history=model.fit(x_train,y_train,epochs=100,batch_size=128,validation_data=(x_val,y_val),callbacks=[callback])"
      ]
    },
    {
      "cell_type": "code",
      "execution_count": 12,
      "metadata": {},
      "outputs": [],
      "source": [
        "dic_curves_IP={}\n",
        "dic_curves_IP[\"val_accuracy\"]=history.history[\"val_accuracy\"]\n",
        "dic_curves_IP[\"accuracy\"]=history.history[\"accuracy\"]\n",
        "dic_curves_IP[\"loss\"]=history.history[\"loss\"]\n",
        "dic_curves_IP[\"val_loss\"]=history.history[\"val_loss\"]\n",
        "\n",
        "import pickle \n",
        "\n",
        "with open(\"accu_loss_CNN2D.pkl\",\"wb\") as f:\n",
        "    pickle.dump(dic_curves_IP,f)"
      ]
    },
    {
      "cell_type": "markdown",
      "metadata": {
        "id": "PDLQ_6k85R1X"
      },
      "source": [
        "#### 3. Evaluación"
      ]
    },
    {
      "cell_type": "markdown",
      "metadata": {
        "id": "uZxwwFm7YrRY"
      },
      "source": [
        "#### 3.1. Evaluacion Test"
      ]
    },
    {
      "cell_type": "code",
      "execution_count": 13,
      "metadata": {
        "colab": {
          "base_uri": "https://localhost:8080/"
        },
        "id": "wvpN6KXp5R1X",
        "outputId": "dc8fec53-72b2-4816-d25e-e5de43dd7abd"
      },
      "outputs": [
        {
          "name": "stdout",
          "output_type": "stream",
          "text": [
            "263/263 [==============================] - 2s 6ms/step - loss: 0.0824 - accuracy: 0.9755\n"
          ]
        }
      ],
      "source": [
        "evaluacion_test=model.evaluate(x_test,y_test)"
      ]
    },
    {
      "cell_type": "markdown",
      "metadata": {
        "id": "bPkuxHOoYusx"
      },
      "source": [
        "#### 3.2. Classification Report"
      ]
    },
    {
      "cell_type": "code",
      "execution_count": 14,
      "metadata": {
        "colab": {
          "base_uri": "https://localhost:8080/"
        },
        "id": "v94acefT5R1X",
        "outputId": "11378a53-243f-4caa-df85-59afe56a27fe"
      },
      "outputs": [
        {
          "name": "stdout",
          "output_type": "stream",
          "text": [
            "263/263 [==============================] - 1s 4ms/step\n",
            "                             precision    recall  f1-score   support\n",
            "\n",
            "                  UNLABELED       0.98      0.97      0.98      4311\n",
            "                    ALFALFA       0.89      0.94      0.92        18\n",
            "                CORN-NOTILL       0.97      0.98      0.97       571\n",
            "               CORN_MINTILL       0.95      0.98      0.96       332\n",
            "                       CORN       1.00      0.98      0.99        95\n",
            "              GRASS-PASTURE       0.95      0.99      0.97       193\n",
            "                GRASS_TREES       0.96      0.98      0.97       292\n",
            "        GRASS_PASTURE_MOWED       1.00      0.91      0.95        11\n",
            "              HAY_WINDROWED       0.99      1.00      1.00       191\n",
            "                       OATS       1.00      0.75      0.86         8\n",
            "             SOYBEAN_NOTILL       0.96      0.97      0.96       389\n",
            "            SOYBEAN-MINTILL       0.98      0.99      0.99       982\n",
            "              SOYBEAN_CLEAN       0.98      0.92      0.95       237\n",
            "                      WHEAT       0.99      0.98      0.98        82\n",
            "                      WOODS       0.99      0.97      0.98       506\n",
            "BUILDING_GRASS_TREES_DRIVES       0.96      0.99      0.97       155\n",
            "         STONE_STEEL_TOWERS       0.84      0.97      0.90        37\n",
            "\n",
            "                   accuracy                           0.98      8410\n",
            "                  macro avg       0.96      0.96      0.96      8410\n",
            "               weighted avg       0.98      0.98      0.98      8410\n",
            "\n"
          ]
        }
      ],
      "source": [
        "y_pred=model.predict(x_test)\n",
        "y_pred=np.argmax(y_pred,axis=1)\n",
        "from sklearn.metrics import classification_report\n",
        "clases_dataset_IP=[\"UNLABELED\",\"ALFALFA\",\"CORN-NOTILL\",\"CORN_MINTILL\",\"CORN\",\"GRASS-PASTURE\",\"GRASS_TREES\",\"GRASS_PASTURE_MOWED\",\"HAY_WINDROWED\",\"OATS\",\"SOYBEAN_NOTILL\",\"SOYBEAN-MINTILL\",\"SOYBEAN_CLEAN\",\"WHEAT\",\"WOODS\",\"BUILDING_GRASS_TREES_DRIVES\",\"STONE_STEEL_TOWERS\"]\n",
        "target_names=clases_dataset_IP\n",
        "classification=classification_report(np.argmax(y_test,axis=1),y_pred,target_names=target_names)\n",
        "print(classification)"
      ]
    },
    {
      "cell_type": "markdown",
      "metadata": {
        "id": "bpyxAcTAY_mO"
      },
      "source": [
        "#### 3.3. Cohen Kappa"
      ]
    },
    {
      "cell_type": "code",
      "execution_count": 15,
      "metadata": {
        "colab": {
          "base_uri": "https://localhost:8080/"
        },
        "id": "7Y2yvdGsZUr0",
        "outputId": "464f9d23-eb15-413b-8926-c094e3330e7d"
      },
      "outputs": [],
      "source": [
        "from sklearn.metrics import cohen_kappa_score\n",
        "a=y_pred\n",
        "b=np.argmax(y_test,axis=1)\n",
        "cks=cohen_kappa_score(a,b)\n",
        "cks\n",
        "\n",
        "np.save(\"cohen_kappa_score_cnn2d\",cks)"
      ]
    },
    {
      "cell_type": "code",
      "execution_count": 16,
      "metadata": {},
      "outputs": [
        {
          "data": {
            "text/plain": [
              "array(0.96548054)"
            ]
          },
          "execution_count": 16,
          "metadata": {},
          "output_type": "execute_result"
        }
      ],
      "source": [
        "import numpy as np \n",
        "np.load(\"cohen_kappa_score_cnn2d.npy\")"
      ]
    },
    {
      "cell_type": "code",
      "execution_count": 17,
      "metadata": {},
      "outputs": [],
      "source": [
        "import pandas as pd \n",
        "\n",
        "pd_reporte_clasificacion=pd.DataFrame(classification_report(np.argmax(y_test,axis=1),y_pred,target_names=target_names,output_dict=True)).transpose()\n",
        "pd_reporte_clasificacion.to_csv(\"reporte_clasificacion_cnn2d.csv\")"
      ]
    },
    {
      "cell_type": "code",
      "execution_count": 18,
      "metadata": {
        "colab": {
          "base_uri": "https://localhost:8080/"
        },
        "id": "skSUfSLs5R1X",
        "outputId": "99d4891a-e5d5-4d6e-9569-dad4c7666f21"
      },
      "outputs": [
        {
          "name": "stdout",
          "output_type": "stream",
          "text": [
            "165/165 [==============================] - 1s 5ms/step\n"
          ]
        }
      ],
      "source": [
        "y_pred,_=createImageCubes(data,labels,removeZeroLabels=False)\n",
        "y_pred=model.predict(y_pred,batch_size=128)\n",
        "y_pred=np.argmax(y_pred,axis=1)\n",
        "y_pred=y_pred.reshape(H,W)"
      ]
    },
    {
      "cell_type": "code",
      "execution_count": 19,
      "metadata": {
        "colab": {
          "base_uri": "https://localhost:8080/",
          "height": 248
        },
        "id": "nkgp4lKB5R1Y",
        "outputId": "aa48a459-ca93-4d9c-c378-0f58cbee8960"
      },
      "outputs": [
        {
          "data": {
            "image/png": "[encoded data removed]",
            "text/plain": [
              "<Figure size 432x288 with 1 Axes>"
            ]
          },
          "metadata": {
            "needs_background": "light"
          },
          "output_type": "display_data"
        }
      ],
      "source": [
        "import matplotlib.pyplot as plt \n",
        "plt.imshow(y_pred)\n",
        "plt.axis(\"off\");"
      ]
    },
    {
      "cell_type": "code",
      "execution_count": 20,
      "metadata": {},
      "outputs": [],
      "source": [
        "np.save(\"y_pred_cnn2d\",y_pred)"
      ]
    },
    {
      "cell_type": "code",
      "execution_count": 21,
      "metadata": {
        "colab": {
          "base_uri": "https://localhost:8080/",
          "height": 286
        },
        "id": "5foEvQ32VnlY",
        "outputId": "54d60d5c-2ea2-43e7-8322-784d12ff38a8"
      },
      "outputs": [
        {
          "data": {
            "text/plain": [
              "(-0.5, 144.5, 144.5, -0.5)"
            ]
          },
          "execution_count": 21,
          "metadata": {},
          "output_type": "execute_result"
        },
        {
          "data": {
            "image/png": "[encoded data removed]",
            "text/plain": [
              "<Figure size 432x288 with 1 Axes>"
            ]
          },
          "metadata": {
            "needs_background": "light"
          },
          "output_type": "display_data"
        }
      ],
      "source": [
        "plt.imshow(labels)\n",
        "plt.axis(\"off\")"
      ]
    },
    {
      "cell_type": "code",
      "execution_count": 22,
      "metadata": {},
      "outputs": [
        {
          "data": {
            "text/plain": [
              "0.981027902310935"
            ]
          },
          "execution_count": 22,
          "metadata": {},
          "output_type": "execute_result"
        }
      ],
      "source": [
        "from sklearn.metrics import accuracy_score\n",
        "a=y_pred.reshape(H*W)\n",
        "b=labels.reshape(H*W)\n",
        "cohen_kappa_score(a,b)"
      ]
    },
    {
      "cell_type": "code",
      "execution_count": 23,
      "metadata": {},
      "outputs": [
        {
          "data": {
            "text/plain": [
              "0.9865398335315101"
            ]
          },
          "execution_count": 23,
          "metadata": {},
          "output_type": "execute_result"
        }
      ],
      "source": [
        "accuracy_score(a,b)"
      ]
    },
    {
      "cell_type": "code",
      "execution_count": 24,
      "metadata": {
        "colab": {
          "base_uri": "https://localhost:8080/"
        },
        "id": "Y7eo3zRRKzMl",
        "outputId": "50536104-8ddb-4405-fef1-b487fd0de2a0"
      },
      "outputs": [
        {
          "name": "stdout",
          "output_type": "stream",
          "text": [
            "Mean IoU 0.96106136\n"
          ]
        }
      ],
      "source": [
        "from keras.metrics import MeanIoU \n",
        "n_classes=17\n",
        "IOU_mean=MeanIoU(num_classes=n_classes)\n",
        "IOU_mean.update_state(y_pred,labels)\n",
        "print(\"Mean IoU\",IOU_mean.result().numpy())\n",
        "np.save(\"IoU_cnn2d\",IOU_mean.result().numpy())"
      ]
    },
    {
      "cell_type": "code",
      "execution_count": 25,
      "metadata": {
        "colab": {
          "base_uri": "https://localhost:8080/"
        },
        "id": "Z0fwX8s-5R1Y",
        "outputId": "0a560e09-f225-4dfb-b2eb-682d35c04385"
      },
      "outputs": [
        {
          "name": "stdout",
          "output_type": "stream",
          "text": [
            "unlabeled : 0.9747312\n",
            "ALFALFA : 0.9375\n",
            "CORN-NOTILL : 0.9737931\n",
            "CORN_MINTILL : 0.9525463\n",
            "CORN : 0.9832636\n",
            "GRASS-PASTURE : 0.96767676\n",
            "GRASS_TREES : 0.95888597\n",
            "GRASS_PASTURE_MOWED : 0.96428573\n",
            "HAY_WINDROWED : 0.9979123\n",
            "OATS : 0.9\n",
            "SOYBEAN_NOTILL : 0.96478873\n",
            "SOYBEAN-MINTILL : 0.98747474\n",
            "SOYBEAN_CLEAN : 0.9483333\n",
            "WHEAT : 0.9854369\n",
            "WOODS : 0.97723705\n",
            "BUILDING_GRASS_TREES_DRIVES : 0.9622166\n",
            "STONE_STEEL_TOWERS : 0.9019608\n"
          ]
        }
      ],
      "source": [
        "# IoU por clase.\n",
        "from keras.metrics import IoU\n",
        "clases=[\"unlabeled\",\"ALFALFA\",\"CORN-NOTILL\",\"CORN_MINTILL\",\"CORN\",\"GRASS-PASTURE\",\"GRASS_TREES\",\"GRASS_PASTURE_MOWED\",\"HAY_WINDROWED\",\"OATS\",\"SOYBEAN_NOTILL\",\"SOYBEAN-MINTILL\",\"SOYBEAN_CLEAN\",\"WHEAT\",\"WOODS\",\"BUILDING_GRASS_TREES_DRIVES\",\"STONE_STEEL_TOWERS\"]\n",
        "IoU_class_report=[]\n",
        "for i in range(17):\n",
        "    IoU_class=IoU(num_classes=17,target_class_ids=[i])\n",
        "    IoU_class.update_state(y_pred,labels)\n",
        "    IoU_class_report.append(IoU_class.result().numpy())\n",
        "    print(clases[i],\":\", IoU_class.result().numpy())"
      ]
    },
    {
      "cell_type": "code",
      "execution_count": 26,
      "metadata": {},
      "outputs": [],
      "source": [
        "np.save(\"reporte_IoU_cnn2d\",IoU_class_report)"
      ]
    },
    {
      "cell_type": "code",
      "execution_count": 27,
      "metadata": {
        "id": "0o9DYE8s5R1Y"
      },
      "outputs": [
        {
          "name": "stdout",
          "output_type": "stream",
          "text": [
            "0.9747312\n",
            "0.9375\n",
            "0.9737931\n",
            "0.9525463\n",
            "0.9832636\n",
            "0.96767676\n",
            "0.95888597\n",
            "0.96428573\n",
            "0.9979123\n",
            "0.9\n",
            "0.96478873\n",
            "0.98747474\n",
            "0.9483333\n",
            "0.9854369\n",
            "0.97723705\n",
            "0.9622166\n",
            "0.9019608\n"
          ]
        }
      ],
      "source": [
        "from keras.metrics import IoU\n",
        "clases=[\"UNLABELED\",\"ALFALFA\",\"CORN-NOTILL\",\"CORN_MINTILL\",\"CORN\",\"GRASS-PASTURE\",\"GRASS_TREES\",\"GRASS_PASTURE_MOWED\",\"HAY_WINDROWED\",\"OATS\",\"SOYBEAN_NOTILL\",\"SOYBEAN-MINTILL\",\"SOYBEAN_CLEAN\",\"WHEAT\",\"WOODS\",\"BUILDING_GRASS_TREES_DRIVES\",\"STONE_STEEL_TOWERS\"]\n",
        "IoU_class_report=[]\n",
        "for i in range(n_clases):\n",
        "    IoU_class=IoU(num_classes=n_clases,target_class_ids=[i])\n",
        "    IoU_class.update_state(y_pred,labels)\n",
        "    IoU_class_report.append(IoU_class.result().numpy())\n",
        "    print(IoU_class.result().numpy())"
      ]
    }
  ],
  "metadata": {
    "accelerator": "GPU",
    "colab": {
      "provenance": []
    },
    "gpuClass": "standard",
    "kernelspec": {
      "display_name": "Python 3",
      "language": "python",
      "name": "python3"
    },
    "language_info": {
      "codemirror_mode": {
        "name": "ipython",
        "version": 3
      },
      "file_extension": ".py",
      "mimetype": "text/x-python",
      "name": "python",
      "nbconvert_exporter": "python",
      "pygments_lexer": "ipython3",
      "version": "3.7.2"
    },
    "orig_nbformat": 4,
    "vscode": {
      "interpreter": {
        "hash": "98d5674963b65db345bb78e3c5a3b7a8950200b887d8b92f8da01b49df867ecf"
      }
    }
  },
  "nbformat": 4,
  "nbformat_minor": 0
}
