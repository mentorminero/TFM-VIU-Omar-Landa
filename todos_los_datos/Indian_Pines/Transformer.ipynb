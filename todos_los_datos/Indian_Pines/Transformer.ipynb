{
  "cells": [
    {
      "cell_type": "markdown",
      "metadata": {
        "id": "mEhKpIX_5R1L"
      },
      "source": [
        "### 1. Preparación del dataset"
      ]
    },
    {
      "cell_type": "markdown",
      "metadata": {
        "id": "_wLxvJ-t5R1P"
      },
      "source": [
        "#### 1.1. Lectura del conjunto de datos"
      ]
    },
    {
      "cell_type": "code",
      "execution_count": 1,
      "metadata": {
        "id": "iMF11JwQ5R1P"
      },
      "outputs": [],
      "source": [
        "from scipy.io import loadmat\n",
        "data=loadmat(\"Indian_pines_corrected_image.mat\")['indian_pines_corrected']\n",
        "labels=loadmat(\"Indian_pines_ground_truth.mat\")['indian_pines_gt']\n",
        "H,W,C=data.shape"
      ]
    },
    {
      "cell_type": "markdown",
      "metadata": {
        "id": "dHBKDQW15R1Q"
      },
      "source": [
        "#### 1.2. Reducción de la dimensionalidad"
      ]
    },
    {
      "cell_type": "code",
      "execution_count": 2,
      "metadata": {
        "id": "R8S5fnFy5R1R"
      },
      "outputs": [],
      "source": [
        "from sklearn.decomposition import PCA\n",
        "n_components=22 # Nuestro análisis abarca 20 bandas\n",
        "data=data.reshape(H*W,C)\n",
        "pca=PCA(n_components=n_components,whiten=True)\n",
        "data=pca.fit_transform(data)"
      ]
    },
    {
      "cell_type": "markdown",
      "metadata": {
        "id": "5FIwV9yC5R1S"
      },
      "source": [
        "#### 1.3. Normalización de los datos"
      ]
    },
    {
      "cell_type": "code",
      "execution_count": 3,
      "metadata": {
        "id": "7hYF0Dp05R1S"
      },
      "outputs": [],
      "source": [
        "from sklearn.preprocessing import MinMaxScaler, StandardScaler\n",
        "standar_scaler=StandardScaler()\n",
        "data=standar_scaler.fit_transform(data)\n",
        "data=data.reshape(H,W,n_components);"
      ]
    },
    {
      "cell_type": "markdown",
      "metadata": {
        "id": "KjiRINWq5R1T"
      },
      "source": [
        "#### 1.4. Aproximación parche a pixel"
      ]
    },
    {
      "cell_type": "code",
      "execution_count": 4,
      "metadata": {
        "id": "jSW-YDIE7BFm"
      },
      "outputs": [],
      "source": [
        "import numpy as np\n",
        "\n",
        "def padWithZeros(X, margin=2):\n",
        "    newX=np.zeros((X.shape[0]+2*margin,X.shape[1]+2*margin, X.shape[2]))\n",
        "    x_offset=margin\n",
        "    y_offset=margin \n",
        "    newX[x_offset:X.shape[0]+x_offset, y_offset:X.shape[1]+y_offset,:]=X\n",
        "    return newX\n",
        "\n",
        "def createImageCubes(X,y,windowSize=9, removeZeroLabels=True): #Regresar a 5\n",
        "    margin=int((windowSize-1)/2)\n",
        "    zeroPaddedX=padWithZeros(X,margin=margin)\n",
        "    patchesData=np.zeros((X.shape[0]*X.shape[1],windowSize,windowSize,X.shape[2]))\n",
        "    patchesLabels=np.zeros((X.shape[0]*X.shape[1]))\n",
        "    patchIndex=0\n",
        "    for r in range(margin,zeroPaddedX.shape[0]-margin):\n",
        "        for c in range(margin,zeroPaddedX.shape[1]-margin):\n",
        "            patch=zeroPaddedX[r-margin:r+margin+1,c-margin:c+margin+1]\n",
        "            patchesData[patchIndex,:,:,:]=patch \n",
        "            patchesLabels[patchIndex]=y[r-margin,c-margin]\n",
        "            patchIndex=patchIndex+1\n",
        "    if removeZeroLabels:\n",
        "        patchesData=patchesData[patchesLabels>0,:,:,:]\n",
        "        patchesLabels=patchesLabels[patchesLabels>0]\n",
        "        patchesLabels -=1\n",
        "    from keras.utils import np_utils\n",
        "    patchesLabels=np_utils.to_categorical(patchesLabels)\n",
        "    return patchesData,patchesLabels "
      ]
    },
    {
      "cell_type": "markdown",
      "metadata": {
        "id": "A3MGlZyuYeNd"
      },
      "source": [
        "#### 1.5. Acondicionar el conjunto de datos"
      ]
    },
    {
      "cell_type": "code",
      "execution_count": 5,
      "metadata": {
        "id": "Jy70nu4u5R1T"
      },
      "outputs": [],
      "source": [
        "x_train,y_train=createImageCubes(data,labels,removeZeroLabels=False)"
      ]
    },
    {
      "cell_type": "code",
      "execution_count": 6,
      "metadata": {
        "id": "dSY5Jis85R1U"
      },
      "outputs": [],
      "source": [
        "n_clases=y_train.shape[1]"
      ]
    },
    {
      "cell_type": "code",
      "execution_count": 7,
      "metadata": {},
      "outputs": [],
      "source": [
        "x_train=x_train.reshape(-1,81,n_components)"
      ]
    },
    {
      "cell_type": "markdown",
      "metadata": {
        "id": "QD7kXWODYZYH"
      },
      "source": [
        "#### 1.6. Partir Dataset"
      ]
    },
    {
      "cell_type": "code",
      "execution_count": 8,
      "metadata": {
        "id": "id7WkYYp5R1U"
      },
      "outputs": [],
      "source": [
        "# TEST 40%, TRAIN 48%, VALIDATION 12%\n",
        "from sklearn.model_selection import train_test_split\n",
        "x_train,x_test,y_train,y_test=train_test_split(x_train,y_train,test_size=0.4,shuffle=True,random_state=0,stratify=y_train) #0.4 100% 0.9--0.79\n",
        "x_train,x_val,y_train,y_val=train_test_split(x_train,y_train,test_size=0.2,shuffle=True,random_state=0,stratify=y_train)"
      ]
    },
    {
      "cell_type": "markdown",
      "metadata": {
        "id": "BpfU-UCd5R1U"
      },
      "source": [
        "### 2. Red Neuronal Convolucional"
      ]
    },
    {
      "cell_type": "code",
      "execution_count": 9,
      "metadata": {
        "id": "eTrVFER95R1V"
      },
      "outputs": [],
      "source": [
        "import tensorflow as tf \n",
        "from tensorflow.keras.layers import *\n",
        "from tensorflow.keras.models import Model \n",
        "from tensorflow.keras.callbacks import EarlyStopping"
      ]
    },
    {
      "cell_type": "code",
      "execution_count": 10,
      "metadata": {},
      "outputs": [],
      "source": [
        "class ClassToken(Layer):\n",
        "    def __init__(self):\n",
        "        super().__init__()\n",
        "\n",
        "    def build(self, input_shape):\n",
        "        w_init = tf.random_normal_initializer()\n",
        "        self.w = tf.Variable(\n",
        "            initial_value = w_init(shape=(1,1,input_shape[-1]), dtype=tf.float32),\n",
        "            trainable = True \n",
        "        )\n",
        "\n",
        "    def call(self, inputs):\n",
        "        batch_size = tf.shape(inputs)[0]\n",
        "        hidden_dim = self.w.shape[-1]\n",
        "\n",
        "        cls=tf.broadcast_to(self.w, [batch_size,1,hidden_dim])\n",
        "        cls=tf.cast(cls, dtype=inputs.dtype)\n",
        "        return cls"
      ]
    },
    {
      "cell_type": "code",
      "execution_count": 11,
      "metadata": {
        "id": "eBwG7dGmrhP1"
      },
      "outputs": [],
      "source": [
        "\"\"\" Inputs \"\"\" \n",
        "shape_input=(81,n_components)\n",
        "inputs=Input(shape_input)\n",
        "\n",
        "\"\"\" Patch + Position Embeddings \"\"\" \n",
        "\n",
        "patch_embed = Dense(n_components)(inputs)\n",
        "positions=tf.range(start=0, limit=81, delta=1)\n",
        "pos_embed=Embedding(input_dim=n_components,output_dim=n_components)(positions)\n",
        "embed=patch_embed+pos_embed\n",
        "\n",
        "\"\"\" Adding Class Token \"\"\" \n",
        "\n",
        "token=ClassToken()(embed)\n",
        "x=Concatenate(axis=1)([token,embed])\n",
        "\n",
        "\"\"\" Transformer \"\"\"\n",
        "\n",
        "# Transformer Block 1\n",
        "\n",
        "skip_1=x\n",
        "x=LayerNormalization()(x)\n",
        "x=MultiHeadAttention(num_heads=3,key_dim=n_components)(x,x)\n",
        "x=Add()([x,skip_1])\n",
        "\n",
        "\n",
        "x=LayerNormalization()(x)\n",
        "x=Dense(128,activation=\"gelu\")(x)\n",
        "x=Dropout(0.5)(x)\n",
        "x=Dense(64,activation=\"relu\")(x) \n",
        "x=Dropout(0.5)(x)\n",
        "\"\"\" Clasificacion \"\"\" \n",
        "\n",
        "x=Flatten()(x)\n",
        "\n",
        "x=Dense(243,activation=\"relu\")(x)\n",
        "x=Dropout(0.5)(x)\n",
        "x=Dense(n_clases,activation=\"relu\")(x)\n",
        "\n",
        "x=Dense(n_clases,activation=\"softmax\")(x)\n",
        "model=Model(inputs,x)\n",
        "model.compile(optimizer=\"adam\", loss=\"categorical_crossentropy\", metrics=[\"accuracy\"])"
      ]
    },
    {
      "cell_type": "code",
      "execution_count": 12,
      "metadata": {
        "id": "YeqaoidY5R1W"
      },
      "outputs": [],
      "source": [
        "callback=EarlyStopping(monitor=\"val_accuracy\", patience=10, restore_best_weights=True)"
      ]
    },
    {
      "cell_type": "markdown",
      "metadata": {
        "id": "pN8SBdnr5R1W"
      },
      "source": [
        "#### 2.1. Entrenamiento"
      ]
    },
    {
      "cell_type": "code",
      "execution_count": 13,
      "metadata": {
        "colab": {
          "base_uri": "https://localhost:8080/"
        },
        "id": "aEFPXM2_5R1W",
        "outputId": "253994c7-a9dc-45a6-ef7a-84beadfdaf30"
      },
      "outputs": [
        {
          "name": "stdout",
          "output_type": "stream",
          "text": [
            "Epoch 1/100\n",
            "79/79 [==============================] - 10s 90ms/step - loss: 1.4966 - accuracy: 0.5655 - val_loss: 1.0432 - val_accuracy: 0.6667\n",
            "Epoch 2/100\n",
            "79/79 [==============================] - 5s 64ms/step - loss: 0.9423 - accuracy: 0.6984 - val_loss: 0.7439 - val_accuracy: 0.7495\n",
            "Epoch 3/100\n",
            "79/79 [==============================] - 5s 62ms/step - loss: 0.7102 - accuracy: 0.7729 - val_loss: 0.5528 - val_accuracy: 0.8070\n",
            "Epoch 4/100\n",
            "79/79 [==============================] - 5s 64ms/step - loss: 0.5559 - accuracy: 0.8090 - val_loss: 0.4433 - val_accuracy: 0.8450\n",
            "Epoch 5/100\n",
            "79/79 [==============================] - 5s 63ms/step - loss: 0.4610 - accuracy: 0.8411 - val_loss: 0.3273 - val_accuracy: 0.8918\n",
            "Epoch 6/100\n",
            "79/79 [==============================] - 5s 62ms/step - loss: 0.3859 - accuracy: 0.8657 - val_loss: 0.3015 - val_accuracy: 0.8966\n",
            "Epoch 7/100\n",
            "79/79 [==============================] - 5s 62ms/step - loss: 0.3354 - accuracy: 0.8832 - val_loss: 0.2838 - val_accuracy: 0.8958\n",
            "Epoch 8/100\n",
            "79/79 [==============================] - 5s 62ms/step - loss: 0.2989 - accuracy: 0.8967 - val_loss: 0.2111 - val_accuracy: 0.9251\n",
            "Epoch 9/100\n",
            "79/79 [==============================] - 5s 62ms/step - loss: 0.2377 - accuracy: 0.9157 - val_loss: 0.2043 - val_accuracy: 0.9259\n",
            "Epoch 10/100\n",
            "79/79 [==============================] - 5s 63ms/step - loss: 0.2216 - accuracy: 0.9233 - val_loss: 0.1630 - val_accuracy: 0.9453\n",
            "Epoch 11/100\n",
            "79/79 [==============================] - 5s 62ms/step - loss: 0.1934 - accuracy: 0.9309 - val_loss: 0.2194 - val_accuracy: 0.9259\n",
            "Epoch 12/100\n",
            "79/79 [==============================] - 5s 62ms/step - loss: 0.1784 - accuracy: 0.9379 - val_loss: 0.1489 - val_accuracy: 0.9485\n",
            "Epoch 13/100\n",
            "79/79 [==============================] - 5s 62ms/step - loss: 0.1641 - accuracy: 0.9400 - val_loss: 0.1374 - val_accuracy: 0.9524\n",
            "Epoch 14/100\n",
            "79/79 [==============================] - 5s 62ms/step - loss: 0.1487 - accuracy: 0.9469 - val_loss: 0.1549 - val_accuracy: 0.9457\n",
            "Epoch 15/100\n",
            "79/79 [==============================] - 5s 62ms/step - loss: 0.1345 - accuracy: 0.9529 - val_loss: 0.1251 - val_accuracy: 0.9612\n",
            "Epoch 16/100\n",
            "79/79 [==============================] - 5s 62ms/step - loss: 0.1355 - accuracy: 0.9516 - val_loss: 0.1215 - val_accuracy: 0.9635\n",
            "Epoch 17/100\n",
            "79/79 [==============================] - 5s 61ms/step - loss: 0.1209 - accuracy: 0.9564 - val_loss: 0.1213 - val_accuracy: 0.9616\n",
            "Epoch 18/100\n",
            "79/79 [==============================] - 5s 62ms/step - loss: 0.1200 - accuracy: 0.9571 - val_loss: 0.1411 - val_accuracy: 0.9505\n",
            "Epoch 19/100\n",
            "79/79 [==============================] - 5s 61ms/step - loss: 0.1075 - accuracy: 0.9612 - val_loss: 0.1257 - val_accuracy: 0.9584\n",
            "Epoch 20/100\n",
            "79/79 [==============================] - 5s 62ms/step - loss: 0.1037 - accuracy: 0.9627 - val_loss: 0.1218 - val_accuracy: 0.9616\n",
            "Epoch 21/100\n",
            "79/79 [==============================] - 5s 62ms/step - loss: 0.0974 - accuracy: 0.9664 - val_loss: 0.1209 - val_accuracy: 0.9592\n",
            "Epoch 22/100\n",
            "79/79 [==============================] - 5s 61ms/step - loss: 0.0950 - accuracy: 0.9672 - val_loss: 0.1184 - val_accuracy: 0.9592\n",
            "Epoch 23/100\n",
            "79/79 [==============================] - 5s 62ms/step - loss: 0.0946 - accuracy: 0.9667 - val_loss: 0.1042 - val_accuracy: 0.9663\n",
            "Epoch 24/100\n",
            "79/79 [==============================] - 5s 62ms/step - loss: 0.0965 - accuracy: 0.9659 - val_loss: 0.1049 - val_accuracy: 0.9655\n",
            "Epoch 25/100\n",
            "79/79 [==============================] - 5s 62ms/step - loss: 0.0845 - accuracy: 0.9690 - val_loss: 0.1090 - val_accuracy: 0.9635\n",
            "Epoch 26/100\n",
            "79/79 [==============================] - 5s 61ms/step - loss: 0.0768 - accuracy: 0.9715 - val_loss: 0.1250 - val_accuracy: 0.9572\n",
            "Epoch 27/100\n",
            "79/79 [==============================] - 5s 61ms/step - loss: 0.0744 - accuracy: 0.9731 - val_loss: 0.1401 - val_accuracy: 0.9512\n",
            "Epoch 28/100\n",
            "79/79 [==============================] - 5s 61ms/step - loss: 0.0822 - accuracy: 0.9714 - val_loss: 0.1086 - val_accuracy: 0.9647\n",
            "Epoch 29/100\n",
            "79/79 [==============================] - 5s 62ms/step - loss: 0.0720 - accuracy: 0.9751 - val_loss: 0.1058 - val_accuracy: 0.9675\n",
            "Epoch 30/100\n",
            "79/79 [==============================] - 5s 62ms/step - loss: 0.0714 - accuracy: 0.9755 - val_loss: 0.1054 - val_accuracy: 0.9643\n",
            "Epoch 31/100\n",
            "79/79 [==============================] - 5s 61ms/step - loss: 0.0635 - accuracy: 0.9791 - val_loss: 0.0907 - val_accuracy: 0.9734\n",
            "Epoch 32/100\n",
            "79/79 [==============================] - 5s 62ms/step - loss: 0.0730 - accuracy: 0.9752 - val_loss: 0.0930 - val_accuracy: 0.9703\n",
            "Epoch 33/100\n",
            "79/79 [==============================] - 5s 61ms/step - loss: 0.0706 - accuracy: 0.9759 - val_loss: 0.0989 - val_accuracy: 0.9723\n",
            "Epoch 34/100\n",
            "79/79 [==============================] - 5s 62ms/step - loss: 0.0693 - accuracy: 0.9764 - val_loss: 0.1025 - val_accuracy: 0.9703\n",
            "Epoch 35/100\n",
            "79/79 [==============================] - 5s 62ms/step - loss: 0.0658 - accuracy: 0.9767 - val_loss: 0.1101 - val_accuracy: 0.9655\n",
            "Epoch 36/100\n",
            "79/79 [==============================] - 5s 61ms/step - loss: 0.0628 - accuracy: 0.9781 - val_loss: 0.1058 - val_accuracy: 0.9671\n",
            "Epoch 37/100\n",
            "79/79 [==============================] - 5s 61ms/step - loss: 0.0664 - accuracy: 0.9769 - val_loss: 0.1026 - val_accuracy: 0.9691\n",
            "Epoch 38/100\n",
            "79/79 [==============================] - 5s 62ms/step - loss: 0.0560 - accuracy: 0.9793 - val_loss: 0.0875 - val_accuracy: 0.9750\n",
            "Epoch 39/100\n",
            "79/79 [==============================] - 5s 61ms/step - loss: 0.0542 - accuracy: 0.9813 - val_loss: 0.1181 - val_accuracy: 0.9655\n",
            "Epoch 40/100\n",
            "79/79 [==============================] - 5s 62ms/step - loss: 0.0723 - accuracy: 0.9749 - val_loss: 0.1062 - val_accuracy: 0.9659\n",
            "Epoch 41/100\n",
            "79/79 [==============================] - 5s 62ms/step - loss: 0.0561 - accuracy: 0.9803 - val_loss: 0.0871 - val_accuracy: 0.9703\n",
            "Epoch 42/100\n",
            "79/79 [==============================] - 5s 61ms/step - loss: 0.0486 - accuracy: 0.9837 - val_loss: 0.1020 - val_accuracy: 0.9707\n",
            "Epoch 43/100\n",
            "79/79 [==============================] - 5s 61ms/step - loss: 0.0531 - accuracy: 0.9822 - val_loss: 0.1152 - val_accuracy: 0.9703\n",
            "Epoch 44/100\n",
            "79/79 [==============================] - 5s 63ms/step - loss: 0.0486 - accuracy: 0.9833 - val_loss: 0.1068 - val_accuracy: 0.9691\n",
            "Epoch 45/100\n",
            "79/79 [==============================] - 5s 62ms/step - loss: 0.0502 - accuracy: 0.9827 - val_loss: 0.1224 - val_accuracy: 0.9663\n",
            "Epoch 46/100\n",
            "79/79 [==============================] - 5s 62ms/step - loss: 0.0507 - accuracy: 0.9833 - val_loss: 0.1476 - val_accuracy: 0.9552\n",
            "Epoch 47/100\n",
            "79/79 [==============================] - 5s 66ms/step - loss: 0.0542 - accuracy: 0.9808 - val_loss: 0.1015 - val_accuracy: 0.9699\n",
            "Epoch 48/100\n",
            "79/79 [==============================] - 5s 66ms/step - loss: 0.0438 - accuracy: 0.9856 - val_loss: 0.1042 - val_accuracy: 0.9671\n"
          ]
        }
      ],
      "source": [
        "history=model.fit(x_train,y_train,epochs=100,batch_size=128,validation_data=(x_val,y_val),callbacks=[callback])"
      ]
    },
    {
      "cell_type": "code",
      "execution_count": 14,
      "metadata": {},
      "outputs": [],
      "source": [
        "dic_curves_IP={}\n",
        "dic_curves_IP[\"val_accuracy\"]=history.history[\"val_accuracy\"]\n",
        "dic_curves_IP[\"accuracy\"]=history.history[\"accuracy\"]\n",
        "dic_curves_IP[\"loss\"]=history.history[\"loss\"]\n",
        "dic_curves_IP[\"val_loss\"]=history.history[\"val_loss\"]\n",
        "\n",
        "import pickle \n",
        "\n",
        "with open(\"accu_loss_transformer.pkl\",\"wb\") as f:\n",
        "    pickle.dump(dic_curves_IP,f)"
      ]
    },
    {
      "cell_type": "markdown",
      "metadata": {
        "id": "PDLQ_6k85R1X"
      },
      "source": [
        "#### 3. Evaluación"
      ]
    },
    {
      "cell_type": "markdown",
      "metadata": {
        "id": "uZxwwFm7YrRY"
      },
      "source": [
        "#### 3.1. Evaluacion Test"
      ]
    },
    {
      "cell_type": "code",
      "execution_count": 15,
      "metadata": {
        "colab": {
          "base_uri": "https://localhost:8080/"
        },
        "id": "wvpN6KXp5R1X",
        "outputId": "dc8fec53-72b2-4816-d25e-e5de43dd7abd"
      },
      "outputs": [
        {
          "name": "stdout",
          "output_type": "stream",
          "text": [
            "263/263 [==============================] - 4s 14ms/step - loss: 0.1072 - accuracy: 0.9678\n"
          ]
        }
      ],
      "source": [
        "evaluacion_test=model.evaluate(x_test,y_test)"
      ]
    },
    {
      "cell_type": "markdown",
      "metadata": {
        "id": "bPkuxHOoYusx"
      },
      "source": [
        "#### 3.2. Classification Report"
      ]
    },
    {
      "cell_type": "code",
      "execution_count": 16,
      "metadata": {
        "colab": {
          "base_uri": "https://localhost:8080/"
        },
        "id": "v94acefT5R1X",
        "outputId": "11378a53-243f-4caa-df85-59afe56a27fe"
      },
      "outputs": [
        {
          "name": "stdout",
          "output_type": "stream",
          "text": [
            "263/263 [==============================] - 3s 11ms/step\n",
            "                             precision    recall  f1-score   support\n",
            "\n",
            "                  UNLABELED       0.97      0.97      0.97      4311\n",
            "                    ALFALFA       0.94      0.83      0.88        18\n",
            "                CORN-NOTILL       0.96      0.97      0.97       571\n",
            "               CORN_MINTILL       0.97      0.98      0.97       332\n",
            "                       CORN       0.95      0.95      0.95        95\n",
            "              GRASS-PASTURE       0.93      0.98      0.96       193\n",
            "                GRASS_TREES       0.97      0.96      0.96       292\n",
            "        GRASS_PASTURE_MOWED       1.00      1.00      1.00        11\n",
            "              HAY_WINDROWED       0.96      1.00      0.98       191\n",
            "                       OATS       1.00      0.88      0.93         8\n",
            "             SOYBEAN_NOTILL       0.95      0.98      0.96       389\n",
            "            SOYBEAN-MINTILL       0.98      0.98      0.98       982\n",
            "              SOYBEAN_CLEAN       0.98      0.90      0.94       237\n",
            "                      WHEAT       1.00      0.99      0.99        82\n",
            "                      WOODS       0.96      0.96      0.96       506\n",
            "BUILDING_GRASS_TREES_DRIVES       0.96      0.96      0.96       155\n",
            "         STONE_STEEL_TOWERS       0.72      0.97      0.83        37\n",
            "\n",
            "                   accuracy                           0.97      8410\n",
            "                  macro avg       0.95      0.96      0.95      8410\n",
            "               weighted avg       0.97      0.97      0.97      8410\n",
            "\n"
          ]
        }
      ],
      "source": [
        "y_pred=model.predict(x_test)\n",
        "y_pred=np.argmax(y_pred,axis=1)\n",
        "from sklearn.metrics import classification_report\n",
        "clases_dataset_IP=[\"UNLABELED\",\"ALFALFA\",\"CORN-NOTILL\",\"CORN_MINTILL\",\"CORN\",\"GRASS-PASTURE\",\"GRASS_TREES\",\"GRASS_PASTURE_MOWED\",\"HAY_WINDROWED\",\"OATS\",\"SOYBEAN_NOTILL\",\"SOYBEAN-MINTILL\",\"SOYBEAN_CLEAN\",\"WHEAT\",\"WOODS\",\"BUILDING_GRASS_TREES_DRIVES\",\"STONE_STEEL_TOWERS\"]\n",
        "target_names=clases_dataset_IP\n",
        "classification=classification_report(np.argmax(y_test,axis=1),y_pred,target_names=target_names)\n",
        "print(classification)"
      ]
    },
    {
      "cell_type": "markdown",
      "metadata": {
        "id": "bpyxAcTAY_mO"
      },
      "source": [
        "#### 3.3. Cohen Kappa"
      ]
    },
    {
      "cell_type": "code",
      "execution_count": 17,
      "metadata": {
        "colab": {
          "base_uri": "https://localhost:8080/"
        },
        "id": "7Y2yvdGsZUr0",
        "outputId": "464f9d23-eb15-413b-8926-c094e3330e7d"
      },
      "outputs": [],
      "source": [
        "from sklearn.metrics import cohen_kappa_score\n",
        "a=y_pred\n",
        "b=np.argmax(y_test,axis=1)\n",
        "cks=cohen_kappa_score(a,b)\n",
        "cks\n",
        "\n",
        "np.save(\"cohen_kappa_score_transformer\",cks)"
      ]
    },
    {
      "cell_type": "code",
      "execution_count": 18,
      "metadata": {},
      "outputs": [
        {
          "data": {
            "text/plain": [
              "array(0.954606)"
            ]
          },
          "execution_count": 18,
          "metadata": {},
          "output_type": "execute_result"
        }
      ],
      "source": [
        "import numpy as np\n",
        "np.load(\"cohen_kappa_score_transformer.npy\")"
      ]
    },
    {
      "cell_type": "code",
      "execution_count": 19,
      "metadata": {},
      "outputs": [],
      "source": [
        "import pandas as pd \n",
        "\n",
        "pd_reporte_clasificacion=pd.DataFrame(classification_report(np.argmax(y_test,axis=1),y_pred,target_names=target_names,output_dict=True)).transpose()\n",
        "pd_reporte_clasificacion.to_csv(\"reporte_clasificacion_transformer.csv\")"
      ]
    },
    {
      "cell_type": "code",
      "execution_count": 20,
      "metadata": {
        "colab": {
          "base_uri": "https://localhost:8080/"
        },
        "id": "skSUfSLs5R1X",
        "outputId": "99d4891a-e5d5-4d6e-9569-dad4c7666f21"
      },
      "outputs": [
        {
          "name": "stdout",
          "output_type": "stream",
          "text": [
            "165/165 [==============================] - 5s 27ms/step\n"
          ]
        }
      ],
      "source": [
        "y_pred,_=createImageCubes(data,labels,removeZeroLabels=False)\n",
        "y_pred=y_pred.reshape(-1,81,n_components)\n",
        "y_pred=model.predict(y_pred,batch_size=128)\n",
        "y_pred=np.argmax(y_pred,axis=1)\n",
        "y_pred=y_pred.reshape(H,W)"
      ]
    },
    {
      "cell_type": "code",
      "execution_count": 21,
      "metadata": {
        "colab": {
          "base_uri": "https://localhost:8080/",
          "height": 248
        },
        "id": "nkgp4lKB5R1Y",
        "outputId": "aa48a459-ca93-4d9c-c378-0f58cbee8960"
      },
      "outputs": [
        {
          "data": {
            "image/png": "[encoded data removed]",
            "text/plain": [
              "<Figure size 432x288 with 1 Axes>"
            ]
          },
          "metadata": {
            "needs_background": "light"
          },
          "output_type": "display_data"
        }
      ],
      "source": [
        "import matplotlib.pyplot as plt \n",
        "plt.imshow(y_pred)\n",
        "plt.axis(\"off\");"
      ]
    },
    {
      "cell_type": "code",
      "execution_count": 22,
      "metadata": {},
      "outputs": [],
      "source": [
        "np.save(\"y_pred_transformer\",y_pred)"
      ]
    },
    {
      "cell_type": "code",
      "execution_count": 23,
      "metadata": {
        "colab": {
          "base_uri": "https://localhost:8080/",
          "height": 286
        },
        "id": "5foEvQ32VnlY",
        "outputId": "54d60d5c-2ea2-43e7-8322-784d12ff38a8"
      },
      "outputs": [
        {
          "data": {
            "text/plain": [
              "(-0.5, 144.5, 144.5, -0.5)"
            ]
          },
          "execution_count": 23,
          "metadata": {},
          "output_type": "execute_result"
        },
        {
          "data": {
            "image/png": "[encoded data removed]",
            "text/plain": [
              "<Figure size 432x288 with 1 Axes>"
            ]
          },
          "metadata": {
            "needs_background": "light"
          },
          "output_type": "display_data"
        }
      ],
      "source": [
        "plt.imshow(labels)\n",
        "plt.axis(\"off\")"
      ]
    },
    {
      "cell_type": "code",
      "execution_count": 24,
      "metadata": {},
      "outputs": [
        {
          "data": {
            "text/plain": [
              "0.9774001057834881"
            ]
          },
          "execution_count": 24,
          "metadata": {},
          "output_type": "execute_result"
        }
      ],
      "source": [
        "from sklearn.metrics import accuracy_score\n",
        "a=y_pred.reshape(H*W)\n",
        "b=labels.reshape(H*W)\n",
        "cohen_kappa_score(a,b)"
      ]
    },
    {
      "cell_type": "code",
      "execution_count": 25,
      "metadata": {},
      "outputs": [
        {
          "data": {
            "text/plain": [
              "0.9839714625445898"
            ]
          },
          "execution_count": 25,
          "metadata": {},
          "output_type": "execute_result"
        }
      ],
      "source": [
        "accuracy_score(a,b)"
      ]
    },
    {
      "cell_type": "code",
      "execution_count": 26,
      "metadata": {
        "colab": {
          "base_uri": "https://localhost:8080/"
        },
        "id": "Y7eo3zRRKzMl",
        "outputId": "50536104-8ddb-4405-fef1-b487fd0de2a0"
      },
      "outputs": [
        {
          "name": "stdout",
          "output_type": "stream",
          "text": [
            "Mean IoU 0.95777535\n"
          ]
        }
      ],
      "source": [
        "from keras.metrics import MeanIoU \n",
        "n_classes=17\n",
        "IOU_mean=MeanIoU(num_classes=n_classes)\n",
        "IOU_mean.update_state(y_pred,labels)\n",
        "print(\"Mean IoU\",IOU_mean.result().numpy())\n",
        "np.save(\"IoU_transformer\",IOU_mean.result().numpy()) #antes 0.9492"
      ]
    },
    {
      "cell_type": "code",
      "execution_count": 27,
      "metadata": {
        "colab": {
          "base_uri": "https://localhost:8080/"
        },
        "id": "Z0fwX8s-5R1Y",
        "outputId": "0a560e09-f225-4dfb-b2eb-682d35c04385"
      },
      "outputs": [
        {
          "name": "stdout",
          "output_type": "stream",
          "text": [
            "unlabeled : 0.970219\n",
            "ALFALFA : 0.9148936\n",
            "CORN-NOTILL : 0.9643347\n",
            "CORN_MINTILL : 0.97044915\n",
            "CORN : 0.9508197\n",
            "GRASS-PASTURE : 0.9561753\n",
            "GRASS_TREES : 0.9543624\n",
            "GRASS_PASTURE_MOWED : 1.0\n",
            "HAY_WINDROWED : 0.9814815\n",
            "OATS : 0.95\n",
            "SOYBEAN_NOTILL : 0.96392787\n",
            "SOYBEAN-MINTILL : 0.98147404\n",
            "SOYBEAN_CLEAN : 0.9414716\n",
            "WHEAT : 0.99512196\n",
            "WOODS : 0.968143\n",
            "BUILDING_GRASS_TREES_DRIVES : 0.9594937\n",
            "STONE_STEEL_TOWERS : 0.8598131\n"
          ]
        }
      ],
      "source": [
        "# IoU por clase.\n",
        "from keras.metrics import IoU\n",
        "clases=[\"unlabeled\",\"ALFALFA\",\"CORN-NOTILL\",\"CORN_MINTILL\",\"CORN\",\"GRASS-PASTURE\",\"GRASS_TREES\",\"GRASS_PASTURE_MOWED\",\"HAY_WINDROWED\",\"OATS\",\"SOYBEAN_NOTILL\",\"SOYBEAN-MINTILL\",\"SOYBEAN_CLEAN\",\"WHEAT\",\"WOODS\",\"BUILDING_GRASS_TREES_DRIVES\",\"STONE_STEEL_TOWERS\"]\n",
        "IoU_class_report=[]\n",
        "for i in range(17):\n",
        "    IoU_class=IoU(num_classes=17,target_class_ids=[i])\n",
        "    IoU_class.update_state(y_pred,labels)\n",
        "    IoU_class_report.append(IoU_class.result().numpy())\n",
        "    print(clases[i],\":\", IoU_class.result().numpy())"
      ]
    },
    {
      "cell_type": "code",
      "execution_count": 28,
      "metadata": {},
      "outputs": [],
      "source": [
        "np.save(\"reporte_IoU_transformer\",IoU_class_report)"
      ]
    },
    {
      "cell_type": "code",
      "execution_count": 29,
      "metadata": {
        "id": "0o9DYE8s5R1Y"
      },
      "outputs": [
        {
          "name": "stdout",
          "output_type": "stream",
          "text": [
            "0.970219\n",
            "0.9148936\n",
            "0.9643347\n",
            "0.97044915\n",
            "0.9508197\n",
            "0.9561753\n",
            "0.9543624\n",
            "1.0\n",
            "0.9814815\n",
            "0.95\n",
            "0.96392787\n",
            "0.98147404\n",
            "0.9414716\n",
            "0.99512196\n",
            "0.968143\n",
            "0.9594937\n",
            "0.8598131\n"
          ]
        }
      ],
      "source": [
        "from keras.metrics import IoU\n",
        "clases=[\"UNLABELED\",\"ALFALFA\",\"CORN-NOTILL\",\"CORN_MINTILL\",\"CORN\",\"GRASS-PASTURE\",\"GRASS_TREES\",\"GRASS_PASTURE_MOWED\",\"HAY_WINDROWED\",\"OATS\",\"SOYBEAN_NOTILL\",\"SOYBEAN-MINTILL\",\"SOYBEAN_CLEAN\",\"WHEAT\",\"WOODS\",\"BUILDING_GRASS_TREES_DRIVES\",\"STONE_STEEL_TOWERS\"]\n",
        "IoU_class_report=[]\n",
        "for i in range(n_clases):\n",
        "    IoU_class=IoU(num_classes=n_clases,target_class_ids=[i])\n",
        "    IoU_class.update_state(y_pred,labels)\n",
        "    IoU_class_report.append(IoU_class.result().numpy())\n",
        "    print(IoU_class.result().numpy())"
      ]
    }
  ],
  "metadata": {
    "accelerator": "GPU",
    "colab": {
      "provenance": []
    },
    "gpuClass": "standard",
    "kernelspec": {
      "display_name": "Python 3",
      "language": "python",
      "name": "python3"
    },
    "language_info": {
      "codemirror_mode": {
        "name": "ipython",
        "version": 3
      },
      "file_extension": ".py",
      "mimetype": "text/x-python",
      "name": "python",
      "nbconvert_exporter": "python",
      "pygments_lexer": "ipython3",
      "version": "3.7.2"
    },
    "orig_nbformat": 4,
    "vscode": {
      "interpreter": {
        "hash": "98d5674963b65db345bb78e3c5a3b7a8950200b887d8b92f8da01b49df867ecf"
      }
    }
  },
  "nbformat": 4,
  "nbformat_minor": 0
}
