{
  "cells": [
    {
      "cell_type": "markdown",
      "metadata": {
        "id": "mEhKpIX_5R1L"
      },
      "source": [
        "### 1. Preparación del dataset"
      ]
    },
    {
      "cell_type": "markdown",
      "metadata": {
        "id": "_wLxvJ-t5R1P"
      },
      "source": [
        "#### 1.1. Lectura del conjunto de datos"
      ]
    },
    {
      "cell_type": "code",
      "execution_count": 1,
      "metadata": {
        "id": "iMF11JwQ5R1P"
      },
      "outputs": [],
      "source": [
        "from scipy.io import loadmat\n",
        "data=loadmat(\"PaviaUniversity_Image\")['paviaU']\n",
        "labels=loadmat(\"Pavia_University_ground_truth\")['paviaU_gt']\n",
        "H,W,C=data.shape"
      ]
    },
    {
      "cell_type": "markdown",
      "metadata": {
        "id": "dHBKDQW15R1Q"
      },
      "source": [
        "#### 1.2. Reducción de la dimensionalidad"
      ]
    },
    {
      "cell_type": "code",
      "execution_count": 2,
      "metadata": {
        "id": "R8S5fnFy5R1R"
      },
      "outputs": [],
      "source": [
        "from sklearn.decomposition import PCA\n",
        "n_components=22 # Nuestro análisis abarca 20 bandas\n",
        "data=data.reshape(H*W,C)\n",
        "pca=PCA(n_components=n_components,whiten=True)\n",
        "data=pca.fit_transform(data)"
      ]
    },
    {
      "cell_type": "markdown",
      "metadata": {
        "id": "5FIwV9yC5R1S"
      },
      "source": [
        "#### 1.3. Normalización de los datos"
      ]
    },
    {
      "cell_type": "code",
      "execution_count": 3,
      "metadata": {
        "id": "7hYF0Dp05R1S"
      },
      "outputs": [],
      "source": [
        "from sklearn.preprocessing import MinMaxScaler, StandardScaler\n",
        "standar_scaler=StandardScaler()\n",
        "data=standar_scaler.fit_transform(data)\n",
        "data=data.reshape(H,W,n_components);"
      ]
    },
    {
      "cell_type": "markdown",
      "metadata": {
        "id": "KjiRINWq5R1T"
      },
      "source": [
        "#### 1.4. Aproximación parche a pixel"
      ]
    },
    {
      "cell_type": "code",
      "execution_count": 4,
      "metadata": {
        "id": "jSW-YDIE7BFm"
      },
      "outputs": [],
      "source": [
        "import numpy as np\n",
        "\n",
        "def padWithZeros(X, margin=2):\n",
        "    newX=np.zeros((X.shape[0]+2*margin,X.shape[1]+2*margin, X.shape[2]))\n",
        "    x_offset=margin\n",
        "    y_offset=margin \n",
        "    newX[x_offset:X.shape[0]+x_offset, y_offset:X.shape[1]+y_offset,:]=X\n",
        "    return newX\n",
        "\n",
        "def createImageCubes(X,y,windowSize=9, removeZeroLabels=True): #Regresar a 5\n",
        "    margin=int((windowSize-1)/2)\n",
        "    zeroPaddedX=padWithZeros(X,margin=margin)\n",
        "    patchesData=np.zeros((X.shape[0]*X.shape[1],windowSize,windowSize,X.shape[2]))\n",
        "    patchesLabels=np.zeros((X.shape[0]*X.shape[1]))\n",
        "    patchIndex=0\n",
        "    for r in range(margin,zeroPaddedX.shape[0]-margin):\n",
        "        for c in range(margin,zeroPaddedX.shape[1]-margin):\n",
        "            patch=zeroPaddedX[r-margin:r+margin+1,c-margin:c+margin+1]\n",
        "            patchesData[patchIndex,:,:,:]=patch \n",
        "            patchesLabels[patchIndex]=y[r-margin,c-margin]\n",
        "            patchIndex=patchIndex+1\n",
        "    if removeZeroLabels:\n",
        "        patchesData=patchesData[patchesLabels>0,:,:,:]\n",
        "        patchesLabels=patchesLabels[patchesLabels>0]\n",
        "        patchesLabels -=1\n",
        "    from keras.utils import np_utils\n",
        "    patchesLabels=np_utils.to_categorical(patchesLabels)\n",
        "    return patchesData,patchesLabels "
      ]
    },
    {
      "cell_type": "markdown",
      "metadata": {
        "id": "A3MGlZyuYeNd"
      },
      "source": [
        "#### 1.5. Acondicionar el conjunto de datos"
      ]
    },
    {
      "cell_type": "code",
      "execution_count": 5,
      "metadata": {
        "id": "Jy70nu4u5R1T"
      },
      "outputs": [],
      "source": [
        "x_train,y_train=createImageCubes(data,labels,removeZeroLabels=False)"
      ]
    },
    {
      "cell_type": "code",
      "execution_count": 6,
      "metadata": {
        "id": "dSY5Jis85R1U"
      },
      "outputs": [],
      "source": [
        "n_clases=y_train.shape[1]"
      ]
    },
    {
      "cell_type": "markdown",
      "metadata": {
        "id": "QD7kXWODYZYH"
      },
      "source": [
        "#### 1.6. Partir Dataset"
      ]
    },
    {
      "cell_type": "code",
      "execution_count": 7,
      "metadata": {
        "id": "id7WkYYp5R1U"
      },
      "outputs": [],
      "source": [
        "# TEST 40%, TRAIN 48%, VALIDATION 12%\n",
        "from sklearn.model_selection import train_test_split\n",
        "x_train,x_test,y_train,y_test=train_test_split(x_train,y_train,test_size=0.4,shuffle=True,random_state=0,stratify=y_train) #0.4 100% 0.9--0.79\n",
        "x_train,x_val,y_train,y_val=train_test_split(x_train,y_train,test_size=0.2,shuffle=True,random_state=0,stratify=y_train)"
      ]
    },
    {
      "cell_type": "markdown",
      "metadata": {
        "id": "BpfU-UCd5R1U"
      },
      "source": [
        "### 2. Red Neuronal Convolucional"
      ]
    },
    {
      "cell_type": "code",
      "execution_count": 8,
      "metadata": {
        "id": "eTrVFER95R1V"
      },
      "outputs": [],
      "source": [
        "from tensorflow.keras.layers import *\n",
        "from tensorflow.keras.models import Model \n",
        "from tensorflow.keras.callbacks import EarlyStopping"
      ]
    },
    {
      "cell_type": "code",
      "execution_count": 9,
      "metadata": {
        "id": "eBwG7dGmrhP1"
      },
      "outputs": [],
      "source": [
        "shapes=(9,9,n_components,1)\n",
        "inputs=Input(shapes)\n",
        "x=BatchNormalization()(inputs)\n",
        "x=Conv3D(filters=32, kernel_size=(3,3,9),activation='relu')(x)#inputs) # Regresar el filtro a 3,3,7 si baja de 93\n",
        "x=Dropout(0.2)(x)\n",
        "x=BatchNormalization()(x) # Eliminar si baja el IoU de 89\n",
        "x=Conv3D(filters=32, kernel_size=(3,3,7),activation='relu')(x) #32 #Regresar a 8... si baja de 93\n",
        "x=MaxPool3D(pool_size=(2,2,2))(x)\n",
        "x=Dropout(0.2)(x)\n",
        "\n",
        "x=Conv3D(filters=32, kernel_size=(3,3,3), activation=\"relu\",padding=\"same\")(x)# 32 en vez de 4 regresar \n",
        "\n",
        "\n",
        "x=BatchNormalization()(x)\n",
        "x=Flatten()(x)\n",
        "\n",
        "\n",
        "x=Dense(n_clases,activation=\"relu\")(x) #256 en vez de 243\n",
        "x=Dropout(0.2)(x)\n",
        "x=Dense(n_clases,activation=\"softmax\")(x)\n",
        "\n",
        "\n",
        "model=Model(inputs=inputs,outputs=x)\n",
        "model.compile(optimizer=\"adam\", loss=\"categorical_crossentropy\", metrics=[\"accuracy\"])"
      ]
    },
    {
      "cell_type": "code",
      "execution_count": 10,
      "metadata": {
        "id": "YeqaoidY5R1W"
      },
      "outputs": [],
      "source": [
        "callback=EarlyStopping(monitor=\"val_accuracy\", patience=10, restore_best_weights=True)"
      ]
    },
    {
      "cell_type": "markdown",
      "metadata": {
        "id": "pN8SBdnr5R1W"
      },
      "source": [
        "#### 2.1. Entrenamiento"
      ]
    },
    {
      "cell_type": "code",
      "execution_count": 11,
      "metadata": {
        "colab": {
          "base_uri": "https://localhost:8080/"
        },
        "id": "aEFPXM2_5R1W",
        "outputId": "253994c7-a9dc-45a6-ef7a-84beadfdaf30"
      },
      "outputs": [
        {
          "name": "stdout",
          "output_type": "stream",
          "text": [
            "Epoch 1/100\n",
            "778/778 [==============================] - 53s 59ms/step - loss: 0.7533 - accuracy: 0.7666 - val_loss: 0.3364 - val_accuracy: 0.8799\n",
            "Epoch 2/100\n",
            "778/778 [==============================] - 44s 57ms/step - loss: 0.3441 - accuracy: 0.8835 - val_loss: 0.2019 - val_accuracy: 0.9227\n",
            "Epoch 3/100\n",
            "778/778 [==============================] - 45s 57ms/step - loss: 0.2524 - accuracy: 0.9125 - val_loss: 0.1758 - val_accuracy: 0.9306\n",
            "Epoch 4/100\n",
            "778/778 [==============================] - 44s 57ms/step - loss: 0.2095 - accuracy: 0.9233 - val_loss: 0.1490 - val_accuracy: 0.9370\n",
            "Epoch 5/100\n",
            "778/778 [==============================] - 44s 57ms/step - loss: 0.1817 - accuracy: 0.9306 - val_loss: 0.1491 - val_accuracy: 0.9399\n",
            "Epoch 6/100\n",
            "778/778 [==============================] - 44s 57ms/step - loss: 0.1670 - accuracy: 0.9360 - val_loss: 0.1201 - val_accuracy: 0.9530\n",
            "Epoch 7/100\n",
            "778/778 [==============================] - 45s 58ms/step - loss: 0.1571 - accuracy: 0.9404 - val_loss: 0.1254 - val_accuracy: 0.9465\n",
            "Epoch 8/100\n",
            "778/778 [==============================] - 49s 62ms/step - loss: 0.1493 - accuracy: 0.9427 - val_loss: 0.1137 - val_accuracy: 0.9564\n",
            "Epoch 9/100\n",
            "778/778 [==============================] - 47s 60ms/step - loss: 0.1427 - accuracy: 0.9452 - val_loss: 0.1082 - val_accuracy: 0.9577\n",
            "Epoch 10/100\n",
            "778/778 [==============================] - 47s 60ms/step - loss: 0.1381 - accuracy: 0.9475 - val_loss: 0.1093 - val_accuracy: 0.9541\n",
            "Epoch 11/100\n",
            "778/778 [==============================] - 47s 60ms/step - loss: 0.1320 - accuracy: 0.9497 - val_loss: 0.1006 - val_accuracy: 0.9621\n",
            "Epoch 12/100\n",
            "778/778 [==============================] - 47s 61ms/step - loss: 0.1285 - accuracy: 0.9513 - val_loss: 0.0955 - val_accuracy: 0.9627\n",
            "Epoch 13/100\n",
            "778/778 [==============================] - 47s 61ms/step - loss: 0.1234 - accuracy: 0.9531 - val_loss: 0.0941 - val_accuracy: 0.9632\n",
            "Epoch 14/100\n",
            "778/778 [==============================] - 47s 61ms/step - loss: 0.1214 - accuracy: 0.9536 - val_loss: 0.0968 - val_accuracy: 0.9614\n",
            "Epoch 15/100\n",
            "778/778 [==============================] - 47s 61ms/step - loss: 0.1183 - accuracy: 0.9545 - val_loss: 0.0909 - val_accuracy: 0.9637\n",
            "Epoch 16/100\n",
            "778/778 [==============================] - 47s 61ms/step - loss: 0.1156 - accuracy: 0.9553 - val_loss: 0.0904 - val_accuracy: 0.9652\n",
            "Epoch 17/100\n",
            "778/778 [==============================] - 47s 61ms/step - loss: 0.1113 - accuracy: 0.9577 - val_loss: 0.0913 - val_accuracy: 0.9654\n",
            "Epoch 18/100\n",
            "778/778 [==============================] - 47s 61ms/step - loss: 0.1101 - accuracy: 0.9581 - val_loss: 0.0863 - val_accuracy: 0.9647\n",
            "Epoch 19/100\n",
            "778/778 [==============================] - 47s 61ms/step - loss: 0.1092 - accuracy: 0.9589 - val_loss: 0.0917 - val_accuracy: 0.9622\n",
            "Epoch 20/100\n",
            "778/778 [==============================] - 47s 61ms/step - loss: 0.1071 - accuracy: 0.9593 - val_loss: 0.0871 - val_accuracy: 0.9640\n",
            "Epoch 21/100\n",
            "778/778 [==============================] - 47s 61ms/step - loss: 0.1036 - accuracy: 0.9615 - val_loss: 0.0869 - val_accuracy: 0.9650\n",
            "Epoch 22/100\n",
            "778/778 [==============================] - 47s 61ms/step - loss: 0.1001 - accuracy: 0.9624 - val_loss: 0.0868 - val_accuracy: 0.9652\n",
            "Epoch 23/100\n",
            "778/778 [==============================] - 47s 61ms/step - loss: 0.1059 - accuracy: 0.9602 - val_loss: 0.0925 - val_accuracy: 0.9662\n",
            "Epoch 24/100\n",
            "778/778 [==============================] - 47s 61ms/step - loss: 0.0992 - accuracy: 0.9631 - val_loss: 0.0927 - val_accuracy: 0.9628\n",
            "Epoch 25/100\n",
            "778/778 [==============================] - 47s 61ms/step - loss: 0.0966 - accuracy: 0.9638 - val_loss: 0.0874 - val_accuracy: 0.9659\n",
            "Epoch 26/100\n",
            "778/778 [==============================] - 47s 61ms/step - loss: 0.0975 - accuracy: 0.9631 - val_loss: 0.0887 - val_accuracy: 0.9652\n",
            "Epoch 27/100\n",
            "778/778 [==============================] - 47s 61ms/step - loss: 0.0965 - accuracy: 0.9639 - val_loss: 0.0907 - val_accuracy: 0.9646\n",
            "Epoch 28/100\n",
            "778/778 [==============================] - 47s 61ms/step - loss: 0.0956 - accuracy: 0.9641 - val_loss: 0.0891 - val_accuracy: 0.9630\n",
            "Epoch 29/100\n",
            "778/778 [==============================] - 47s 61ms/step - loss: 0.0924 - accuracy: 0.9654 - val_loss: 0.0828 - val_accuracy: 0.9681\n",
            "Epoch 30/100\n",
            "778/778 [==============================] - 47s 61ms/step - loss: 0.0911 - accuracy: 0.9658 - val_loss: 0.0860 - val_accuracy: 0.9677\n",
            "Epoch 31/100\n",
            "778/778 [==============================] - 47s 61ms/step - loss: 0.0925 - accuracy: 0.9653 - val_loss: 0.0881 - val_accuracy: 0.9683\n",
            "Epoch 32/100\n",
            "778/778 [==============================] - 47s 61ms/step - loss: 0.0902 - accuracy: 0.9667 - val_loss: 0.0837 - val_accuracy: 0.9663\n",
            "Epoch 33/100\n",
            "778/778 [==============================] - 47s 61ms/step - loss: 0.0896 - accuracy: 0.9668 - val_loss: 0.0887 - val_accuracy: 0.9667\n",
            "Epoch 34/100\n",
            "778/778 [==============================] - 47s 61ms/step - loss: 0.0887 - accuracy: 0.9673 - val_loss: 0.0857 - val_accuracy: 0.9666\n",
            "Epoch 35/100\n",
            "778/778 [==============================] - 47s 61ms/step - loss: 0.0858 - accuracy: 0.9683 - val_loss: 0.0833 - val_accuracy: 0.9686\n",
            "Epoch 36/100\n",
            "778/778 [==============================] - 47s 61ms/step - loss: 0.0850 - accuracy: 0.9680 - val_loss: 0.0918 - val_accuracy: 0.9642\n",
            "Epoch 37/100\n",
            "778/778 [==============================] - 47s 61ms/step - loss: 0.0856 - accuracy: 0.9683 - val_loss: 0.0841 - val_accuracy: 0.9676\n",
            "Epoch 38/100\n",
            "778/778 [==============================] - 47s 61ms/step - loss: 0.0854 - accuracy: 0.9679 - val_loss: 0.0856 - val_accuracy: 0.9686\n",
            "Epoch 39/100\n",
            "778/778 [==============================] - 47s 61ms/step - loss: 0.0852 - accuracy: 0.9683 - val_loss: 0.0927 - val_accuracy: 0.9651\n",
            "Epoch 40/100\n",
            "778/778 [==============================] - 47s 61ms/step - loss: 0.0844 - accuracy: 0.9684 - val_loss: 0.0784 - val_accuracy: 0.9705\n",
            "Epoch 41/100\n",
            "778/778 [==============================] - 48s 61ms/step - loss: 0.0815 - accuracy: 0.9700 - val_loss: 0.0841 - val_accuracy: 0.9688\n",
            "Epoch 42/100\n",
            "778/778 [==============================] - 47s 61ms/step - loss: 0.0829 - accuracy: 0.9692 - val_loss: 0.0812 - val_accuracy: 0.9699\n",
            "Epoch 43/100\n",
            "778/778 [==============================] - 48s 61ms/step - loss: 0.0824 - accuracy: 0.9696 - val_loss: 0.0815 - val_accuracy: 0.9683\n",
            "Epoch 44/100\n",
            "778/778 [==============================] - 48s 61ms/step - loss: 0.0825 - accuracy: 0.9692 - val_loss: 0.0875 - val_accuracy: 0.9680\n",
            "Epoch 45/100\n",
            "778/778 [==============================] - 47s 61ms/step - loss: 0.0790 - accuracy: 0.9710 - val_loss: 0.0864 - val_accuracy: 0.9679\n",
            "Epoch 46/100\n",
            "778/778 [==============================] - 47s 61ms/step - loss: 0.0794 - accuracy: 0.9710 - val_loss: 0.0812 - val_accuracy: 0.9703\n",
            "Epoch 47/100\n",
            "778/778 [==============================] - 47s 61ms/step - loss: 0.0806 - accuracy: 0.9705 - val_loss: 0.0825 - val_accuracy: 0.9686\n",
            "Epoch 48/100\n",
            "778/778 [==============================] - 47s 61ms/step - loss: 0.0777 - accuracy: 0.9707 - val_loss: 0.0899 - val_accuracy: 0.9677\n",
            "Epoch 49/100\n",
            "778/778 [==============================] - 47s 61ms/step - loss: 0.0771 - accuracy: 0.9719 - val_loss: 0.0825 - val_accuracy: 0.9695\n",
            "Epoch 50/100\n",
            "778/778 [==============================] - 47s 61ms/step - loss: 0.0774 - accuracy: 0.9719 - val_loss: 0.0894 - val_accuracy: 0.9660\n"
          ]
        }
      ],
      "source": [
        "history=model.fit(x_train,y_train,epochs=100,batch_size=128,validation_data=(x_val,y_val),callbacks=[callback])"
      ]
    },
    {
      "cell_type": "code",
      "execution_count": 12,
      "metadata": {},
      "outputs": [],
      "source": [
        "dic_curves_IP={}\n",
        "dic_curves_IP[\"val_accuracy\"]=history.history[\"val_accuracy\"]\n",
        "dic_curves_IP[\"accuracy\"]=history.history[\"accuracy\"]\n",
        "dic_curves_IP[\"loss\"]=history.history[\"loss\"]\n",
        "dic_curves_IP[\"val_loss\"]=history.history[\"val_loss\"]\n",
        "\n",
        "import pickle \n",
        "\n",
        "with open(\"accu_loss_CNN3D.pkl\",\"wb\") as f:\n",
        "    pickle.dump(dic_curves_IP,f)"
      ]
    },
    {
      "cell_type": "markdown",
      "metadata": {
        "id": "PDLQ_6k85R1X"
      },
      "source": [
        "#### 3. Evaluación"
      ]
    },
    {
      "cell_type": "markdown",
      "metadata": {
        "id": "uZxwwFm7YrRY"
      },
      "source": [
        "#### 3.1. Evaluacion Test"
      ]
    },
    {
      "cell_type": "code",
      "execution_count": 13,
      "metadata": {
        "colab": {
          "base_uri": "https://localhost:8080/"
        },
        "id": "wvpN6KXp5R1X",
        "outputId": "dc8fec53-72b2-4816-d25e-e5de43dd7abd"
      },
      "outputs": [
        {
          "name": "stdout",
          "output_type": "stream",
          "text": [
            "2593/2593 [==============================] - 21s 8ms/step - loss: 0.0835 - accuracy: 0.9682\n"
          ]
        }
      ],
      "source": [
        "evaluacion_test=model.evaluate(x_test,y_test)"
      ]
    },
    {
      "cell_type": "markdown",
      "metadata": {
        "id": "bPkuxHOoYusx"
      },
      "source": [
        "#### 3.2. Classification Report"
      ]
    },
    {
      "cell_type": "code",
      "execution_count": 14,
      "metadata": {
        "colab": {
          "base_uri": "https://localhost:8080/"
        },
        "id": "v94acefT5R1X",
        "outputId": "11378a53-243f-4caa-df85-59afe56a27fe"
      },
      "outputs": [
        {
          "name": "stdout",
          "output_type": "stream",
          "text": [
            "2593/2593 [==============================] - 16s 6ms/step\n",
            "                      precision    recall  f1-score   support\n",
            "\n",
            "           UNLABELED       0.98      0.98      0.98     65850\n",
            "             ASPHALT       0.87      0.92      0.89      2652\n",
            "             MEADOWS       0.97      0.98      0.97      7460\n",
            "              GRAVEL       0.83      0.93      0.88       839\n",
            "               TREES       0.76      0.70      0.73      1226\n",
            "PAINTED_METAL_SHEETS       0.91      0.95      0.93       538\n",
            "           BARE_SOIL       0.98      0.98      0.98      2011\n",
            "             BITUMEN       0.95      0.94      0.95       532\n",
            "SELF_BLOCKING_BRICKS       0.85      0.85      0.85      1473\n",
            "             SHADOWS       0.78      0.88      0.82       379\n",
            "\n",
            "            accuracy                           0.97     82960\n",
            "           macro avg       0.89      0.91      0.90     82960\n",
            "        weighted avg       0.97      0.97      0.97     82960\n",
            "\n"
          ]
        }
      ],
      "source": [
        "y_pred=model.predict(x_test)\n",
        "y_pred=np.argmax(y_pred,axis=1)\n",
        "from sklearn.metrics import classification_report\n",
        "clases_dataset_PU=[\"UNLABELED\",\"ASPHALT\",\"MEADOWS\",\"GRAVEL\",\"TREES\",\"PAINTED_METAL_SHEETS\",\"BARE_SOIL\",\"BITUMEN\",\"SELF_BLOCKING_BRICKS\",\"SHADOWS\"]\n",
        "target_names=clases_dataset_PU\n",
        "classification=classification_report(np.argmax(y_test,axis=1),y_pred,target_names=target_names)\n",
        "print(classification)"
      ]
    },
    {
      "cell_type": "markdown",
      "metadata": {
        "id": "bpyxAcTAY_mO"
      },
      "source": [
        "#### 3.3. Cohen Kappa"
      ]
    },
    {
      "cell_type": "code",
      "execution_count": 15,
      "metadata": {
        "colab": {
          "base_uri": "https://localhost:8080/"
        },
        "id": "7Y2yvdGsZUr0",
        "outputId": "464f9d23-eb15-413b-8926-c094e3330e7d"
      },
      "outputs": [],
      "source": [
        "from sklearn.metrics import cohen_kappa_score\n",
        "a=y_pred\n",
        "b=np.argmax(y_test,axis=1)\n",
        "cks=cohen_kappa_score(a,b)\n",
        "cks\n",
        "\n",
        "np.save(\"cohen_kappa_score_cnn3d\",cks)"
      ]
    },
    {
      "cell_type": "code",
      "execution_count": 16,
      "metadata": {},
      "outputs": [
        {
          "data": {
            "text/plain": [
              "array(0.91207631)"
            ]
          },
          "execution_count": 16,
          "metadata": {},
          "output_type": "execute_result"
        }
      ],
      "source": [
        "import numpy as np\n",
        "np.load(\"cohen_kappa_score_cnn3d.npy\")"
      ]
    },
    {
      "cell_type": "code",
      "execution_count": 17,
      "metadata": {},
      "outputs": [],
      "source": [
        "import pandas as pd \n",
        "\n",
        "pd_reporte_clasificacion=pd.DataFrame(classification_report(np.argmax(y_test,axis=1),y_pred,target_names=target_names,output_dict=True)).transpose()\n",
        "pd_reporte_clasificacion.to_csv(\"reporte_clasificacion_cnn3d.csv\")"
      ]
    },
    {
      "cell_type": "code",
      "execution_count": 18,
      "metadata": {
        "colab": {
          "base_uri": "https://localhost:8080/"
        },
        "id": "skSUfSLs5R1X",
        "outputId": "99d4891a-e5d5-4d6e-9569-dad4c7666f21"
      },
      "outputs": [
        {
          "name": "stdout",
          "output_type": "stream",
          "text": [
            "1621/1621 [==============================] - 19s 12ms/step\n"
          ]
        }
      ],
      "source": [
        "y_pred,_=createImageCubes(data,labels,removeZeroLabels=False)\n",
        "y_pred=model.predict(y_pred,batch_size=128)\n",
        "y_pred=np.argmax(y_pred,axis=1)\n",
        "y_pred=y_pred.reshape(H,W)"
      ]
    },
    {
      "cell_type": "code",
      "execution_count": 19,
      "metadata": {
        "colab": {
          "base_uri": "https://localhost:8080/",
          "height": 248
        },
        "id": "nkgp4lKB5R1Y",
        "outputId": "aa48a459-ca93-4d9c-c378-0f58cbee8960"
      },
      "outputs": [
        {
          "data": {
            "image/png": "[encoded data removed]",
            "text/plain": [
              "<Figure size 432x288 with 1 Axes>"
            ]
          },
          "metadata": {
            "needs_background": "light"
          },
          "output_type": "display_data"
        }
      ],
      "source": [
        "import matplotlib.pyplot as plt \n",
        "plt.imshow(y_pred)\n",
        "plt.axis(\"off\");"
      ]
    },
    {
      "cell_type": "code",
      "execution_count": 20,
      "metadata": {},
      "outputs": [],
      "source": [
        "np.save(\"y_pred_cnn3d\",y_pred)"
      ]
    },
    {
      "cell_type": "code",
      "execution_count": 21,
      "metadata": {
        "colab": {
          "base_uri": "https://localhost:8080/",
          "height": 286
        },
        "id": "5foEvQ32VnlY",
        "outputId": "54d60d5c-2ea2-43e7-8322-784d12ff38a8"
      },
      "outputs": [
        {
          "data": {
            "text/plain": [
              "(-0.5, 339.5, 609.5, -0.5)"
            ]
          },
          "execution_count": 21,
          "metadata": {},
          "output_type": "execute_result"
        },
        {
          "data": {
            "image/png": "[encoded data removed]",
            "text/plain": [
              "<Figure size 432x288 with 1 Axes>"
            ]
          },
          "metadata": {
            "needs_background": "light"
          },
          "output_type": "display_data"
        }
      ],
      "source": [
        "plt.imshow(labels)\n",
        "plt.axis(\"off\")"
      ]
    },
    {
      "cell_type": "code",
      "execution_count": 22,
      "metadata": {},
      "outputs": [
        {
          "data": {
            "text/plain": [
              "0.9408415615799541"
            ]
          },
          "execution_count": 22,
          "metadata": {},
          "output_type": "execute_result"
        }
      ],
      "source": [
        "from sklearn.metrics import accuracy_score\n",
        "a=y_pred.reshape(H*W)\n",
        "b=labels.reshape(H*W)\n",
        "cohen_kappa_score(a,b)"
      ]
    },
    {
      "cell_type": "code",
      "execution_count": 23,
      "metadata": {},
      "outputs": [
        {
          "data": {
            "text/plain": [
              "0.9785679845708776"
            ]
          },
          "execution_count": 23,
          "metadata": {},
          "output_type": "execute_result"
        }
      ],
      "source": [
        "accuracy_score(a,b)"
      ]
    },
    {
      "cell_type": "code",
      "execution_count": 24,
      "metadata": {
        "colab": {
          "base_uri": "https://localhost:8080/"
        },
        "id": "Y7eo3zRRKzMl",
        "outputId": "50536104-8ddb-4405-fef1-b487fd0de2a0"
      },
      "outputs": [
        {
          "name": "stdout",
          "output_type": "stream",
          "text": [
            "Mean IoU 0.8704197\n"
          ]
        }
      ],
      "source": [
        "from keras.metrics import MeanIoU \n",
        "n_classes=10\n",
        "IOU_mean=MeanIoU(num_classes=n_classes)\n",
        "IOU_mean.update_state(y_pred,labels)\n",
        "print(\"Mean IoU\",IOU_mean.result().numpy())\n",
        "np.save(\"IoU_cnn3d\",IOU_mean.result().numpy())"
      ]
    },
    {
      "cell_type": "code",
      "execution_count": 25,
      "metadata": {
        "colab": {
          "base_uri": "https://localhost:8080/"
        },
        "id": "Z0fwX8s-5R1Y",
        "outputId": "0a560e09-f225-4dfb-b2eb-682d35c04385"
      },
      "outputs": [
        {
          "name": "stdout",
          "output_type": "stream",
          "text": [
            "UNLABELED : 0.97332203\n",
            "ASPHALT : 0.87558687\n",
            "MEADOWS : 0.9677521\n",
            "GRAVEL : 0.83091587\n",
            "TREES : 0.6883263\n",
            "PAINTED_METAL_SHEETS : 0.8811334\n",
            "BARE_SOIL : 0.97563374\n",
            "BITUMEN : 0.93260074\n",
            "SELF_BLOCKING_BRICKS : 0.8132324\n",
            "SHADOWS : 0.7656941\n"
          ]
        }
      ],
      "source": [
        "# IoU por clase.\n",
        "from keras.metrics import IoU\n",
        "clases=[\"UNLABELED\",\"ASPHALT\",\"MEADOWS\",\"GRAVEL\",\"TREES\",\"PAINTED_METAL_SHEETS\",\"BARE_SOIL\",\"BITUMEN\",\"SELF_BLOCKING_BRICKS\",\"SHADOWS\"]\n",
        "IoU_class_report=[]\n",
        "for i in range(10):\n",
        "    IoU_class=IoU(num_classes=10,target_class_ids=[i])\n",
        "    IoU_class.update_state(y_pred,labels)\n",
        "    IoU_class_report.append(IoU_class.result().numpy())\n",
        "    print(clases[i],\":\", IoU_class.result().numpy())"
      ]
    },
    {
      "cell_type": "code",
      "execution_count": 26,
      "metadata": {},
      "outputs": [],
      "source": [
        "np.save(\"reporte_IoU_cnn3d\",IoU_class_report)"
      ]
    },
    {
      "cell_type": "code",
      "execution_count": 27,
      "metadata": {
        "id": "0o9DYE8s5R1Y"
      },
      "outputs": [
        {
          "name": "stdout",
          "output_type": "stream",
          "text": [
            "0.97332203\n",
            "0.87558687\n",
            "0.9677521\n",
            "0.83091587\n",
            "0.6883263\n",
            "0.8811334\n",
            "0.97563374\n",
            "0.93260074\n",
            "0.8132324\n",
            "0.7656941\n"
          ]
        }
      ],
      "source": [
        "from keras.metrics import IoU\n",
        "clases=[\"UNLABELED\",\"ASPHALT\",\"MEADOWS\",\"GRAVEL\",\"TREES\",\"PAINTED_METAL_SHEETS\",\"BARE_SOIL\",\"BITUMEN\",\"SELF_BLOCKING_BRICKS\",\"SHADOWS\"]\n",
        "IoU_class_report=[]\n",
        "for i in range(n_clases):\n",
        "    IoU_class=IoU(num_classes=n_clases,target_class_ids=[i])\n",
        "    IoU_class.update_state(y_pred,labels)\n",
        "    IoU_class_report.append(IoU_class.result().numpy())\n",
        "    print(IoU_class.result().numpy())"
      ]
    }
  ],
  "metadata": {
    "accelerator": "GPU",
    "colab": {
      "provenance": []
    },
    "gpuClass": "standard",
    "kernelspec": {
      "display_name": "Python 3",
      "language": "python",
      "name": "python3"
    },
    "language_info": {
      "codemirror_mode": {
        "name": "ipython",
        "version": 3
      },
      "file_extension": ".py",
      "mimetype": "text/x-python",
      "name": "python",
      "nbconvert_exporter": "python",
      "pygments_lexer": "ipython3",
      "version": "3.7.2"
    },
    "orig_nbformat": 4,
    "vscode": {
      "interpreter": {
        "hash": "98d5674963b65db345bb78e3c5a3b7a8950200b887d8b92f8da01b49df867ecf"
      }
    }
  },
  "nbformat": 4,
  "nbformat_minor": 0
}
