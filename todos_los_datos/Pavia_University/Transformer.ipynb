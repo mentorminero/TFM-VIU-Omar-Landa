{
  "cells": [
    {
      "cell_type": "markdown",
      "metadata": {
        "id": "mEhKpIX_5R1L"
      },
      "source": [
        "### 1. Preparación del dataset"
      ]
    },
    {
      "cell_type": "markdown",
      "metadata": {
        "id": "_wLxvJ-t5R1P"
      },
      "source": [
        "#### 1.1. Lectura del conjunto de datos"
      ]
    },
    {
      "cell_type": "code",
      "execution_count": 1,
      "metadata": {
        "id": "iMF11JwQ5R1P"
      },
      "outputs": [],
      "source": [
        "from scipy.io import loadmat\n",
        "data=loadmat(\"PaviaUniversity_Image\")['paviaU']\n",
        "labels=loadmat(\"Pavia_University_ground_truth\")['paviaU_gt']\n",
        "H,W,C=data.shape"
      ]
    },
    {
      "cell_type": "markdown",
      "metadata": {
        "id": "dHBKDQW15R1Q"
      },
      "source": [
        "#### 1.2. Reducción de la dimensionalidad"
      ]
    },
    {
      "cell_type": "code",
      "execution_count": 2,
      "metadata": {
        "id": "R8S5fnFy5R1R"
      },
      "outputs": [],
      "source": [
        "from sklearn.decomposition import PCA\n",
        "n_components=22 # Nuestro análisis abarca 20 bandas\n",
        "data=data.reshape(H*W,C)\n",
        "pca=PCA(n_components=n_components,whiten=True)\n",
        "data=pca.fit_transform(data)"
      ]
    },
    {
      "cell_type": "markdown",
      "metadata": {
        "id": "5FIwV9yC5R1S"
      },
      "source": [
        "#### 1.3. Normalización de los datos"
      ]
    },
    {
      "cell_type": "code",
      "execution_count": 3,
      "metadata": {
        "id": "7hYF0Dp05R1S"
      },
      "outputs": [],
      "source": [
        "from sklearn.preprocessing import MinMaxScaler, StandardScaler\n",
        "standar_scaler=StandardScaler()\n",
        "data=standar_scaler.fit_transform(data)\n",
        "data=data.reshape(H,W,n_components);"
      ]
    },
    {
      "cell_type": "markdown",
      "metadata": {
        "id": "KjiRINWq5R1T"
      },
      "source": [
        "#### 1.4. Aproximación parche a pixel"
      ]
    },
    {
      "cell_type": "code",
      "execution_count": 4,
      "metadata": {
        "id": "jSW-YDIE7BFm"
      },
      "outputs": [],
      "source": [
        "import numpy as np\n",
        "\n",
        "def padWithZeros(X, margin=2):\n",
        "    newX=np.zeros((X.shape[0]+2*margin,X.shape[1]+2*margin, X.shape[2]))\n",
        "    x_offset=margin\n",
        "    y_offset=margin \n",
        "    newX[x_offset:X.shape[0]+x_offset, y_offset:X.shape[1]+y_offset,:]=X\n",
        "    return newX\n",
        "\n",
        "def createImageCubes(X,y,windowSize=9, removeZeroLabels=True): #Regresar a 5\n",
        "    margin=int((windowSize-1)/2)\n",
        "    zeroPaddedX=padWithZeros(X,margin=margin)\n",
        "    patchesData=np.zeros((X.shape[0]*X.shape[1],windowSize,windowSize,X.shape[2]))\n",
        "    patchesLabels=np.zeros((X.shape[0]*X.shape[1]))\n",
        "    patchIndex=0\n",
        "    for r in range(margin,zeroPaddedX.shape[0]-margin):\n",
        "        for c in range(margin,zeroPaddedX.shape[1]-margin):\n",
        "            patch=zeroPaddedX[r-margin:r+margin+1,c-margin:c+margin+1]\n",
        "            patchesData[patchIndex,:,:,:]=patch \n",
        "            patchesLabels[patchIndex]=y[r-margin,c-margin]\n",
        "            patchIndex=patchIndex+1\n",
        "    if removeZeroLabels:\n",
        "        patchesData=patchesData[patchesLabels>0,:,:,:]\n",
        "        patchesLabels=patchesLabels[patchesLabels>0]\n",
        "        patchesLabels -=1\n",
        "    from keras.utils import np_utils\n",
        "    patchesLabels=np_utils.to_categorical(patchesLabels)\n",
        "    return patchesData,patchesLabels "
      ]
    },
    {
      "cell_type": "markdown",
      "metadata": {
        "id": "A3MGlZyuYeNd"
      },
      "source": [
        "#### 1.5. Acondicionar el conjunto de datos"
      ]
    },
    {
      "cell_type": "code",
      "execution_count": 5,
      "metadata": {
        "id": "Jy70nu4u5R1T"
      },
      "outputs": [],
      "source": [
        "x_train,y_train=createImageCubes(data,labels,removeZeroLabels=False)"
      ]
    },
    {
      "cell_type": "code",
      "execution_count": 6,
      "metadata": {
        "id": "dSY5Jis85R1U"
      },
      "outputs": [],
      "source": [
        "n_clases=y_train.shape[1]"
      ]
    },
    {
      "cell_type": "code",
      "execution_count": 7,
      "metadata": {},
      "outputs": [],
      "source": [
        "x_train=x_train.reshape(-1,81,n_components)"
      ]
    },
    {
      "cell_type": "markdown",
      "metadata": {
        "id": "QD7kXWODYZYH"
      },
      "source": [
        "#### 1.6. Partir Dataset"
      ]
    },
    {
      "cell_type": "code",
      "execution_count": 8,
      "metadata": {
        "id": "id7WkYYp5R1U"
      },
      "outputs": [],
      "source": [
        "# TEST 40%, TRAIN 48%, VALIDATION 12%\n",
        "from sklearn.model_selection import train_test_split\n",
        "x_train,x_test,y_train,y_test=train_test_split(x_train,y_train,test_size=0.4,shuffle=True,random_state=0,stratify=y_train) #0.4 100% 0.9--0.79\n",
        "x_train,x_val,y_train,y_val=train_test_split(x_train,y_train,test_size=0.2,shuffle=True,random_state=0,stratify=y_train)"
      ]
    },
    {
      "cell_type": "markdown",
      "metadata": {
        "id": "BpfU-UCd5R1U"
      },
      "source": [
        "### 2. Red Neuronal Convolucional"
      ]
    },
    {
      "cell_type": "code",
      "execution_count": 9,
      "metadata": {
        "id": "eTrVFER95R1V"
      },
      "outputs": [],
      "source": [
        "import tensorflow as tf \n",
        "from tensorflow.keras.layers import *\n",
        "from tensorflow.keras.models import Model \n",
        "from tensorflow.keras.callbacks import EarlyStopping"
      ]
    },
    {
      "cell_type": "code",
      "execution_count": 10,
      "metadata": {},
      "outputs": [],
      "source": [
        "class ClassToken(Layer):\n",
        "    def __init__(self):\n",
        "        super().__init__()\n",
        "\n",
        "    def build(self, input_shape):\n",
        "        w_init = tf.random_normal_initializer()\n",
        "        self.w = tf.Variable(\n",
        "            initial_value = w_init(shape=(1,1,input_shape[-1]), dtype=tf.float32),\n",
        "            trainable = True \n",
        "        )\n",
        "\n",
        "    def call(self, inputs):\n",
        "        batch_size = tf.shape(inputs)[0]\n",
        "        hidden_dim = self.w.shape[-1]\n",
        "\n",
        "        cls=tf.broadcast_to(self.w, [batch_size,1,hidden_dim])\n",
        "        cls=tf.cast(cls, dtype=inputs.dtype)\n",
        "        return cls"
      ]
    },
    {
      "cell_type": "code",
      "execution_count": 11,
      "metadata": {
        "id": "eBwG7dGmrhP1"
      },
      "outputs": [],
      "source": [
        "\"\"\" Inputs \"\"\" \n",
        "shape_input=(81,n_components)\n",
        "inputs=Input(shape_input)\n",
        "\n",
        "\"\"\" Patch + Position Embeddings \"\"\" \n",
        "\n",
        "patch_embed = Dense(n_components)(inputs)\n",
        "positions=tf.range(start=0, limit=81, delta=1)\n",
        "pos_embed=Embedding(input_dim=n_components,output_dim=n_components)(positions) #Podré dejarlo en 400?\n",
        "embed=patch_embed+pos_embed\n",
        "\n",
        "\"\"\" Adding Class Token \"\"\" \n",
        "\n",
        "token=ClassToken()(embed)\n",
        "x=Concatenate(axis=1)([token,embed])\n",
        "\n",
        "\"\"\" Transformer \"\"\"\n",
        "\n",
        "# Transformer Block 1\n",
        "\n",
        "skip_1=x\n",
        "x=LayerNormalization()(x)\n",
        "x=MultiHeadAttention(num_heads=3,key_dim=n_components)(x,x) # Regresar a 256 Clases<=Cabezas #key_dim=420 #Con 3 cabeza esta bueno 95.5\n",
        "x=Add()([x,skip_1])\n",
        "\n",
        "\n",
        "x=LayerNormalization()(x)\n",
        "#x=BatchNormalization()(x) # Lo cambie por batch\n",
        "x=Dense(128,activation=\"gelu\")(x) # gelu neurons to 210\n",
        "x=Dropout(0.5)(x) # estaba en 0.2\n",
        "x=Dense(64,activation=\"relu\")(x) #regresar a 210 # quitar el gelu\n",
        "x=Dropout(0.5)(x) # estaba en 00.2\n",
        "\n",
        "\n",
        "\"\"\" Clasificacion \"\"\" \n",
        "\n",
        "x=Flatten()(x)\n",
        "#X=Dropout(0.5)(x)\n",
        "x=Dense(243,activation=\"relu\")(x) #acticar si baja\n",
        "x=Dropout(0.5)(x)\n",
        "x=Dense(n_clases,activation=\"relu\")(x)\n",
        "#X=Dropout(0.5)(x)\n",
        "\n",
        "x=Dense(n_clases,activation=\"softmax\")(x)\n",
        "model=Model(inputs,x)\n",
        "model.compile(optimizer=\"adam\", loss=\"categorical_crossentropy\", metrics=[\"accuracy\"])"
      ]
    },
    {
      "cell_type": "code",
      "execution_count": 12,
      "metadata": {
        "id": "YeqaoidY5R1W"
      },
      "outputs": [],
      "source": [
        "callback=EarlyStopping(monitor=\"val_accuracy\", patience=10, restore_best_weights=True)"
      ]
    },
    {
      "cell_type": "markdown",
      "metadata": {
        "id": "pN8SBdnr5R1W"
      },
      "source": [
        "#### 2.1. Entrenamiento"
      ]
    },
    {
      "cell_type": "code",
      "execution_count": 13,
      "metadata": {
        "colab": {
          "base_uri": "https://localhost:8080/"
        },
        "id": "aEFPXM2_5R1W",
        "outputId": "253994c7-a9dc-45a6-ef7a-84beadfdaf30"
      },
      "outputs": [
        {
          "name": "stdout",
          "output_type": "stream",
          "text": [
            "Epoch 1/100\n",
            "778/778 [==============================] - 59s 72ms/step - loss: 0.4360 - accuracy: 0.8607 - val_loss: 0.2456 - val_accuracy: 0.9014\n",
            "Epoch 2/100\n",
            "778/778 [==============================] - 55s 70ms/step - loss: 0.2139 - accuracy: 0.9146 - val_loss: 0.1682 - val_accuracy: 0.9323\n",
            "Epoch 3/100\n",
            "778/778 [==============================] - 55s 70ms/step - loss: 0.1787 - accuracy: 0.9291 - val_loss: 0.1428 - val_accuracy: 0.9424\n",
            "Epoch 4/100\n",
            "778/778 [==============================] - 55s 71ms/step - loss: 0.1593 - accuracy: 0.9373 - val_loss: 0.1526 - val_accuracy: 0.9409\n",
            "Epoch 5/100\n",
            "778/778 [==============================] - 54s 70ms/step - loss: 0.1451 - accuracy: 0.9422 - val_loss: 0.1181 - val_accuracy: 0.9521\n",
            "Epoch 6/100\n",
            "778/778 [==============================] - 55s 70ms/step - loss: 0.1366 - accuracy: 0.9460 - val_loss: 0.1201 - val_accuracy: 0.9509\n",
            "Epoch 7/100\n",
            "778/778 [==============================] - 54s 70ms/step - loss: 0.1265 - accuracy: 0.9499 - val_loss: 0.1141 - val_accuracy: 0.9548\n",
            "Epoch 8/100\n",
            "778/778 [==============================] - 54s 70ms/step - loss: 0.1234 - accuracy: 0.9508 - val_loss: 0.1144 - val_accuracy: 0.9551\n",
            "Epoch 9/100\n",
            "778/778 [==============================] - 54s 69ms/step - loss: 0.1171 - accuracy: 0.9536 - val_loss: 0.1154 - val_accuracy: 0.9538\n",
            "Epoch 10/100\n",
            "778/778 [==============================] - 54s 69ms/step - loss: 0.1128 - accuracy: 0.9549 - val_loss: 0.1146 - val_accuracy: 0.9554\n",
            "Epoch 11/100\n",
            "778/778 [==============================] - 54s 70ms/step - loss: 0.1086 - accuracy: 0.9568 - val_loss: 0.1097 - val_accuracy: 0.9564\n",
            "Epoch 12/100\n",
            "778/778 [==============================] - 54s 70ms/step - loss: 0.1061 - accuracy: 0.9578 - val_loss: 0.0999 - val_accuracy: 0.9609\n",
            "Epoch 13/100\n",
            "778/778 [==============================] - 54s 69ms/step - loss: 0.1022 - accuracy: 0.9598 - val_loss: 0.1150 - val_accuracy: 0.9553\n",
            "Epoch 14/100\n",
            "778/778 [==============================] - 54s 69ms/step - loss: 0.1011 - accuracy: 0.9601 - val_loss: 0.0976 - val_accuracy: 0.9611\n",
            "Epoch 15/100\n",
            "778/778 [==============================] - 54s 69ms/step - loss: 0.0989 - accuracy: 0.9614 - val_loss: 0.1081 - val_accuracy: 0.9576\n",
            "Epoch 16/100\n",
            "778/778 [==============================] - 54s 69ms/step - loss: 0.0968 - accuracy: 0.9613 - val_loss: 0.0997 - val_accuracy: 0.9606\n",
            "Epoch 17/100\n",
            "778/778 [==============================] - 54s 69ms/step - loss: 0.0946 - accuracy: 0.9630 - val_loss: 0.1014 - val_accuracy: 0.9599\n",
            "Epoch 18/100\n",
            "778/778 [==============================] - 54s 70ms/step - loss: 0.0901 - accuracy: 0.9644 - val_loss: 0.0909 - val_accuracy: 0.9651\n",
            "Epoch 19/100\n",
            "778/778 [==============================] - 54s 69ms/step - loss: 0.0907 - accuracy: 0.9643 - val_loss: 0.0989 - val_accuracy: 0.9619\n",
            "Epoch 20/100\n",
            "778/778 [==============================] - 54s 69ms/step - loss: 0.0881 - accuracy: 0.9650 - val_loss: 0.0913 - val_accuracy: 0.9639\n",
            "Epoch 21/100\n",
            "778/778 [==============================] - 54s 69ms/step - loss: 0.0880 - accuracy: 0.9655 - val_loss: 0.0890 - val_accuracy: 0.9670\n",
            "Epoch 22/100\n",
            "778/778 [==============================] - 56s 72ms/step - loss: 0.0854 - accuracy: 0.9666 - val_loss: 0.0982 - val_accuracy: 0.9619\n",
            "Epoch 23/100\n",
            "778/778 [==============================] - 56s 71ms/step - loss: 0.0824 - accuracy: 0.9676 - val_loss: 0.1080 - val_accuracy: 0.9594\n",
            "Epoch 24/100\n",
            "778/778 [==============================] - 56s 72ms/step - loss: 0.0834 - accuracy: 0.9671 - val_loss: 0.0846 - val_accuracy: 0.9671\n",
            "Epoch 25/100\n",
            "778/778 [==============================] - 56s 72ms/step - loss: 0.0813 - accuracy: 0.9681 - val_loss: 0.0888 - val_accuracy: 0.9654\n",
            "Epoch 26/100\n",
            "778/778 [==============================] - 57s 73ms/step - loss: 0.0788 - accuracy: 0.9689 - val_loss: 0.0932 - val_accuracy: 0.9642\n",
            "Epoch 27/100\n",
            "778/778 [==============================] - 54s 70ms/step - loss: 0.0778 - accuracy: 0.9691 - val_loss: 0.0938 - val_accuracy: 0.9641\n",
            "Epoch 28/100\n",
            "778/778 [==============================] - 54s 70ms/step - loss: 0.0761 - accuracy: 0.9704 - val_loss: 0.0917 - val_accuracy: 0.9654\n",
            "Epoch 29/100\n",
            "778/778 [==============================] - 54s 70ms/step - loss: 0.0750 - accuracy: 0.9709 - val_loss: 0.0902 - val_accuracy: 0.9664\n",
            "Epoch 30/100\n",
            "778/778 [==============================] - 55s 70ms/step - loss: 0.0743 - accuracy: 0.9712 - val_loss: 0.0913 - val_accuracy: 0.9660\n",
            "Epoch 31/100\n",
            "778/778 [==============================] - 55s 70ms/step - loss: 0.0724 - accuracy: 0.9725 - val_loss: 0.0877 - val_accuracy: 0.9670\n",
            "Epoch 32/100\n",
            "778/778 [==============================] - 54s 70ms/step - loss: 0.0728 - accuracy: 0.9714 - val_loss: 0.0874 - val_accuracy: 0.9676\n",
            "Epoch 33/100\n",
            "778/778 [==============================] - 54s 70ms/step - loss: 0.0710 - accuracy: 0.9724 - val_loss: 0.0927 - val_accuracy: 0.9664\n",
            "Epoch 34/100\n",
            "778/778 [==============================] - 55s 70ms/step - loss: 0.0708 - accuracy: 0.9729 - val_loss: 0.0958 - val_accuracy: 0.9653\n",
            "Epoch 35/100\n",
            "778/778 [==============================] - 55s 70ms/step - loss: 0.0703 - accuracy: 0.9728 - val_loss: 0.0882 - val_accuracy: 0.9664\n",
            "Epoch 36/100\n",
            "778/778 [==============================] - 54s 70ms/step - loss: 0.0678 - accuracy: 0.9740 - val_loss: 0.0874 - val_accuracy: 0.9676\n",
            "Epoch 37/100\n",
            "778/778 [==============================] - 55s 70ms/step - loss: 0.0693 - accuracy: 0.9735 - val_loss: 0.0890 - val_accuracy: 0.9667\n",
            "Epoch 38/100\n",
            "778/778 [==============================] - 55s 70ms/step - loss: 0.0676 - accuracy: 0.9739 - val_loss: 0.0842 - val_accuracy: 0.9682\n",
            "Epoch 39/100\n",
            "778/778 [==============================] - 54s 70ms/step - loss: 0.0659 - accuracy: 0.9739 - val_loss: 0.0983 - val_accuracy: 0.9644\n",
            "Epoch 40/100\n",
            "778/778 [==============================] - 54s 69ms/step - loss: 0.0668 - accuracy: 0.9746 - val_loss: 0.1041 - val_accuracy: 0.9625\n",
            "Epoch 41/100\n",
            "778/778 [==============================] - 54s 69ms/step - loss: 0.0654 - accuracy: 0.9743 - val_loss: 0.0979 - val_accuracy: 0.9652\n",
            "Epoch 42/100\n",
            "778/778 [==============================] - 55s 70ms/step - loss: 0.0643 - accuracy: 0.9750 - val_loss: 0.0855 - val_accuracy: 0.9689\n",
            "Epoch 43/100\n",
            "778/778 [==============================] - 55s 70ms/step - loss: 0.0636 - accuracy: 0.9745 - val_loss: 0.0878 - val_accuracy: 0.9691\n",
            "Epoch 44/100\n",
            "778/778 [==============================] - 55s 70ms/step - loss: 0.0637 - accuracy: 0.9756 - val_loss: 0.0900 - val_accuracy: 0.9674\n",
            "Epoch 45/100\n",
            "778/778 [==============================] - 55s 70ms/step - loss: 0.0620 - accuracy: 0.9762 - val_loss: 0.0855 - val_accuracy: 0.9685\n",
            "Epoch 46/100\n",
            "778/778 [==============================] - 55s 70ms/step - loss: 0.0617 - accuracy: 0.9763 - val_loss: 0.0883 - val_accuracy: 0.9676\n",
            "Epoch 47/100\n",
            "778/778 [==============================] - 54s 70ms/step - loss: 0.0612 - accuracy: 0.9766 - val_loss: 0.0916 - val_accuracy: 0.9674\n",
            "Epoch 48/100\n",
            "778/778 [==============================] - 55s 70ms/step - loss: 0.0614 - accuracy: 0.9759 - val_loss: 0.0842 - val_accuracy: 0.9680\n",
            "Epoch 49/100\n",
            "778/778 [==============================] - 54s 70ms/step - loss: 0.0597 - accuracy: 0.9769 - val_loss: 0.0902 - val_accuracy: 0.9666\n",
            "Epoch 50/100\n",
            "778/778 [==============================] - 55s 70ms/step - loss: 0.0590 - accuracy: 0.9773 - val_loss: 0.0943 - val_accuracy: 0.9671\n",
            "Epoch 51/100\n",
            "778/778 [==============================] - 55s 71ms/step - loss: 0.0594 - accuracy: 0.9771 - val_loss: 0.0928 - val_accuracy: 0.9677\n",
            "Epoch 52/100\n",
            "778/778 [==============================] - 54s 70ms/step - loss: 0.0588 - accuracy: 0.9772 - val_loss: 0.0865 - val_accuracy: 0.9689\n",
            "Epoch 53/100\n",
            "778/778 [==============================] - 54s 70ms/step - loss: 0.0591 - accuracy: 0.9775 - val_loss: 0.0821 - val_accuracy: 0.9687\n"
          ]
        }
      ],
      "source": [
        "history=model.fit(x_train,y_train,epochs=100,batch_size=128,validation_data=(x_val,y_val),callbacks=[callback])"
      ]
    },
    {
      "cell_type": "code",
      "execution_count": 14,
      "metadata": {},
      "outputs": [],
      "source": [
        "dic_curves_IP={}\n",
        "dic_curves_IP[\"val_accuracy\"]=history.history[\"val_accuracy\"]\n",
        "dic_curves_IP[\"accuracy\"]=history.history[\"accuracy\"]\n",
        "dic_curves_IP[\"loss\"]=history.history[\"loss\"]\n",
        "dic_curves_IP[\"val_loss\"]=history.history[\"val_loss\"]\n",
        "\n",
        "import pickle \n",
        "\n",
        "with open(\"accu_loss_transformer.pkl\",\"wb\") as f:\n",
        "    pickle.dump(dic_curves_IP,f)"
      ]
    },
    {
      "cell_type": "markdown",
      "metadata": {
        "id": "PDLQ_6k85R1X"
      },
      "source": [
        "#### 3. Evaluación"
      ]
    },
    {
      "cell_type": "markdown",
      "metadata": {
        "id": "uZxwwFm7YrRY"
      },
      "source": [
        "#### 3.1. Evaluacion Test"
      ]
    },
    {
      "cell_type": "code",
      "execution_count": 15,
      "metadata": {
        "colab": {
          "base_uri": "https://localhost:8080/"
        },
        "id": "wvpN6KXp5R1X",
        "outputId": "dc8fec53-72b2-4816-d25e-e5de43dd7abd"
      },
      "outputs": [
        {
          "name": "stdout",
          "output_type": "stream",
          "text": [
            "2593/2593 [==============================] - 27s 10ms/step - loss: 0.0868 - accuracy: 0.9682\n"
          ]
        }
      ],
      "source": [
        "evaluacion_test=model.evaluate(x_test,y_test)"
      ]
    },
    {
      "cell_type": "markdown",
      "metadata": {
        "id": "bPkuxHOoYusx"
      },
      "source": [
        "#### 3.2. Classification Report"
      ]
    },
    {
      "cell_type": "code",
      "execution_count": 16,
      "metadata": {
        "colab": {
          "base_uri": "https://localhost:8080/"
        },
        "id": "v94acefT5R1X",
        "outputId": "11378a53-243f-4caa-df85-59afe56a27fe"
      },
      "outputs": [
        {
          "name": "stdout",
          "output_type": "stream",
          "text": [
            "2593/2593 [==============================] - 22s 8ms/step\n",
            "                      precision    recall  f1-score   support\n",
            "\n",
            "           UNLABELED       0.99      0.97      0.98     65850\n",
            "             ASPHALT       0.86      0.95      0.90      2652\n",
            "             MEADOWS       0.96      0.98      0.97      7460\n",
            "              GRAVEL       0.87      0.93      0.90       839\n",
            "               TREES       0.75      0.71      0.73      1226\n",
            "PAINTED_METAL_SHEETS       0.92      0.93      0.93       538\n",
            "           BARE_SOIL       0.98      0.98      0.98      2011\n",
            "             BITUMEN       0.90      0.98      0.94       532\n",
            "SELF_BLOCKING_BRICKS       0.85      0.88      0.87      1473\n",
            "             SHADOWS       0.69      0.94      0.80       379\n",
            "\n",
            "            accuracy                           0.97     82960\n",
            "           macro avg       0.88      0.93      0.90     82960\n",
            "        weighted avg       0.97      0.97      0.97     82960\n",
            "\n"
          ]
        }
      ],
      "source": [
        "y_pred=model.predict(x_test)\n",
        "y_pred=np.argmax(y_pred,axis=1)\n",
        "from sklearn.metrics import classification_report\n",
        "clases_dataset_PU=[\"UNLABELED\",\"ASPHALT\",\"MEADOWS\",\"GRAVEL\",\"TREES\",\"PAINTED_METAL_SHEETS\",\"BARE_SOIL\",\"BITUMEN\",\"SELF_BLOCKING_BRICKS\",\"SHADOWS\"]\n",
        "target_names=clases_dataset_PU\n",
        "classification=classification_report(np.argmax(y_test,axis=1),y_pred,target_names=target_names)\n",
        "print(classification)"
      ]
    },
    {
      "cell_type": "markdown",
      "metadata": {
        "id": "bpyxAcTAY_mO"
      },
      "source": [
        "#### 3.3. Cohen Kappa"
      ]
    },
    {
      "cell_type": "code",
      "execution_count": 17,
      "metadata": {
        "colab": {
          "base_uri": "https://localhost:8080/"
        },
        "id": "7Y2yvdGsZUr0",
        "outputId": "464f9d23-eb15-413b-8926-c094e3330e7d"
      },
      "outputs": [],
      "source": [
        "from sklearn.metrics import cohen_kappa_score\n",
        "a=y_pred\n",
        "b=np.argmax(y_test,axis=1)\n",
        "cks=cohen_kappa_score(a,b)\n",
        "cks\n",
        "\n",
        "np.save(\"cohen_kappa_score_transformer\",cks)"
      ]
    },
    {
      "cell_type": "code",
      "execution_count": 18,
      "metadata": {},
      "outputs": [
        {
          "data": {
            "text/plain": [
              "array(0.91306035)"
            ]
          },
          "execution_count": 18,
          "metadata": {},
          "output_type": "execute_result"
        }
      ],
      "source": [
        "import numpy as np\n",
        "np.load(\"cohen_kappa_score_transformer.npy\")"
      ]
    },
    {
      "cell_type": "code",
      "execution_count": 19,
      "metadata": {},
      "outputs": [],
      "source": [
        "import pandas as pd \n",
        "\n",
        "pd_reporte_clasificacion=pd.DataFrame(classification_report(np.argmax(y_test,axis=1),y_pred,target_names=target_names,output_dict=True)).transpose()\n",
        "pd_reporte_clasificacion.to_csv(\"reporte_clasificacion_transformer.csv\")"
      ]
    },
    {
      "cell_type": "code",
      "execution_count": 20,
      "metadata": {
        "colab": {
          "base_uri": "https://localhost:8080/"
        },
        "id": "skSUfSLs5R1X",
        "outputId": "99d4891a-e5d5-4d6e-9569-dad4c7666f21"
      },
      "outputs": [
        {
          "name": "stdout",
          "output_type": "stream",
          "text": [
            "1621/1621 [==============================] - 35s 22ms/step\n"
          ]
        }
      ],
      "source": [
        "y_pred,_=createImageCubes(data,labels,removeZeroLabels=False)\n",
        "y_pred=y_pred.reshape(-1,81,n_components)\n",
        "y_pred=model.predict(y_pred,batch_size=128)\n",
        "y_pred=np.argmax(y_pred,axis=1)\n",
        "y_pred=y_pred.reshape(H,W)"
      ]
    },
    {
      "cell_type": "code",
      "execution_count": 21,
      "metadata": {
        "colab": {
          "base_uri": "https://localhost:8080/",
          "height": 248
        },
        "id": "nkgp4lKB5R1Y",
        "outputId": "aa48a459-ca93-4d9c-c378-0f58cbee8960"
      },
      "outputs": [
        {
          "data": {
            "image/png": "[encoded data removed]",
            "text/plain": [
              "<Figure size 432x288 with 1 Axes>"
            ]
          },
          "metadata": {
            "needs_background": "light"
          },
          "output_type": "display_data"
        }
      ],
      "source": [
        "import matplotlib.pyplot as plt \n",
        "plt.imshow(y_pred)\n",
        "plt.axis(\"off\");"
      ]
    },
    {
      "cell_type": "code",
      "execution_count": 22,
      "metadata": {},
      "outputs": [],
      "source": [
        "np.save(\"y_pred_transformer\",y_pred)"
      ]
    },
    {
      "cell_type": "code",
      "execution_count": 23,
      "metadata": {
        "colab": {
          "base_uri": "https://localhost:8080/",
          "height": 286
        },
        "id": "5foEvQ32VnlY",
        "outputId": "54d60d5c-2ea2-43e7-8322-784d12ff38a8"
      },
      "outputs": [
        {
          "data": {
            "text/plain": [
              "(-0.5, 339.5, 609.5, -0.5)"
            ]
          },
          "execution_count": 23,
          "metadata": {},
          "output_type": "execute_result"
        },
        {
          "data": {
            "image/png": "[encoded data removed]",
            "text/plain": [
              "<Figure size 432x288 with 1 Axes>"
            ]
          },
          "metadata": {
            "needs_background": "light"
          },
          "output_type": "display_data"
        }
      ],
      "source": [
        "plt.imshow(labels)\n",
        "plt.axis(\"off\")"
      ]
    },
    {
      "cell_type": "code",
      "execution_count": 24,
      "metadata": {},
      "outputs": [
        {
          "data": {
            "text/plain": [
              "0.9410658583274906"
            ]
          },
          "execution_count": 24,
          "metadata": {},
          "output_type": "execute_result"
        }
      ],
      "source": [
        "from sklearn.metrics import accuracy_score\n",
        "a=y_pred.reshape(H*W)\n",
        "b=labels.reshape(H*W)\n",
        "cohen_kappa_score(a,b)"
      ]
    },
    {
      "cell_type": "code",
      "execution_count": 25,
      "metadata": {},
      "outputs": [
        {
          "data": {
            "text/plain": [
              "0.9784860173577627"
            ]
          },
          "execution_count": 25,
          "metadata": {},
          "output_type": "execute_result"
        }
      ],
      "source": [
        "accuracy_score(a,b)"
      ]
    },
    {
      "cell_type": "code",
      "execution_count": 26,
      "metadata": {
        "colab": {
          "base_uri": "https://localhost:8080/"
        },
        "id": "Y7eo3zRRKzMl",
        "outputId": "50536104-8ddb-4405-fef1-b487fd0de2a0"
      },
      "outputs": [
        {
          "name": "stdout",
          "output_type": "stream",
          "text": [
            "Mean IoU 0.87321854\n"
          ]
        }
      ],
      "source": [
        "from keras.metrics import MeanIoU \n",
        "n_classes=10\n",
        "IOU_mean=MeanIoU(num_classes=n_classes)\n",
        "IOU_mean.update_state(y_pred,labels)\n",
        "print(\"Mean IoU\",IOU_mean.result().numpy())\n",
        "np.save(\"IoU_transformer\",IOU_mean.result().numpy())"
      ]
    },
    {
      "cell_type": "code",
      "execution_count": 27,
      "metadata": {
        "colab": {
          "base_uri": "https://localhost:8080/"
        },
        "id": "Z0fwX8s-5R1Y",
        "outputId": "0a560e09-f225-4dfb-b2eb-682d35c04385"
      },
      "outputs": [
        {
          "name": "stdout",
          "output_type": "stream",
          "text": [
            "UNLABELED : 0.9731534\n",
            "ASPHALT : 0.8744753\n",
            "MEADOWS : 0.95556015\n",
            "GRAVEL : 0.88194144\n",
            "TREES : 0.70676905\n",
            "PAINTED_METAL_SHEETS : 0.88432056\n",
            "BARE_SOIL : 0.9748527\n",
            "BITUMEN : 0.92340124\n",
            "SELF_BLOCKING_BRICKS : 0.85327035\n",
            "SHADOWS : 0.7044411\n"
          ]
        }
      ],
      "source": [
        "# IoU por clase.\n",
        "from keras.metrics import IoU\n",
        "clases=[\"UNLABELED\",\"ASPHALT\",\"MEADOWS\",\"GRAVEL\",\"TREES\",\"PAINTED_METAL_SHEETS\",\"BARE_SOIL\",\"BITUMEN\",\"SELF_BLOCKING_BRICKS\",\"SHADOWS\"]\n",
        "IoU_class_report=[]\n",
        "for i in range(10):\n",
        "    IoU_class=IoU(num_classes=10,target_class_ids=[i])\n",
        "    IoU_class.update_state(y_pred,labels)\n",
        "    IoU_class_report.append(IoU_class.result().numpy())\n",
        "    print(clases[i],\":\", IoU_class.result().numpy())"
      ]
    },
    {
      "cell_type": "code",
      "execution_count": 28,
      "metadata": {},
      "outputs": [],
      "source": [
        "np.save(\"reporte_IoU_transformer\",IoU_class_report)"
      ]
    },
    {
      "cell_type": "code",
      "execution_count": 29,
      "metadata": {
        "id": "0o9DYE8s5R1Y"
      },
      "outputs": [
        {
          "name": "stdout",
          "output_type": "stream",
          "text": [
            "0.9731534\n",
            "0.8744753\n",
            "0.95556015\n",
            "0.88194144\n",
            "0.70676905\n",
            "0.88432056\n",
            "0.9748527\n",
            "0.92340124\n",
            "0.85327035\n",
            "0.7044411\n"
          ]
        }
      ],
      "source": [
        "from keras.metrics import IoU\n",
        "clases=[\"UNLABELED\",\"ASPHALT\",\"MEADOWS\",\"GRAVEL\",\"TREES\",\"PAINTED_METAL_SHEETS\",\"BARE_SOIL\",\"BITUMEN\",\"SELF_BLOCKING_BRICKS\",\"SHADOWS\"]\n",
        "IoU_class_report=[]\n",
        "for i in range(n_clases):\n",
        "    IoU_class=IoU(num_classes=n_clases,target_class_ids=[i])\n",
        "    IoU_class.update_state(y_pred,labels)\n",
        "    IoU_class_report.append(IoU_class.result().numpy())\n",
        "    print(IoU_class.result().numpy())"
      ]
    }
  ],
  "metadata": {
    "accelerator": "GPU",
    "colab": {
      "provenance": []
    },
    "gpuClass": "standard",
    "kernelspec": {
      "display_name": "Python 3",
      "language": "python",
      "name": "python3"
    },
    "language_info": {
      "codemirror_mode": {
        "name": "ipython",
        "version": 3
      },
      "file_extension": ".py",
      "mimetype": "text/x-python",
      "name": "python",
      "nbconvert_exporter": "python",
      "pygments_lexer": "ipython3",
      "version": "3.7.2"
    },
    "orig_nbformat": 4,
    "vscode": {
      "interpreter": {
        "hash": "98d5674963b65db345bb78e3c5a3b7a8950200b887d8b92f8da01b49df867ecf"
      }
    }
  },
  "nbformat": 4,
  "nbformat_minor": 0
}
