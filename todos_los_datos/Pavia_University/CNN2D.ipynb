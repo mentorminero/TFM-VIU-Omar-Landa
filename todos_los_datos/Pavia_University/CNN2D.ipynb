{
  "cells": [
    {
      "cell_type": "markdown",
      "metadata": {
        "id": "mEhKpIX_5R1L"
      },
      "source": [
        "### 1. Preparación del dataset"
      ]
    },
    {
      "cell_type": "markdown",
      "metadata": {
        "id": "_wLxvJ-t5R1P"
      },
      "source": [
        "#### 1.1. Lectura del conjunto de datos"
      ]
    },
    {
      "cell_type": "code",
      "execution_count": 1,
      "metadata": {
        "id": "iMF11JwQ5R1P"
      },
      "outputs": [],
      "source": [
        "from scipy.io import loadmat\n",
        "data=loadmat(\"PaviaUniversity_Image\")['paviaU']\n",
        "labels=loadmat(\"Pavia_University_ground_truth\")['paviaU_gt']\n",
        "H,W,C=data.shape"
      ]
    },
    {
      "cell_type": "markdown",
      "metadata": {
        "id": "dHBKDQW15R1Q"
      },
      "source": [
        "#### 1.2. Reducción de la dimensionalidad"
      ]
    },
    {
      "cell_type": "code",
      "execution_count": 2,
      "metadata": {
        "id": "R8S5fnFy5R1R"
      },
      "outputs": [],
      "source": [
        "from sklearn.decomposition import PCA\n",
        "n_components=22 # Nuestro análisis abarca 20 bandas\n",
        "data=data.reshape(H*W,C)\n",
        "pca=PCA(n_components=n_components,whiten=True)\n",
        "data=pca.fit_transform(data)"
      ]
    },
    {
      "cell_type": "markdown",
      "metadata": {
        "id": "5FIwV9yC5R1S"
      },
      "source": [
        "#### 1.3. Normalización de los datos"
      ]
    },
    {
      "cell_type": "code",
      "execution_count": 3,
      "metadata": {
        "id": "7hYF0Dp05R1S"
      },
      "outputs": [],
      "source": [
        "from sklearn.preprocessing import MinMaxScaler, StandardScaler\n",
        "standar_scaler=StandardScaler()\n",
        "data=standar_scaler.fit_transform(data)\n",
        "data=data.reshape(H,W,n_components);"
      ]
    },
    {
      "cell_type": "markdown",
      "metadata": {
        "id": "KjiRINWq5R1T"
      },
      "source": [
        "#### 1.4. Aproximación parche a pixel"
      ]
    },
    {
      "cell_type": "code",
      "execution_count": 4,
      "metadata": {
        "id": "jSW-YDIE7BFm"
      },
      "outputs": [],
      "source": [
        "import numpy as np\n",
        "\n",
        "def padWithZeros(X, margin=2):\n",
        "    newX=np.zeros((X.shape[0]+2*margin,X.shape[1]+2*margin, X.shape[2]))\n",
        "    x_offset=margin\n",
        "    y_offset=margin \n",
        "    newX[x_offset:X.shape[0]+x_offset, y_offset:X.shape[1]+y_offset,:]=X\n",
        "    return newX\n",
        "\n",
        "def createImageCubes(X,y,windowSize=9, removeZeroLabels=True): #Regresar a 5\n",
        "    margin=int((windowSize-1)/2)\n",
        "    zeroPaddedX=padWithZeros(X,margin=margin)\n",
        "    patchesData=np.zeros((X.shape[0]*X.shape[1],windowSize,windowSize,X.shape[2]))\n",
        "    patchesLabels=np.zeros((X.shape[0]*X.shape[1]))\n",
        "    patchIndex=0\n",
        "    for r in range(margin,zeroPaddedX.shape[0]-margin):\n",
        "        for c in range(margin,zeroPaddedX.shape[1]-margin):\n",
        "            patch=zeroPaddedX[r-margin:r+margin+1,c-margin:c+margin+1]\n",
        "            patchesData[patchIndex,:,:,:]=patch \n",
        "            patchesLabels[patchIndex]=y[r-margin,c-margin]\n",
        "            patchIndex=patchIndex+1\n",
        "    if removeZeroLabels:\n",
        "        patchesData=patchesData[patchesLabels>0,:,:,:]\n",
        "        patchesLabels=patchesLabels[patchesLabels>0]\n",
        "        patchesLabels -=1\n",
        "    from keras.utils import np_utils\n",
        "    patchesLabels=np_utils.to_categorical(patchesLabels)\n",
        "    return patchesData,patchesLabels "
      ]
    },
    {
      "cell_type": "markdown",
      "metadata": {
        "id": "A3MGlZyuYeNd"
      },
      "source": [
        "#### 1.5. Acondicionar el conjunto de datos"
      ]
    },
    {
      "cell_type": "code",
      "execution_count": 5,
      "metadata": {
        "id": "Jy70nu4u5R1T"
      },
      "outputs": [],
      "source": [
        "x_train,y_train=createImageCubes(data,labels,removeZeroLabels=False)"
      ]
    },
    {
      "cell_type": "code",
      "execution_count": 6,
      "metadata": {
        "id": "dSY5Jis85R1U"
      },
      "outputs": [],
      "source": [
        "n_clases=y_train.shape[1]"
      ]
    },
    {
      "cell_type": "markdown",
      "metadata": {
        "id": "QD7kXWODYZYH"
      },
      "source": [
        "#### 1.6. Partir Dataset"
      ]
    },
    {
      "cell_type": "code",
      "execution_count": 7,
      "metadata": {
        "id": "id7WkYYp5R1U"
      },
      "outputs": [],
      "source": [
        "# TEST 40%, TRAIN 48%, VALIDATION 12%\n",
        "from sklearn.model_selection import train_test_split\n",
        "x_train,x_test,y_train,y_test=train_test_split(x_train,y_train,test_size=0.4,shuffle=True,random_state=0,stratify=y_train) #0.4 100% 0.9--0.79\n",
        "x_train,x_val,y_train,y_val=train_test_split(x_train,y_train,test_size=0.2,shuffle=True,random_state=0,stratify=y_train)"
      ]
    },
    {
      "cell_type": "markdown",
      "metadata": {
        "id": "BpfU-UCd5R1U"
      },
      "source": [
        "### 2. Red Neuronal Convolucional"
      ]
    },
    {
      "cell_type": "code",
      "execution_count": 8,
      "metadata": {
        "id": "eTrVFER95R1V"
      },
      "outputs": [],
      "source": [
        "from tensorflow.keras.layers import Input,Conv2D,Dropout,BatchNormalization,Flatten,Dense,LayerNormalization\n",
        "from tensorflow.keras.models import Model \n",
        "from tensorflow.keras.callbacks import EarlyStopping"
      ]
    },
    {
      "cell_type": "code",
      "execution_count": 9,
      "metadata": {
        "id": "eBwG7dGmrhP1"
      },
      "outputs": [],
      "source": [
        "shapes=(9,9,n_components)\n",
        "inputs=Input(shapes)\n",
        "x=Conv2D(64,(3,3),activation=\"relu\",padding=\"same\")(inputs)\n",
        "x=Dropout(0.2)(x)\n",
        "x=BatchNormalization()(x)\n",
        "x=Conv2D(32,(3,3),activation=\"relu\")(x)\n",
        "x=Dropout(0.2)(x)\n",
        "x=BatchNormalization()(x)\n",
        "x=Conv2D(32,(3,3),activation=\"relu\")(x)\n",
        "x=Dropout(0.2)(x)\n",
        "x=BatchNormalization()(x)\n",
        "x=Flatten()(x)\n",
        "x=Dense(n_clases,activation=\"relu\")(x) \n",
        "x=Dropout(0.2)(x)\n",
        "x=Dense(n_clases,activation=\"softmax\")(x)\n",
        "\n",
        "model=Model(inputs=inputs,outputs=x)\n",
        "model.compile(optimizer=\"adam\", loss=\"categorical_crossentropy\", metrics=[\"accuracy\"])"
      ]
    },
    {
      "cell_type": "code",
      "execution_count": 10,
      "metadata": {
        "id": "YeqaoidY5R1W"
      },
      "outputs": [],
      "source": [
        "callback=EarlyStopping(monitor=\"val_accuracy\", patience=10, restore_best_weights=True)"
      ]
    },
    {
      "cell_type": "markdown",
      "metadata": {
        "id": "pN8SBdnr5R1W"
      },
      "source": [
        "#### 2.1. Entrenamiento"
      ]
    },
    {
      "cell_type": "code",
      "execution_count": 11,
      "metadata": {
        "colab": {
          "base_uri": "https://localhost:8080/"
        },
        "id": "aEFPXM2_5R1W",
        "outputId": "253994c7-a9dc-45a6-ef7a-84beadfdaf30"
      },
      "outputs": [
        {
          "name": "stdout",
          "output_type": "stream",
          "text": [
            "Epoch 1/100\n",
            "778/778 [==============================] - 15s 15ms/step - loss: 0.7706 - accuracy: 0.7550 - val_loss: 0.2288 - val_accuracy: 0.9182\n",
            "Epoch 2/100\n",
            "778/778 [==============================] - 10s 13ms/step - loss: 0.2876 - accuracy: 0.9019 - val_loss: 0.1644 - val_accuracy: 0.9383\n",
            "Epoch 3/100\n",
            "778/778 [==============================] - 10s 13ms/step - loss: 0.2263 - accuracy: 0.9177 - val_loss: 0.1356 - val_accuracy: 0.9448\n",
            "Epoch 4/100\n",
            "778/778 [==============================] - 10s 13ms/step - loss: 0.1973 - accuracy: 0.9244 - val_loss: 0.1303 - val_accuracy: 0.9476\n",
            "Epoch 5/100\n",
            "778/778 [==============================] - 10s 13ms/step - loss: 0.1821 - accuracy: 0.9293 - val_loss: 0.1161 - val_accuracy: 0.9543\n",
            "Epoch 6/100\n",
            "778/778 [==============================] - 10s 13ms/step - loss: 0.1686 - accuracy: 0.9339 - val_loss: 0.1166 - val_accuracy: 0.9584\n",
            "Epoch 7/100\n",
            "778/778 [==============================] - 10s 13ms/step - loss: 0.1636 - accuracy: 0.9367 - val_loss: 0.1085 - val_accuracy: 0.9581\n",
            "Epoch 8/100\n",
            "778/778 [==============================] - 10s 13ms/step - loss: 0.1537 - accuracy: 0.9406 - val_loss: 0.1073 - val_accuracy: 0.9557\n",
            "Epoch 9/100\n",
            "778/778 [==============================] - 10s 13ms/step - loss: 0.1508 - accuracy: 0.9409 - val_loss: 0.1014 - val_accuracy: 0.9590\n",
            "Epoch 10/100\n",
            "778/778 [==============================] - 10s 13ms/step - loss: 0.1450 - accuracy: 0.9442 - val_loss: 0.1105 - val_accuracy: 0.9533\n",
            "Epoch 11/100\n",
            "778/778 [==============================] - 10s 13ms/step - loss: 0.1387 - accuracy: 0.9459 - val_loss: 0.0979 - val_accuracy: 0.9611\n",
            "Epoch 12/100\n",
            "778/778 [==============================] - 10s 13ms/step - loss: 0.1327 - accuracy: 0.9476 - val_loss: 0.0966 - val_accuracy: 0.9606\n",
            "Epoch 13/100\n",
            "778/778 [==============================] - 10s 13ms/step - loss: 0.1306 - accuracy: 0.9490 - val_loss: 0.0892 - val_accuracy: 0.9642\n",
            "Epoch 14/100\n",
            "778/778 [==============================] - 10s 13ms/step - loss: 0.1277 - accuracy: 0.9507 - val_loss: 0.0925 - val_accuracy: 0.9620\n",
            "Epoch 15/100\n",
            "778/778 [==============================] - 10s 13ms/step - loss: 0.1245 - accuracy: 0.9514 - val_loss: 0.0920 - val_accuracy: 0.9627\n",
            "Epoch 16/100\n",
            "778/778 [==============================] - 10s 13ms/step - loss: 0.1222 - accuracy: 0.9530 - val_loss: 0.0929 - val_accuracy: 0.9636\n",
            "Epoch 17/100\n",
            "778/778 [==============================] - 10s 13ms/step - loss: 0.1184 - accuracy: 0.9534 - val_loss: 0.0876 - val_accuracy: 0.9667\n",
            "Epoch 18/100\n",
            "778/778 [==============================] - 10s 13ms/step - loss: 0.1168 - accuracy: 0.9553 - val_loss: 0.0860 - val_accuracy: 0.9652\n",
            "Epoch 19/100\n",
            "778/778 [==============================] - 10s 13ms/step - loss: 0.1156 - accuracy: 0.9555 - val_loss: 0.0880 - val_accuracy: 0.9644\n",
            "Epoch 20/100\n",
            "778/778 [==============================] - 10s 13ms/step - loss: 0.1139 - accuracy: 0.9562 - val_loss: 0.0860 - val_accuracy: 0.9654\n",
            "Epoch 21/100\n",
            "778/778 [==============================] - 10s 13ms/step - loss: 0.1116 - accuracy: 0.9567 - val_loss: 0.0907 - val_accuracy: 0.9623\n",
            "Epoch 22/100\n",
            "778/778 [==============================] - 10s 13ms/step - loss: 0.1094 - accuracy: 0.9572 - val_loss: 0.0798 - val_accuracy: 0.9682\n",
            "Epoch 23/100\n",
            "778/778 [==============================] - 10s 13ms/step - loss: 0.1119 - accuracy: 0.9572 - val_loss: 0.0890 - val_accuracy: 0.9647\n",
            "Epoch 24/100\n",
            "778/778 [==============================] - 10s 13ms/step - loss: 0.1086 - accuracy: 0.9584 - val_loss: 0.0837 - val_accuracy: 0.9673\n",
            "Epoch 25/100\n",
            "778/778 [==============================] - 10s 13ms/step - loss: 0.1065 - accuracy: 0.9588 - val_loss: 0.0879 - val_accuracy: 0.9622\n",
            "Epoch 26/100\n",
            "778/778 [==============================] - 10s 13ms/step - loss: 0.1055 - accuracy: 0.9594 - val_loss: 0.0772 - val_accuracy: 0.9707\n",
            "Epoch 27/100\n",
            "778/778 [==============================] - 10s 13ms/step - loss: 0.1048 - accuracy: 0.9595 - val_loss: 0.0837 - val_accuracy: 0.9694\n",
            "Epoch 28/100\n",
            "778/778 [==============================] - 10s 13ms/step - loss: 0.1016 - accuracy: 0.9605 - val_loss: 0.0843 - val_accuracy: 0.9688\n",
            "Epoch 29/100\n",
            "778/778 [==============================] - 10s 13ms/step - loss: 0.0991 - accuracy: 0.9612 - val_loss: 0.0819 - val_accuracy: 0.9700\n",
            "Epoch 30/100\n",
            "778/778 [==============================] - 10s 13ms/step - loss: 0.1017 - accuracy: 0.9612 - val_loss: 0.0859 - val_accuracy: 0.9689\n",
            "Epoch 31/100\n",
            "778/778 [==============================] - 11s 14ms/step - loss: 0.1005 - accuracy: 0.9610 - val_loss: 0.0859 - val_accuracy: 0.9715\n",
            "Epoch 32/100\n",
            "778/778 [==============================] - 12s 15ms/step - loss: 0.0991 - accuracy: 0.9617 - val_loss: 0.0794 - val_accuracy: 0.9689\n",
            "Epoch 33/100\n",
            "778/778 [==============================] - 12s 15ms/step - loss: 0.0955 - accuracy: 0.9628 - val_loss: 0.0776 - val_accuracy: 0.9708\n",
            "Epoch 34/100\n",
            "778/778 [==============================] - 11s 15ms/step - loss: 0.0977 - accuracy: 0.9623 - val_loss: 0.0797 - val_accuracy: 0.9694\n",
            "Epoch 35/100\n",
            "778/778 [==============================] - 12s 15ms/step - loss: 0.0955 - accuracy: 0.9622 - val_loss: 0.0741 - val_accuracy: 0.9718\n",
            "Epoch 36/100\n",
            "778/778 [==============================] - 12s 15ms/step - loss: 0.0944 - accuracy: 0.9629 - val_loss: 0.0860 - val_accuracy: 0.9644\n",
            "Epoch 37/100\n",
            "778/778 [==============================] - 12s 15ms/step - loss: 0.0928 - accuracy: 0.9640 - val_loss: 0.0766 - val_accuracy: 0.9691\n",
            "Epoch 38/100\n",
            "778/778 [==============================] - 11s 15ms/step - loss: 0.0965 - accuracy: 0.9629 - val_loss: 0.0745 - val_accuracy: 0.9717\n",
            "Epoch 39/100\n",
            "778/778 [==============================] - 11s 15ms/step - loss: 0.0936 - accuracy: 0.9641 - val_loss: 0.0727 - val_accuracy: 0.9707\n",
            "Epoch 40/100\n",
            "778/778 [==============================] - 12s 15ms/step - loss: 0.0919 - accuracy: 0.9645 - val_loss: 0.0728 - val_accuracy: 0.9714\n",
            "Epoch 41/100\n",
            "778/778 [==============================] - 11s 15ms/step - loss: 0.0909 - accuracy: 0.9648 - val_loss: 0.0752 - val_accuracy: 0.9694\n",
            "Epoch 42/100\n",
            "778/778 [==============================] - 12s 15ms/step - loss: 0.0894 - accuracy: 0.9658 - val_loss: 0.0708 - val_accuracy: 0.9711\n",
            "Epoch 43/100\n",
            "778/778 [==============================] - 12s 15ms/step - loss: 0.0870 - accuracy: 0.9662 - val_loss: 0.0713 - val_accuracy: 0.9728\n",
            "Epoch 44/100\n",
            "778/778 [==============================] - 12s 15ms/step - loss: 0.0896 - accuracy: 0.9656 - val_loss: 0.0759 - val_accuracy: 0.9744\n",
            "Epoch 45/100\n",
            "778/778 [==============================] - 12s 15ms/step - loss: 0.0873 - accuracy: 0.9668 - val_loss: 0.0818 - val_accuracy: 0.9677\n",
            "Epoch 46/100\n",
            "778/778 [==============================] - 11s 15ms/step - loss: 0.0875 - accuracy: 0.9657 - val_loss: 0.0721 - val_accuracy: 0.9734\n",
            "Epoch 47/100\n",
            "778/778 [==============================] - 12s 15ms/step - loss: 0.0852 - accuracy: 0.9672 - val_loss: 0.0767 - val_accuracy: 0.9706\n",
            "Epoch 48/100\n",
            "778/778 [==============================] - 11s 15ms/step - loss: 0.0882 - accuracy: 0.9665 - val_loss: 0.0747 - val_accuracy: 0.9732\n",
            "Epoch 49/100\n",
            "778/778 [==============================] - 12s 15ms/step - loss: 0.0854 - accuracy: 0.9678 - val_loss: 0.0735 - val_accuracy: 0.9734\n",
            "Epoch 50/100\n",
            "778/778 [==============================] - 12s 15ms/step - loss: 0.0871 - accuracy: 0.9675 - val_loss: 0.0753 - val_accuracy: 0.9718\n",
            "Epoch 51/100\n",
            "778/778 [==============================] - 11s 15ms/step - loss: 0.0845 - accuracy: 0.9678 - val_loss: 0.0753 - val_accuracy: 0.9710\n",
            "Epoch 52/100\n",
            "778/778 [==============================] - 12s 15ms/step - loss: 0.0837 - accuracy: 0.9684 - val_loss: 0.0771 - val_accuracy: 0.9728\n",
            "Epoch 53/100\n",
            "778/778 [==============================] - 11s 15ms/step - loss: 0.0830 - accuracy: 0.9687 - val_loss: 0.0729 - val_accuracy: 0.9735\n",
            "Epoch 54/100\n",
            "778/778 [==============================] - 12s 15ms/step - loss: 0.0832 - accuracy: 0.9681 - val_loss: 0.0733 - val_accuracy: 0.9735\n"
          ]
        }
      ],
      "source": [
        "history=model.fit(x_train,y_train,epochs=100,batch_size=128,validation_data=(x_val,y_val),callbacks=[callback])"
      ]
    },
    {
      "cell_type": "code",
      "execution_count": 12,
      "metadata": {},
      "outputs": [],
      "source": [
        "dic_curves_IP={}\n",
        "dic_curves_IP[\"val_accuracy\"]=history.history[\"val_accuracy\"]\n",
        "dic_curves_IP[\"accuracy\"]=history.history[\"accuracy\"]\n",
        "dic_curves_IP[\"loss\"]=history.history[\"loss\"]\n",
        "dic_curves_IP[\"val_loss\"]=history.history[\"val_loss\"]\n",
        "\n",
        "import pickle \n",
        "\n",
        "with open(\"accu_loss_CNN2D.pkl\",\"wb\") as f:\n",
        "    pickle.dump(dic_curves_IP,f)"
      ]
    },
    {
      "cell_type": "markdown",
      "metadata": {
        "id": "PDLQ_6k85R1X"
      },
      "source": [
        "#### 3. Evaluación"
      ]
    },
    {
      "cell_type": "markdown",
      "metadata": {
        "id": "uZxwwFm7YrRY"
      },
      "source": [
        "#### 3.1. Evaluacion Test"
      ]
    },
    {
      "cell_type": "code",
      "execution_count": 13,
      "metadata": {
        "colab": {
          "base_uri": "https://localhost:8080/"
        },
        "id": "wvpN6KXp5R1X",
        "outputId": "dc8fec53-72b2-4816-d25e-e5de43dd7abd"
      },
      "outputs": [
        {
          "name": "stdout",
          "output_type": "stream",
          "text": [
            "2593/2593 [==============================] - 13s 5ms/step - loss: 0.0826 - accuracy: 0.9720\n"
          ]
        }
      ],
      "source": [
        "evaluacion_test=model.evaluate(x_test,y_test)"
      ]
    },
    {
      "cell_type": "markdown",
      "metadata": {
        "id": "bPkuxHOoYusx"
      },
      "source": [
        "#### 3.2. Classification Report"
      ]
    },
    {
      "cell_type": "code",
      "execution_count": 14,
      "metadata": {
        "colab": {
          "base_uri": "https://localhost:8080/"
        },
        "id": "v94acefT5R1X",
        "outputId": "11378a53-243f-4caa-df85-59afe56a27fe"
      },
      "outputs": [
        {
          "name": "stdout",
          "output_type": "stream",
          "text": [
            "2593/2593 [==============================] - 8s 3ms/step\n",
            "                      precision    recall  f1-score   support\n",
            "\n",
            "           UNLABELED       0.98      0.99      0.98     65850\n",
            "             ASPHALT       0.92      0.88      0.90      2652\n",
            "             MEADOWS       0.98      0.97      0.98      7460\n",
            "              GRAVEL       0.89      0.93      0.91       839\n",
            "               TREES       0.78      0.70      0.74      1226\n",
            "PAINTED_METAL_SHEETS       0.93      0.89      0.91       538\n",
            "           BARE_SOIL       1.00      0.96      0.98      2011\n",
            "             BITUMEN       0.93      0.96      0.95       532\n",
            "SELF_BLOCKING_BRICKS       0.89      0.85      0.87      1473\n",
            "             SHADOWS       0.87      0.81      0.84       379\n",
            "\n",
            "            accuracy                           0.97     82960\n",
            "           macro avg       0.92      0.90      0.91     82960\n",
            "        weighted avg       0.97      0.97      0.97     82960\n",
            "\n"
          ]
        }
      ],
      "source": [
        "y_pred=model.predict(x_test)\n",
        "y_pred=np.argmax(y_pred,axis=1)\n",
        "from sklearn.metrics import classification_report\n",
        "clases_dataset_PU=[\"UNLABELED\",\"ASPHALT\",\"MEADOWS\",\"GRAVEL\",\"TREES\",\"PAINTED_METAL_SHEETS\",\"BARE_SOIL\",\"BITUMEN\",\"SELF_BLOCKING_BRICKS\",\"SHADOWS\"]\n",
        "target_names=clases_dataset_PU\n",
        "classification=classification_report(np.argmax(y_test,axis=1),y_pred,target_names=target_names)\n",
        "print(classification)"
      ]
    },
    {
      "cell_type": "markdown",
      "metadata": {
        "id": "bpyxAcTAY_mO"
      },
      "source": [
        "#### 3.3. Cohen Kappa"
      ]
    },
    {
      "cell_type": "code",
      "execution_count": 15,
      "metadata": {
        "colab": {
          "base_uri": "https://localhost:8080/"
        },
        "id": "7Y2yvdGsZUr0",
        "outputId": "464f9d23-eb15-413b-8926-c094e3330e7d"
      },
      "outputs": [],
      "source": [
        "from sklearn.metrics import cohen_kappa_score\n",
        "a=y_pred\n",
        "b=np.argmax(y_test,axis=1)\n",
        "cks=cohen_kappa_score(a,b)\n",
        "cks\n",
        "\n",
        "np.save(\"cohen_kappa_score_cnn2d\",cks)"
      ]
    },
    {
      "cell_type": "code",
      "execution_count": 16,
      "metadata": {},
      "outputs": [
        {
          "data": {
            "text/plain": [
              "array(0.92134414)"
            ]
          },
          "execution_count": 16,
          "metadata": {},
          "output_type": "execute_result"
        }
      ],
      "source": [
        "import numpy as np \n",
        "np.load(\"cohen_kappa_score_cnn2d.npy\")"
      ]
    },
    {
      "cell_type": "code",
      "execution_count": 17,
      "metadata": {},
      "outputs": [],
      "source": [
        "import pandas as pd \n",
        "\n",
        "pd_reporte_clasificacion=pd.DataFrame(classification_report(np.argmax(y_test,axis=1),y_pred,target_names=target_names,output_dict=True)).transpose()\n",
        "pd_reporte_clasificacion.to_csv(\"reporte_clasificacion_cnn2d.csv\")"
      ]
    },
    {
      "cell_type": "code",
      "execution_count": 18,
      "metadata": {
        "colab": {
          "base_uri": "https://localhost:8080/"
        },
        "id": "skSUfSLs5R1X",
        "outputId": "99d4891a-e5d5-4d6e-9569-dad4c7666f21"
      },
      "outputs": [
        {
          "name": "stdout",
          "output_type": "stream",
          "text": [
            "1621/1621 [==============================] - 5s 3ms/step\n"
          ]
        }
      ],
      "source": [
        "y_pred,_=createImageCubes(data,labels,removeZeroLabels=False)\n",
        "y_pred=model.predict(y_pred,batch_size=128)\n",
        "y_pred=np.argmax(y_pred,axis=1)\n",
        "y_pred=y_pred.reshape(H,W)"
      ]
    },
    {
      "cell_type": "code",
      "execution_count": 19,
      "metadata": {
        "colab": {
          "base_uri": "https://localhost:8080/",
          "height": 248
        },
        "id": "nkgp4lKB5R1Y",
        "outputId": "aa48a459-ca93-4d9c-c378-0f58cbee8960"
      },
      "outputs": [
        {
          "data": {
            "image/png": "[encoded data removed]",
            "text/plain": [
              "<Figure size 432x288 with 1 Axes>"
            ]
          },
          "metadata": {
            "needs_background": "light"
          },
          "output_type": "display_data"
        }
      ],
      "source": [
        "import matplotlib.pyplot as plt \n",
        "plt.imshow(y_pred)\n",
        "plt.axis(\"off\");"
      ]
    },
    {
      "cell_type": "code",
      "execution_count": 20,
      "metadata": {},
      "outputs": [],
      "source": [
        "np.save(\"y_pred_cnn2d\",y_pred)"
      ]
    },
    {
      "cell_type": "code",
      "execution_count": 21,
      "metadata": {
        "colab": {
          "base_uri": "https://localhost:8080/",
          "height": 286
        },
        "id": "5foEvQ32VnlY",
        "outputId": "54d60d5c-2ea2-43e7-8322-784d12ff38a8"
      },
      "outputs": [
        {
          "data": {
            "text/plain": [
              "(-0.5, 339.5, 609.5, -0.5)"
            ]
          },
          "execution_count": 21,
          "metadata": {},
          "output_type": "execute_result"
        },
        {
          "data": {
            "image/png": "[encoded data removed]",
            "text/plain": [
              "<Figure size 432x288 with 1 Axes>"
            ]
          },
          "metadata": {
            "needs_background": "light"
          },
          "output_type": "display_data"
        }
      ],
      "source": [
        "plt.imshow(labels)\n",
        "plt.axis(\"off\")"
      ]
    },
    {
      "cell_type": "code",
      "execution_count": 22,
      "metadata": {},
      "outputs": [
        {
          "data": {
            "text/plain": [
              "0.9415766463641826"
            ]
          },
          "execution_count": 22,
          "metadata": {},
          "output_type": "execute_result"
        }
      ],
      "source": [
        "from sklearn.metrics import accuracy_score\n",
        "a=y_pred.reshape(H*W)\n",
        "b=labels.reshape(H*W)\n",
        "cohen_kappa_score(a,b)"
      ]
    },
    {
      "cell_type": "code",
      "execution_count": 23,
      "metadata": {},
      "outputs": [
        {
          "data": {
            "text/plain": [
              "0.9791417550626809"
            ]
          },
          "execution_count": 23,
          "metadata": {},
          "output_type": "execute_result"
        }
      ],
      "source": [
        "accuracy_score(a,b)"
      ]
    },
    {
      "cell_type": "code",
      "execution_count": 24,
      "metadata": {
        "colab": {
          "base_uri": "https://localhost:8080/"
        },
        "id": "Y7eo3zRRKzMl",
        "outputId": "50536104-8ddb-4405-fef1-b487fd0de2a0"
      },
      "outputs": [
        {
          "name": "stdout",
          "output_type": "stream",
          "text": [
            "Mean IoU 0.86953866\n"
          ]
        }
      ],
      "source": [
        "from keras.metrics import MeanIoU \n",
        "n_classes=10\n",
        "IOU_mean=MeanIoU(num_classes=n_classes)\n",
        "IOU_mean.update_state(y_pred,labels)\n",
        "print(\"Mean IoU\",IOU_mean.result().numpy())\n",
        "np.save(\"IoU_cnn2d\",IOU_mean.result().numpy())"
      ]
    },
    {
      "cell_type": "code",
      "execution_count": 25,
      "metadata": {
        "colab": {
          "base_uri": "https://localhost:8080/"
        },
        "id": "Z0fwX8s-5R1Y",
        "outputId": "0a560e09-f225-4dfb-b2eb-682d35c04385"
      },
      "outputs": [
        {
          "name": "stdout",
          "output_type": "stream",
          "text": [
            "UNLABELED : 0.9741158\n",
            "ASPHALT : 0.8686567\n",
            "MEADOWS : 0.9694256\n",
            "GRAVEL : 0.86593884\n",
            "TREES : 0.6712989\n",
            "PAINTED_METAL_SHEETS : 0.8564391\n",
            "BARE_SOIL : 0.96703076\n",
            "BITUMEN : 0.9236805\n",
            "SELF_BLOCKING_BRICKS : 0.8421717\n",
            "SHADOWS : 0.7566288\n"
          ]
        }
      ],
      "source": [
        "# IoU por clase.\n",
        "from keras.metrics import IoU\n",
        "clases=[\"UNLABELED\",\"ASPHALT\",\"MEADOWS\",\"GRAVEL\",\"TREES\",\"PAINTED_METAL_SHEETS\",\"BARE_SOIL\",\"BITUMEN\",\"SELF_BLOCKING_BRICKS\",\"SHADOWS\"]\n",
        "IoU_class_report=[]\n",
        "for i in range(10):\n",
        "    IoU_class=IoU(num_classes=10,target_class_ids=[i])\n",
        "    IoU_class.update_state(y_pred,labels)\n",
        "    IoU_class_report.append(IoU_class.result().numpy())\n",
        "    print(clases[i],\":\", IoU_class.result().numpy())"
      ]
    },
    {
      "cell_type": "code",
      "execution_count": 26,
      "metadata": {},
      "outputs": [],
      "source": [
        "np.save(\"reporte_IoU_cnn2d\",IoU_class_report)"
      ]
    },
    {
      "cell_type": "code",
      "execution_count": 27,
      "metadata": {
        "id": "0o9DYE8s5R1Y"
      },
      "outputs": [
        {
          "name": "stdout",
          "output_type": "stream",
          "text": [
            "0.9741158\n",
            "0.8686567\n",
            "0.9694256\n",
            "0.86593884\n",
            "0.6712989\n",
            "0.8564391\n",
            "0.96703076\n",
            "0.9236805\n",
            "0.8421717\n",
            "0.7566288\n"
          ]
        }
      ],
      "source": [
        "from keras.metrics import IoU\n",
        "clases=[\"UNLABELED\",\"ASPHALT\",\"MEADOWS\",\"GRAVEL\",\"TREES\",\"PAINTED_METAL_SHEETS\",\"BARE_SOIL\",\"BITUMEN\",\"SELF_BLOCKING_BRICKS\",\"SHADOWS\"]\n",
        "IoU_class_report=[]\n",
        "for i in range(n_clases):\n",
        "    IoU_class=IoU(num_classes=n_clases,target_class_ids=[i])\n",
        "    IoU_class.update_state(y_pred,labels)\n",
        "    IoU_class_report.append(IoU_class.result().numpy())\n",
        "    print(IoU_class.result().numpy())"
      ]
    }
  ],
  "metadata": {
    "accelerator": "GPU",
    "colab": {
      "provenance": []
    },
    "gpuClass": "standard",
    "kernelspec": {
      "display_name": "Python 3",
      "language": "python",
      "name": "python3"
    },
    "language_info": {
      "codemirror_mode": {
        "name": "ipython",
        "version": 3
      },
      "file_extension": ".py",
      "mimetype": "text/x-python",
      "name": "python",
      "nbconvert_exporter": "python",
      "pygments_lexer": "ipython3",
      "version": "3.7.2"
    },
    "orig_nbformat": 4,
    "vscode": {
      "interpreter": {
        "hash": "98d5674963b65db345bb78e3c5a3b7a8950200b887d8b92f8da01b49df867ecf"
      }
    }
  },
  "nbformat": 4,
  "nbformat_minor": 0
}
