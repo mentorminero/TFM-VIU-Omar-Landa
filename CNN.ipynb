{
  "cells": [
    {
      "cell_type": "markdown",
      "metadata": {
        "id": "view-in-github",
        "colab_type": "text"
      },
      "source": [
        "<a href=\"https://colab.research.google.com/github/mentorminero/TFM-VIU-Omar-Landa/blob/master/CNN.ipynb\" target=\"_parent\"><img src=\"https://colab.research.google.com/assets/colab-badge.svg\" alt=\"Open In Colab\"/></a>"
      ]
    },
    {
      "cell_type": "code",
      "source": [
        "from google.colab import drive\n",
        "drive.mount('/content/drive')"
      ],
      "metadata": {
        "colab": {
          "base_uri": "https://localhost:8080/"
        },
        "id": "nWA_HkIN5XVa",
        "outputId": "bcbe9beb-7660-48c9-cee1-6b760b4e6e6c"
      },
      "execution_count": null,
      "outputs": [
        {
          "output_type": "stream",
          "name": "stdout",
          "text": [
            "Drive already mounted at /content/drive; to attempt to forcibly remount, call drive.mount(\"/content/drive\", force_remount=True).\n"
          ]
        }
      ]
    },
    {
      "cell_type": "markdown",
      "metadata": {
        "id": "mEhKpIX_5R1L"
      },
      "source": [
        "### 1. Preparación del dataset"
      ]
    },
    {
      "cell_type": "markdown",
      "metadata": {
        "id": "_wLxvJ-t5R1P"
      },
      "source": [
        "#### 1.1. Lectura del conjunto de datos"
      ]
    },
    {
      "cell_type": "code",
      "execution_count": null,
      "metadata": {
        "id": "iMF11JwQ5R1P"
      },
      "outputs": [],
      "source": [
        "from scipy.io import loadmat\n",
        "data=loadmat(\"/content/drive/MyDrive/TFM OL/Indian Pines/Indian_pines_corrected_image.mat\")['indian_pines_corrected']\n",
        "labels=loadmat(\"/content/drive/MyDrive/TFM OL/Indian Pines/Indian_pines_ground_truth.mat\")['indian_pines_gt']\n",
        "H,W,C=data.shape"
      ]
    },
    {
      "cell_type": "markdown",
      "metadata": {
        "id": "dHBKDQW15R1Q"
      },
      "source": [
        "#### 1.2. Reducción de la dimensionalidad"
      ]
    },
    {
      "cell_type": "code",
      "execution_count": null,
      "metadata": {
        "id": "R8S5fnFy5R1R"
      },
      "outputs": [],
      "source": [
        "from sklearn.decomposition import PCA\n",
        "n_components=22 # Nuestro análisis abarca 20 bandas\n",
        "data=data.reshape(H*W,C)\n",
        "pca=PCA(n_components=n_components,whiten=True)\n",
        "data=pca.fit_transform(data)"
      ]
    },
    {
      "cell_type": "markdown",
      "metadata": {
        "id": "5FIwV9yC5R1S"
      },
      "source": [
        "#### 1.3. Normalización de los datos"
      ]
    },
    {
      "cell_type": "code",
      "execution_count": null,
      "metadata": {
        "id": "7hYF0Dp05R1S"
      },
      "outputs": [],
      "source": [
        "from sklearn.preprocessing import MinMaxScaler, StandardScaler\n",
        "standar_scaler=StandardScaler()\n",
        "data=standar_scaler.fit_transform(data)\n",
        "data=data.reshape(H,W,n_components);"
      ]
    },
    {
      "cell_type": "markdown",
      "metadata": {
        "id": "KjiRINWq5R1T"
      },
      "source": [
        "#### 1.4. Aproximación parche a pixel"
      ]
    },
    {
      "cell_type": "code",
      "source": [
        "import numpy as np\n",
        "\n",
        "def padWithZeros(X, margin=2):\n",
        "    newX=np.zeros((X.shape[0]+2*margin,X.shape[1]+2*margin, X.shape[2]))\n",
        "    x_offset=margin\n",
        "    y_offset=margin \n",
        "    newX[x_offset:X.shape[0]+x_offset, y_offset:X.shape[1]+y_offset,:]=X\n",
        "    return newX\n",
        "\n",
        "def createImageCubes(X,y,windowSize=9, removeZeroLabels=True): #Regresar a 5\n",
        "    margin=int((windowSize-1)/2)\n",
        "    zeroPaddedX=padWithZeros(X,margin=margin)\n",
        "    patchesData=np.zeros((X.shape[0]*X.shape[1],windowSize,windowSize,X.shape[2]))\n",
        "    patchesLabels=np.zeros((X.shape[0]*X.shape[1]))\n",
        "    patchIndex=0\n",
        "    for r in range(margin,zeroPaddedX.shape[0]-margin):\n",
        "        for c in range(margin,zeroPaddedX.shape[1]-margin):\n",
        "            patch=zeroPaddedX[r-margin:r+margin+1,c-margin:c+margin+1]\n",
        "            patchesData[patchIndex,:,:,:]=patch \n",
        "            patchesLabels[patchIndex]=y[r-margin,c-margin]\n",
        "            patchIndex=patchIndex+1\n",
        "    if removeZeroLabels:\n",
        "        patchesData=patchesData[patchesLabels>0,:,:,:]\n",
        "        patchesLabels=patchesLabels[patchesLabels>0]\n",
        "        patchesLabels -=1\n",
        "    from keras.utils import np_utils\n",
        "    patchesLabels=np_utils.to_categorical(patchesLabels)\n",
        "    return patchesData,patchesLabels "
      ],
      "metadata": {
        "id": "jSW-YDIE7BFm"
      },
      "execution_count": null,
      "outputs": []
    },
    {
      "cell_type": "markdown",
      "source": [
        "#### 1.5. Acondicionar el conjunto de datos"
      ],
      "metadata": {
        "id": "A3MGlZyuYeNd"
      }
    },
    {
      "cell_type": "code",
      "execution_count": null,
      "metadata": {
        "id": "Jy70nu4u5R1T"
      },
      "outputs": [],
      "source": [
        "x_train,y_train=createImageCubes(data,labels,removeZeroLabels=True)"
      ]
    },
    {
      "cell_type": "code",
      "execution_count": null,
      "metadata": {
        "id": "dSY5Jis85R1U"
      },
      "outputs": [],
      "source": [
        "n_clases=y_train.shape[1]"
      ]
    },
    {
      "cell_type": "markdown",
      "source": [
        "#### 1.6. Partir Dataset"
      ],
      "metadata": {
        "id": "QD7kXWODYZYH"
      }
    },
    {
      "cell_type": "code",
      "execution_count": null,
      "metadata": {
        "id": "id7WkYYp5R1U"
      },
      "outputs": [],
      "source": [
        "# TEST 40%, TRAIN 48%, VALIDATION 12%\n",
        "from sklearn.model_selection import train_test_split\n",
        "x_train,x_test,y_train,y_test=train_test_split(x_train,y_train,test_size=0.4,shuffle=True,random_state=0,stratify=y_train) #0.4 100% 0.9--0.79\n",
        "x_train,x_val,y_train,y_val=train_test_split(x_train,y_train,test_size=0.2,shuffle=True,random_state=0,stratify=y_train)"
      ]
    },
    {
      "cell_type": "markdown",
      "metadata": {
        "id": "BpfU-UCd5R1U"
      },
      "source": [
        "### 2. Red Neuronal Convolucional"
      ]
    },
    {
      "cell_type": "code",
      "execution_count": null,
      "metadata": {
        "id": "eTrVFER95R1V"
      },
      "outputs": [],
      "source": [
        "from tensorflow.keras.layers import Input,Conv2D,Dropout,BatchNormalization,Flatten,Dense,LayerNormalization\n",
        "from tensorflow.keras.models import Model \n",
        "from tensorflow.keras.callbacks import EarlyStopping"
      ]
    },
    {
      "cell_type": "code",
      "source": [
        "shapes=(9,9,n_components)\n",
        "inputs=Input(shapes)\n",
        "x=Conv2D(64,(3,3),activation=\"relu\",padding=\"same\")(inputs) # 64 por 60\n",
        "x=Dropout(0.2)(x)\n",
        "x=BatchNormalization()(x)\n",
        "x=Conv2D(32,(3,3),activation=\"relu\")(x)\n",
        "x=Dropout(0.2)(x)\n",
        "x=BatchNormalization()(x)\n",
        "x=Conv2D(32,(3,3),activation=\"relu\")(x)\n",
        "x=Dropout(0.2)(x)\n",
        "x=BatchNormalization()(x)\n",
        "x=Flatten()(x)\n",
        "#x=Dense(32,activation=\"relu\")(x) #256 en vez de 243\n",
        "x=Dropout(0.2)(x)\n",
        "x=Dense(n_clases,activation=\"softmax\")(x)\n",
        "\n",
        "model=Model(inputs=inputs,outputs=x)\n",
        "model.compile(optimizer=\"adam\", loss=\"categorical_crossentropy\", metrics=[\"accuracy\"])"
      ],
      "metadata": {
        "id": "eBwG7dGmrhP1"
      },
      "execution_count": null,
      "outputs": []
    },
    {
      "cell_type": "code",
      "execution_count": null,
      "metadata": {
        "id": "YeqaoidY5R1W"
      },
      "outputs": [],
      "source": [
        "callback=EarlyStopping(monitor=\"val_accuracy\", patience=10, restore_best_weights=True)"
      ]
    },
    {
      "cell_type": "markdown",
      "metadata": {
        "id": "pN8SBdnr5R1W"
      },
      "source": [
        "#### 2.1. Entrenamiento"
      ]
    },
    {
      "cell_type": "code",
      "execution_count": null,
      "metadata": {
        "colab": {
          "base_uri": "https://localhost:8080/"
        },
        "id": "aEFPXM2_5R1W",
        "outputId": "253994c7-a9dc-45a6-ef7a-84beadfdaf30"
      },
      "outputs": [
        {
          "output_type": "stream",
          "name": "stdout",
          "text": [
            "Epoch 1/100\n",
            "39/39 [==============================] - 12s 36ms/step - loss: 1.8626 - accuracy: 0.4643 - val_loss: 1.1015 - val_accuracy: 0.6220\n",
            "Epoch 2/100\n",
            "39/39 [==============================] - 0s 11ms/step - loss: 0.7213 - accuracy: 0.7522 - val_loss: 0.5434 - val_accuracy: 0.8415\n",
            "Epoch 3/100\n",
            "39/39 [==============================] - 1s 16ms/step - loss: 0.3819 - accuracy: 0.8729 - val_loss: 0.2827 - val_accuracy: 0.9236\n",
            "Epoch 4/100\n",
            "39/39 [==============================] - 1s 14ms/step - loss: 0.2183 - accuracy: 0.9309 - val_loss: 0.1736 - val_accuracy: 0.9520\n",
            "Epoch 5/100\n",
            "39/39 [==============================] - 1s 17ms/step - loss: 0.1378 - accuracy: 0.9595 - val_loss: 0.1231 - val_accuracy: 0.9585\n",
            "Epoch 6/100\n",
            "39/39 [==============================] - 1s 13ms/step - loss: 0.1066 - accuracy: 0.9661 - val_loss: 0.0640 - val_accuracy: 0.9854\n",
            "Epoch 7/100\n",
            "39/39 [==============================] - 1s 16ms/step - loss: 0.0768 - accuracy: 0.9764 - val_loss: 0.0449 - val_accuracy: 0.9894\n",
            "Epoch 8/100\n",
            "39/39 [==============================] - 1s 21ms/step - loss: 0.0474 - accuracy: 0.9888 - val_loss: 0.0344 - val_accuracy: 0.9935\n",
            "Epoch 9/100\n",
            "39/39 [==============================] - 0s 10ms/step - loss: 0.0376 - accuracy: 0.9911 - val_loss: 0.0248 - val_accuracy: 0.9951\n",
            "Epoch 10/100\n",
            "39/39 [==============================] - 0s 11ms/step - loss: 0.0446 - accuracy: 0.9872 - val_loss: 0.0188 - val_accuracy: 0.9959\n",
            "Epoch 11/100\n",
            "39/39 [==============================] - 0s 10ms/step - loss: 0.0326 - accuracy: 0.9909 - val_loss: 0.0243 - val_accuracy: 0.9935\n",
            "Epoch 12/100\n",
            "39/39 [==============================] - 0s 10ms/step - loss: 0.0227 - accuracy: 0.9945 - val_loss: 0.0258 - val_accuracy: 0.9927\n",
            "Epoch 13/100\n",
            "39/39 [==============================] - 0s 10ms/step - loss: 0.0395 - accuracy: 0.9886 - val_loss: 0.0220 - val_accuracy: 0.9943\n",
            "Epoch 14/100\n",
            "39/39 [==============================] - 0s 11ms/step - loss: 0.0211 - accuracy: 0.9943 - val_loss: 0.0187 - val_accuracy: 0.9943\n",
            "Epoch 15/100\n",
            "39/39 [==============================] - 0s 10ms/step - loss: 0.0182 - accuracy: 0.9961 - val_loss: 0.0147 - val_accuracy: 0.9976\n",
            "Epoch 16/100\n",
            "39/39 [==============================] - 0s 8ms/step - loss: 0.0181 - accuracy: 0.9957 - val_loss: 0.0168 - val_accuracy: 0.9967\n",
            "Epoch 17/100\n",
            "39/39 [==============================] - 0s 8ms/step - loss: 0.0125 - accuracy: 0.9972 - val_loss: 0.0126 - val_accuracy: 0.9976\n",
            "Epoch 18/100\n",
            "39/39 [==============================] - 0s 7ms/step - loss: 0.0104 - accuracy: 0.9974 - val_loss: 0.0138 - val_accuracy: 0.9976\n",
            "Epoch 19/100\n",
            "39/39 [==============================] - 0s 7ms/step - loss: 0.0103 - accuracy: 0.9970 - val_loss: 0.0140 - val_accuracy: 0.9984\n",
            "Epoch 20/100\n",
            "39/39 [==============================] - 0s 8ms/step - loss: 0.0109 - accuracy: 0.9961 - val_loss: 0.0275 - val_accuracy: 0.9935\n",
            "Epoch 21/100\n",
            "39/39 [==============================] - 0s 7ms/step - loss: 0.0171 - accuracy: 0.9951 - val_loss: 0.0241 - val_accuracy: 0.9919\n",
            "Epoch 22/100\n",
            "39/39 [==============================] - 0s 9ms/step - loss: 0.0131 - accuracy: 0.9961 - val_loss: 0.0100 - val_accuracy: 0.9984\n",
            "Epoch 23/100\n",
            "39/39 [==============================] - 0s 8ms/step - loss: 0.0097 - accuracy: 0.9980 - val_loss: 0.0181 - val_accuracy: 0.9959\n",
            "Epoch 24/100\n",
            "39/39 [==============================] - 0s 8ms/step - loss: 0.0064 - accuracy: 0.9988 - val_loss: 0.0142 - val_accuracy: 0.9967\n",
            "Epoch 25/100\n",
            "39/39 [==============================] - 0s 8ms/step - loss: 0.0067 - accuracy: 0.9982 - val_loss: 0.0130 - val_accuracy: 0.9959\n",
            "Epoch 26/100\n",
            "39/39 [==============================] - 0s 8ms/step - loss: 0.0079 - accuracy: 0.9984 - val_loss: 0.0140 - val_accuracy: 0.9967\n",
            "Epoch 27/100\n",
            "39/39 [==============================] - 0s 7ms/step - loss: 0.0074 - accuracy: 0.9980 - val_loss: 0.0143 - val_accuracy: 0.9967\n",
            "Epoch 28/100\n",
            "39/39 [==============================] - 0s 8ms/step - loss: 0.0104 - accuracy: 0.9957 - val_loss: 0.0188 - val_accuracy: 0.9951\n",
            "Epoch 29/100\n",
            "39/39 [==============================] - 0s 7ms/step - loss: 0.0117 - accuracy: 0.9963 - val_loss: 0.0085 - val_accuracy: 0.9967\n",
            "Epoch 30/100\n",
            "39/39 [==============================] - 0s 7ms/step - loss: 0.0103 - accuracy: 0.9970 - val_loss: 0.0316 - val_accuracy: 0.9902\n",
            "Epoch 31/100\n",
            "39/39 [==============================] - 0s 8ms/step - loss: 0.0087 - accuracy: 0.9980 - val_loss: 0.0078 - val_accuracy: 0.9984\n",
            "Epoch 32/100\n",
            "39/39 [==============================] - 0s 9ms/step - loss: 0.0048 - accuracy: 0.9988 - val_loss: 0.0193 - val_accuracy: 0.9935\n",
            "Epoch 33/100\n",
            "39/39 [==============================] - 0s 7ms/step - loss: 0.0065 - accuracy: 0.9984 - val_loss: 0.0074 - val_accuracy: 0.9967\n",
            "Epoch 34/100\n",
            "39/39 [==============================] - 0s 8ms/step - loss: 0.0050 - accuracy: 0.9990 - val_loss: 0.0087 - val_accuracy: 0.9959\n",
            "Epoch 35/100\n",
            "39/39 [==============================] - 0s 7ms/step - loss: 0.0056 - accuracy: 0.9990 - val_loss: 0.0084 - val_accuracy: 0.9984\n",
            "Epoch 36/100\n",
            "39/39 [==============================] - 0s 8ms/step - loss: 0.0108 - accuracy: 0.9963 - val_loss: 0.0097 - val_accuracy: 0.9984\n",
            "Epoch 37/100\n",
            "39/39 [==============================] - 0s 8ms/step - loss: 0.0067 - accuracy: 0.9978 - val_loss: 0.0129 - val_accuracy: 0.9967\n",
            "Epoch 38/100\n",
            "39/39 [==============================] - 0s 8ms/step - loss: 0.0037 - accuracy: 0.9992 - val_loss: 0.0169 - val_accuracy: 0.9943\n",
            "Epoch 39/100\n",
            "39/39 [==============================] - 0s 7ms/step - loss: 0.0042 - accuracy: 0.9990 - val_loss: 0.0106 - val_accuracy: 0.9976\n",
            "Epoch 40/100\n",
            "39/39 [==============================] - 0s 8ms/step - loss: 0.0034 - accuracy: 0.9994 - val_loss: 0.0079 - val_accuracy: 0.9984\n",
            "Epoch 41/100\n",
            "39/39 [==============================] - 0s 8ms/step - loss: 0.0069 - accuracy: 0.9986 - val_loss: 0.0248 - val_accuracy: 0.9951\n",
            "Epoch 42/100\n",
            "39/39 [==============================] - 0s 8ms/step - loss: 0.0088 - accuracy: 0.9974 - val_loss: 0.0218 - val_accuracy: 0.9951\n",
            "Epoch 43/100\n",
            "39/39 [==============================] - 0s 8ms/step - loss: 0.0064 - accuracy: 0.9976 - val_loss: 0.0122 - val_accuracy: 0.9967\n",
            "Epoch 44/100\n",
            "39/39 [==============================] - 0s 8ms/step - loss: 0.0377 - accuracy: 0.9890 - val_loss: 0.0112 - val_accuracy: 0.9959\n",
            "Epoch 45/100\n",
            "39/39 [==============================] - 0s 8ms/step - loss: 0.0147 - accuracy: 0.9965 - val_loss: 0.0118 - val_accuracy: 0.9967\n",
            "Epoch 46/100\n",
            "39/39 [==============================] - 0s 8ms/step - loss: 0.0080 - accuracy: 0.9982 - val_loss: 0.0027 - val_accuracy: 0.9992\n",
            "Epoch 47/100\n",
            "39/39 [==============================] - 0s 10ms/step - loss: 0.0037 - accuracy: 0.9990 - val_loss: 0.0042 - val_accuracy: 0.9984\n",
            "Epoch 48/100\n",
            "39/39 [==============================] - 0s 10ms/step - loss: 0.0068 - accuracy: 0.9982 - val_loss: 0.0024 - val_accuracy: 0.9992\n",
            "Epoch 49/100\n",
            "39/39 [==============================] - 0s 11ms/step - loss: 0.0034 - accuracy: 0.9986 - val_loss: 0.0084 - val_accuracy: 0.9984\n",
            "Epoch 50/100\n",
            "39/39 [==============================] - 0s 10ms/step - loss: 0.0046 - accuracy: 0.9988 - val_loss: 0.0055 - val_accuracy: 0.9984\n",
            "Epoch 51/100\n",
            "39/39 [==============================] - 0s 10ms/step - loss: 0.0030 - accuracy: 0.9992 - val_loss: 0.0069 - val_accuracy: 0.9976\n",
            "Epoch 52/100\n",
            "39/39 [==============================] - 0s 11ms/step - loss: 0.0044 - accuracy: 0.9988 - val_loss: 0.0059 - val_accuracy: 0.9984\n",
            "Epoch 53/100\n",
            "39/39 [==============================] - 0s 11ms/step - loss: 0.0054 - accuracy: 0.9982 - val_loss: 0.0067 - val_accuracy: 0.9984\n",
            "Epoch 54/100\n",
            "39/39 [==============================] - 0s 10ms/step - loss: 0.0062 - accuracy: 0.9978 - val_loss: 0.0083 - val_accuracy: 0.9984\n",
            "Epoch 55/100\n",
            "39/39 [==============================] - 0s 8ms/step - loss: 0.0063 - accuracy: 0.9984 - val_loss: 0.0202 - val_accuracy: 0.9919\n",
            "Epoch 56/100\n",
            "39/39 [==============================] - 0s 8ms/step - loss: 0.0039 - accuracy: 0.9992 - val_loss: 0.0060 - val_accuracy: 0.9984\n",
            "Epoch 57/100\n",
            "39/39 [==============================] - 0s 9ms/step - loss: 0.0094 - accuracy: 0.9980 - val_loss: 0.0093 - val_accuracy: 0.9984\n",
            "Epoch 58/100\n",
            "39/39 [==============================] - 0s 8ms/step - loss: 0.0038 - accuracy: 0.9992 - val_loss: 0.0081 - val_accuracy: 0.9984\n",
            "Epoch 59/100\n",
            "39/39 [==============================] - 0s 8ms/step - loss: 0.0021 - accuracy: 0.9992 - val_loss: 0.0042 - val_accuracy: 0.9984\n",
            "Epoch 60/100\n",
            "39/39 [==============================] - 0s 8ms/step - loss: 0.0018 - accuracy: 0.9994 - val_loss: 0.0051 - val_accuracy: 0.9984\n",
            "Epoch 61/100\n",
            "39/39 [==============================] - 0s 8ms/step - loss: 0.0014 - accuracy: 0.9994 - val_loss: 0.0065 - val_accuracy: 0.9984\n",
            "Epoch 62/100\n",
            "39/39 [==============================] - 0s 8ms/step - loss: 0.0013 - accuracy: 1.0000 - val_loss: 0.0058 - val_accuracy: 0.9984\n",
            "Epoch 63/100\n",
            "39/39 [==============================] - 0s 8ms/step - loss: 0.0052 - accuracy: 0.9986 - val_loss: 0.0077 - val_accuracy: 0.9984\n",
            "Epoch 64/100\n",
            "39/39 [==============================] - 0s 8ms/step - loss: 0.0370 - accuracy: 0.9902 - val_loss: 0.0194 - val_accuracy: 0.9927\n",
            "Epoch 65/100\n",
            "39/39 [==============================] - 0s 7ms/step - loss: 0.0334 - accuracy: 0.9884 - val_loss: 0.0123 - val_accuracy: 0.9951\n",
            "Epoch 66/100\n",
            "39/39 [==============================] - 0s 7ms/step - loss: 0.0148 - accuracy: 0.9941 - val_loss: 0.0078 - val_accuracy: 0.9976\n",
            "Epoch 67/100\n",
            "39/39 [==============================] - 0s 8ms/step - loss: 0.0119 - accuracy: 0.9965 - val_loss: 0.0023 - val_accuracy: 0.9992\n",
            "Epoch 68/100\n",
            "39/39 [==============================] - 0s 7ms/step - loss: 0.0057 - accuracy: 0.9982 - val_loss: 0.0056 - val_accuracy: 0.9984\n",
            "Epoch 69/100\n",
            "39/39 [==============================] - 0s 9ms/step - loss: 0.0029 - accuracy: 0.9994 - val_loss: 0.0071 - val_accuracy: 0.9984\n",
            "Epoch 70/100\n",
            "39/39 [==============================] - 0s 7ms/step - loss: 0.0026 - accuracy: 0.9992 - val_loss: 0.0058 - val_accuracy: 0.9984\n",
            "Epoch 71/100\n",
            "39/39 [==============================] - 0s 7ms/step - loss: 0.0013 - accuracy: 0.9996 - val_loss: 0.0056 - val_accuracy: 0.9984\n",
            "Epoch 72/100\n",
            "39/39 [==============================] - 0s 8ms/step - loss: 0.0025 - accuracy: 0.9994 - val_loss: 0.0071 - val_accuracy: 0.9976\n",
            "Epoch 73/100\n",
            "39/39 [==============================] - 0s 7ms/step - loss: 0.0014 - accuracy: 1.0000 - val_loss: 0.0042 - val_accuracy: 0.9984\n",
            "Epoch 74/100\n",
            "39/39 [==============================] - 0s 8ms/step - loss: 0.0011 - accuracy: 1.0000 - val_loss: 0.0048 - val_accuracy: 0.9984\n",
            "Epoch 75/100\n",
            "39/39 [==============================] - 0s 8ms/step - loss: 8.7573e-04 - accuracy: 0.9998 - val_loss: 0.0049 - val_accuracy: 0.9984\n",
            "Epoch 76/100\n",
            "39/39 [==============================] - 0s 9ms/step - loss: 0.0027 - accuracy: 0.9996 - val_loss: 0.0060 - val_accuracy: 0.9976\n",
            "Epoch 77/100\n",
            "39/39 [==============================] - 0s 7ms/step - loss: 9.8204e-04 - accuracy: 1.0000 - val_loss: 0.0052 - val_accuracy: 0.9976\n",
            "Epoch 78/100\n",
            "39/39 [==============================] - 0s 8ms/step - loss: 6.4653e-04 - accuracy: 1.0000 - val_loss: 0.0063 - val_accuracy: 0.9984\n",
            "Epoch 79/100\n",
            "39/39 [==============================] - 0s 8ms/step - loss: 9.4181e-04 - accuracy: 0.9996 - val_loss: 0.0064 - val_accuracy: 0.9984\n",
            "Epoch 80/100\n",
            "39/39 [==============================] - 0s 8ms/step - loss: 0.0017 - accuracy: 0.9996 - val_loss: 0.0053 - val_accuracy: 0.9976\n",
            "Epoch 81/100\n",
            "39/39 [==============================] - 0s 8ms/step - loss: 8.5457e-04 - accuracy: 1.0000 - val_loss: 0.0053 - val_accuracy: 0.9976\n",
            "Epoch 82/100\n",
            "39/39 [==============================] - 0s 8ms/step - loss: 6.1634e-04 - accuracy: 1.0000 - val_loss: 0.0046 - val_accuracy: 0.9976\n",
            "Epoch 83/100\n",
            "39/39 [==============================] - 0s 9ms/step - loss: 9.1098e-04 - accuracy: 0.9998 - val_loss: 0.0045 - val_accuracy: 0.9976\n",
            "Epoch 84/100\n",
            "39/39 [==============================] - 0s 8ms/step - loss: 6.4120e-04 - accuracy: 1.0000 - val_loss: 0.0054 - val_accuracy: 0.9976\n",
            "Epoch 85/100\n",
            "39/39 [==============================] - 0s 9ms/step - loss: 8.7742e-04 - accuracy: 0.9996 - val_loss: 0.0055 - val_accuracy: 0.9976\n",
            "Epoch 86/100\n",
            "39/39 [==============================] - 0s 9ms/step - loss: 0.0013 - accuracy: 0.9994 - val_loss: 0.0077 - val_accuracy: 0.9967\n",
            "Epoch 87/100\n",
            "39/39 [==============================] - 0s 10ms/step - loss: 0.0022 - accuracy: 0.9992 - val_loss: 0.0093 - val_accuracy: 0.9976\n",
            "Epoch 88/100\n",
            "39/39 [==============================] - 0s 10ms/step - loss: 0.0020 - accuracy: 0.9994 - val_loss: 0.0077 - val_accuracy: 0.9976\n",
            "Epoch 89/100\n",
            "39/39 [==============================] - 0s 10ms/step - loss: 0.0011 - accuracy: 0.9996 - val_loss: 0.0078 - val_accuracy: 0.9976\n",
            "Epoch 90/100\n",
            "39/39 [==============================] - 0s 11ms/step - loss: 0.0012 - accuracy: 0.9998 - val_loss: 0.0085 - val_accuracy: 0.9976\n",
            "Epoch 91/100\n",
            "39/39 [==============================] - 0s 11ms/step - loss: 0.0164 - accuracy: 0.9957 - val_loss: 0.0063 - val_accuracy: 0.9984\n",
            "Epoch 92/100\n",
            "39/39 [==============================] - 0s 10ms/step - loss: 0.0121 - accuracy: 0.9965 - val_loss: 0.1637 - val_accuracy: 0.9642\n",
            "Epoch 93/100\n",
            "39/39 [==============================] - 0s 10ms/step - loss: 0.0091 - accuracy: 0.9967 - val_loss: 0.0052 - val_accuracy: 0.9976\n",
            "Epoch 94/100\n",
            "39/39 [==============================] - 0s 10ms/step - loss: 0.0075 - accuracy: 0.9974 - val_loss: 0.0182 - val_accuracy: 0.9951\n",
            "Epoch 95/100\n",
            "39/39 [==============================] - 0s 8ms/step - loss: 0.0079 - accuracy: 0.9967 - val_loss: 0.0080 - val_accuracy: 0.9967\n",
            "Epoch 96/100\n",
            "39/39 [==============================] - 0s 9ms/step - loss: 0.0161 - accuracy: 0.9959 - val_loss: 0.0139 - val_accuracy: 0.9959\n",
            "Epoch 97/100\n",
            "39/39 [==============================] - 0s 8ms/step - loss: 0.0053 - accuracy: 0.9978 - val_loss: 0.0100 - val_accuracy: 0.9976\n",
            "Epoch 98/100\n",
            "39/39 [==============================] - 0s 8ms/step - loss: 0.0030 - accuracy: 0.9994 - val_loss: 0.0063 - val_accuracy: 0.9976\n",
            "Epoch 99/100\n",
            "39/39 [==============================] - 0s 8ms/step - loss: 0.0171 - accuracy: 0.9957 - val_loss: 0.0117 - val_accuracy: 0.9959\n",
            "Epoch 100/100\n",
            "39/39 [==============================] - 0s 8ms/step - loss: 0.0079 - accuracy: 0.9972 - val_loss: 0.0042 - val_accuracy: 0.9984\n"
          ]
        }
      ],
      "source": [
        "history=model.fit(x_train,y_train,epochs=100,batch_size=128,validation_data=(x_val,y_val))#,callbacks=[callback])"
      ]
    },
    {
      "cell_type": "markdown",
      "metadata": {
        "id": "PDLQ_6k85R1X"
      },
      "source": [
        "#### 3. Evaluación"
      ]
    },
    {
      "cell_type": "markdown",
      "source": [
        "#### 3.1. Evaluacion Test"
      ],
      "metadata": {
        "id": "uZxwwFm7YrRY"
      }
    },
    {
      "cell_type": "code",
      "execution_count": null,
      "metadata": {
        "colab": {
          "base_uri": "https://localhost:8080/"
        },
        "id": "wvpN6KXp5R1X",
        "outputId": "dc8fec53-72b2-4816-d25e-e5de43dd7abd"
      },
      "outputs": [
        {
          "output_type": "stream",
          "name": "stdout",
          "text": [
            "129/129 [==============================] - 1s 4ms/step - loss: 0.0076 - accuracy: 0.9963\n"
          ]
        }
      ],
      "source": [
        "evaluacion_test=model.evaluate(x_test,y_test)"
      ]
    },
    {
      "cell_type": "markdown",
      "source": [
        "#### 3.2. Classification Report"
      ],
      "metadata": {
        "id": "bPkuxHOoYusx"
      }
    },
    {
      "cell_type": "code",
      "execution_count": null,
      "metadata": {
        "colab": {
          "base_uri": "https://localhost:8080/"
        },
        "id": "v94acefT5R1X",
        "outputId": "11378a53-243f-4caa-df85-59afe56a27fe"
      },
      "outputs": [
        {
          "output_type": "stream",
          "name": "stdout",
          "text": [
            "129/129 [==============================] - 0s 2ms/step\n",
            "                             precision    recall  f1-score   support\n",
            "\n",
            "                    ALFALFA       1.00      0.89      0.94        19\n",
            "                CORN-NOTILL       1.00      0.99      1.00       571\n",
            "               CORN_MINTILL       1.00      1.00      1.00       332\n",
            "                       CORN       1.00      1.00      1.00        95\n",
            "              GRASS-PASTURE       0.99      1.00      1.00       193\n",
            "                GRASS_TREES       0.99      1.00      1.00       292\n",
            "        GRASS_PASTURE_MOWED       1.00      1.00      1.00        11\n",
            "              HAY_WINDROWED       1.00      1.00      1.00       191\n",
            "                       OATS       1.00      1.00      1.00         8\n",
            "             SOYBEAN_NOTILL       1.00      1.00      1.00       389\n",
            "            SOYBEAN-MINTILL       1.00      1.00      1.00       982\n",
            "              SOYBEAN_CLEAN       1.00      0.99      1.00       237\n",
            "                      WHEAT       1.00      1.00      1.00        82\n",
            "                      WOODS       0.99      1.00      0.99       506\n",
            "BUILDING_GRASS_TREES_DRIVES       1.00      0.97      0.98       155\n",
            "         STONE_STEEL_TOWERS       0.95      1.00      0.97        37\n",
            "\n",
            "                   accuracy                           1.00      4100\n",
            "                  macro avg       0.99      0.99      0.99      4100\n",
            "               weighted avg       1.00      1.00      1.00      4100\n",
            "\n"
          ]
        }
      ],
      "source": [
        "y_pred=model.predict(x_test)\n",
        "y_pred=np.argmax(y_pred,axis=1)\n",
        "from sklearn.metrics import classification_report\n",
        "clases_dataset_IP=[\"ALFALFA\",\"CORN-NOTILL\",\"CORN_MINTILL\",\"CORN\",\"GRASS-PASTURE\",\"GRASS_TREES\",\"GRASS_PASTURE_MOWED\",\"HAY_WINDROWED\",\"OATS\",\"SOYBEAN_NOTILL\",\"SOYBEAN-MINTILL\",\"SOYBEAN_CLEAN\",\"WHEAT\",\"WOODS\",\"BUILDING_GRASS_TREES_DRIVES\",\"STONE_STEEL_TOWERS\"]\n",
        "target_names=clases_dataset_IP\n",
        "classification=classification_report(np.argmax(y_test,axis=1),y_pred,target_names=target_names)\n",
        "print(classification)"
      ]
    },
    {
      "cell_type": "markdown",
      "source": [
        "#### 3.3. Cohen Kappa"
      ],
      "metadata": {
        "id": "bpyxAcTAY_mO"
      }
    },
    {
      "cell_type": "code",
      "source": [
        "y_pred.shape\n",
        "y_test.shape"
      ],
      "metadata": {
        "colab": {
          "base_uri": "https://localhost:8080/"
        },
        "id": "7Y2yvdGsZUr0",
        "outputId": "464f9d23-eb15-413b-8926-c094e3330e7d"
      },
      "execution_count": null,
      "outputs": [
        {
          "output_type": "execute_result",
          "data": {
            "text/plain": [
              "(4100, 16)"
            ]
          },
          "metadata": {},
          "execution_count": 15
        }
      ]
    },
    {
      "cell_type": "code",
      "source": [
        "from sklearn.metrics import cohen_kappa_score\n",
        "a=y_pred\n",
        "b=np.argmax(y_test,axis=1)\n",
        "cohen_kappa_score(a,b)"
      ],
      "metadata": {
        "colab": {
          "base_uri": "https://localhost:8080/"
        },
        "id": "JFWC7cSjZEW-",
        "outputId": "5fe4454d-0b09-4ac1-f125-60f26bd7b3aa"
      },
      "execution_count": null,
      "outputs": [
        {
          "output_type": "execute_result",
          "data": {
            "text/plain": [
              "0.9958288739587445"
            ]
          },
          "metadata": {},
          "execution_count": 16
        }
      ]
    },
    {
      "cell_type": "code",
      "execution_count": null,
      "metadata": {
        "id": "Ox0Cynit5R1X"
      },
      "outputs": [],
      "source": [
        "#np.save(\"/content/drive/MyDrive/TFM OL/Indian Pines/resultados cnn/a_cnn\",evaluacion_test)\n",
        "#np.save(\"/content/drive/MyDrive/TFM OL/Indian Pines/resultados cnn/b_cnn\",classification)"
      ]
    },
    {
      "cell_type": "code",
      "execution_count": null,
      "metadata": {
        "colab": {
          "base_uri": "https://localhost:8080/"
        },
        "id": "skSUfSLs5R1X",
        "outputId": "99d4891a-e5d5-4d6e-9569-dad4c7666f21"
      },
      "outputs": [
        {
          "output_type": "stream",
          "name": "stdout",
          "text": [
            "165/165 [==============================] - 0s 3ms/step\n"
          ]
        }
      ],
      "source": [
        "y_pred,_=createImageCubes(data,labels,removeZeroLabels=False)\n",
        "y_pred=model.predict(y_pred,batch_size=128)\n",
        "y_pred=np.argmax(y_pred,axis=1)\n",
        "y_pred=y_pred.reshape(H,W)"
      ]
    },
    {
      "cell_type": "code",
      "execution_count": null,
      "metadata": {
        "id": "aMiHgjKH5R1Y"
      },
      "outputs": [],
      "source": [
        "#np.save(\"/content/drive/MyDrive/TFM OL/Indian Pines/resultados cnn/c_cnn\",y_pred) # Predicción sobre la imagen"
      ]
    },
    {
      "cell_type": "code",
      "execution_count": null,
      "metadata": {
        "colab": {
          "base_uri": "https://localhost:8080/",
          "height": 248
        },
        "id": "nkgp4lKB5R1Y",
        "outputId": "aa48a459-ca93-4d9c-c378-0f58cbee8960"
      },
      "outputs": [
        {
          "output_type": "display_data",
          "data": {
            "text/plain": [
              "<Figure size 432x288 with 1 Axes>"
            ],
            "image/png": "[encoded data removed]"
          },
          "metadata": {
            "needs_background": "light"
          }
        }
      ],
      "source": [
        "import matplotlib.pyplot as plt \n",
        "plt.imshow(y_pred)\n",
        "plt.axis(\"off\");"
      ]
    },
    {
      "cell_type": "code",
      "source": [
        "pred_gt=y_pred+np.ones_like(y_pred)"
      ],
      "metadata": {
        "id": "tcXxc1WhKoT-"
      },
      "execution_count": null,
      "outputs": []
    },
    {
      "cell_type": "code",
      "source": [
        "mask=np.array([labels])>0 # Generamos máscaras.\n",
        "mask=mask.astype(\"uint8\")\n",
        "pred_gt=mask*pred_gt\n",
        "pred_gt=pred_gt.reshape(data.shape[0],data.shape[1])"
      ],
      "metadata": {
        "id": "cqKZZgdHKqHz"
      },
      "execution_count": null,
      "outputs": []
    },
    {
      "cell_type": "code",
      "source": [
        "plt.imshow(pred_gt)"
      ],
      "metadata": {
        "colab": {
          "base_uri": "https://localhost:8080/",
          "height": 286
        },
        "id": "JUGgmAWLKsgF",
        "outputId": "f26eb570-9833-4d7e-dfec-0878ee9c995c"
      },
      "execution_count": null,
      "outputs": [
        {
          "output_type": "execute_result",
          "data": {
            "text/plain": [
              "<matplotlib.image.AxesImage at 0x7fb04aab6b80>"
            ]
          },
          "metadata": {},
          "execution_count": 23
        },
        {
          "output_type": "display_data",
          "data": {
            "text/plain": [
              "<Figure size 432x288 with 1 Axes>"
            ],
            "image/png": "[encoded data removed]"
          },
          "metadata": {
            "needs_background": "light"
          }
        }
      ]
    },
    {
      "cell_type": "code",
      "source": [
        "plt.imshow(labels)"
      ],
      "metadata": {
        "colab": {
          "base_uri": "https://localhost:8080/",
          "height": 286
        },
        "id": "5foEvQ32VnlY",
        "outputId": "54d60d5c-2ea2-43e7-8322-784d12ff38a8"
      },
      "execution_count": null,
      "outputs": [
        {
          "output_type": "execute_result",
          "data": {
            "text/plain": [
              "<matplotlib.image.AxesImage at 0x7fb0442a7fd0>"
            ]
          },
          "metadata": {},
          "execution_count": 24
        },
        {
          "output_type": "display_data",
          "data": {
            "text/plain": [
              "<Figure size 432x288 with 1 Axes>"
            ],
            "image/png": "[encoded data removed]"
          },
          "metadata": {
            "needs_background": "light"
          }
        }
      ]
    },
    {
      "cell_type": "code",
      "source": [
        "from keras.metrics import MeanIoU \n",
        "n_classes=17\n",
        "IOU_mean=MeanIoU(num_classes=n_classes)\n",
        "IOU_mean.update_state(pred_gt,labels)\n",
        "print(\"Mean IoU\",IOU_mean.result().numpy())"
      ],
      "metadata": {
        "colab": {
          "base_uri": "https://localhost:8080/"
        },
        "id": "Y7eo3zRRKzMl",
        "outputId": "50536104-8ddb-4405-fef1-b487fd0de2a0"
      },
      "execution_count": null,
      "outputs": [
        {
          "output_type": "stream",
          "name": "stdout",
          "text": [
            "Mean IoU 0.9931296\n"
          ]
        }
      ]
    },
    {
      "cell_type": "code",
      "execution_count": null,
      "metadata": {
        "colab": {
          "base_uri": "https://localhost:8080/"
        },
        "id": "I6zYkYIR5R1Y",
        "outputId": "136716a1-98ab-45e6-b531-307c6c3b519a"
      },
      "outputs": [
        {
          "output_type": "stream",
          "name": "stdout",
          "text": [
            "Mean IoU 0.9931296\n"
          ]
        }
      ],
      "source": [
        "# Mean IoU\n",
        "from keras.metrics import MeanIoU \n",
        "IOU_mean=MeanIoU(num_classes=17)\n",
        "IOU_mean.update_state(pred_gt,labels)\n",
        "print(\"Mean IoU\",IOU_mean.result().numpy())"
      ]
    },
    {
      "cell_type": "code",
      "source": [
        "a=pred_gt.reshape(H*W)\n",
        "b=labels.reshape(H*W)\n",
        "cohen_kappa_score(a,b)"
      ],
      "metadata": {
        "colab": {
          "base_uri": "https://localhost:8080/"
        },
        "id": "Q7l66kKt_oM0",
        "outputId": "bd20ae62-7c76-45ea-a202-e6ae1734e26f"
      },
      "execution_count": null,
      "outputs": [
        {
          "output_type": "execute_result",
          "data": {
            "text/plain": [
              "0.9986566193250584"
            ]
          },
          "metadata": {},
          "execution_count": 29
        }
      ]
    },
    {
      "cell_type": "code",
      "source": [
        "from sklearn.metrics import accuracy_score\n",
        "\n",
        "accuracy_score(a,b)"
      ],
      "metadata": {
        "id": "NP9tyY3XKvzI",
        "outputId": "92108f61-3418-4045-a1f2-d7a205d40991",
        "colab": {
          "base_uri": "https://localhost:8080/"
        }
      },
      "execution_count": null,
      "outputs": [
        {
          "output_type": "execute_result",
          "data": {
            "text/plain": [
              "0.9990487514863258"
            ]
          },
          "metadata": {},
          "execution_count": 30
        }
      ]
    },
    {
      "cell_type": "code",
      "execution_count": null,
      "metadata": {
        "id": "-RQkprNn5R1Y"
      },
      "outputs": [],
      "source": [
        "#np.save(\"/content/drive/MyDrive/TFM OL/Indian Pines/resultados cnn/d_cnn\",IOU_mean.result().numpy()) # MeanIoU"
      ]
    },
    {
      "cell_type": "code",
      "execution_count": null,
      "metadata": {
        "colab": {
          "base_uri": "https://localhost:8080/"
        },
        "id": "Z0fwX8s-5R1Y",
        "outputId": "0a560e09-f225-4dfb-b2eb-682d35c04385"
      },
      "outputs": [
        {
          "output_type": "stream",
          "name": "stdout",
          "text": [
            "unlabeled : 1.0\n",
            "ALFALFA : 0.95652175\n",
            "CORN-NOTILL : 0.99720085\n",
            "CORN_MINTILL : 0.99879664\n",
            "CORN : 1.0\n",
            "GRASS-PASTURE : 0.99793386\n",
            "GRASS_TREES : 0.9972678\n",
            "GRASS_PASTURE_MOWED : 1.0\n",
            "HAY_WINDROWED : 1.0\n",
            "OATS : 1.0\n",
            "SOYBEAN_NOTILL : 0.9979445\n",
            "SOYBEAN-MINTILL : 0.9987785\n",
            "SOYBEAN_CLEAN : 0.99662733\n",
            "WHEAT : 0.99512196\n",
            "WOODS : 0.9913793\n",
            "BUILDING_GRASS_TREES_DRIVES : 0.9766839\n",
            "STONE_STEEL_TOWERS : 0.97894734\n"
          ]
        }
      ],
      "source": [
        "# IoU por clase.\n",
        "from keras.metrics import IoU\n",
        "clases=[\"unlabeled\",\"ALFALFA\",\"CORN-NOTILL\",\"CORN_MINTILL\",\"CORN\",\"GRASS-PASTURE\",\"GRASS_TREES\",\"GRASS_PASTURE_MOWED\",\"HAY_WINDROWED\",\"OATS\",\"SOYBEAN_NOTILL\",\"SOYBEAN-MINTILL\",\"SOYBEAN_CLEAN\",\"WHEAT\",\"WOODS\",\"BUILDING_GRASS_TREES_DRIVES\",\"STONE_STEEL_TOWERS\"]\n",
        "IoU_class_report=[]\n",
        "for i in range(17):\n",
        "    IoU_class=IoU(num_classes=17,target_class_ids=[i])\n",
        "    IoU_class.update_state(pred_gt,labels)\n",
        "    IoU_class_report.append(IoU_class.result().numpy())\n",
        "    print(clases[i],\":\", IoU_class.result().numpy())\n",
        "#np.save(\"/content/drive/MyDrive/TFM OL/Indian Pines/resultados cnn/e_cnn\",IoU_class_report)"
      ]
    },
    {
      "cell_type": "code",
      "execution_count": null,
      "metadata": {
        "id": "0o9DYE8s5R1Y"
      },
      "outputs": [],
      "source": [
        "#model.save(\"/content/drive/MyDrive/TFM OL/Indian Pines/resultados cnn/f_cnn.h5\")"
      ]
    }
  ],
  "metadata": {
    "kernelspec": {
      "display_name": "Python 3",
      "language": "python",
      "name": "python3"
    },
    "language_info": {
      "codemirror_mode": {
        "name": "ipython",
        "version": 3
      },
      "file_extension": ".py",
      "mimetype": "text/x-python",
      "name": "python",
      "nbconvert_exporter": "python",
      "pygments_lexer": "ipython3",
      "version": "3.7.2"
    },
    "orig_nbformat": 4,
    "vscode": {
      "interpreter": {
        "hash": "98d5674963b65db345bb78e3c5a3b7a8950200b887d8b92f8da01b49df867ecf"
      }
    },
    "colab": {
      "provenance": [],
      "include_colab_link": true
    },
    "accelerator": "GPU",
    "gpuClass": "standard"
  },
  "nbformat": 4,
  "nbformat_minor": 0
}